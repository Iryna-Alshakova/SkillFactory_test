{
 "cells": [
  {
   "cell_type": "markdown",
   "metadata": {},
   "source": [
    "## Цель проекта: подготовка данных для построения модели ML, предсказывющей успеваемость по математике учащихся в возрасте от 15 до 22 лет в зависимости от условий жизни. \n",
    "## Задачи проекта: оценка данных, обнаружение отклонений и аномалий, очистка данных, выявление параметров, влияющих на успеваемость студентов"
   ]
  },
  {
   "cell_type": "code",
   "execution_count": 1,
   "metadata": {},
   "outputs": [],
   "source": [
    "import pandas as pd\n",
    "import numpy as np\n",
    "import matplotlib.pyplot as plt\n",
    "import seaborn as sns\n",
    "from itertools import combinations\n",
    "from scipy.stats import ttest_ind\n",
    "import random\n",
    "\n",
    "pd.set_option('display.max_rows', 50)\n",
    "pd.set_option('display.max_columns', 50)\n",
    "\n",
    "score = pd.read_csv('stud_math.csv')"
   ]
  },
  {
   "cell_type": "markdown",
   "metadata": {},
   "source": [
    "Функции, которые понадобятся для анализа:"
   ]
  },
  {
   "cell_type": "code",
   "execution_count": 2,
   "metadata": {},
   "outputs": [],
   "source": [
    "'''Функция, возвращающая диаграмму размаха'''\n",
    "\n",
    "\n",
    "def boxplot(parameter):\n",
    "    return sns.boxplot(x=parameter, y='score', data=score)\n",
    "\n",
    "\n",
    "'''Функция для приведения строков значений \"yes\" и \"no\" в числовые'''\n",
    "\n",
    "\n",
    "def yes_no(row):\n",
    "    if row[parameter] == \"yes\":\n",
    "        return 1\n",
    "    elif row[parameter] == \"no\":\n",
    "        return 0\n",
    "    else:\n",
    "        return row[parameter]\n",
    "    return row[parameter]\n",
    "\n",
    "'''Функция для удаления выбросов'''\n",
    "\n",
    "def del_emissions(column):\n",
    "    drop_index = []\n",
    "    Q1 = score[column].quantile(0.25)\n",
    "    Q3 = score[column].quantile(0.75)\n",
    "    IQR = Q3-Q1\n",
    "    for i in range(len(score)):\n",
    "        if (score.iloc[i][column] > (Q3 + 1.5*IQR) or \n",
    "            score.iloc[i][column] < (Q1 - 1.5*IQR)):\n",
    "            drop_index.append(score.index[i])\n",
    "    return drop_index\n",
    "\n",
    "\n",
    "'''Функция для заполнение пропусков медианным значением'''\n",
    "\n",
    "\n",
    "def fill_median(row):\n",
    "    if pd.isna(row[parameter]):\n",
    "        return score[parameter].median()\n",
    "    return row[parameter]\n",
    "\n",
    "\n",
    "'''Функция для заполнения пропусков значением \"no data\"'''\n",
    "\n",
    "\n",
    "def fill_no_data(row):\n",
    "    if pd.isna(row[parameter]):\n",
    "        return \"no data\"\n",
    "    return row[parameter]\n",
    "\n",
    "\n",
    "'''Функция для заполнения пропусков в \"traveltime\"'''\n",
    "\n",
    "\n",
    "def fill_traveltime(row):\n",
    "    if pd.isna(row['traveltime']):\n",
    "        if row['address'] == 'U':\n",
    "            return 1\n",
    "        elif row['address'] == 'R':\n",
    "            return 2\n",
    "        else:\n",
    "            return row['traveltime']\n",
    "    return row['traveltime']\n",
    "\n",
    "\n",
    "'''Функция для заполнения пропусков в \"address\"'''\n",
    "\n",
    "\n",
    "def fill_address(row):\n",
    "    if pd.isna(row['address']):\n",
    "        if row['traveltime'] == 1:\n",
    "            return 'U'\n",
    "        elif row['traveltime'] > 1:\n",
    "            return 'R'\n",
    "        else:\n",
    "            return row['address']\n",
    "    return row['address']\n",
    "\n",
    "\n",
    "'''Функция для заполнения пропусков в \"failures\"'''\n",
    "\n",
    "\n",
    "def fill_failures(row):\n",
    "    if pd.isna(row['failures']):\n",
    "        if row['higher'] == 1:\n",
    "            return 0\n",
    "        else:\n",
    "            return 1\n",
    "    return row['failures']\n",
    "\n",
    "\n",
    "'''Функция для заполнения пропусков в \"famsup\"'''\n",
    "\n",
    "\n",
    "def fill_famsup(row):\n",
    "    if pd.isna(row['famsup']):\n",
    "        if row['school'] == 'GP':\n",
    "            return 1\n",
    "        else:\n",
    "            return 0\n",
    "    return row['famsup']\n",
    "\n",
    "\n",
    "'''Функция для заполнения пропусков в \"paid\"'''\n",
    "\n",
    "\n",
    "def fill_paid(row):\n",
    "    if pd.isna(row['paid']):\n",
    "        if row['famsup'] == 0:\n",
    "            return 0\n",
    "        elif row['famsup'] == 1:\n",
    "            return 1\n",
    "        else:\n",
    "            return row['paid']\n",
    "    return row['paid']\n",
    "\n",
    "\n",
    "'''Функция для заполнения пропусков в \"activities\"'''\n",
    "\n",
    "\n",
    "def fill_activities(row):\n",
    "    if pd.isna(row['activities']):\n",
    "        if row['sex'] == 'F':\n",
    "            return 0\n",
    "        else:\n",
    "            return 1\n",
    "    return row['activities']\n",
    "\n",
    "\n",
    "'''Функция для заполнения пропусков в \"nursery\"'''\n",
    "\n",
    "\n",
    "def fill_nursery(row):\n",
    "    if pd.isna(row['nursery']):\n",
    "        if row['Medu'] == 2 or row['Medu'] == 4:\n",
    "            return 1\n",
    "        else:\n",
    "            return 0\n",
    "    return row['nursery']\n",
    "\n",
    "\n",
    "'''Функция, генерирующая новый параметр \"Mhealth\" (работает ли мать студента в здравоохранении)'''\n",
    "\n",
    "\n",
    "def fill_Mhealth(row):\n",
    "    if row['Mjob'] == 'health':\n",
    "        return 1\n",
    "    return 0\n",
    "\n",
    "\n",
    "'''Функция, генерирующая новый параметр \"Fteacher\" (работает ли отец судента учителем)'''\n",
    "\n",
    "\n",
    "def fill_Fteacher(row):\n",
    "    if row['Fjob'] == 'teacher':\n",
    "        return 1\n",
    "    return 0\n",
    "\n",
    "\n",
    "'''Функция, возвращающая обновленную таблицу с заполненными пропусками указанного параметра'''\n",
    "\n",
    "\n",
    "def fill_parameter(function):\n",
    "    score[parameter] = score.apply(function, axis=1)\n",
    "    return score[parameter].value_counts()\n",
    "\n",
    "\n",
    "'''Функция, которая оценивает наличие статистически значимых различий для конкретного параметра'''\n",
    "\n",
    "\n",
    "def get_stat_dif(column):\n",
    "    cols = score.loc[:, column].value_counts().index[:10]\n",
    "    combinations_all = list(combinations(cols, 2))\n",
    "    for comb in combinations_all:\n",
    "        if ttest_ind(score.loc[score.loc[:, column] == comb[0], 'score'],\n",
    "                     score.loc[score.loc[:, column] == comb[1], 'score']).pvalue \\\n",
    "                <= 0.05/len(combinations_all):  # Учли поправку Бонферони\n",
    "            print('Найдены статистически значимые различия для параметра', column)\n",
    "            break"
   ]
  },
  {
   "cell_type": "code",
   "execution_count": 3,
   "metadata": {},
   "outputs": [
    {
     "name": "stdout",
     "output_type": "stream",
     "text": [
      "<class 'pandas.core.frame.DataFrame'>\n",
      "RangeIndex: 395 entries, 0 to 394\n",
      "Data columns (total 30 columns):\n",
      " #   Column               Non-Null Count  Dtype  \n",
      "---  ------               --------------  -----  \n",
      " 0   school               395 non-null    object \n",
      " 1   sex                  395 non-null    object \n",
      " 2   age                  395 non-null    int64  \n",
      " 3   address              378 non-null    object \n",
      " 4   famsize              368 non-null    object \n",
      " 5   Pstatus              350 non-null    object \n",
      " 6   Medu                 392 non-null    float64\n",
      " 7   Fedu                 371 non-null    float64\n",
      " 8   Mjob                 376 non-null    object \n",
      " 9   Fjob                 359 non-null    object \n",
      " 10  reason               378 non-null    object \n",
      " 11  guardian             364 non-null    object \n",
      " 12  traveltime           367 non-null    float64\n",
      " 13  studytime            388 non-null    float64\n",
      " 14  failures             373 non-null    float64\n",
      " 15  schoolsup            386 non-null    object \n",
      " 16  famsup               356 non-null    object \n",
      " 17  paid                 355 non-null    object \n",
      " 18  activities           381 non-null    object \n",
      " 19  nursery              379 non-null    object \n",
      " 20  studytime, granular  388 non-null    float64\n",
      " 21  higher               375 non-null    object \n",
      " 22  internet             361 non-null    object \n",
      " 23  romantic             364 non-null    object \n",
      " 24  famrel               368 non-null    float64\n",
      " 25  freetime             384 non-null    float64\n",
      " 26  goout                387 non-null    float64\n",
      " 27  health               380 non-null    float64\n",
      " 28  absences             383 non-null    float64\n",
      " 29  score                389 non-null    float64\n",
      "dtypes: float64(12), int64(1), object(17)\n",
      "memory usage: 92.7+ KB\n"
     ]
    }
   ],
   "source": [
    "score.info()"
   ]
  },
  {
   "cell_type": "code",
   "execution_count": 4,
   "metadata": {},
   "outputs": [
    {
     "data": {
      "text/html": [
       "<div>\n",
       "<style scoped>\n",
       "    .dataframe tbody tr th:only-of-type {\n",
       "        vertical-align: middle;\n",
       "    }\n",
       "\n",
       "    .dataframe tbody tr th {\n",
       "        vertical-align: top;\n",
       "    }\n",
       "\n",
       "    .dataframe thead th {\n",
       "        text-align: right;\n",
       "    }\n",
       "</style>\n",
       "<table border=\"1\" class=\"dataframe\">\n",
       "  <thead>\n",
       "    <tr style=\"text-align: right;\">\n",
       "      <th></th>\n",
       "      <th>age</th>\n",
       "      <th>Medu</th>\n",
       "      <th>Fedu</th>\n",
       "      <th>traveltime</th>\n",
       "      <th>studytime</th>\n",
       "      <th>failures</th>\n",
       "      <th>studytime, granular</th>\n",
       "      <th>famrel</th>\n",
       "      <th>freetime</th>\n",
       "      <th>goout</th>\n",
       "      <th>health</th>\n",
       "      <th>absences</th>\n",
       "      <th>score</th>\n",
       "    </tr>\n",
       "  </thead>\n",
       "  <tbody>\n",
       "    <tr>\n",
       "      <th>count</th>\n",
       "      <td>395.000000</td>\n",
       "      <td>392.000000</td>\n",
       "      <td>371.000000</td>\n",
       "      <td>367.000000</td>\n",
       "      <td>388.000000</td>\n",
       "      <td>373.000000</td>\n",
       "      <td>388.000000</td>\n",
       "      <td>368.000000</td>\n",
       "      <td>384.000000</td>\n",
       "      <td>387.000000</td>\n",
       "      <td>380.000000</td>\n",
       "      <td>383.000000</td>\n",
       "      <td>389.000000</td>\n",
       "    </tr>\n",
       "    <tr>\n",
       "      <th>mean</th>\n",
       "      <td>16.696203</td>\n",
       "      <td>2.750000</td>\n",
       "      <td>2.614555</td>\n",
       "      <td>1.438692</td>\n",
       "      <td>2.038660</td>\n",
       "      <td>0.337802</td>\n",
       "      <td>-6.115979</td>\n",
       "      <td>3.937500</td>\n",
       "      <td>3.231771</td>\n",
       "      <td>3.105943</td>\n",
       "      <td>3.531579</td>\n",
       "      <td>7.279373</td>\n",
       "      <td>52.262211</td>\n",
       "    </tr>\n",
       "    <tr>\n",
       "      <th>std</th>\n",
       "      <td>1.276043</td>\n",
       "      <td>1.098127</td>\n",
       "      <td>2.228732</td>\n",
       "      <td>0.694181</td>\n",
       "      <td>0.842078</td>\n",
       "      <td>0.743135</td>\n",
       "      <td>2.526235</td>\n",
       "      <td>0.927277</td>\n",
       "      <td>0.993940</td>\n",
       "      <td>1.115896</td>\n",
       "      <td>1.396019</td>\n",
       "      <td>23.465197</td>\n",
       "      <td>22.919022</td>\n",
       "    </tr>\n",
       "    <tr>\n",
       "      <th>min</th>\n",
       "      <td>15.000000</td>\n",
       "      <td>0.000000</td>\n",
       "      <td>0.000000</td>\n",
       "      <td>1.000000</td>\n",
       "      <td>1.000000</td>\n",
       "      <td>0.000000</td>\n",
       "      <td>-12.000000</td>\n",
       "      <td>-1.000000</td>\n",
       "      <td>1.000000</td>\n",
       "      <td>1.000000</td>\n",
       "      <td>1.000000</td>\n",
       "      <td>0.000000</td>\n",
       "      <td>0.000000</td>\n",
       "    </tr>\n",
       "    <tr>\n",
       "      <th>25%</th>\n",
       "      <td>16.000000</td>\n",
       "      <td>2.000000</td>\n",
       "      <td>2.000000</td>\n",
       "      <td>1.000000</td>\n",
       "      <td>1.000000</td>\n",
       "      <td>0.000000</td>\n",
       "      <td>-6.000000</td>\n",
       "      <td>4.000000</td>\n",
       "      <td>3.000000</td>\n",
       "      <td>2.000000</td>\n",
       "      <td>3.000000</td>\n",
       "      <td>0.000000</td>\n",
       "      <td>40.000000</td>\n",
       "    </tr>\n",
       "    <tr>\n",
       "      <th>50%</th>\n",
       "      <td>17.000000</td>\n",
       "      <td>3.000000</td>\n",
       "      <td>2.000000</td>\n",
       "      <td>1.000000</td>\n",
       "      <td>2.000000</td>\n",
       "      <td>0.000000</td>\n",
       "      <td>-6.000000</td>\n",
       "      <td>4.000000</td>\n",
       "      <td>3.000000</td>\n",
       "      <td>3.000000</td>\n",
       "      <td>4.000000</td>\n",
       "      <td>4.000000</td>\n",
       "      <td>55.000000</td>\n",
       "    </tr>\n",
       "    <tr>\n",
       "      <th>75%</th>\n",
       "      <td>18.000000</td>\n",
       "      <td>4.000000</td>\n",
       "      <td>3.000000</td>\n",
       "      <td>2.000000</td>\n",
       "      <td>2.000000</td>\n",
       "      <td>0.000000</td>\n",
       "      <td>-3.000000</td>\n",
       "      <td>5.000000</td>\n",
       "      <td>4.000000</td>\n",
       "      <td>4.000000</td>\n",
       "      <td>5.000000</td>\n",
       "      <td>8.000000</td>\n",
       "      <td>70.000000</td>\n",
       "    </tr>\n",
       "    <tr>\n",
       "      <th>max</th>\n",
       "      <td>22.000000</td>\n",
       "      <td>4.000000</td>\n",
       "      <td>40.000000</td>\n",
       "      <td>4.000000</td>\n",
       "      <td>4.000000</td>\n",
       "      <td>3.000000</td>\n",
       "      <td>-3.000000</td>\n",
       "      <td>5.000000</td>\n",
       "      <td>5.000000</td>\n",
       "      <td>5.000000</td>\n",
       "      <td>5.000000</td>\n",
       "      <td>385.000000</td>\n",
       "      <td>100.000000</td>\n",
       "    </tr>\n",
       "  </tbody>\n",
       "</table>\n",
       "</div>"
      ],
      "text/plain": [
       "              age        Medu        Fedu  traveltime   studytime    failures  \\\n",
       "count  395.000000  392.000000  371.000000  367.000000  388.000000  373.000000   \n",
       "mean    16.696203    2.750000    2.614555    1.438692    2.038660    0.337802   \n",
       "std      1.276043    1.098127    2.228732    0.694181    0.842078    0.743135   \n",
       "min     15.000000    0.000000    0.000000    1.000000    1.000000    0.000000   \n",
       "25%     16.000000    2.000000    2.000000    1.000000    1.000000    0.000000   \n",
       "50%     17.000000    3.000000    2.000000    1.000000    2.000000    0.000000   \n",
       "75%     18.000000    4.000000    3.000000    2.000000    2.000000    0.000000   \n",
       "max     22.000000    4.000000   40.000000    4.000000    4.000000    3.000000   \n",
       "\n",
       "       studytime, granular      famrel    freetime       goout      health  \\\n",
       "count           388.000000  368.000000  384.000000  387.000000  380.000000   \n",
       "mean             -6.115979    3.937500    3.231771    3.105943    3.531579   \n",
       "std               2.526235    0.927277    0.993940    1.115896    1.396019   \n",
       "min             -12.000000   -1.000000    1.000000    1.000000    1.000000   \n",
       "25%              -6.000000    4.000000    3.000000    2.000000    3.000000   \n",
       "50%              -6.000000    4.000000    3.000000    3.000000    4.000000   \n",
       "75%              -3.000000    5.000000    4.000000    4.000000    5.000000   \n",
       "max              -3.000000    5.000000    5.000000    5.000000    5.000000   \n",
       "\n",
       "         absences       score  \n",
       "count  383.000000  389.000000  \n",
       "mean     7.279373   52.262211  \n",
       "std     23.465197   22.919022  \n",
       "min      0.000000    0.000000  \n",
       "25%      0.000000   40.000000  \n",
       "50%      4.000000   55.000000  \n",
       "75%      8.000000   70.000000  \n",
       "max    385.000000  100.000000  "
      ]
     },
     "execution_count": 4,
     "metadata": {},
     "output_type": "execute_result"
    }
   ],
   "source": [
    "score.describe()"
   ]
  },
  {
   "cell_type": "markdown",
   "metadata": {},
   "source": [
    "Так как нас интересует параметр \"score\", то в первую очередь посмотрим на его распределение. Максимальное значение равно 100, а минимальное - 0."
   ]
  },
  {
   "cell_type": "code",
   "execution_count": 5,
   "metadata": {},
   "outputs": [
    {
     "data": {
      "text/plain": [
       "<matplotlib.axes._subplots.AxesSubplot at 0x28281ee4f08>"
      ]
     },
     "execution_count": 5,
     "metadata": {},
     "output_type": "execute_result"
    },
    {
     "data": {
      "image/png": "[encoded data removed]",
      "text/plain": [
       "<Figure size 432x288 with 1 Axes>"
      ]
     },
     "metadata": {
      "needs_background": "light"
     },
     "output_type": "display_data"
    }
   ],
   "source": [
    "score.score.hist(bins=100)"
   ]
  },
  {
   "cell_type": "code",
   "execution_count": 6,
   "metadata": {},
   "outputs": [
    {
     "data": {
      "text/plain": [
       "<matplotlib.axes._subplots.AxesSubplot at 0x282827e7b88>"
      ]
     },
     "execution_count": 6,
     "metadata": {},
     "output_type": "execute_result"
    },
    {
     "data": {
      "image/png": "[encoded data removed]",
      "text/plain": [
       "<Figure size 432x288 with 1 Axes>"
      ]
     },
     "metadata": {
      "needs_background": "light"
     },
     "output_type": "display_data"
    }
   ],
   "source": [
    "sns.boxplot(x='score', data=score)"
   ]
  },
  {
   "cell_type": "markdown",
   "metadata": {},
   "source": [
    "На гистограмме видно, что основная часть значений распределена примерно нормально, в то время как данные со значением параметра \"score\", равным нулю, выбиваются из общей картины. Можно предположить, что студенты, получившие \"нуль\" на экзамене, скорее всего на него не явились, а значит строки с таким значением \"score\" следует удалить. Их можно использовать в параллельном исследовании причин неявки студентов, если будет достоверно известно, что такая оценка связанна именно с этим. Так же стоит удалить строки, с отсутствующими данными по оценке на экзамене. "
   ]
  },
  {
   "cell_type": "code",
   "execution_count": 7,
   "metadata": {},
   "outputs": [],
   "source": [
    "drop_index = []\n",
    "for i in range(len(score)):\n",
    "    if pd.isna(score.iloc[i]['score']) or score.iloc[i]['score'] == 0:\n",
    "        drop_index.append(score.index[i])\n",
    "score.drop(drop_index, inplace=True, axis=0)"
   ]
  },
  {
   "cell_type": "markdown",
   "metadata": {},
   "source": [
    "Многие параметры имеют значения \"yes\" или \"no\". Преобразуем их в \"1\" или \"0\" соответственно для простоты анализа. В целом остальные пераметры тоже можно было бы заменить на числовые значения, но такая замена не будет столь же очевидной и легкой для восприятия, и может привести к ошибкам."
   ]
  },
  {
   "cell_type": "code",
   "execution_count": 8,
   "metadata": {},
   "outputs": [],
   "source": [
    "for word in ['school', 'sex', 'address', 'famsize', 'Pstatus', 'Mjob', 'Fjob', 'reason', 'guardian', 'schoolsup', 'famsup', 'paid', 'activities', 'nursery', 'higher', 'internet', 'romantic']:\n",
    "    parameter=word\n",
    "    fill_parameter(yes_no)"
   ]
  },
  {
   "cell_type": "markdown",
   "metadata": {},
   "source": [
    "Проверим корреляцию всех числовых параметров. В особенности нас интересует параметр \"studytime, granular\". Значение этого столбца в условии описано не было."
   ]
  },
  {
   "cell_type": "code",
   "execution_count": 9,
   "metadata": {},
   "outputs": [
    {
     "data": {
      "text/html": [
       "<div>\n",
       "<style scoped>\n",
       "    .dataframe tbody tr th:only-of-type {\n",
       "        vertical-align: middle;\n",
       "    }\n",
       "\n",
       "    .dataframe tbody tr th {\n",
       "        vertical-align: top;\n",
       "    }\n",
       "\n",
       "    .dataframe thead th {\n",
       "        text-align: right;\n",
       "    }\n",
       "</style>\n",
       "<table border=\"1\" class=\"dataframe\">\n",
       "  <thead>\n",
       "    <tr style=\"text-align: right;\">\n",
       "      <th></th>\n",
       "      <th>age</th>\n",
       "      <th>Medu</th>\n",
       "      <th>Fedu</th>\n",
       "      <th>traveltime</th>\n",
       "      <th>studytime</th>\n",
       "      <th>failures</th>\n",
       "      <th>schoolsup</th>\n",
       "      <th>famsup</th>\n",
       "      <th>paid</th>\n",
       "      <th>activities</th>\n",
       "      <th>nursery</th>\n",
       "      <th>studytime, granular</th>\n",
       "      <th>higher</th>\n",
       "      <th>internet</th>\n",
       "      <th>romantic</th>\n",
       "      <th>famrel</th>\n",
       "      <th>freetime</th>\n",
       "      <th>goout</th>\n",
       "      <th>health</th>\n",
       "      <th>absences</th>\n",
       "      <th>score</th>\n",
       "    </tr>\n",
       "  </thead>\n",
       "  <tbody>\n",
       "    <tr>\n",
       "      <th>age</th>\n",
       "      <td>1.000000</td>\n",
       "      <td>-0.122979</td>\n",
       "      <td>-0.121617</td>\n",
       "      <td>0.095370</td>\n",
       "      <td>-0.011426</td>\n",
       "      <td>0.235875</td>\n",
       "      <td>-0.258382</td>\n",
       "      <td>-0.130566</td>\n",
       "      <td>-0.028782</td>\n",
       "      <td>-0.135034</td>\n",
       "      <td>-0.113363</td>\n",
       "      <td>0.011426</td>\n",
       "      <td>-0.208899</td>\n",
       "      <td>-0.116205</td>\n",
       "      <td>0.184115</td>\n",
       "      <td>0.074152</td>\n",
       "      <td>0.004837</td>\n",
       "      <td>0.123638</td>\n",
       "      <td>-0.056173</td>\n",
       "      <td>0.112599</td>\n",
       "      <td>-0.131542</td>\n",
       "    </tr>\n",
       "    <tr>\n",
       "      <th>Medu</th>\n",
       "      <td>-0.122979</td>\n",
       "      <td>1.000000</td>\n",
       "      <td>0.247339</td>\n",
       "      <td>-0.165394</td>\n",
       "      <td>0.070533</td>\n",
       "      <td>-0.205944</td>\n",
       "      <td>-0.060458</td>\n",
       "      <td>0.183037</td>\n",
       "      <td>0.160031</td>\n",
       "      <td>0.126379</td>\n",
       "      <td>0.184227</td>\n",
       "      <td>-0.070533</td>\n",
       "      <td>0.208254</td>\n",
       "      <td>0.206314</td>\n",
       "      <td>0.061231</td>\n",
       "      <td>-0.000958</td>\n",
       "      <td>0.021002</td>\n",
       "      <td>0.080556</td>\n",
       "      <td>-0.038050</td>\n",
       "      <td>-0.027377</td>\n",
       "      <td>0.186477</td>\n",
       "    </tr>\n",
       "    <tr>\n",
       "      <th>Fedu</th>\n",
       "      <td>-0.121617</td>\n",
       "      <td>0.247339</td>\n",
       "      <td>1.000000</td>\n",
       "      <td>0.042074</td>\n",
       "      <td>0.049060</td>\n",
       "      <td>-0.141995</td>\n",
       "      <td>0.002924</td>\n",
       "      <td>0.139102</td>\n",
       "      <td>-0.002853</td>\n",
       "      <td>0.097034</td>\n",
       "      <td>0.109370</td>\n",
       "      <td>-0.049060</td>\n",
       "      <td>0.094268</td>\n",
       "      <td>0.093895</td>\n",
       "      <td>-0.018113</td>\n",
       "      <td>0.049613</td>\n",
       "      <td>-0.071328</td>\n",
       "      <td>-0.026507</td>\n",
       "      <td>0.025874</td>\n",
       "      <td>0.000245</td>\n",
       "      <td>0.069842</td>\n",
       "    </tr>\n",
       "    <tr>\n",
       "      <th>traveltime</th>\n",
       "      <td>0.095370</td>\n",
       "      <td>-0.165394</td>\n",
       "      <td>0.042074</td>\n",
       "      <td>1.000000</td>\n",
       "      <td>-0.101490</td>\n",
       "      <td>0.091757</td>\n",
       "      <td>-0.013595</td>\n",
       "      <td>-0.025133</td>\n",
       "      <td>-0.046143</td>\n",
       "      <td>0.008461</td>\n",
       "      <td>-0.045096</td>\n",
       "      <td>0.101490</td>\n",
       "      <td>-0.131574</td>\n",
       "      <td>-0.080662</td>\n",
       "      <td>0.037071</td>\n",
       "      <td>-0.023920</td>\n",
       "      <td>-0.023067</td>\n",
       "      <td>0.029374</td>\n",
       "      <td>-0.000092</td>\n",
       "      <td>-0.047560</td>\n",
       "      <td>-0.075516</td>\n",
       "    </tr>\n",
       "    <tr>\n",
       "      <th>studytime</th>\n",
       "      <td>-0.011426</td>\n",
       "      <td>0.070533</td>\n",
       "      <td>0.049060</td>\n",
       "      <td>-0.101490</td>\n",
       "      <td>1.000000</td>\n",
       "      <td>-0.156406</td>\n",
       "      <td>0.011581</td>\n",
       "      <td>0.149031</td>\n",
       "      <td>0.198909</td>\n",
       "      <td>0.103263</td>\n",
       "      <td>0.076343</td>\n",
       "      <td>-1.000000</td>\n",
       "      <td>0.144305</td>\n",
       "      <td>0.094741</td>\n",
       "      <td>0.066033</td>\n",
       "      <td>0.063856</td>\n",
       "      <td>-0.128661</td>\n",
       "      <td>-0.029686</td>\n",
       "      <td>-0.085469</td>\n",
       "      <td>-0.030187</td>\n",
       "      <td>0.142055</td>\n",
       "    </tr>\n",
       "    <tr>\n",
       "      <th>failures</th>\n",
       "      <td>0.235875</td>\n",
       "      <td>-0.205944</td>\n",
       "      <td>-0.141995</td>\n",
       "      <td>0.091757</td>\n",
       "      <td>-0.156406</td>\n",
       "      <td>1.000000</td>\n",
       "      <td>0.064154</td>\n",
       "      <td>-0.068557</td>\n",
       "      <td>-0.120631</td>\n",
       "      <td>-0.085556</td>\n",
       "      <td>-0.126890</td>\n",
       "      <td>0.156406</td>\n",
       "      <td>-0.312959</td>\n",
       "      <td>-0.116756</td>\n",
       "      <td>0.092584</td>\n",
       "      <td>-0.011414</td>\n",
       "      <td>0.127391</td>\n",
       "      <td>0.126770</td>\n",
       "      <td>0.064083</td>\n",
       "      <td>0.089541</td>\n",
       "      <td>-0.289377</td>\n",
       "    </tr>\n",
       "    <tr>\n",
       "      <th>schoolsup</th>\n",
       "      <td>-0.258382</td>\n",
       "      <td>-0.060458</td>\n",
       "      <td>0.002924</td>\n",
       "      <td>-0.013595</td>\n",
       "      <td>0.011581</td>\n",
       "      <td>0.064154</td>\n",
       "      <td>1.000000</td>\n",
       "      <td>0.088713</td>\n",
       "      <td>-0.038182</td>\n",
       "      <td>0.062271</td>\n",
       "      <td>0.032605</td>\n",
       "      <td>-0.011581</td>\n",
       "      <td>0.039287</td>\n",
       "      <td>0.004294</td>\n",
       "      <td>-0.038722</td>\n",
       "      <td>0.001143</td>\n",
       "      <td>-0.051172</td>\n",
       "      <td>-0.031778</td>\n",
       "      <td>-0.031519</td>\n",
       "      <td>0.104768</td>\n",
       "      <td>-0.249796</td>\n",
       "    </tr>\n",
       "    <tr>\n",
       "      <th>famsup</th>\n",
       "      <td>-0.130566</td>\n",
       "      <td>0.183037</td>\n",
       "      <td>0.139102</td>\n",
       "      <td>-0.025133</td>\n",
       "      <td>0.149031</td>\n",
       "      <td>-0.068557</td>\n",
       "      <td>0.088713</td>\n",
       "      <td>1.000000</td>\n",
       "      <td>0.302639</td>\n",
       "      <td>0.003314</td>\n",
       "      <td>0.043878</td>\n",
       "      <td>-0.149031</td>\n",
       "      <td>0.123207</td>\n",
       "      <td>0.081018</td>\n",
       "      <td>-0.002160</td>\n",
       "      <td>-0.009079</td>\n",
       "      <td>0.025334</td>\n",
       "      <td>-0.025956</td>\n",
       "      <td>0.045104</td>\n",
       "      <td>0.067334</td>\n",
       "      <td>-0.046874</td>\n",
       "    </tr>\n",
       "    <tr>\n",
       "      <th>paid</th>\n",
       "      <td>-0.028782</td>\n",
       "      <td>0.160031</td>\n",
       "      <td>-0.002853</td>\n",
       "      <td>-0.046143</td>\n",
       "      <td>0.198909</td>\n",
       "      <td>-0.120631</td>\n",
       "      <td>-0.038182</td>\n",
       "      <td>0.302639</td>\n",
       "      <td>1.000000</td>\n",
       "      <td>0.029352</td>\n",
       "      <td>0.113315</td>\n",
       "      <td>-0.198909</td>\n",
       "      <td>0.181817</td>\n",
       "      <td>0.171799</td>\n",
       "      <td>0.067568</td>\n",
       "      <td>-0.025820</td>\n",
       "      <td>-0.057744</td>\n",
       "      <td>0.052188</td>\n",
       "      <td>-0.047937</td>\n",
       "      <td>-0.031287</td>\n",
       "      <td>-0.022039</td>\n",
       "    </tr>\n",
       "    <tr>\n",
       "      <th>activities</th>\n",
       "      <td>-0.135034</td>\n",
       "      <td>0.126379</td>\n",
       "      <td>0.097034</td>\n",
       "      <td>0.008461</td>\n",
       "      <td>0.103263</td>\n",
       "      <td>-0.085556</td>\n",
       "      <td>0.062271</td>\n",
       "      <td>0.003314</td>\n",
       "      <td>0.029352</td>\n",
       "      <td>1.000000</td>\n",
       "      <td>0.022796</td>\n",
       "      <td>-0.103263</td>\n",
       "      <td>0.038385</td>\n",
       "      <td>0.073802</td>\n",
       "      <td>-0.018133</td>\n",
       "      <td>0.083961</td>\n",
       "      <td>0.091959</td>\n",
       "      <td>0.045251</td>\n",
       "      <td>0.029730</td>\n",
       "      <td>-0.080459</td>\n",
       "      <td>0.060008</td>\n",
       "    </tr>\n",
       "    <tr>\n",
       "      <th>nursery</th>\n",
       "      <td>-0.113363</td>\n",
       "      <td>0.184227</td>\n",
       "      <td>0.109370</td>\n",
       "      <td>-0.045096</td>\n",
       "      <td>0.076343</td>\n",
       "      <td>-0.126890</td>\n",
       "      <td>0.032605</td>\n",
       "      <td>0.043878</td>\n",
       "      <td>0.113315</td>\n",
       "      <td>0.022796</td>\n",
       "      <td>1.000000</td>\n",
       "      <td>-0.076343</td>\n",
       "      <td>0.139677</td>\n",
       "      <td>0.052347</td>\n",
       "      <td>0.035287</td>\n",
       "      <td>0.010889</td>\n",
       "      <td>-0.039469</td>\n",
       "      <td>0.031812</td>\n",
       "      <td>-0.034272</td>\n",
       "      <td>0.034562</td>\n",
       "      <td>0.029891</td>\n",
       "    </tr>\n",
       "    <tr>\n",
       "      <th>studytime, granular</th>\n",
       "      <td>0.011426</td>\n",
       "      <td>-0.070533</td>\n",
       "      <td>-0.049060</td>\n",
       "      <td>0.101490</td>\n",
       "      <td>-1.000000</td>\n",
       "      <td>0.156406</td>\n",
       "      <td>-0.011581</td>\n",
       "      <td>-0.149031</td>\n",
       "      <td>-0.198909</td>\n",
       "      <td>-0.103263</td>\n",
       "      <td>-0.076343</td>\n",
       "      <td>1.000000</td>\n",
       "      <td>-0.144305</td>\n",
       "      <td>-0.094741</td>\n",
       "      <td>-0.066033</td>\n",
       "      <td>-0.063856</td>\n",
       "      <td>0.128661</td>\n",
       "      <td>0.029686</td>\n",
       "      <td>0.085469</td>\n",
       "      <td>0.030187</td>\n",
       "      <td>-0.142055</td>\n",
       "    </tr>\n",
       "    <tr>\n",
       "      <th>higher</th>\n",
       "      <td>-0.208899</td>\n",
       "      <td>0.208254</td>\n",
       "      <td>0.094268</td>\n",
       "      <td>-0.131574</td>\n",
       "      <td>0.144305</td>\n",
       "      <td>-0.312959</td>\n",
       "      <td>0.039287</td>\n",
       "      <td>0.123207</td>\n",
       "      <td>0.181817</td>\n",
       "      <td>0.038385</td>\n",
       "      <td>0.139677</td>\n",
       "      <td>-0.144305</td>\n",
       "      <td>1.000000</td>\n",
       "      <td>0.092232</td>\n",
       "      <td>-0.061714</td>\n",
       "      <td>-0.014524</td>\n",
       "      <td>-0.020554</td>\n",
       "      <td>0.016472</td>\n",
       "      <td>0.022685</td>\n",
       "      <td>-0.029950</td>\n",
       "      <td>0.104812</td>\n",
       "    </tr>\n",
       "    <tr>\n",
       "      <th>internet</th>\n",
       "      <td>-0.116205</td>\n",
       "      <td>0.206314</td>\n",
       "      <td>0.093895</td>\n",
       "      <td>-0.080662</td>\n",
       "      <td>0.094741</td>\n",
       "      <td>-0.116756</td>\n",
       "      <td>0.004294</td>\n",
       "      <td>0.081018</td>\n",
       "      <td>0.171799</td>\n",
       "      <td>0.073802</td>\n",
       "      <td>0.052347</td>\n",
       "      <td>-0.094741</td>\n",
       "      <td>0.092232</td>\n",
       "      <td>1.000000</td>\n",
       "      <td>0.110896</td>\n",
       "      <td>0.070383</td>\n",
       "      <td>0.102306</td>\n",
       "      <td>0.130996</td>\n",
       "      <td>-0.064461</td>\n",
       "      <td>-0.004097</td>\n",
       "      <td>0.067953</td>\n",
       "    </tr>\n",
       "    <tr>\n",
       "      <th>romantic</th>\n",
       "      <td>0.184115</td>\n",
       "      <td>0.061231</td>\n",
       "      <td>-0.018113</td>\n",
       "      <td>0.037071</td>\n",
       "      <td>0.066033</td>\n",
       "      <td>0.092584</td>\n",
       "      <td>-0.038722</td>\n",
       "      <td>-0.002160</td>\n",
       "      <td>0.067568</td>\n",
       "      <td>-0.018133</td>\n",
       "      <td>0.035287</td>\n",
       "      <td>-0.066033</td>\n",
       "      <td>-0.061714</td>\n",
       "      <td>0.110896</td>\n",
       "      <td>1.000000</td>\n",
       "      <td>-0.068845</td>\n",
       "      <td>-0.026086</td>\n",
       "      <td>0.045491</td>\n",
       "      <td>0.003538</td>\n",
       "      <td>0.014684</td>\n",
       "      <td>-0.061963</td>\n",
       "    </tr>\n",
       "    <tr>\n",
       "      <th>famrel</th>\n",
       "      <td>0.074152</td>\n",
       "      <td>-0.000958</td>\n",
       "      <td>0.049613</td>\n",
       "      <td>-0.023920</td>\n",
       "      <td>0.063856</td>\n",
       "      <td>-0.011414</td>\n",
       "      <td>0.001143</td>\n",
       "      <td>-0.009079</td>\n",
       "      <td>-0.025820</td>\n",
       "      <td>0.083961</td>\n",
       "      <td>0.010889</td>\n",
       "      <td>-0.063856</td>\n",
       "      <td>-0.014524</td>\n",
       "      <td>0.070383</td>\n",
       "      <td>-0.068845</td>\n",
       "      <td>1.000000</td>\n",
       "      <td>0.162283</td>\n",
       "      <td>0.050751</td>\n",
       "      <td>0.096471</td>\n",
       "      <td>-0.089609</td>\n",
       "      <td>0.046717</td>\n",
       "    </tr>\n",
       "    <tr>\n",
       "      <th>freetime</th>\n",
       "      <td>0.004837</td>\n",
       "      <td>0.021002</td>\n",
       "      <td>-0.071328</td>\n",
       "      <td>-0.023067</td>\n",
       "      <td>-0.128661</td>\n",
       "      <td>0.127391</td>\n",
       "      <td>-0.051172</td>\n",
       "      <td>0.025334</td>\n",
       "      <td>-0.057744</td>\n",
       "      <td>0.091959</td>\n",
       "      <td>-0.039469</td>\n",
       "      <td>0.128661</td>\n",
       "      <td>-0.020554</td>\n",
       "      <td>0.102306</td>\n",
       "      <td>-0.026086</td>\n",
       "      <td>0.162283</td>\n",
       "      <td>1.000000</td>\n",
       "      <td>0.296392</td>\n",
       "      <td>0.072729</td>\n",
       "      <td>0.007748</td>\n",
       "      <td>-0.012457</td>\n",
       "    </tr>\n",
       "    <tr>\n",
       "      <th>goout</th>\n",
       "      <td>0.123638</td>\n",
       "      <td>0.080556</td>\n",
       "      <td>-0.026507</td>\n",
       "      <td>0.029374</td>\n",
       "      <td>-0.029686</td>\n",
       "      <td>0.126770</td>\n",
       "      <td>-0.031778</td>\n",
       "      <td>-0.025956</td>\n",
       "      <td>0.052188</td>\n",
       "      <td>0.045251</td>\n",
       "      <td>0.031812</td>\n",
       "      <td>0.029686</td>\n",
       "      <td>0.016472</td>\n",
       "      <td>0.130996</td>\n",
       "      <td>0.045491</td>\n",
       "      <td>0.050751</td>\n",
       "      <td>0.296392</td>\n",
       "      <td>1.000000</td>\n",
       "      <td>-0.010343</td>\n",
       "      <td>-0.050616</td>\n",
       "      <td>-0.182286</td>\n",
       "    </tr>\n",
       "    <tr>\n",
       "      <th>health</th>\n",
       "      <td>-0.056173</td>\n",
       "      <td>-0.038050</td>\n",
       "      <td>0.025874</td>\n",
       "      <td>-0.000092</td>\n",
       "      <td>-0.085469</td>\n",
       "      <td>0.064083</td>\n",
       "      <td>-0.031519</td>\n",
       "      <td>0.045104</td>\n",
       "      <td>-0.047937</td>\n",
       "      <td>0.029730</td>\n",
       "      <td>-0.034272</td>\n",
       "      <td>0.085469</td>\n",
       "      <td>0.022685</td>\n",
       "      <td>-0.064461</td>\n",
       "      <td>0.003538</td>\n",
       "      <td>0.096471</td>\n",
       "      <td>0.072729</td>\n",
       "      <td>-0.010343</td>\n",
       "      <td>1.000000</td>\n",
       "      <td>-0.014308</td>\n",
       "      <td>-0.075340</td>\n",
       "    </tr>\n",
       "    <tr>\n",
       "      <th>absences</th>\n",
       "      <td>0.112599</td>\n",
       "      <td>-0.027377</td>\n",
       "      <td>0.000245</td>\n",
       "      <td>-0.047560</td>\n",
       "      <td>-0.030187</td>\n",
       "      <td>0.089541</td>\n",
       "      <td>0.104768</td>\n",
       "      <td>0.067334</td>\n",
       "      <td>-0.031287</td>\n",
       "      <td>-0.080459</td>\n",
       "      <td>0.034562</td>\n",
       "      <td>0.030187</td>\n",
       "      <td>-0.029950</td>\n",
       "      <td>-0.004097</td>\n",
       "      <td>0.014684</td>\n",
       "      <td>-0.089609</td>\n",
       "      <td>0.007748</td>\n",
       "      <td>-0.050616</td>\n",
       "      <td>-0.014308</td>\n",
       "      <td>1.000000</td>\n",
       "      <td>-0.014039</td>\n",
       "    </tr>\n",
       "    <tr>\n",
       "      <th>score</th>\n",
       "      <td>-0.131542</td>\n",
       "      <td>0.186477</td>\n",
       "      <td>0.069842</td>\n",
       "      <td>-0.075516</td>\n",
       "      <td>0.142055</td>\n",
       "      <td>-0.289377</td>\n",
       "      <td>-0.249796</td>\n",
       "      <td>-0.046874</td>\n",
       "      <td>-0.022039</td>\n",
       "      <td>0.060008</td>\n",
       "      <td>0.029891</td>\n",
       "      <td>-0.142055</td>\n",
       "      <td>0.104812</td>\n",
       "      <td>0.067953</td>\n",
       "      <td>-0.061963</td>\n",
       "      <td>0.046717</td>\n",
       "      <td>-0.012457</td>\n",
       "      <td>-0.182286</td>\n",
       "      <td>-0.075340</td>\n",
       "      <td>-0.014039</td>\n",
       "      <td>1.000000</td>\n",
       "    </tr>\n",
       "  </tbody>\n",
       "</table>\n",
       "</div>"
      ],
      "text/plain": [
       "                          age      Medu      Fedu  traveltime  studytime  \\\n",
       "age                  1.000000 -0.122979 -0.121617    0.095370  -0.011426   \n",
       "Medu                -0.122979  1.000000  0.247339   -0.165394   0.070533   \n",
       "Fedu                -0.121617  0.247339  1.000000    0.042074   0.049060   \n",
       "traveltime           0.095370 -0.165394  0.042074    1.000000  -0.101490   \n",
       "studytime           -0.011426  0.070533  0.049060   -0.101490   1.000000   \n",
       "failures             0.235875 -0.205944 -0.141995    0.091757  -0.156406   \n",
       "schoolsup           -0.258382 -0.060458  0.002924   -0.013595   0.011581   \n",
       "famsup              -0.130566  0.183037  0.139102   -0.025133   0.149031   \n",
       "paid                -0.028782  0.160031 -0.002853   -0.046143   0.198909   \n",
       "activities          -0.135034  0.126379  0.097034    0.008461   0.103263   \n",
       "nursery             -0.113363  0.184227  0.109370   -0.045096   0.076343   \n",
       "studytime, granular  0.011426 -0.070533 -0.049060    0.101490  -1.000000   \n",
       "higher              -0.208899  0.208254  0.094268   -0.131574   0.144305   \n",
       "internet            -0.116205  0.206314  0.093895   -0.080662   0.094741   \n",
       "romantic             0.184115  0.061231 -0.018113    0.037071   0.066033   \n",
       "famrel               0.074152 -0.000958  0.049613   -0.023920   0.063856   \n",
       "freetime             0.004837  0.021002 -0.071328   -0.023067  -0.128661   \n",
       "goout                0.123638  0.080556 -0.026507    0.029374  -0.029686   \n",
       "health              -0.056173 -0.038050  0.025874   -0.000092  -0.085469   \n",
       "absences             0.112599 -0.027377  0.000245   -0.047560  -0.030187   \n",
       "score               -0.131542  0.186477  0.069842   -0.075516   0.142055   \n",
       "\n",
       "                     failures  schoolsup    famsup      paid  activities  \\\n",
       "age                  0.235875  -0.258382 -0.130566 -0.028782   -0.135034   \n",
       "Medu                -0.205944  -0.060458  0.183037  0.160031    0.126379   \n",
       "Fedu                -0.141995   0.002924  0.139102 -0.002853    0.097034   \n",
       "traveltime           0.091757  -0.013595 -0.025133 -0.046143    0.008461   \n",
       "studytime           -0.156406   0.011581  0.149031  0.198909    0.103263   \n",
       "failures             1.000000   0.064154 -0.068557 -0.120631   -0.085556   \n",
       "schoolsup            0.064154   1.000000  0.088713 -0.038182    0.062271   \n",
       "famsup              -0.068557   0.088713  1.000000  0.302639    0.003314   \n",
       "paid                -0.120631  -0.038182  0.302639  1.000000    0.029352   \n",
       "activities          -0.085556   0.062271  0.003314  0.029352    1.000000   \n",
       "nursery             -0.126890   0.032605  0.043878  0.113315    0.022796   \n",
       "studytime, granular  0.156406  -0.011581 -0.149031 -0.198909   -0.103263   \n",
       "higher              -0.312959   0.039287  0.123207  0.181817    0.038385   \n",
       "internet            -0.116756   0.004294  0.081018  0.171799    0.073802   \n",
       "romantic             0.092584  -0.038722 -0.002160  0.067568   -0.018133   \n",
       "famrel              -0.011414   0.001143 -0.009079 -0.025820    0.083961   \n",
       "freetime             0.127391  -0.051172  0.025334 -0.057744    0.091959   \n",
       "goout                0.126770  -0.031778 -0.025956  0.052188    0.045251   \n",
       "health               0.064083  -0.031519  0.045104 -0.047937    0.029730   \n",
       "absences             0.089541   0.104768  0.067334 -0.031287   -0.080459   \n",
       "score               -0.289377  -0.249796 -0.046874 -0.022039    0.060008   \n",
       "\n",
       "                      nursery  studytime, granular    higher  internet  \\\n",
       "age                 -0.113363             0.011426 -0.208899 -0.116205   \n",
       "Medu                 0.184227            -0.070533  0.208254  0.206314   \n",
       "Fedu                 0.109370            -0.049060  0.094268  0.093895   \n",
       "traveltime          -0.045096             0.101490 -0.131574 -0.080662   \n",
       "studytime            0.076343            -1.000000  0.144305  0.094741   \n",
       "failures            -0.126890             0.156406 -0.312959 -0.116756   \n",
       "schoolsup            0.032605            -0.011581  0.039287  0.004294   \n",
       "famsup               0.043878            -0.149031  0.123207  0.081018   \n",
       "paid                 0.113315            -0.198909  0.181817  0.171799   \n",
       "activities           0.022796            -0.103263  0.038385  0.073802   \n",
       "nursery              1.000000            -0.076343  0.139677  0.052347   \n",
       "studytime, granular -0.076343             1.000000 -0.144305 -0.094741   \n",
       "higher               0.139677            -0.144305  1.000000  0.092232   \n",
       "internet             0.052347            -0.094741  0.092232  1.000000   \n",
       "romantic             0.035287            -0.066033 -0.061714  0.110896   \n",
       "famrel               0.010889            -0.063856 -0.014524  0.070383   \n",
       "freetime            -0.039469             0.128661 -0.020554  0.102306   \n",
       "goout                0.031812             0.029686  0.016472  0.130996   \n",
       "health              -0.034272             0.085469  0.022685 -0.064461   \n",
       "absences             0.034562             0.030187 -0.029950 -0.004097   \n",
       "score                0.029891            -0.142055  0.104812  0.067953   \n",
       "\n",
       "                     romantic    famrel  freetime     goout    health  \\\n",
       "age                  0.184115  0.074152  0.004837  0.123638 -0.056173   \n",
       "Medu                 0.061231 -0.000958  0.021002  0.080556 -0.038050   \n",
       "Fedu                -0.018113  0.049613 -0.071328 -0.026507  0.025874   \n",
       "traveltime           0.037071 -0.023920 -0.023067  0.029374 -0.000092   \n",
       "studytime            0.066033  0.063856 -0.128661 -0.029686 -0.085469   \n",
       "failures             0.092584 -0.011414  0.127391  0.126770  0.064083   \n",
       "schoolsup           -0.038722  0.001143 -0.051172 -0.031778 -0.031519   \n",
       "famsup              -0.002160 -0.009079  0.025334 -0.025956  0.045104   \n",
       "paid                 0.067568 -0.025820 -0.057744  0.052188 -0.047937   \n",
       "activities          -0.018133  0.083961  0.091959  0.045251  0.029730   \n",
       "nursery              0.035287  0.010889 -0.039469  0.031812 -0.034272   \n",
       "studytime, granular -0.066033 -0.063856  0.128661  0.029686  0.085469   \n",
       "higher              -0.061714 -0.014524 -0.020554  0.016472  0.022685   \n",
       "internet             0.110896  0.070383  0.102306  0.130996 -0.064461   \n",
       "romantic             1.000000 -0.068845 -0.026086  0.045491  0.003538   \n",
       "famrel              -0.068845  1.000000  0.162283  0.050751  0.096471   \n",
       "freetime            -0.026086  0.162283  1.000000  0.296392  0.072729   \n",
       "goout                0.045491  0.050751  0.296392  1.000000 -0.010343   \n",
       "health               0.003538  0.096471  0.072729 -0.010343  1.000000   \n",
       "absences             0.014684 -0.089609  0.007748 -0.050616 -0.014308   \n",
       "score               -0.061963  0.046717 -0.012457 -0.182286 -0.075340   \n",
       "\n",
       "                     absences     score  \n",
       "age                  0.112599 -0.131542  \n",
       "Medu                -0.027377  0.186477  \n",
       "Fedu                 0.000245  0.069842  \n",
       "traveltime          -0.047560 -0.075516  \n",
       "studytime           -0.030187  0.142055  \n",
       "failures             0.089541 -0.289377  \n",
       "schoolsup            0.104768 -0.249796  \n",
       "famsup               0.067334 -0.046874  \n",
       "paid                -0.031287 -0.022039  \n",
       "activities          -0.080459  0.060008  \n",
       "nursery              0.034562  0.029891  \n",
       "studytime, granular  0.030187 -0.142055  \n",
       "higher              -0.029950  0.104812  \n",
       "internet            -0.004097  0.067953  \n",
       "romantic             0.014684 -0.061963  \n",
       "famrel              -0.089609  0.046717  \n",
       "freetime             0.007748 -0.012457  \n",
       "goout               -0.050616 -0.182286  \n",
       "health              -0.014308 -0.075340  \n",
       "absences             1.000000 -0.014039  \n",
       "score               -0.014039  1.000000  "
      ]
     },
     "execution_count": 9,
     "metadata": {},
     "output_type": "execute_result"
    }
   ],
   "source": [
    "score.corr()"
   ]
  },
  {
   "cell_type": "markdown",
   "metadata": {},
   "source": [
    "Обнаружено, что \"studytime, grnular\" полностью коррелирует с параметром \"studytime\" (обратная корреляция), а значит параметр \"studytime, granular\" можно не рассматривать, как самостоятельный в последующем исследовании. Также можно предварительно оценить, какие из числовых параметров могут влиять на оценку студента. Будем учитывать параметру, для которых коэффициент корреляции с \"score\" более чем 0.1 по модулю. Таким образом, можно выделить \"age\", \"Medu\", \"studytime\", \"failures\", \"schoolsup\", \"higher\" и \"goout\"."
   ]
  },
  {
   "cell_type": "code",
   "execution_count": 10,
   "metadata": {},
   "outputs": [],
   "source": [
    "score.drop('studytime, granular', inplace=True, axis=1)"
   ]
  },
  {
   "cell_type": "code",
   "execution_count": 11,
   "metadata": {},
   "outputs": [
    {
     "name": "stdout",
     "output_type": "stream",
     "text": [
      "<class 'pandas.core.frame.DataFrame'>\n",
      "Int64Index: 352 entries, 0 to 394\n",
      "Data columns (total 29 columns):\n",
      " #   Column      Non-Null Count  Dtype  \n",
      "---  ------      --------------  -----  \n",
      " 0   school      352 non-null    object \n",
      " 1   sex         352 non-null    object \n",
      " 2   age         352 non-null    int64  \n",
      " 3   address     338 non-null    object \n",
      " 4   famsize     328 non-null    object \n",
      " 5   Pstatus     311 non-null    object \n",
      " 6   Medu        350 non-null    float64\n",
      " 7   Fedu        331 non-null    float64\n",
      " 8   Mjob        335 non-null    object \n",
      " 9   Fjob        320 non-null    object \n",
      " 10  reason      337 non-null    object \n",
      " 11  guardian    323 non-null    object \n",
      " 12  traveltime  329 non-null    float64\n",
      " 13  studytime   345 non-null    float64\n",
      " 14  failures    332 non-null    float64\n",
      " 15  schoolsup   343 non-null    float64\n",
      " 16  famsup      316 non-null    float64\n",
      " 17  paid        316 non-null    float64\n",
      " 18  activities  340 non-null    float64\n",
      " 19  nursery     340 non-null    float64\n",
      " 20  higher      333 non-null    float64\n",
      " 21  internet    323 non-null    float64\n",
      " 22  romantic    323 non-null    float64\n",
      " 23  famrel      328 non-null    float64\n",
      " 24  freetime    344 non-null    float64\n",
      " 25  goout       346 non-null    float64\n",
      " 26  health      339 non-null    float64\n",
      " 27  absences    342 non-null    float64\n",
      " 28  score       352 non-null    float64\n",
      "dtypes: float64(19), int64(1), object(9)\n",
      "memory usage: 82.5+ KB\n"
     ]
    }
   ],
   "source": [
    "score.info()"
   ]
  },
  {
   "cell_type": "markdown",
   "metadata": {},
   "source": [
    "Далее рассмотрим подробно значения каждого числового параметра в отдельности. Проверим на выбросы и пропуски."
   ]
  },
  {
   "cell_type": "markdown",
   "metadata": {},
   "source": [
    "### 1. Параметр \"age\". Пропусков нет, проверим на выбросы."
   ]
  },
  {
   "cell_type": "code",
   "execution_count": 12,
   "metadata": {},
   "outputs": [
    {
     "data": {
      "text/plain": [
       "16    96\n",
       "17    90\n",
       "15    76\n",
       "18    69\n",
       "19    16\n",
       "20     3\n",
       "22     1\n",
       "21     1\n",
       "Name: age, dtype: int64"
      ]
     },
     "execution_count": 12,
     "metadata": {},
     "output_type": "execute_result"
    }
   ],
   "source": [
    "score.age.value_counts()"
   ]
  },
  {
   "cell_type": "code",
   "execution_count": 13,
   "metadata": {},
   "outputs": [
    {
     "data": {
      "text/plain": [
       "<matplotlib.axes._subplots.AxesSubplot at 0x2828286b648>"
      ]
     },
     "execution_count": 13,
     "metadata": {},
     "output_type": "execute_result"
    },
    {
     "data": {
      "image/png": "[encoded data removed]",
      "text/plain": [
       "<Figure size 432x288 with 1 Axes>"
      ]
     },
     "metadata": {
      "needs_background": "light"
     },
     "output_type": "display_data"
    }
   ],
   "source": [
    "sns.boxplot(x='age', data=score)"
   ]
  },
  {
   "cell_type": "code",
   "execution_count": 14,
   "metadata": {},
   "outputs": [],
   "source": [
    "score.drop(del_emissions(\"age\"), inplace=True, axis=0)"
   ]
  },
  {
   "cell_type": "code",
   "execution_count": 15,
   "metadata": {},
   "outputs": [
    {
     "data": {
      "text/plain": [
       "<matplotlib.axes._subplots.AxesSubplot at 0x28282898fc8>"
      ]
     },
     "execution_count": 15,
     "metadata": {},
     "output_type": "execute_result"
    },
    {
     "data": {
      "image/png": "[encoded data removed]",
      "text/plain": [
       "<Figure size 432x288 with 1 Axes>"
      ]
     },
     "metadata": {
      "needs_background": "light"
     },
     "output_type": "display_data"
    }
   ],
   "source": [
    "boxplot('age')"
   ]
  },
  {
   "cell_type": "markdown",
   "metadata": {},
   "source": [
    "### 2. Параметр \"Medu\". Здесь всего 2 пропуска."
   ]
  },
  {
   "cell_type": "code",
   "execution_count": 16,
   "metadata": {},
   "outputs": [
    {
     "name": "stdout",
     "output_type": "stream",
     "text": [
      "<class 'pandas.core.frame.DataFrame'>\n",
      "Int64Index: 351 entries, 0 to 394\n",
      "Data columns (total 29 columns):\n",
      " #   Column      Non-Null Count  Dtype  \n",
      "---  ------      --------------  -----  \n",
      " 0   school      351 non-null    object \n",
      " 1   sex         351 non-null    object \n",
      " 2   age         351 non-null    int64  \n",
      " 3   address     337 non-null    object \n",
      " 4   famsize     327 non-null    object \n",
      " 5   Pstatus     310 non-null    object \n",
      " 6   Medu        349 non-null    float64\n",
      " 7   Fedu        330 non-null    float64\n",
      " 8   Mjob        334 non-null    object \n",
      " 9   Fjob        319 non-null    object \n",
      " 10  reason      336 non-null    object \n",
      " 11  guardian    322 non-null    object \n",
      " 12  traveltime  328 non-null    float64\n",
      " 13  studytime   344 non-null    float64\n",
      " 14  failures    331 non-null    float64\n",
      " 15  schoolsup   342 non-null    float64\n",
      " 16  famsup      315 non-null    float64\n",
      " 17  paid        315 non-null    float64\n",
      " 18  activities  339 non-null    float64\n",
      " 19  nursery     339 non-null    float64\n",
      " 20  higher      332 non-null    float64\n",
      " 21  internet    322 non-null    float64\n",
      " 22  romantic    322 non-null    float64\n",
      " 23  famrel      327 non-null    float64\n",
      " 24  freetime    343 non-null    float64\n",
      " 25  goout       345 non-null    float64\n",
      " 26  health      338 non-null    float64\n",
      " 27  absences    341 non-null    float64\n",
      " 28  score       351 non-null    float64\n",
      "dtypes: float64(19), int64(1), object(9)\n",
      "memory usage: 92.3+ KB\n"
     ]
    }
   ],
   "source": [
    "score.info()"
   ]
  },
  {
   "cell_type": "code",
   "execution_count": 17,
   "metadata": {},
   "outputs": [
    {
     "data": {
      "text/plain": [
       "4.0    125\n",
       "2.0     88\n",
       "3.0     86\n",
       "1.0     47\n",
       "0.0      3\n",
       "Name: Medu, dtype: int64"
      ]
     },
     "execution_count": 17,
     "metadata": {},
     "output_type": "execute_result"
    }
   ],
   "source": [
    "score.Medu.value_counts()"
   ]
  },
  {
   "cell_type": "markdown",
   "metadata": {},
   "source": [
    "Заполним пропуски медианным значением и проверим на выбросы."
   ]
  },
  {
   "cell_type": "code",
   "execution_count": 18,
   "metadata": {},
   "outputs": [
    {
     "data": {
      "text/plain": [
       "<matplotlib.axes._subplots.AxesSubplot at 0x282829e6788>"
      ]
     },
     "execution_count": 18,
     "metadata": {},
     "output_type": "execute_result"
    },
    {
     "data": {
      "image/png": "[encoded data removed]",
      "text/plain": [
       "<Figure size 432x288 with 1 Axes>"
      ]
     },
     "metadata": {
      "needs_background": "light"
     },
     "output_type": "display_data"
    }
   ],
   "source": [
    "sns.boxplot(x='Medu', data=score)"
   ]
  },
  {
   "cell_type": "code",
   "execution_count": 19,
   "metadata": {},
   "outputs": [
    {
     "data": {
      "text/plain": [
       "4.0    125\n",
       "2.0     88\n",
       "3.0     88\n",
       "1.0     47\n",
       "0.0      3\n",
       "Name: Medu, dtype: int64"
      ]
     },
     "execution_count": 19,
     "metadata": {},
     "output_type": "execute_result"
    }
   ],
   "source": [
    "parameter='Medu'\n",
    "fill_parameter(fill_median)"
   ]
  },
  {
   "cell_type": "code",
   "execution_count": 20,
   "metadata": {},
   "outputs": [
    {
     "data": {
      "text/plain": [
       "<matplotlib.axes._subplots.AxesSubplot at 0x28282a41348>"
      ]
     },
     "execution_count": 20,
     "metadata": {},
     "output_type": "execute_result"
    },
    {
     "data": {
      "image/png": "[encoded data removed]",
      "text/plain": [
       "<Figure size 432x288 with 1 Axes>"
      ]
     },
     "metadata": {
      "needs_background": "light"
     },
     "output_type": "display_data"
    }
   ],
   "source": [
    "boxplot('Medu')"
   ]
  },
  {
   "cell_type": "markdown",
   "metadata": {},
   "source": [
    "### 3. Параметр \"Fedu\". Здесь довольно много пропусков - 21."
   ]
  },
  {
   "cell_type": "code",
   "execution_count": 21,
   "metadata": {},
   "outputs": [
    {
     "data": {
      "text/plain": [
       "2.0     94\n",
       "3.0     89\n",
       "4.0     80\n",
       "1.0     64\n",
       "0.0      2\n",
       "40.0     1\n",
       "Name: Fedu, dtype: int64"
      ]
     },
     "execution_count": 21,
     "metadata": {},
     "output_type": "execute_result"
    }
   ],
   "source": [
    "score.Fedu.value_counts()"
   ]
  },
  {
   "cell_type": "markdown",
   "metadata": {},
   "source": [
    "Обнаружено значение \"Fedu\" равное 40, это значение не соостветствует предложенному диапазону значений. Можно было бы предположить, что это просто описка, и правильное значение равно 4."
   ]
  },
  {
   "cell_type": "code",
   "execution_count": 22,
   "metadata": {},
   "outputs": [],
   "source": [
    "def fill_Fedu(row):\n",
    "    if row['Fedu'] == 40:\n",
    "        return 4\n",
    "    return row['Fedu']\n",
    "\n",
    "\n",
    "score['Fedu'] = score.apply(fill_Fedu, axis=1)"
   ]
  },
  {
   "cell_type": "code",
   "execution_count": 23,
   "metadata": {},
   "outputs": [
    {
     "data": {
      "text/plain": [
       "<matplotlib.axes._subplots.AxesSubplot at 0x28282b155c8>"
      ]
     },
     "execution_count": 23,
     "metadata": {},
     "output_type": "execute_result"
    },
    {
     "data": {
      "image/png": "[encoded data removed]",
      "text/plain": [
       "<Figure size 432x288 with 1 Axes>"
      ]
     },
     "metadata": {
      "needs_background": "light"
     },
     "output_type": "display_data"
    }
   ],
   "source": [
    "sns.boxplot(x='Fedu', data=score)"
   ]
  },
  {
   "cell_type": "code",
   "execution_count": 24,
   "metadata": {},
   "outputs": [],
   "source": [
    "score.drop(del_emissions('Fedu'), inplace=True, axis=0)"
   ]
  },
  {
   "cell_type": "code",
   "execution_count": 25,
   "metadata": {},
   "outputs": [
    {
     "data": {
      "text/plain": [
       "<matplotlib.axes._subplots.AxesSubplot at 0x28282b7ca88>"
      ]
     },
     "execution_count": 25,
     "metadata": {},
     "output_type": "execute_result"
    },
    {
     "data": {
      "image/png": "[encoded data removed]",
      "text/plain": [
       "<Figure size 432x288 with 1 Axes>"
      ]
     },
     "metadata": {
      "needs_background": "light"
     },
     "output_type": "display_data"
    }
   ],
   "source": [
    "score.Fedu.hist(bins=4)"
   ]
  },
  {
   "cell_type": "code",
   "execution_count": 26,
   "metadata": {},
   "outputs": [
    {
     "data": {
      "text/plain": [
       "3.0"
      ]
     },
     "execution_count": 26,
     "metadata": {},
     "output_type": "execute_result"
    }
   ],
   "source": [
    "score.Fedu.median()"
   ]
  },
  {
   "cell_type": "markdown",
   "metadata": {},
   "source": [
    "В данном случае заполнять пропуски медианным значением некорректрно, так как пропусков довально много, а сами значения распределены примерно равномерно (Fedu = 1 to 4), и это может нарушить балланс. Поэтому здесь пропуски заполним значением \"no data\"."
   ]
  },
  {
   "cell_type": "code",
   "execution_count": 27,
   "metadata": {},
   "outputs": [
    {
     "data": {
      "text/plain": [
       "2.0        94\n",
       "3.0        89\n",
       "4.0        81\n",
       "1.0        64\n",
       "no data    21\n",
       "Name: Fedu, dtype: int64"
      ]
     },
     "execution_count": 27,
     "metadata": {},
     "output_type": "execute_result"
    }
   ],
   "source": [
    "parameter='Fedu'\n",
    "fill_parameter(fill_no_data)"
   ]
  },
  {
   "cell_type": "code",
   "execution_count": 28,
   "metadata": {},
   "outputs": [
    {
     "data": {
      "text/plain": [
       "<matplotlib.axes._subplots.AxesSubplot at 0x28282be9b88>"
      ]
     },
     "execution_count": 28,
     "metadata": {},
     "output_type": "execute_result"
    },
    {
     "data": {
      "image/png": "[encoded data removed]",
      "text/plain": [
       "<Figure size 432x288 with 1 Axes>"
      ]
     },
     "metadata": {
      "needs_background": "light"
     },
     "output_type": "display_data"
    }
   ],
   "source": [
    "boxplot('Fedu')"
   ]
  },
  {
   "cell_type": "markdown",
   "metadata": {},
   "source": [
    "### 4. Параметр \"traveltime\". Количество пропусков - 23."
   ]
  },
  {
   "cell_type": "code",
   "execution_count": 29,
   "metadata": {},
   "outputs": [
    {
     "name": "stdout",
     "output_type": "stream",
     "text": [
      "<class 'pandas.core.frame.DataFrame'>\n",
      "Int64Index: 349 entries, 0 to 394\n",
      "Data columns (total 29 columns):\n",
      " #   Column      Non-Null Count  Dtype  \n",
      "---  ------      --------------  -----  \n",
      " 0   school      349 non-null    object \n",
      " 1   sex         349 non-null    object \n",
      " 2   age         349 non-null    int64  \n",
      " 3   address     335 non-null    object \n",
      " 4   famsize     326 non-null    object \n",
      " 5   Pstatus     308 non-null    object \n",
      " 6   Medu        349 non-null    float64\n",
      " 7   Fedu        349 non-null    object \n",
      " 8   Mjob        332 non-null    object \n",
      " 9   Fjob        317 non-null    object \n",
      " 10  reason      334 non-null    object \n",
      " 11  guardian    320 non-null    object \n",
      " 12  traveltime  326 non-null    float64\n",
      " 13  studytime   342 non-null    float64\n",
      " 14  failures    330 non-null    float64\n",
      " 15  schoolsup   340 non-null    float64\n",
      " 16  famsup      313 non-null    float64\n",
      " 17  paid        313 non-null    float64\n",
      " 18  activities  337 non-null    float64\n",
      " 19  nursery     337 non-null    float64\n",
      " 20  higher      332 non-null    float64\n",
      " 21  internet    320 non-null    float64\n",
      " 22  romantic    320 non-null    float64\n",
      " 23  famrel      325 non-null    float64\n",
      " 24  freetime    341 non-null    float64\n",
      " 25  goout       343 non-null    float64\n",
      " 26  health      336 non-null    float64\n",
      " 27  absences    339 non-null    float64\n",
      " 28  score       349 non-null    float64\n",
      "dtypes: float64(18), int64(1), object(10)\n",
      "memory usage: 91.8+ KB\n"
     ]
    }
   ],
   "source": [
    "score.info()"
   ]
  },
  {
   "cell_type": "code",
   "execution_count": 30,
   "metadata": {},
   "outputs": [
    {
     "data": {
      "text/plain": [
       "1.0    218\n",
       "2.0     84\n",
       "3.0     17\n",
       "4.0      7\n",
       "Name: traveltime, dtype: int64"
      ]
     },
     "execution_count": 30,
     "metadata": {},
     "output_type": "execute_result"
    }
   ],
   "source": [
    "score.traveltime.value_counts()"
   ]
  },
  {
   "cell_type": "markdown",
   "metadata": {},
   "source": [
    "Предположим, что среднее \"traveltime\" для студентов больше для студентов, живущих загородом (address = R)."
   ]
  },
  {
   "cell_type": "code",
   "execution_count": 31,
   "metadata": {},
   "outputs": [
    {
     "data": {
      "text/html": [
       "<div>\n",
       "<style scoped>\n",
       "    .dataframe tbody tr th:only-of-type {\n",
       "        vertical-align: middle;\n",
       "    }\n",
       "\n",
       "    .dataframe tbody tr th {\n",
       "        vertical-align: top;\n",
       "    }\n",
       "\n",
       "    .dataframe thead th {\n",
       "        text-align: right;\n",
       "    }\n",
       "</style>\n",
       "<table border=\"1\" class=\"dataframe\">\n",
       "  <thead>\n",
       "    <tr style=\"text-align: right;\">\n",
       "      <th></th>\n",
       "      <th>traveltime</th>\n",
       "    </tr>\n",
       "    <tr>\n",
       "      <th>address</th>\n",
       "      <th></th>\n",
       "    </tr>\n",
       "  </thead>\n",
       "  <tbody>\n",
       "    <tr>\n",
       "      <th>R</th>\n",
       "      <td>2</td>\n",
       "    </tr>\n",
       "    <tr>\n",
       "      <th>U</th>\n",
       "      <td>1</td>\n",
       "    </tr>\n",
       "  </tbody>\n",
       "</table>\n",
       "</div>"
      ],
      "text/plain": [
       "         traveltime\n",
       "address            \n",
       "R                 2\n",
       "U                 1"
      ]
     },
     "execution_count": 31,
     "metadata": {},
     "output_type": "execute_result"
    }
   ],
   "source": [
    "score.pivot_table(index=['address'],\n",
    "                  values='traveltime', aggfunc='median', fill_value=0)"
   ]
  },
  {
   "cell_type": "markdown",
   "metadata": {},
   "source": [
    "Действительно, медианное значение \"traveltime\" для городских меньше, заполним пропускт соответственно."
   ]
  },
  {
   "cell_type": "code",
   "execution_count": 32,
   "metadata": {},
   "outputs": [
    {
     "data": {
      "text/plain": [
       "1.0    233\n",
       "2.0     89\n",
       "3.0     17\n",
       "4.0      7\n",
       "Name: traveltime, dtype: int64"
      ]
     },
     "execution_count": 32,
     "metadata": {},
     "output_type": "execute_result"
    }
   ],
   "source": [
    "parameter='traveltime'\n",
    "fill_parameter(fill_traveltime)"
   ]
  },
  {
   "cell_type": "markdown",
   "metadata": {},
   "source": [
    "Остается 3 пропуска, их можно заполнить медианным значением"
   ]
  },
  {
   "cell_type": "code",
   "execution_count": 33,
   "metadata": {},
   "outputs": [
    {
     "data": {
      "text/plain": [
       "1.0    236\n",
       "2.0     89\n",
       "3.0     17\n",
       "4.0      7\n",
       "Name: traveltime, dtype: int64"
      ]
     },
     "execution_count": 33,
     "metadata": {},
     "output_type": "execute_result"
    }
   ],
   "source": [
    "parameter='traveltime'\n",
    "fill_parameter(fill_median)\n",
    "score.traveltime.value_counts()"
   ]
  },
  {
   "cell_type": "code",
   "execution_count": 34,
   "metadata": {},
   "outputs": [
    {
     "data": {
      "text/plain": [
       "<matplotlib.axes._subplots.AxesSubplot at 0x28282cc2ec8>"
      ]
     },
     "execution_count": 34,
     "metadata": {},
     "output_type": "execute_result"
    },
    {
     "data": {
      "image/png": "[encoded data removed]",
      "text/plain": [
       "<Figure size 432x288 with 1 Axes>"
      ]
     },
     "metadata": {
      "needs_background": "light"
     },
     "output_type": "display_data"
    }
   ],
   "source": [
    "sns.boxplot(x='traveltime', data=score)"
   ]
  },
  {
   "cell_type": "code",
   "execution_count": 35,
   "metadata": {},
   "outputs": [],
   "source": [
    "score.drop(del_emissions('traveltime'), inplace=True, axis=0)"
   ]
  },
  {
   "cell_type": "code",
   "execution_count": 36,
   "metadata": {},
   "outputs": [
    {
     "data": {
      "text/plain": [
       "<matplotlib.axes._subplots.AxesSubplot at 0x28282d25a48>"
      ]
     },
     "execution_count": 36,
     "metadata": {},
     "output_type": "execute_result"
    },
    {
     "data": {
      "image/png": "[encoded data removed]",
      "text/plain": [
       "<Figure size 432x288 with 1 Axes>"
      ]
     },
     "metadata": {
      "needs_background": "light"
     },
     "output_type": "display_data"
    }
   ],
   "source": [
    "boxplot('traveltime')"
   ]
  },
  {
   "cell_type": "markdown",
   "metadata": {},
   "source": [
    "### 5. Параметр \"studytime\". Количество пропусков - 7. Их можно будет заполнить медианным значением."
   ]
  },
  {
   "cell_type": "code",
   "execution_count": 37,
   "metadata": {},
   "outputs": [
    {
     "name": "stdout",
     "output_type": "stream",
     "text": [
      "<class 'pandas.core.frame.DataFrame'>\n",
      "Int64Index: 342 entries, 0 to 394\n",
      "Data columns (total 29 columns):\n",
      " #   Column      Non-Null Count  Dtype  \n",
      "---  ------      --------------  -----  \n",
      " 0   school      342 non-null    object \n",
      " 1   sex         342 non-null    object \n",
      " 2   age         342 non-null    int64  \n",
      " 3   address     328 non-null    object \n",
      " 4   famsize     320 non-null    object \n",
      " 5   Pstatus     303 non-null    object \n",
      " 6   Medu        342 non-null    float64\n",
      " 7   Fedu        342 non-null    object \n",
      " 8   Mjob        325 non-null    object \n",
      " 9   Fjob        310 non-null    object \n",
      " 10  reason      327 non-null    object \n",
      " 11  guardian    314 non-null    object \n",
      " 12  traveltime  342 non-null    float64\n",
      " 13  studytime   335 non-null    float64\n",
      " 14  failures    324 non-null    float64\n",
      " 15  schoolsup   333 non-null    float64\n",
      " 16  famsup      309 non-null    float64\n",
      " 17  paid        307 non-null    float64\n",
      " 18  activities  330 non-null    float64\n",
      " 19  nursery     330 non-null    float64\n",
      " 20  higher      326 non-null    float64\n",
      " 21  internet    313 non-null    float64\n",
      " 22  romantic    313 non-null    float64\n",
      " 23  famrel      318 non-null    float64\n",
      " 24  freetime    334 non-null    float64\n",
      " 25  goout       336 non-null    float64\n",
      " 26  health      330 non-null    float64\n",
      " 27  absences    332 non-null    float64\n",
      " 28  score       342 non-null    float64\n",
      "dtypes: float64(18), int64(1), object(10)\n",
      "memory usage: 90.2+ KB\n"
     ]
    }
   ],
   "source": [
    "score.info()"
   ]
  },
  {
   "cell_type": "code",
   "execution_count": 38,
   "metadata": {},
   "outputs": [
    {
     "data": {
      "text/plain": [
       "2.0    170\n",
       "1.0     86\n",
       "3.0     57\n",
       "4.0     22\n",
       "Name: studytime, dtype: int64"
      ]
     },
     "execution_count": 38,
     "metadata": {},
     "output_type": "execute_result"
    }
   ],
   "source": [
    "score.studytime.value_counts()"
   ]
  },
  {
   "cell_type": "code",
   "execution_count": 39,
   "metadata": {},
   "outputs": [
    {
     "data": {
      "text/plain": [
       "<matplotlib.axes._subplots.AxesSubplot at 0x28282dcf2c8>"
      ]
     },
     "execution_count": 39,
     "metadata": {},
     "output_type": "execute_result"
    },
    {
     "data": {
      "image/png": "[encoded data removed]",
      "text/plain": [
       "<Figure size 432x288 with 1 Axes>"
      ]
     },
     "metadata": {
      "needs_background": "light"
     },
     "output_type": "display_data"
    }
   ],
   "source": [
    "score.studytime.hist(bins=4)"
   ]
  },
  {
   "cell_type": "code",
   "execution_count": 40,
   "metadata": {},
   "outputs": [
    {
     "data": {
      "text/plain": [
       "<matplotlib.axes._subplots.AxesSubplot at 0x28282dcf308>"
      ]
     },
     "execution_count": 40,
     "metadata": {},
     "output_type": "execute_result"
    },
    {
     "data": {
      "image/png": "[encoded data removed]",
      "text/plain": [
       "<Figure size 432x288 with 1 Axes>"
      ]
     },
     "metadata": {
      "needs_background": "light"
     },
     "output_type": "display_data"
    }
   ],
   "source": [
    "sns.boxplot(x='studytime', data=score)"
   ]
  },
  {
   "cell_type": "code",
   "execution_count": 41,
   "metadata": {},
   "outputs": [],
   "source": [
    "score.drop(del_emissions('studytime'), inplace=True, axis=0)"
   ]
  },
  {
   "cell_type": "code",
   "execution_count": 42,
   "metadata": {},
   "outputs": [
    {
     "data": {
      "text/plain": [
       "2.0    177\n",
       "1.0     86\n",
       "3.0     57\n",
       "Name: studytime, dtype: int64"
      ]
     },
     "execution_count": 42,
     "metadata": {},
     "output_type": "execute_result"
    }
   ],
   "source": [
    "parameter='studytime'\n",
    "fill_parameter(fill_median)"
   ]
  },
  {
   "cell_type": "code",
   "execution_count": 43,
   "metadata": {},
   "outputs": [
    {
     "data": {
      "text/plain": [
       "<matplotlib.axes._subplots.AxesSubplot at 0x28282dc7508>"
      ]
     },
     "execution_count": 43,
     "metadata": {},
     "output_type": "execute_result"
    },
    {
     "data": {
      "image/png": "[encoded data removed]",
      "text/plain": [
       "<Figure size 432x288 with 1 Axes>"
      ]
     },
     "metadata": {
      "needs_background": "light"
     },
     "output_type": "display_data"
    }
   ],
   "source": [
    "boxplot('studytime')"
   ]
  },
  {
   "cell_type": "markdown",
   "metadata": {},
   "source": [
    "### 6. Параметр \"failures\". Количество пропусков - 17."
   ]
  },
  {
   "cell_type": "code",
   "execution_count": 44,
   "metadata": {},
   "outputs": [
    {
     "name": "stdout",
     "output_type": "stream",
     "text": [
      "<class 'pandas.core.frame.DataFrame'>\n",
      "Int64Index: 320 entries, 0 to 394\n",
      "Data columns (total 29 columns):\n",
      " #   Column      Non-Null Count  Dtype  \n",
      "---  ------      --------------  -----  \n",
      " 0   school      320 non-null    object \n",
      " 1   sex         320 non-null    object \n",
      " 2   age         320 non-null    int64  \n",
      " 3   address     306 non-null    object \n",
      " 4   famsize     298 non-null    object \n",
      " 5   Pstatus     286 non-null    object \n",
      " 6   Medu        320 non-null    float64\n",
      " 7   Fedu        320 non-null    object \n",
      " 8   Mjob        303 non-null    object \n",
      " 9   Fjob        290 non-null    object \n",
      " 10  reason      306 non-null    object \n",
      " 11  guardian    292 non-null    object \n",
      " 12  traveltime  320 non-null    float64\n",
      " 13  studytime   320 non-null    float64\n",
      " 14  failures    303 non-null    float64\n",
      " 15  schoolsup   311 non-null    float64\n",
      " 16  famsup      288 non-null    float64\n",
      " 17  paid        286 non-null    float64\n",
      " 18  activities  308 non-null    float64\n",
      " 19  nursery     308 non-null    float64\n",
      " 20  higher      304 non-null    float64\n",
      " 21  internet    291 non-null    float64\n",
      " 22  romantic    295 non-null    float64\n",
      " 23  famrel      297 non-null    float64\n",
      " 24  freetime    313 non-null    float64\n",
      " 25  goout       314 non-null    float64\n",
      " 26  health      310 non-null    float64\n",
      " 27  absences    310 non-null    float64\n",
      " 28  score       320 non-null    float64\n",
      "dtypes: float64(18), int64(1), object(10)\n",
      "memory usage: 85.0+ KB\n"
     ]
    }
   ],
   "source": [
    "score.info()"
   ]
  },
  {
   "cell_type": "code",
   "execution_count": 45,
   "metadata": {},
   "outputs": [
    {
     "data": {
      "text/plain": [
       "0.0    248\n",
       "1.0     37\n",
       "2.0     11\n",
       "3.0      7\n",
       "Name: failures, dtype: int64"
      ]
     },
     "execution_count": 45,
     "metadata": {},
     "output_type": "execute_result"
    }
   ],
   "source": [
    "score.failures.value_counts()"
   ]
  },
  {
   "cell_type": "markdown",
   "metadata": {},
   "source": [
    "При расчетах коэффициентв корреляции наибольшими (по модулю) для \"failures\" оказался параметр \"higher\". Проверим, сможем ли мы использовать это для заполнения пропусков."
   ]
  },
  {
   "cell_type": "code",
   "execution_count": 46,
   "metadata": {},
   "outputs": [
    {
     "name": "stdout",
     "output_type": "stream",
     "text": [
      "        failures\n",
      "higher          \n",
      "0.0            1\n",
      "1.0            0\n"
     ]
    }
   ],
   "source": [
    "print(score.pivot_table(index='higher',\n",
    "                  values='failures', aggfunc='median', fill_value=0))"
   ]
  },
  {
   "cell_type": "markdown",
   "metadata": {},
   "source": [
    "Как видим, медианные значения \"failures\" отличается для студентов, кто не планируют получать высшее образование. Параметр \"higher\" также имеет пропуски. Необходимо заполнить их прежде, чем заполнять пропуски в \"failures\". "
   ]
  },
  {
   "cell_type": "markdown",
   "metadata": {},
   "source": [
    "### 7. Параметр \"higher\". Количество пропусков - 19"
   ]
  },
  {
   "cell_type": "code",
   "execution_count": 47,
   "metadata": {},
   "outputs": [
    {
     "data": {
      "text/plain": [
       "1.0    293\n",
       "0.0     11\n",
       "Name: higher, dtype: int64"
      ]
     },
     "execution_count": 47,
     "metadata": {},
     "output_type": "execute_result"
    }
   ],
   "source": [
    "score.higher.value_counts()"
   ]
  },
  {
   "cell_type": "markdown",
   "metadata": {},
   "source": [
    "Найдено, что основная часть студентов собирается получать высшее образование. Заполним пропуски медианным значением."
   ]
  },
  {
   "cell_type": "code",
   "execution_count": 48,
   "metadata": {},
   "outputs": [
    {
     "data": {
      "text/plain": [
       "1.0    309\n",
       "0.0     11\n",
       "Name: higher, dtype: int64"
      ]
     },
     "execution_count": 48,
     "metadata": {},
     "output_type": "execute_result"
    }
   ],
   "source": [
    "parameter='higher'\n",
    "fill_parameter(fill_median)"
   ]
  },
  {
   "cell_type": "code",
   "execution_count": 49,
   "metadata": {},
   "outputs": [
    {
     "data": {
      "text/plain": [
       "<matplotlib.axes._subplots.AxesSubplot at 0x28282f3a3c8>"
      ]
     },
     "execution_count": 49,
     "metadata": {},
     "output_type": "execute_result"
    },
    {
     "data": {
      "image/png": "[encoded data removed]",
      "text/plain": [
       "<Figure size 432x288 with 1 Axes>"
      ]
     },
     "metadata": {
      "needs_background": "light"
     },
     "output_type": "display_data"
    }
   ],
   "source": [
    "boxplot('higher')"
   ]
  },
  {
   "cell_type": "markdown",
   "metadata": {},
   "source": [
    "Теперь можно заполнить пропуски в \"failures\""
   ]
  },
  {
   "cell_type": "code",
   "execution_count": 50,
   "metadata": {},
   "outputs": [
    {
     "data": {
      "text/plain": [
       "0.0    265\n",
       "1.0     37\n",
       "2.0     11\n",
       "3.0      7\n",
       "Name: failures, dtype: int64"
      ]
     },
     "execution_count": 50,
     "metadata": {},
     "output_type": "execute_result"
    }
   ],
   "source": [
    "parameter='failures'\n",
    "fill_parameter(fill_failures)"
   ]
  },
  {
   "cell_type": "code",
   "execution_count": 51,
   "metadata": {},
   "outputs": [
    {
     "data": {
      "text/plain": [
       "<matplotlib.axes._subplots.AxesSubplot at 0x28282fc1748>"
      ]
     },
     "execution_count": 51,
     "metadata": {},
     "output_type": "execute_result"
    },
    {
     "data": {
      "image/png": "[encoded data removed]",
      "text/plain": [
       "<Figure size 432x288 with 1 Axes>"
      ]
     },
     "metadata": {
      "needs_background": "light"
     },
     "output_type": "display_data"
    }
   ],
   "source": [
    "sns.boxplot(x='studytime', data=score)"
   ]
  },
  {
   "cell_type": "code",
   "execution_count": 52,
   "metadata": {},
   "outputs": [
    {
     "data": {
      "text/plain": [
       "<matplotlib.axes._subplots.AxesSubplot at 0x282830263c8>"
      ]
     },
     "execution_count": 52,
     "metadata": {},
     "output_type": "execute_result"
    },
    {
     "data": {
      "image/png": "[encoded data removed]",
      "text/plain": [
       "<Figure size 432x288 with 1 Axes>"
      ]
     },
     "metadata": {
      "needs_background": "light"
     },
     "output_type": "display_data"
    }
   ],
   "source": [
    "boxplot('failures')"
   ]
  },
  {
   "cell_type": "markdown",
   "metadata": {},
   "source": [
    "### 8. Параметр \"schoolsup\". Количество пропусков - 9."
   ]
  },
  {
   "cell_type": "code",
   "execution_count": 53,
   "metadata": {},
   "outputs": [
    {
     "name": "stdout",
     "output_type": "stream",
     "text": [
      "<class 'pandas.core.frame.DataFrame'>\n",
      "Int64Index: 320 entries, 0 to 394\n",
      "Data columns (total 29 columns):\n",
      " #   Column      Non-Null Count  Dtype  \n",
      "---  ------      --------------  -----  \n",
      " 0   school      320 non-null    object \n",
      " 1   sex         320 non-null    object \n",
      " 2   age         320 non-null    int64  \n",
      " 3   address     306 non-null    object \n",
      " 4   famsize     298 non-null    object \n",
      " 5   Pstatus     286 non-null    object \n",
      " 6   Medu        320 non-null    float64\n",
      " 7   Fedu        320 non-null    object \n",
      " 8   Mjob        303 non-null    object \n",
      " 9   Fjob        290 non-null    object \n",
      " 10  reason      306 non-null    object \n",
      " 11  guardian    292 non-null    object \n",
      " 12  traveltime  320 non-null    float64\n",
      " 13  studytime   320 non-null    float64\n",
      " 14  failures    320 non-null    float64\n",
      " 15  schoolsup   311 non-null    float64\n",
      " 16  famsup      288 non-null    float64\n",
      " 17  paid        286 non-null    float64\n",
      " 18  activities  308 non-null    float64\n",
      " 19  nursery     308 non-null    float64\n",
      " 20  higher      320 non-null    float64\n",
      " 21  internet    291 non-null    float64\n",
      " 22  romantic    295 non-null    float64\n",
      " 23  famrel      297 non-null    float64\n",
      " 24  freetime    313 non-null    float64\n",
      " 25  goout       314 non-null    float64\n",
      " 26  health      310 non-null    float64\n",
      " 27  absences    310 non-null    float64\n",
      " 28  score       320 non-null    float64\n",
      "dtypes: float64(18), int64(1), object(10)\n",
      "memory usage: 85.0+ KB\n"
     ]
    }
   ],
   "source": [
    "score.info()"
   ]
  },
  {
   "cell_type": "code",
   "execution_count": 54,
   "metadata": {},
   "outputs": [
    {
     "data": {
      "text/plain": [
       "0.0    269\n",
       "1.0     42\n",
       "Name: schoolsup, dtype: int64"
      ]
     },
     "execution_count": 54,
     "metadata": {},
     "output_type": "execute_result"
    }
   ],
   "source": [
    "score.schoolsup.value_counts()"
   ]
  },
  {
   "cell_type": "markdown",
   "metadata": {},
   "source": [
    "Большинство студентов не берут дополнительные занятия в школе, поэтому заполним пропуски медианным значением."
   ]
  },
  {
   "cell_type": "code",
   "execution_count": 55,
   "metadata": {},
   "outputs": [
    {
     "data": {
      "text/plain": [
       "0.0    278\n",
       "1.0     42\n",
       "Name: schoolsup, dtype: int64"
      ]
     },
     "execution_count": 55,
     "metadata": {},
     "output_type": "execute_result"
    }
   ],
   "source": [
    "parameter='schoolsup'\n",
    "fill_parameter(fill_median)"
   ]
  },
  {
   "cell_type": "code",
   "execution_count": 56,
   "metadata": {},
   "outputs": [
    {
     "data": {
      "text/plain": [
       "<matplotlib.axes._subplots.AxesSubplot at 0x282830e2148>"
      ]
     },
     "execution_count": 56,
     "metadata": {},
     "output_type": "execute_result"
    },
    {
     "data": {
      "image/png": "[encoded data removed]",
      "text/plain": [
       "<Figure size 432x288 with 1 Axes>"
      ]
     },
     "metadata": {
      "needs_background": "light"
     },
     "output_type": "display_data"
    }
   ],
   "source": [
    "boxplot('schoolsup')"
   ]
  },
  {
   "cell_type": "markdown",
   "metadata": {},
   "source": [
    "### 9. Параметр \"famsup\". Количество пропусков довольн большое - 32."
   ]
  },
  {
   "cell_type": "code",
   "execution_count": 57,
   "metadata": {},
   "outputs": [
    {
     "name": "stdout",
     "output_type": "stream",
     "text": [
      "<class 'pandas.core.frame.DataFrame'>\n",
      "Int64Index: 320 entries, 0 to 394\n",
      "Data columns (total 29 columns):\n",
      " #   Column      Non-Null Count  Dtype  \n",
      "---  ------      --------------  -----  \n",
      " 0   school      320 non-null    object \n",
      " 1   sex         320 non-null    object \n",
      " 2   age         320 non-null    int64  \n",
      " 3   address     306 non-null    object \n",
      " 4   famsize     298 non-null    object \n",
      " 5   Pstatus     286 non-null    object \n",
      " 6   Medu        320 non-null    float64\n",
      " 7   Fedu        320 non-null    object \n",
      " 8   Mjob        303 non-null    object \n",
      " 9   Fjob        290 non-null    object \n",
      " 10  reason      306 non-null    object \n",
      " 11  guardian    292 non-null    object \n",
      " 12  traveltime  320 non-null    float64\n",
      " 13  studytime   320 non-null    float64\n",
      " 14  failures    320 non-null    float64\n",
      " 15  schoolsup   320 non-null    float64\n",
      " 16  famsup      288 non-null    float64\n",
      " 17  paid        286 non-null    float64\n",
      " 18  activities  308 non-null    float64\n",
      " 19  nursery     308 non-null    float64\n",
      " 20  higher      320 non-null    float64\n",
      " 21  internet    291 non-null    float64\n",
      " 22  romantic    295 non-null    float64\n",
      " 23  famrel      297 non-null    float64\n",
      " 24  freetime    313 non-null    float64\n",
      " 25  goout       314 non-null    float64\n",
      " 26  health      310 non-null    float64\n",
      " 27  absences    310 non-null    float64\n",
      " 28  score       320 non-null    float64\n",
      "dtypes: float64(18), int64(1), object(10)\n",
      "memory usage: 85.0+ KB\n"
     ]
    }
   ],
   "source": [
    "score.info()"
   ]
  },
  {
   "cell_type": "code",
   "execution_count": 58,
   "metadata": {},
   "outputs": [
    {
     "data": {
      "text/plain": [
       "1.0    176\n",
       "0.0    112\n",
       "Name: famsup, dtype: int64"
      ]
     },
     "execution_count": 58,
     "metadata": {},
     "output_type": "execute_result"
    }
   ],
   "source": [
    "score.famsup.value_counts()"
   ]
  },
  {
   "cell_type": "code",
   "execution_count": 59,
   "metadata": {},
   "outputs": [
    {
     "data": {
      "text/plain": [
       "<matplotlib.axes._subplots.AxesSubplot at 0x28282786b48>"
      ]
     },
     "execution_count": 59,
     "metadata": {},
     "output_type": "execute_result"
    },
    {
     "data": {
      "image/png": "[encoded data removed]",
      "text/plain": [
       "<Figure size 432x288 with 1 Axes>"
      ]
     },
     "metadata": {
      "needs_background": "light"
     },
     "output_type": "display_data"
    }
   ],
   "source": [
    "boxplot('famsup')"
   ]
  },
  {
   "cell_type": "markdown",
   "metadata": {},
   "source": [
    "Коэффициент корреляции для параметров \"famsup\" и \"paid\" составляет чуть более 0,3. В случае параметра \"paid\" также много пропусков. "
   ]
  },
  {
   "cell_type": "code",
   "execution_count": 60,
   "metadata": {},
   "outputs": [
    {
     "data": {
      "text/plain": [
       "0.0    156\n",
       "1.0    130\n",
       "Name: paid, dtype: int64"
      ]
     },
     "execution_count": 60,
     "metadata": {},
     "output_type": "execute_result"
    }
   ],
   "source": [
    "score.paid.value_counts()"
   ]
  },
  {
   "cell_type": "code",
   "execution_count": 61,
   "metadata": {},
   "outputs": [
    {
     "name": "stdout",
     "output_type": "stream",
     "text": [
      "      famsup\n",
      "paid        \n",
      "0.0        0\n",
      "1.0        1\n"
     ]
    }
   ],
   "source": [
    "print(score.pivot_table(index='paid',\n",
    "                  values='famsup', aggfunc='median', fill_value=0))"
   ]
  },
  {
   "cell_type": "markdown",
   "metadata": {},
   "source": [
    "Проверим, есть ли корреляция между \"famsup\" и каким-либо другим параметром с нечисловыми значениями."
   ]
  },
  {
   "cell_type": "code",
   "execution_count": 62,
   "metadata": {},
   "outputs": [
    {
     "name": "stdout",
     "output_type": "stream",
     "text": [
      "        famsup\n",
      "school        \n",
      "GP           1\n",
      "MS           0\n",
      "     famsup\n",
      "sex        \n",
      "F         1\n",
      "M         1\n",
      "         famsup\n",
      "address        \n",
      "R             1\n",
      "U             1\n",
      "         famsup\n",
      "famsize        \n",
      "GT3           1\n",
      "LE3           1\n",
      "         famsup\n",
      "Pstatus        \n",
      "A             1\n",
      "T             1\n",
      "          famsup\n",
      "Mjob            \n",
      "at_home        1\n",
      "health         1\n",
      "other          1\n",
      "services       1\n",
      "teacher        1\n",
      "          famsup\n",
      "Fjob            \n",
      "at_home        1\n",
      "health         1\n",
      "other          1\n",
      "services       1\n",
      "teacher        1\n",
      "            famsup\n",
      "reason            \n",
      "course           1\n",
      "home             1\n",
      "other            1\n",
      "reputation       1\n",
      "          famsup\n",
      "guardian        \n",
      "father         1\n",
      "mother         1\n",
      "other          1\n"
     ]
    }
   ],
   "source": [
    "for word in ['school', 'sex', 'address', 'famsize', 'Pstatus', 'Mjob', 'Fjob', 'reason', 'guardian']:\n",
    "    print(score.pivot_table(index=[word],\n",
    "                  values='famsup', aggfunc='median', fill_value=0))"
   ]
  },
  {
   "cell_type": "markdown",
   "metadata": {},
   "source": [
    "Обнаружено, что студентам из школы GP чаще получают образовательную поддержку в семье. Можно использовать это для заполнения пропусков."
   ]
  },
  {
   "cell_type": "code",
   "execution_count": 63,
   "metadata": {},
   "outputs": [
    {
     "data": {
      "text/plain": [
       "1.0    207\n",
       "0.0    113\n",
       "Name: famsup, dtype: int64"
      ]
     },
     "execution_count": 63,
     "metadata": {},
     "output_type": "execute_result"
    }
   ],
   "source": [
    "parameter='famsup'\n",
    "fill_parameter(fill_famsup)"
   ]
  },
  {
   "cell_type": "code",
   "execution_count": 64,
   "metadata": {},
   "outputs": [
    {
     "data": {
      "text/plain": [
       "<matplotlib.axes._subplots.AxesSubplot at 0x282831e3b88>"
      ]
     },
     "execution_count": 64,
     "metadata": {},
     "output_type": "execute_result"
    },
    {
     "data": {
      "image/png": "[encoded data removed]",
      "text/plain": [
       "<Figure size 432x288 with 1 Axes>"
      ]
     },
     "metadata": {
      "needs_background": "light"
     },
     "output_type": "display_data"
    }
   ],
   "source": [
    "boxplot('famsup')"
   ]
  },
  {
   "cell_type": "markdown",
   "metadata": {},
   "source": [
    "### 10. Параметр \"paid\". Заполним пропуски на основании корреляции с параметром \"famsup\".  "
   ]
  },
  {
   "cell_type": "code",
   "execution_count": 65,
   "metadata": {},
   "outputs": [
    {
     "data": {
      "text/plain": [
       "0.0    165\n",
       "1.0    155\n",
       "Name: paid, dtype: int64"
      ]
     },
     "execution_count": 65,
     "metadata": {},
     "output_type": "execute_result"
    }
   ],
   "source": [
    "parameter='paid'\n",
    "fill_parameter(fill_paid)"
   ]
  },
  {
   "cell_type": "code",
   "execution_count": 66,
   "metadata": {},
   "outputs": [
    {
     "data": {
      "text/plain": [
       "<matplotlib.axes._subplots.AxesSubplot at 0x28284226bc8>"
      ]
     },
     "execution_count": 66,
     "metadata": {},
     "output_type": "execute_result"
    },
    {
     "data": {
      "image/png": "[encoded data removed]",
      "text/plain": [
       "<Figure size 432x288 with 1 Axes>"
      ]
     },
     "metadata": {
      "needs_background": "light"
     },
     "output_type": "display_data"
    }
   ],
   "source": [
    "boxplot('paid')"
   ]
  },
  {
   "cell_type": "markdown",
   "metadata": {},
   "source": [
    "### 11. Параметр \"activities\". Количество пропусков - 12."
   ]
  },
  {
   "cell_type": "code",
   "execution_count": 67,
   "metadata": {},
   "outputs": [
    {
     "name": "stdout",
     "output_type": "stream",
     "text": [
      "<class 'pandas.core.frame.DataFrame'>\n",
      "Int64Index: 320 entries, 0 to 394\n",
      "Data columns (total 29 columns):\n",
      " #   Column      Non-Null Count  Dtype  \n",
      "---  ------      --------------  -----  \n",
      " 0   school      320 non-null    object \n",
      " 1   sex         320 non-null    object \n",
      " 2   age         320 non-null    int64  \n",
      " 3   address     306 non-null    object \n",
      " 4   famsize     298 non-null    object \n",
      " 5   Pstatus     286 non-null    object \n",
      " 6   Medu        320 non-null    float64\n",
      " 7   Fedu        320 non-null    object \n",
      " 8   Mjob        303 non-null    object \n",
      " 9   Fjob        290 non-null    object \n",
      " 10  reason      306 non-null    object \n",
      " 11  guardian    292 non-null    object \n",
      " 12  traveltime  320 non-null    float64\n",
      " 13  studytime   320 non-null    float64\n",
      " 14  failures    320 non-null    float64\n",
      " 15  schoolsup   320 non-null    float64\n",
      " 16  famsup      320 non-null    float64\n",
      " 17  paid        320 non-null    float64\n",
      " 18  activities  308 non-null    float64\n",
      " 19  nursery     308 non-null    float64\n",
      " 20  higher      320 non-null    float64\n",
      " 21  internet    291 non-null    float64\n",
      " 22  romantic    295 non-null    float64\n",
      " 23  famrel      297 non-null    float64\n",
      " 24  freetime    313 non-null    float64\n",
      " 25  goout       314 non-null    float64\n",
      " 26  health      310 non-null    float64\n",
      " 27  absences    310 non-null    float64\n",
      " 28  score       320 non-null    float64\n",
      "dtypes: float64(18), int64(1), object(10)\n",
      "memory usage: 85.0+ KB\n"
     ]
    }
   ],
   "source": [
    "score.info()"
   ]
  },
  {
   "cell_type": "code",
   "execution_count": 68,
   "metadata": {},
   "outputs": [
    {
     "data": {
      "text/plain": [
       "1.0    154\n",
       "0.0    154\n",
       "Name: activities, dtype: int64"
      ]
     },
     "execution_count": 68,
     "metadata": {},
     "output_type": "execute_result"
    }
   ],
   "source": [
    "score.activities.value_counts()"
   ]
  },
  {
   "cell_type": "markdown",
   "metadata": {},
   "source": [
    "Значения распределены примерно равномерно. Какой-либо более или менее заметной корреляции между \"activities\" и каким-либо числовым параметром выделить нельзя. Однако, определенную зависимость можно выделить для многих параметров с нечисловыми значениям."
   ]
  },
  {
   "cell_type": "code",
   "execution_count": 69,
   "metadata": {},
   "outputs": [
    {
     "name": "stdout",
     "output_type": "stream",
     "text": [
      "        activities\n",
      "school            \n",
      "GP               1\n",
      "MS               0\n",
      "     activities\n",
      "sex            \n",
      "F             0\n",
      "M             1\n",
      "         activities\n",
      "address            \n",
      "R                 1\n",
      "U                 0\n",
      "         activities\n",
      "famsize            \n",
      "GT3               1\n",
      "LE3               0\n",
      "         activities\n",
      "Pstatus            \n",
      "A                 0\n",
      "T                 1\n",
      "          activities\n",
      "Mjob                \n",
      "at_home          0.0\n",
      "health           0.5\n",
      "other            0.0\n",
      "services         1.0\n",
      "teacher          1.0\n",
      "          activities\n",
      "Fjob                \n",
      "at_home            1\n",
      "health             1\n",
      "other              0\n",
      "services           1\n",
      "teacher            1\n",
      "            activities\n",
      "reason                \n",
      "course               0\n",
      "home                 0\n",
      "other                0\n",
      "reputation           1\n",
      "          activities\n",
      "guardian            \n",
      "father             1\n",
      "mother             1\n",
      "other              0\n"
     ]
    }
   ],
   "source": [
    "for word in ['school', 'sex', 'address', 'famsize', 'Pstatus', 'Mjob', 'Fjob', 'reason', 'guardian']:\n",
    "    print(score.pivot_table(index=[word],\n",
    "                  values='activities', aggfunc='median', fill_value=0))"
   ]
  },
  {
   "cell_type": "markdown",
   "metadata": {},
   "source": [
    "Для запонения пропусков используем корреляцию с параметром пола студента."
   ]
  },
  {
   "cell_type": "code",
   "execution_count": 70,
   "metadata": {},
   "outputs": [
    {
     "data": {
      "text/plain": [
       "1.0    160\n",
       "0.0    160\n",
       "Name: activities, dtype: int64"
      ]
     },
     "execution_count": 70,
     "metadata": {},
     "output_type": "execute_result"
    }
   ],
   "source": [
    "parameter='activities'\n",
    "fill_parameter(fill_activities)"
   ]
  },
  {
   "cell_type": "code",
   "execution_count": 71,
   "metadata": {},
   "outputs": [
    {
     "data": {
      "text/plain": [
       "<matplotlib.axes._subplots.AxesSubplot at 0x2828429ebc8>"
      ]
     },
     "execution_count": 71,
     "metadata": {},
     "output_type": "execute_result"
    },
    {
     "data": {
      "image/png": "[encoded data removed]",
      "text/plain": [
       "<Figure size 432x288 with 1 Axes>"
      ]
     },
     "metadata": {
      "needs_background": "light"
     },
     "output_type": "display_data"
    }
   ],
   "source": [
    "boxplot('activities')"
   ]
  },
  {
   "cell_type": "markdown",
   "metadata": {},
   "source": [
    "### 12. Параметр \"nursery\". Количество пропусков - 12."
   ]
  },
  {
   "cell_type": "code",
   "execution_count": 72,
   "metadata": {},
   "outputs": [
    {
     "name": "stdout",
     "output_type": "stream",
     "text": [
      "<class 'pandas.core.frame.DataFrame'>\n",
      "Int64Index: 320 entries, 0 to 394\n",
      "Data columns (total 29 columns):\n",
      " #   Column      Non-Null Count  Dtype  \n",
      "---  ------      --------------  -----  \n",
      " 0   school      320 non-null    object \n",
      " 1   sex         320 non-null    object \n",
      " 2   age         320 non-null    int64  \n",
      " 3   address     306 non-null    object \n",
      " 4   famsize     298 non-null    object \n",
      " 5   Pstatus     286 non-null    object \n",
      " 6   Medu        320 non-null    float64\n",
      " 7   Fedu        320 non-null    object \n",
      " 8   Mjob        303 non-null    object \n",
      " 9   Fjob        290 non-null    object \n",
      " 10  reason      306 non-null    object \n",
      " 11  guardian    292 non-null    object \n",
      " 12  traveltime  320 non-null    float64\n",
      " 13  studytime   320 non-null    float64\n",
      " 14  failures    320 non-null    float64\n",
      " 15  schoolsup   320 non-null    float64\n",
      " 16  famsup      320 non-null    float64\n",
      " 17  paid        320 non-null    float64\n",
      " 18  activities  320 non-null    float64\n",
      " 19  nursery     308 non-null    float64\n",
      " 20  higher      320 non-null    float64\n",
      " 21  internet    291 non-null    float64\n",
      " 22  romantic    295 non-null    float64\n",
      " 23  famrel      297 non-null    float64\n",
      " 24  freetime    313 non-null    float64\n",
      " 25  goout       314 non-null    float64\n",
      " 26  health      310 non-null    float64\n",
      " 27  absences    310 non-null    float64\n",
      " 28  score       320 non-null    float64\n",
      "dtypes: float64(18), int64(1), object(10)\n",
      "memory usage: 85.0+ KB\n"
     ]
    }
   ],
   "source": [
    "score.info()"
   ]
  },
  {
   "cell_type": "code",
   "execution_count": 73,
   "metadata": {},
   "outputs": [
    {
     "data": {
      "text/plain": [
       "1.0    246\n",
       "0.0     62\n",
       "Name: nursery, dtype: int64"
      ]
     },
     "execution_count": 73,
     "metadata": {},
     "output_type": "execute_result"
    }
   ],
   "source": [
    "score.nursery.value_counts()"
   ]
  },
  {
   "cell_type": "markdown",
   "metadata": {},
   "source": [
    "Для заполнения пропусков можно использовать корреляцию с параметром \"Medu\"."
   ]
  },
  {
   "cell_type": "code",
   "execution_count": 74,
   "metadata": {},
   "outputs": [
    {
     "data": {
      "text/html": [
       "<div>\n",
       "<style scoped>\n",
       "    .dataframe tbody tr th:only-of-type {\n",
       "        vertical-align: middle;\n",
       "    }\n",
       "\n",
       "    .dataframe tbody tr th {\n",
       "        vertical-align: top;\n",
       "    }\n",
       "\n",
       "    .dataframe thead th {\n",
       "        text-align: right;\n",
       "    }\n",
       "</style>\n",
       "<table border=\"1\" class=\"dataframe\">\n",
       "  <thead>\n",
       "    <tr style=\"text-align: right;\">\n",
       "      <th></th>\n",
       "      <th>activities</th>\n",
       "    </tr>\n",
       "    <tr>\n",
       "      <th>Medu</th>\n",
       "      <th></th>\n",
       "    </tr>\n",
       "  </thead>\n",
       "  <tbody>\n",
       "    <tr>\n",
       "      <th>0.0</th>\n",
       "      <td>0.0</td>\n",
       "    </tr>\n",
       "    <tr>\n",
       "      <th>1.0</th>\n",
       "      <td>0.0</td>\n",
       "    </tr>\n",
       "    <tr>\n",
       "      <th>2.0</th>\n",
       "      <td>0.5</td>\n",
       "    </tr>\n",
       "    <tr>\n",
       "      <th>3.0</th>\n",
       "      <td>0.0</td>\n",
       "    </tr>\n",
       "    <tr>\n",
       "      <th>4.0</th>\n",
       "      <td>1.0</td>\n",
       "    </tr>\n",
       "  </tbody>\n",
       "</table>\n",
       "</div>"
      ],
      "text/plain": [
       "      activities\n",
       "Medu            \n",
       "0.0          0.0\n",
       "1.0          0.0\n",
       "2.0          0.5\n",
       "3.0          0.0\n",
       "4.0          1.0"
      ]
     },
     "execution_count": 74,
     "metadata": {},
     "output_type": "execute_result"
    }
   ],
   "source": [
    "score.pivot_table(index=['Medu'],\n",
    "                  values='activities', aggfunc='median', fill_value=0)"
   ]
  },
  {
   "cell_type": "code",
   "execution_count": 75,
   "metadata": {},
   "outputs": [
    {
     "data": {
      "text/plain": [
       "1.0    253\n",
       "0.0     67\n",
       "Name: nursery, dtype: int64"
      ]
     },
     "execution_count": 75,
     "metadata": {},
     "output_type": "execute_result"
    }
   ],
   "source": [
    "parameter='nursery'\n",
    "fill_parameter(fill_nursery)"
   ]
  },
  {
   "cell_type": "code",
   "execution_count": 76,
   "metadata": {},
   "outputs": [
    {
     "data": {
      "text/plain": [
       "<matplotlib.axes._subplots.AxesSubplot at 0x282843239c8>"
      ]
     },
     "execution_count": 76,
     "metadata": {},
     "output_type": "execute_result"
    },
    {
     "data": {
      "image/png": "[encoded data removed]",
      "text/plain": [
       "<Figure size 432x288 with 1 Axes>"
      ]
     },
     "metadata": {
      "needs_background": "light"
     },
     "output_type": "display_data"
    }
   ],
   "source": [
    "boxplot('nursery')"
   ]
  },
  {
   "cell_type": "markdown",
   "metadata": {},
   "source": [
    "### 13. Параметр \"internet\". 29 пропусков."
   ]
  },
  {
   "cell_type": "code",
   "execution_count": 77,
   "metadata": {},
   "outputs": [
    {
     "name": "stdout",
     "output_type": "stream",
     "text": [
      "<class 'pandas.core.frame.DataFrame'>\n",
      "Int64Index: 320 entries, 0 to 394\n",
      "Data columns (total 29 columns):\n",
      " #   Column      Non-Null Count  Dtype  \n",
      "---  ------      --------------  -----  \n",
      " 0   school      320 non-null    object \n",
      " 1   sex         320 non-null    object \n",
      " 2   age         320 non-null    int64  \n",
      " 3   address     306 non-null    object \n",
      " 4   famsize     298 non-null    object \n",
      " 5   Pstatus     286 non-null    object \n",
      " 6   Medu        320 non-null    float64\n",
      " 7   Fedu        320 non-null    object \n",
      " 8   Mjob        303 non-null    object \n",
      " 9   Fjob        290 non-null    object \n",
      " 10  reason      306 non-null    object \n",
      " 11  guardian    292 non-null    object \n",
      " 12  traveltime  320 non-null    float64\n",
      " 13  studytime   320 non-null    float64\n",
      " 14  failures    320 non-null    float64\n",
      " 15  schoolsup   320 non-null    float64\n",
      " 16  famsup      320 non-null    float64\n",
      " 17  paid        320 non-null    float64\n",
      " 18  activities  320 non-null    float64\n",
      " 19  nursery     320 non-null    float64\n",
      " 20  higher      320 non-null    float64\n",
      " 21  internet    291 non-null    float64\n",
      " 22  romantic    295 non-null    float64\n",
      " 23  famrel      297 non-null    float64\n",
      " 24  freetime    313 non-null    float64\n",
      " 25  goout       314 non-null    float64\n",
      " 26  health      310 non-null    float64\n",
      " 27  absences    310 non-null    float64\n",
      " 28  score       320 non-null    float64\n",
      "dtypes: float64(18), int64(1), object(10)\n",
      "memory usage: 85.0+ KB\n"
     ]
    }
   ],
   "source": [
    "score.info()"
   ]
  },
  {
   "cell_type": "code",
   "execution_count": 78,
   "metadata": {},
   "outputs": [
    {
     "data": {
      "text/plain": [
       "1.0    246\n",
       "0.0     45\n",
       "Name: internet, dtype: int64"
      ]
     },
     "execution_count": 78,
     "metadata": {},
     "output_type": "execute_result"
    }
   ],
   "source": [
    "score.internet.value_counts()"
   ]
  },
  {
   "cell_type": "markdown",
   "metadata": {},
   "source": [
    "Какой-либо заметной корреляции между \"internet\" и другими параметрам выделить невозможно. Так как пропусковдовольно много, заменим их на \"no data\" "
   ]
  },
  {
   "cell_type": "code",
   "execution_count": 79,
   "metadata": {},
   "outputs": [
    {
     "data": {
      "text/plain": [
       "1.0        246\n",
       "0.0         45\n",
       "no data     29\n",
       "Name: internet, dtype: int64"
      ]
     },
     "execution_count": 79,
     "metadata": {},
     "output_type": "execute_result"
    }
   ],
   "source": [
    "parameter='internet'\n",
    "fill_parameter(fill_no_data)"
   ]
  },
  {
   "cell_type": "code",
   "execution_count": 80,
   "metadata": {},
   "outputs": [
    {
     "data": {
      "text/plain": [
       "<matplotlib.axes._subplots.AxesSubplot at 0x282843c10c8>"
      ]
     },
     "execution_count": 80,
     "metadata": {},
     "output_type": "execute_result"
    },
    {
     "data": {
      "image/png": "[encoded data removed]",
      "text/plain": [
       "<Figure size 432x288 with 1 Axes>"
      ]
     },
     "metadata": {
      "needs_background": "light"
     },
     "output_type": "display_data"
    }
   ],
   "source": [
    "boxplot('internet')"
   ]
  },
  {
   "cell_type": "markdown",
   "metadata": {},
   "source": [
    "### 14. Параметр \"romantic\". 25 пропусков."
   ]
  },
  {
   "cell_type": "code",
   "execution_count": 81,
   "metadata": {},
   "outputs": [
    {
     "name": "stdout",
     "output_type": "stream",
     "text": [
      "<class 'pandas.core.frame.DataFrame'>\n",
      "Int64Index: 320 entries, 0 to 394\n",
      "Data columns (total 29 columns):\n",
      " #   Column      Non-Null Count  Dtype  \n",
      "---  ------      --------------  -----  \n",
      " 0   school      320 non-null    object \n",
      " 1   sex         320 non-null    object \n",
      " 2   age         320 non-null    int64  \n",
      " 3   address     306 non-null    object \n",
      " 4   famsize     298 non-null    object \n",
      " 5   Pstatus     286 non-null    object \n",
      " 6   Medu        320 non-null    float64\n",
      " 7   Fedu        320 non-null    object \n",
      " 8   Mjob        303 non-null    object \n",
      " 9   Fjob        290 non-null    object \n",
      " 10  reason      306 non-null    object \n",
      " 11  guardian    292 non-null    object \n",
      " 12  traveltime  320 non-null    float64\n",
      " 13  studytime   320 non-null    float64\n",
      " 14  failures    320 non-null    float64\n",
      " 15  schoolsup   320 non-null    float64\n",
      " 16  famsup      320 non-null    float64\n",
      " 17  paid        320 non-null    float64\n",
      " 18  activities  320 non-null    float64\n",
      " 19  nursery     320 non-null    float64\n",
      " 20  higher      320 non-null    float64\n",
      " 21  internet    320 non-null    object \n",
      " 22  romantic    295 non-null    float64\n",
      " 23  famrel      297 non-null    float64\n",
      " 24  freetime    313 non-null    float64\n",
      " 25  goout       314 non-null    float64\n",
      " 26  health      310 non-null    float64\n",
      " 27  absences    310 non-null    float64\n",
      " 28  score       320 non-null    float64\n",
      "dtypes: float64(17), int64(1), object(11)\n",
      "memory usage: 85.0+ KB\n"
     ]
    }
   ],
   "source": [
    "score.info()"
   ]
  },
  {
   "cell_type": "code",
   "execution_count": 82,
   "metadata": {},
   "outputs": [
    {
     "data": {
      "text/plain": [
       "0.0    200\n",
       "1.0     95\n",
       "Name: romantic, dtype: int64"
      ]
     },
     "execution_count": 82,
     "metadata": {},
     "output_type": "execute_result"
    }
   ],
   "source": [
    "score.romantic.value_counts()"
   ]
  },
  {
   "cell_type": "markdown",
   "metadata": {},
   "source": [
    "Ситуация аналогично предыдущему параметру. Заполним пропуски значением \"no data\"."
   ]
  },
  {
   "cell_type": "code",
   "execution_count": 83,
   "metadata": {},
   "outputs": [
    {
     "data": {
      "text/plain": [
       "0.0        200\n",
       "1.0         95\n",
       "no data     25\n",
       "Name: romantic, dtype: int64"
      ]
     },
     "execution_count": 83,
     "metadata": {},
     "output_type": "execute_result"
    }
   ],
   "source": [
    "parameter='romantic'\n",
    "fill_parameter(fill_no_data)"
   ]
  },
  {
   "cell_type": "code",
   "execution_count": 84,
   "metadata": {},
   "outputs": [
    {
     "data": {
      "text/plain": [
       "<matplotlib.axes._subplots.AxesSubplot at 0x2828445a748>"
      ]
     },
     "execution_count": 84,
     "metadata": {},
     "output_type": "execute_result"
    },
    {
     "data": {
      "image/png": "[encoded data removed]",
      "text/plain": [
       "<Figure size 432x288 with 1 Axes>"
      ]
     },
     "metadata": {
      "needs_background": "light"
     },
     "output_type": "display_data"
    }
   ],
   "source": [
    "boxplot('romantic')"
   ]
  },
  {
   "cell_type": "markdown",
   "metadata": {},
   "source": [
    "### 15. Параметр \"famrel\". 23 пропуска."
   ]
  },
  {
   "cell_type": "code",
   "execution_count": 85,
   "metadata": {},
   "outputs": [
    {
     "name": "stdout",
     "output_type": "stream",
     "text": [
      "<class 'pandas.core.frame.DataFrame'>\n",
      "Int64Index: 320 entries, 0 to 394\n",
      "Data columns (total 29 columns):\n",
      " #   Column      Non-Null Count  Dtype  \n",
      "---  ------      --------------  -----  \n",
      " 0   school      320 non-null    object \n",
      " 1   sex         320 non-null    object \n",
      " 2   age         320 non-null    int64  \n",
      " 3   address     306 non-null    object \n",
      " 4   famsize     298 non-null    object \n",
      " 5   Pstatus     286 non-null    object \n",
      " 6   Medu        320 non-null    float64\n",
      " 7   Fedu        320 non-null    object \n",
      " 8   Mjob        303 non-null    object \n",
      " 9   Fjob        290 non-null    object \n",
      " 10  reason      306 non-null    object \n",
      " 11  guardian    292 non-null    object \n",
      " 12  traveltime  320 non-null    float64\n",
      " 13  studytime   320 non-null    float64\n",
      " 14  failures    320 non-null    float64\n",
      " 15  schoolsup   320 non-null    float64\n",
      " 16  famsup      320 non-null    float64\n",
      " 17  paid        320 non-null    float64\n",
      " 18  activities  320 non-null    float64\n",
      " 19  nursery     320 non-null    float64\n",
      " 20  higher      320 non-null    float64\n",
      " 21  internet    320 non-null    object \n",
      " 22  romantic    320 non-null    object \n",
      " 23  famrel      297 non-null    float64\n",
      " 24  freetime    313 non-null    float64\n",
      " 25  goout       314 non-null    float64\n",
      " 26  health      310 non-null    float64\n",
      " 27  absences    310 non-null    float64\n",
      " 28  score       320 non-null    float64\n",
      "dtypes: float64(16), int64(1), object(12)\n",
      "memory usage: 85.0+ KB\n"
     ]
    }
   ],
   "source": [
    "score.info()"
   ]
  },
  {
   "cell_type": "code",
   "execution_count": 86,
   "metadata": {},
   "outputs": [
    {
     "data": {
      "text/plain": [
       " 4.0    148\n",
       " 5.0     78\n",
       " 3.0     52\n",
       " 2.0     14\n",
       " 1.0      4\n",
       "-1.0      1\n",
       "Name: famrel, dtype: int64"
      ]
     },
     "execution_count": 86,
     "metadata": {},
     "output_type": "execute_result"
    }
   ],
   "source": [
    "score.famrel.value_counts()"
   ]
  },
  {
   "cell_type": "markdown",
   "metadata": {},
   "source": [
    "Здесь одно из значений не входит в предполагаемый диапазон, и скорее всего является опиской, и должно быть равно 1. Такжепропуски можно заполнить медианным значением."
   ]
  },
  {
   "cell_type": "code",
   "execution_count": 87,
   "metadata": {},
   "outputs": [],
   "source": [
    "def fill_famrel(row):\n",
    "    if row['famrel'] == (-1):\n",
    "        return 1\n",
    "    return row['famrel']\n",
    "\n",
    "\n",
    "score['famrel'] = score.apply(fill_famrel, axis=1)"
   ]
  },
  {
   "cell_type": "code",
   "execution_count": 88,
   "metadata": {},
   "outputs": [
    {
     "data": {
      "text/plain": [
       "<matplotlib.axes._subplots.AxesSubplot at 0x282844e3b48>"
      ]
     },
     "execution_count": 88,
     "metadata": {},
     "output_type": "execute_result"
    },
    {
     "data": {
      "image/png": "[encoded data removed]",
      "text/plain": [
       "<Figure size 432x288 with 1 Axes>"
      ]
     },
     "metadata": {
      "needs_background": "light"
     },
     "output_type": "display_data"
    }
   ],
   "source": [
    "sns.boxplot(x='famrel', data=score)"
   ]
  },
  {
   "cell_type": "code",
   "execution_count": 89,
   "metadata": {},
   "outputs": [],
   "source": [
    "score.drop(del_emissions('famrel'), inplace=True, axis=0)"
   ]
  },
  {
   "cell_type": "code",
   "execution_count": 90,
   "metadata": {},
   "outputs": [
    {
     "data": {
      "text/plain": [
       "4.0    171\n",
       "5.0     78\n",
       "3.0     52\n",
       "Name: famrel, dtype: int64"
      ]
     },
     "execution_count": 90,
     "metadata": {},
     "output_type": "execute_result"
    }
   ],
   "source": [
    "parameter='famrel'\n",
    "fill_parameter(fill_median)"
   ]
  },
  {
   "cell_type": "code",
   "execution_count": 91,
   "metadata": {},
   "outputs": [
    {
     "data": {
      "text/plain": [
       "<matplotlib.axes._subplots.AxesSubplot at 0x2828455b608>"
      ]
     },
     "execution_count": 91,
     "metadata": {},
     "output_type": "execute_result"
    },
    {
     "data": {
      "image/png": "[encoded data removed]",
      "text/plain": [
       "<Figure size 432x288 with 1 Axes>"
      ]
     },
     "metadata": {
      "needs_background": "light"
     },
     "output_type": "display_data"
    }
   ],
   "source": [
    "boxplot('famrel')"
   ]
  },
  {
   "cell_type": "markdown",
   "metadata": {},
   "source": [
    "### 16. Параметр \"freetime\". Количество пропусков - 7."
   ]
  },
  {
   "cell_type": "code",
   "execution_count": 92,
   "metadata": {},
   "outputs": [
    {
     "name": "stdout",
     "output_type": "stream",
     "text": [
      "<class 'pandas.core.frame.DataFrame'>\n",
      "Int64Index: 301 entries, 0 to 394\n",
      "Data columns (total 29 columns):\n",
      " #   Column      Non-Null Count  Dtype  \n",
      "---  ------      --------------  -----  \n",
      " 0   school      301 non-null    object \n",
      " 1   sex         301 non-null    object \n",
      " 2   age         301 non-null    int64  \n",
      " 3   address     287 non-null    object \n",
      " 4   famsize     280 non-null    object \n",
      " 5   Pstatus     269 non-null    object \n",
      " 6   Medu        301 non-null    float64\n",
      " 7   Fedu        301 non-null    object \n",
      " 8   Mjob        285 non-null    object \n",
      " 9   Fjob        272 non-null    object \n",
      " 10  reason      288 non-null    object \n",
      " 11  guardian    275 non-null    object \n",
      " 12  traveltime  301 non-null    float64\n",
      " 13  studytime   301 non-null    float64\n",
      " 14  failures    301 non-null    float64\n",
      " 15  schoolsup   301 non-null    float64\n",
      " 16  famsup      301 non-null    float64\n",
      " 17  paid        301 non-null    float64\n",
      " 18  activities  301 non-null    float64\n",
      " 19  nursery     301 non-null    float64\n",
      " 20  higher      301 non-null    float64\n",
      " 21  internet    301 non-null    object \n",
      " 22  romantic    301 non-null    object \n",
      " 23  famrel      301 non-null    float64\n",
      " 24  freetime    294 non-null    float64\n",
      " 25  goout       295 non-null    float64\n",
      " 26  health      291 non-null    float64\n",
      " 27  absences    291 non-null    float64\n",
      " 28  score       301 non-null    float64\n",
      "dtypes: float64(16), int64(1), object(12)\n",
      "memory usage: 80.5+ KB\n"
     ]
    }
   ],
   "source": [
    "score.info()"
   ]
  },
  {
   "cell_type": "code",
   "execution_count": 93,
   "metadata": {},
   "outputs": [
    {
     "data": {
      "text/plain": [
       "3.0    112\n",
       "4.0     92\n",
       "2.0     49\n",
       "5.0     29\n",
       "1.0     12\n",
       "Name: freetime, dtype: int64"
      ]
     },
     "execution_count": 93,
     "metadata": {},
     "output_type": "execute_result"
    }
   ],
   "source": [
    "score.freetime.value_counts()"
   ]
  },
  {
   "cell_type": "code",
   "execution_count": 94,
   "metadata": {},
   "outputs": [
    {
     "data": {
      "text/plain": [
       "<matplotlib.axes._subplots.AxesSubplot at 0x282845ff988>"
      ]
     },
     "execution_count": 94,
     "metadata": {},
     "output_type": "execute_result"
    },
    {
     "data": {
      "image/png": "[encoded data removed]",
      "text/plain": [
       "<Figure size 432x288 with 1 Axes>"
      ]
     },
     "metadata": {
      "needs_background": "light"
     },
     "output_type": "display_data"
    }
   ],
   "source": [
    "sns.boxplot(x='freetime', data=score)"
   ]
  },
  {
   "cell_type": "code",
   "execution_count": 95,
   "metadata": {},
   "outputs": [],
   "source": [
    "score.drop(del_emissions('freetime'), inplace=True, axis=0)"
   ]
  },
  {
   "cell_type": "markdown",
   "metadata": {},
   "source": [
    "Заполним пропуски медианным значением."
   ]
  },
  {
   "cell_type": "code",
   "execution_count": 96,
   "metadata": {},
   "outputs": [
    {
     "data": {
      "text/plain": [
       "3.0    119\n",
       "4.0     92\n",
       "2.0     49\n",
       "5.0     29\n",
       "Name: freetime, dtype: int64"
      ]
     },
     "execution_count": 96,
     "metadata": {},
     "output_type": "execute_result"
    }
   ],
   "source": [
    "parameter='freetime'\n",
    "fill_parameter(fill_median)"
   ]
  },
  {
   "cell_type": "code",
   "execution_count": 97,
   "metadata": {},
   "outputs": [
    {
     "data": {
      "text/plain": [
       "<matplotlib.axes._subplots.AxesSubplot at 0x282845e5948>"
      ]
     },
     "execution_count": 97,
     "metadata": {},
     "output_type": "execute_result"
    },
    {
     "data": {
      "image/png": "[encoded data removed]",
      "text/plain": [
       "<Figure size 432x288 with 1 Axes>"
      ]
     },
     "metadata": {
      "needs_background": "light"
     },
     "output_type": "display_data"
    }
   ],
   "source": [
    "boxplot('freetime')"
   ]
  },
  {
   "cell_type": "markdown",
   "metadata": {},
   "source": [
    "### 17. Параметр \"goout\". 5 пропусков."
   ]
  },
  {
   "cell_type": "code",
   "execution_count": 98,
   "metadata": {},
   "outputs": [
    {
     "name": "stdout",
     "output_type": "stream",
     "text": [
      "<class 'pandas.core.frame.DataFrame'>\n",
      "Int64Index: 289 entries, 0 to 394\n",
      "Data columns (total 29 columns):\n",
      " #   Column      Non-Null Count  Dtype  \n",
      "---  ------      --------------  -----  \n",
      " 0   school      289 non-null    object \n",
      " 1   sex         289 non-null    object \n",
      " 2   age         289 non-null    int64  \n",
      " 3   address     275 non-null    object \n",
      " 4   famsize     268 non-null    object \n",
      " 5   Pstatus     259 non-null    object \n",
      " 6   Medu        289 non-null    float64\n",
      " 7   Fedu        289 non-null    object \n",
      " 8   Mjob        274 non-null    object \n",
      " 9   Fjob        261 non-null    object \n",
      " 10  reason      277 non-null    object \n",
      " 11  guardian    263 non-null    object \n",
      " 12  traveltime  289 non-null    float64\n",
      " 13  studytime   289 non-null    float64\n",
      " 14  failures    289 non-null    float64\n",
      " 15  schoolsup   289 non-null    float64\n",
      " 16  famsup      289 non-null    float64\n",
      " 17  paid        289 non-null    float64\n",
      " 18  activities  289 non-null    float64\n",
      " 19  nursery     289 non-null    float64\n",
      " 20  higher      289 non-null    float64\n",
      " 21  internet    289 non-null    object \n",
      " 22  romantic    289 non-null    object \n",
      " 23  famrel      289 non-null    float64\n",
      " 24  freetime    289 non-null    float64\n",
      " 25  goout       284 non-null    float64\n",
      " 26  health      280 non-null    float64\n",
      " 27  absences    279 non-null    float64\n",
      " 28  score       289 non-null    float64\n",
      "dtypes: float64(16), int64(1), object(12)\n",
      "memory usage: 77.7+ KB\n"
     ]
    }
   ],
   "source": [
    "score.info()"
   ]
  },
  {
   "cell_type": "code",
   "execution_count": 99,
   "metadata": {},
   "outputs": [
    {
     "data": {
      "text/plain": [
       "3.0    99\n",
       "2.0    72\n",
       "4.0    67\n",
       "5.0    31\n",
       "1.0    15\n",
       "Name: goout, dtype: int64"
      ]
     },
     "execution_count": 99,
     "metadata": {},
     "output_type": "execute_result"
    }
   ],
   "source": [
    "score.goout.value_counts()"
   ]
  },
  {
   "cell_type": "code",
   "execution_count": 100,
   "metadata": {},
   "outputs": [
    {
     "data": {
      "text/plain": [
       "<matplotlib.axes._subplots.AxesSubplot at 0x2828471cfc8>"
      ]
     },
     "execution_count": 100,
     "metadata": {},
     "output_type": "execute_result"
    },
    {
     "data": {
      "image/png": "[encoded data removed]",
      "text/plain": [
       "<Figure size 432x288 with 1 Axes>"
      ]
     },
     "metadata": {
      "needs_background": "light"
     },
     "output_type": "display_data"
    }
   ],
   "source": [
    "sns.boxplot(x='goout', data=score)"
   ]
  },
  {
   "cell_type": "markdown",
   "metadata": {},
   "source": [
    "Здесь также заполним пропуски медианным значением."
   ]
  },
  {
   "cell_type": "code",
   "execution_count": 101,
   "metadata": {},
   "outputs": [
    {
     "data": {
      "text/plain": [
       "3.0    104\n",
       "2.0     72\n",
       "4.0     67\n",
       "5.0     31\n",
       "1.0     15\n",
       "Name: goout, dtype: int64"
      ]
     },
     "execution_count": 101,
     "metadata": {},
     "output_type": "execute_result"
    }
   ],
   "source": [
    "parameter='goout'\n",
    "fill_parameter(fill_median)"
   ]
  },
  {
   "cell_type": "code",
   "execution_count": 102,
   "metadata": {},
   "outputs": [
    {
     "data": {
      "text/plain": [
       "<matplotlib.axes._subplots.AxesSubplot at 0x28284713108>"
      ]
     },
     "execution_count": 102,
     "metadata": {},
     "output_type": "execute_result"
    },
    {
     "data": {
      "image/png": "[encoded data removed]",
      "text/plain": [
       "<Figure size 432x288 with 1 Axes>"
      ]
     },
     "metadata": {
      "needs_background": "light"
     },
     "output_type": "display_data"
    }
   ],
   "source": [
    "boxplot('goout')"
   ]
  },
  {
   "cell_type": "markdown",
   "metadata": {},
   "source": [
    "### 18. Параметр \"health\". 9 пропусков."
   ]
  },
  {
   "cell_type": "code",
   "execution_count": 103,
   "metadata": {},
   "outputs": [
    {
     "name": "stdout",
     "output_type": "stream",
     "text": [
      "<class 'pandas.core.frame.DataFrame'>\n",
      "Int64Index: 289 entries, 0 to 394\n",
      "Data columns (total 29 columns):\n",
      " #   Column      Non-Null Count  Dtype  \n",
      "---  ------      --------------  -----  \n",
      " 0   school      289 non-null    object \n",
      " 1   sex         289 non-null    object \n",
      " 2   age         289 non-null    int64  \n",
      " 3   address     275 non-null    object \n",
      " 4   famsize     268 non-null    object \n",
      " 5   Pstatus     259 non-null    object \n",
      " 6   Medu        289 non-null    float64\n",
      " 7   Fedu        289 non-null    object \n",
      " 8   Mjob        274 non-null    object \n",
      " 9   Fjob        261 non-null    object \n",
      " 10  reason      277 non-null    object \n",
      " 11  guardian    263 non-null    object \n",
      " 12  traveltime  289 non-null    float64\n",
      " 13  studytime   289 non-null    float64\n",
      " 14  failures    289 non-null    float64\n",
      " 15  schoolsup   289 non-null    float64\n",
      " 16  famsup      289 non-null    float64\n",
      " 17  paid        289 non-null    float64\n",
      " 18  activities  289 non-null    float64\n",
      " 19  nursery     289 non-null    float64\n",
      " 20  higher      289 non-null    float64\n",
      " 21  internet    289 non-null    object \n",
      " 22  romantic    289 non-null    object \n",
      " 23  famrel      289 non-null    float64\n",
      " 24  freetime    289 non-null    float64\n",
      " 25  goout       289 non-null    float64\n",
      " 26  health      280 non-null    float64\n",
      " 27  absences    279 non-null    float64\n",
      " 28  score       289 non-null    float64\n",
      "dtypes: float64(16), int64(1), object(12)\n",
      "memory usage: 77.7+ KB\n"
     ]
    }
   ],
   "source": [
    "score.info()"
   ]
  },
  {
   "cell_type": "code",
   "execution_count": 104,
   "metadata": {},
   "outputs": [
    {
     "data": {
      "text/plain": [
       "5.0    107\n",
       "3.0     65\n",
       "4.0     45\n",
       "1.0     33\n",
       "2.0     30\n",
       "Name: health, dtype: int64"
      ]
     },
     "execution_count": 104,
     "metadata": {},
     "output_type": "execute_result"
    }
   ],
   "source": [
    "score.health.value_counts()"
   ]
  },
  {
   "cell_type": "code",
   "execution_count": 105,
   "metadata": {},
   "outputs": [
    {
     "data": {
      "text/plain": [
       "<matplotlib.axes._subplots.AxesSubplot at 0x28284850ac8>"
      ]
     },
     "execution_count": 105,
     "metadata": {},
     "output_type": "execute_result"
    },
    {
     "data": {
      "image/png": "[encoded data removed]",
      "text/plain": [
       "<Figure size 432x288 with 1 Axes>"
      ]
     },
     "metadata": {
      "needs_background": "light"
     },
     "output_type": "display_data"
    }
   ],
   "source": [
    "score.health.hist(bins=5)"
   ]
  },
  {
   "cell_type": "code",
   "execution_count": 106,
   "metadata": {},
   "outputs": [
    {
     "data": {
      "text/plain": [
       "<matplotlib.axes._subplots.AxesSubplot at 0x282848b8508>"
      ]
     },
     "execution_count": 106,
     "metadata": {},
     "output_type": "execute_result"
    },
    {
     "data": {
      "image/png": "[encoded data removed]",
      "text/plain": [
       "<Figure size 432x288 with 1 Axes>"
      ]
     },
     "metadata": {
      "needs_background": "light"
     },
     "output_type": "display_data"
    }
   ],
   "source": [
    "sns.boxplot(x='health', data=score)"
   ]
  },
  {
   "cell_type": "code",
   "execution_count": 107,
   "metadata": {},
   "outputs": [
    {
     "data": {
      "text/plain": [
       "4.0"
      ]
     },
     "execution_count": 107,
     "metadata": {},
     "output_type": "execute_result"
    }
   ],
   "source": [
    "score.health.median()"
   ]
  },
  {
   "cell_type": "markdown",
   "metadata": {},
   "source": [
    "Медианное значение в данном случае не совпадает с максимальным, поэтому пропуски лучше заменить \"no date\"."
   ]
  },
  {
   "cell_type": "code",
   "execution_count": 108,
   "metadata": {},
   "outputs": [
    {
     "data": {
      "text/plain": [
       "5.0        107\n",
       "3.0         65\n",
       "4.0         45\n",
       "1.0         33\n",
       "2.0         30\n",
       "no data      9\n",
       "Name: health, dtype: int64"
      ]
     },
     "execution_count": 108,
     "metadata": {},
     "output_type": "execute_result"
    }
   ],
   "source": [
    "parameter='health'\n",
    "fill_parameter(fill_no_data)"
   ]
  },
  {
   "cell_type": "code",
   "execution_count": 109,
   "metadata": {},
   "outputs": [
    {
     "data": {
      "text/plain": [
       "<matplotlib.axes._subplots.AxesSubplot at 0x28284935088>"
      ]
     },
     "execution_count": 109,
     "metadata": {},
     "output_type": "execute_result"
    },
    {
     "data": {
      "image/png": "[encoded data removed]",
      "text/plain": [
       "<Figure size 432x288 with 1 Axes>"
      ]
     },
     "metadata": {
      "needs_background": "light"
     },
     "output_type": "display_data"
    }
   ],
   "source": [
    "boxplot('health')"
   ]
  },
  {
   "cell_type": "markdown",
   "metadata": {},
   "source": [
    "### 19. Параметр \"absences\". 10 пропусков. Так как значений много посмотрим распределение значений по группам."
   ]
  },
  {
   "cell_type": "code",
   "execution_count": 110,
   "metadata": {},
   "outputs": [
    {
     "name": "stdout",
     "output_type": "stream",
     "text": [
      "<class 'pandas.core.frame.DataFrame'>\n",
      "Int64Index: 289 entries, 0 to 394\n",
      "Data columns (total 29 columns):\n",
      " #   Column      Non-Null Count  Dtype  \n",
      "---  ------      --------------  -----  \n",
      " 0   school      289 non-null    object \n",
      " 1   sex         289 non-null    object \n",
      " 2   age         289 non-null    int64  \n",
      " 3   address     275 non-null    object \n",
      " 4   famsize     268 non-null    object \n",
      " 5   Pstatus     259 non-null    object \n",
      " 6   Medu        289 non-null    float64\n",
      " 7   Fedu        289 non-null    object \n",
      " 8   Mjob        274 non-null    object \n",
      " 9   Fjob        261 non-null    object \n",
      " 10  reason      277 non-null    object \n",
      " 11  guardian    263 non-null    object \n",
      " 12  traveltime  289 non-null    float64\n",
      " 13  studytime   289 non-null    float64\n",
      " 14  failures    289 non-null    float64\n",
      " 15  schoolsup   289 non-null    float64\n",
      " 16  famsup      289 non-null    float64\n",
      " 17  paid        289 non-null    float64\n",
      " 18  activities  289 non-null    float64\n",
      " 19  nursery     289 non-null    float64\n",
      " 20  higher      289 non-null    float64\n",
      " 21  internet    289 non-null    object \n",
      " 22  romantic    289 non-null    object \n",
      " 23  famrel      289 non-null    float64\n",
      " 24  freetime    289 non-null    float64\n",
      " 25  goout       289 non-null    float64\n",
      " 26  health      289 non-null    object \n",
      " 27  absences    279 non-null    float64\n",
      " 28  score       289 non-null    float64\n",
      "dtypes: float64(15), int64(1), object(13)\n",
      "memory usage: 77.7+ KB\n"
     ]
    }
   ],
   "source": [
    "score.info()"
   ]
  },
  {
   "cell_type": "code",
   "execution_count": 111,
   "metadata": {},
   "outputs": [
    {
     "data": {
      "text/plain": [
       "(-0.213, 26.5]    273\n",
       "(26.5, 53.0]        3\n",
       "(53.0, 79.5]        2\n",
       "(185.5, 212.0]      1\n",
       "(159.0, 185.5]      0\n",
       "(132.5, 159.0]      0\n",
       "(106.0, 132.5]      0\n",
       "(79.5, 106.0]       0\n",
       "Name: absences, dtype: int64"
      ]
     },
     "execution_count": 111,
     "metadata": {},
     "output_type": "execute_result"
    }
   ],
   "source": [
    "score.absences.value_counts(bins=8)"
   ]
  },
  {
   "cell_type": "markdown",
   "metadata": {},
   "source": [
    "Обнаружено, что абсолютное большинство студентов имеют менее 50 пропусков. Рассмотрим детальнее. "
   ]
  },
  {
   "cell_type": "code",
   "execution_count": 112,
   "metadata": {},
   "outputs": [
    {
     "data": {
      "text/plain": [
       "(-0.024, 2.875]    118\n",
       "(2.875, 5.75]       54\n",
       "(5.75, 8.625]       39\n",
       "(11.5, 14.375]      19\n",
       "(8.625, 11.5]       19\n",
       "(17.25, 20.125]      9\n",
       "(14.375, 17.25]      8\n",
       "(20.125, 23.0]       4\n",
       "Name: absences, dtype: int64"
      ]
     },
     "execution_count": 112,
     "metadata": {},
     "output_type": "execute_result"
    }
   ],
   "source": [
    "score[score.absences<24].absences.value_counts(bins=8)"
   ]
  },
  {
   "cell_type": "code",
   "execution_count": 113,
   "metadata": {},
   "outputs": [
    {
     "data": {
      "text/plain": [
       "4.0"
      ]
     },
     "execution_count": 113,
     "metadata": {},
     "output_type": "execute_result"
    }
   ],
   "source": [
    "score.absences.median()"
   ]
  },
  {
   "cell_type": "code",
   "execution_count": 114,
   "metadata": {},
   "outputs": [
    {
     "data": {
      "text/plain": [
       "<matplotlib.axes._subplots.AxesSubplot at 0x28284a24a88>"
      ]
     },
     "execution_count": 114,
     "metadata": {},
     "output_type": "execute_result"
    },
    {
     "data": {
      "image/png": "[encoded data removed]",
      "text/plain": [
       "<Figure size 432x288 with 1 Axes>"
      ]
     },
     "metadata": {
      "needs_background": "light"
     },
     "output_type": "display_data"
    }
   ],
   "source": [
    "sns.boxplot(x='absences', data=score)"
   ]
  },
  {
   "cell_type": "markdown",
   "metadata": {},
   "source": [
    "Наблюдается большое количество выбросов, причем медианное значение довольно низкое. Удалив все пропуски, можно потерять большое количество информации, между тем из предварительного корреляционного анализа видна очень слабая корреляция, поэтому эту колонку учитывать не будем."
   ]
  },
  {
   "cell_type": "code",
   "execution_count": 115,
   "metadata": {},
   "outputs": [],
   "source": [
    "score.drop('absences', inplace=True, axis=1)"
   ]
  },
  {
   "cell_type": "markdown",
   "metadata": {},
   "source": [
    "### 20. Параметр \"school\". Пропусков нет."
   ]
  },
  {
   "cell_type": "code",
   "execution_count": 116,
   "metadata": {},
   "outputs": [
    {
     "data": {
      "text/plain": [
       "GP    253\n",
       "MS     36\n",
       "Name: school, dtype: int64"
      ]
     },
     "execution_count": 116,
     "metadata": {},
     "output_type": "execute_result"
    }
   ],
   "source": [
    "score.school.value_counts()"
   ]
  },
  {
   "cell_type": "code",
   "execution_count": 117,
   "metadata": {},
   "outputs": [
    {
     "data": {
      "text/plain": [
       "<matplotlib.axes._subplots.AxesSubplot at 0x282849f2e48>"
      ]
     },
     "metadata": {},
     "output_type": "display_data"
    },
    {
     "data": {
      "image/png": "[encoded data removed]",
      "text/plain": [
       "<Figure size 432x288 with 1 Axes>"
      ]
     },
     "metadata": {
      "needs_background": "light"
     },
     "output_type": "display_data"
    }
   ],
   "source": [
    "display(boxplot('school'))"
   ]
  },
  {
   "cell_type": "markdown",
   "metadata": {},
   "source": [
    "### 21. Параметр \"address\"."
   ]
  },
  {
   "cell_type": "code",
   "execution_count": 118,
   "metadata": {},
   "outputs": [
    {
     "name": "stdout",
     "output_type": "stream",
     "text": [
      "<class 'pandas.core.frame.DataFrame'>\n",
      "Int64Index: 289 entries, 0 to 394\n",
      "Data columns (total 28 columns):\n",
      " #   Column      Non-Null Count  Dtype  \n",
      "---  ------      --------------  -----  \n",
      " 0   school      289 non-null    object \n",
      " 1   sex         289 non-null    object \n",
      " 2   age         289 non-null    int64  \n",
      " 3   address     275 non-null    object \n",
      " 4   famsize     268 non-null    object \n",
      " 5   Pstatus     259 non-null    object \n",
      " 6   Medu        289 non-null    float64\n",
      " 7   Fedu        289 non-null    object \n",
      " 8   Mjob        274 non-null    object \n",
      " 9   Fjob        261 non-null    object \n",
      " 10  reason      277 non-null    object \n",
      " 11  guardian    263 non-null    object \n",
      " 12  traveltime  289 non-null    float64\n",
      " 13  studytime   289 non-null    float64\n",
      " 14  failures    289 non-null    float64\n",
      " 15  schoolsup   289 non-null    float64\n",
      " 16  famsup      289 non-null    float64\n",
      " 17  paid        289 non-null    float64\n",
      " 18  activities  289 non-null    float64\n",
      " 19  nursery     289 non-null    float64\n",
      " 20  higher      289 non-null    float64\n",
      " 21  internet    289 non-null    object \n",
      " 22  romantic    289 non-null    object \n",
      " 23  famrel      289 non-null    float64\n",
      " 24  freetime    289 non-null    float64\n",
      " 25  goout       289 non-null    float64\n",
      " 26  health      289 non-null    object \n",
      " 27  score       289 non-null    float64\n",
      "dtypes: float64(14), int64(1), object(13)\n",
      "memory usage: 75.5+ KB\n"
     ]
    }
   ],
   "source": [
    "score.info()"
   ]
  },
  {
   "cell_type": "code",
   "execution_count": 119,
   "metadata": {},
   "outputs": [
    {
     "data": {
      "text/plain": [
       "U    229\n",
       "R     60\n",
       "Name: address, dtype: int64"
      ]
     },
     "execution_count": 119,
     "metadata": {},
     "output_type": "execute_result"
    }
   ],
   "source": [
    "parameter='address'\n",
    "fill_parameter(fill_address)"
   ]
  },
  {
   "cell_type": "code",
   "execution_count": 120,
   "metadata": {},
   "outputs": [
    {
     "data": {
      "text/plain": [
       "<matplotlib.axes._subplots.AxesSubplot at 0x28284b03448>"
      ]
     },
     "execution_count": 120,
     "metadata": {},
     "output_type": "execute_result"
    },
    {
     "data": {
      "image/png": "[encoded data removed]",
      "text/plain": [
       "<Figure size 432x288 with 1 Axes>"
      ]
     },
     "metadata": {
      "needs_background": "light"
     },
     "output_type": "display_data"
    }
   ],
   "source": [
    "boxplot('address')"
   ]
  },
  {
   "cell_type": "markdown",
   "metadata": {},
   "source": [
    "### 22. Параметр \"famsize\". 21 пропуск."
   ]
  },
  {
   "cell_type": "code",
   "execution_count": 121,
   "metadata": {},
   "outputs": [
    {
     "data": {
      "text/plain": [
       "GT3    189\n",
       "LE3     79\n",
       "Name: famsize, dtype: int64"
      ]
     },
     "execution_count": 121,
     "metadata": {},
     "output_type": "execute_result"
    }
   ],
   "source": [
    "score.famsize.value_counts()"
   ]
  },
  {
   "cell_type": "markdown",
   "metadata": {},
   "source": [
    "Заполним пропуски значением \"no data\"."
   ]
  },
  {
   "cell_type": "code",
   "execution_count": 122,
   "metadata": {},
   "outputs": [
    {
     "data": {
      "text/plain": [
       "GT3        189\n",
       "LE3         79\n",
       "no data     21\n",
       "Name: famsize, dtype: int64"
      ]
     },
     "execution_count": 122,
     "metadata": {},
     "output_type": "execute_result"
    }
   ],
   "source": [
    "parameter='famsize'\n",
    "fill_parameter(fill_no_data)"
   ]
  },
  {
   "cell_type": "code",
   "execution_count": 123,
   "metadata": {},
   "outputs": [
    {
     "data": {
      "text/plain": [
       "<matplotlib.axes._subplots.AxesSubplot at 0x28284b73488>"
      ]
     },
     "execution_count": 123,
     "metadata": {},
     "output_type": "execute_result"
    },
    {
     "data": {
      "image/png": "[encoded data removed]",
      "text/plain": [
       "<Figure size 432x288 with 1 Axes>"
      ]
     },
     "metadata": {
      "needs_background": "light"
     },
     "output_type": "display_data"
    }
   ],
   "source": [
    "boxplot('famsize')"
   ]
  },
  {
   "cell_type": "markdown",
   "metadata": {},
   "source": [
    "### 23. Параметр \"Pstatus\". Также много пропусков, заполним пропуски аналогично предыдущему параметру."
   ]
  },
  {
   "cell_type": "code",
   "execution_count": 124,
   "metadata": {},
   "outputs": [
    {
     "data": {
      "text/plain": [
       "T          233\n",
       "no data     30\n",
       "A           26\n",
       "Name: Pstatus, dtype: int64"
      ]
     },
     "execution_count": 124,
     "metadata": {},
     "output_type": "execute_result"
    }
   ],
   "source": [
    "parameter='Pstatus'\n",
    "fill_parameter(fill_no_data)"
   ]
  },
  {
   "cell_type": "code",
   "execution_count": 125,
   "metadata": {},
   "outputs": [
    {
     "data": {
      "text/plain": [
       "<matplotlib.axes._subplots.AxesSubplot at 0x28284c13988>"
      ]
     },
     "execution_count": 125,
     "metadata": {},
     "output_type": "execute_result"
    },
    {
     "data": {
      "image/png": "[encoded data removed]",
      "text/plain": [
       "<Figure size 432x288 with 1 Axes>"
      ]
     },
     "metadata": {
      "needs_background": "light"
     },
     "output_type": "display_data"
    }
   ],
   "source": [
    "boxplot('Pstatus')"
   ]
  },
  {
   "cell_type": "markdown",
   "metadata": {},
   "source": [
    "### 24. Параметр \"Mjob\". 15 пропусков заполним значением \"no data\"."
   ]
  },
  {
   "cell_type": "code",
   "execution_count": 126,
   "metadata": {},
   "outputs": [
    {
     "name": "stdout",
     "output_type": "stream",
     "text": [
      "<class 'pandas.core.frame.DataFrame'>\n",
      "Int64Index: 289 entries, 0 to 394\n",
      "Data columns (total 28 columns):\n",
      " #   Column      Non-Null Count  Dtype  \n",
      "---  ------      --------------  -----  \n",
      " 0   school      289 non-null    object \n",
      " 1   sex         289 non-null    object \n",
      " 2   age         289 non-null    int64  \n",
      " 3   address     289 non-null    object \n",
      " 4   famsize     289 non-null    object \n",
      " 5   Pstatus     289 non-null    object \n",
      " 6   Medu        289 non-null    float64\n",
      " 7   Fedu        289 non-null    object \n",
      " 8   Mjob        274 non-null    object \n",
      " 9   Fjob        261 non-null    object \n",
      " 10  reason      277 non-null    object \n",
      " 11  guardian    263 non-null    object \n",
      " 12  traveltime  289 non-null    float64\n",
      " 13  studytime   289 non-null    float64\n",
      " 14  failures    289 non-null    float64\n",
      " 15  schoolsup   289 non-null    float64\n",
      " 16  famsup      289 non-null    float64\n",
      " 17  paid        289 non-null    float64\n",
      " 18  activities  289 non-null    float64\n",
      " 19  nursery     289 non-null    float64\n",
      " 20  higher      289 non-null    float64\n",
      " 21  internet    289 non-null    object \n",
      " 22  romantic    289 non-null    object \n",
      " 23  famrel      289 non-null    float64\n",
      " 24  freetime    289 non-null    float64\n",
      " 25  goout       289 non-null    float64\n",
      " 26  health      289 non-null    object \n",
      " 27  score       289 non-null    float64\n",
      "dtypes: float64(14), int64(1), object(13)\n",
      "memory usage: 75.5+ KB\n"
     ]
    }
   ],
   "source": [
    "score.info()"
   ]
  },
  {
   "cell_type": "code",
   "execution_count": 127,
   "metadata": {},
   "outputs": [
    {
     "data": {
      "text/plain": [
       "other       92\n",
       "services    73\n",
       "teacher     46\n",
       "at_home     41\n",
       "health      22\n",
       "no data     15\n",
       "Name: Mjob, dtype: int64"
      ]
     },
     "execution_count": 127,
     "metadata": {},
     "output_type": "execute_result"
    }
   ],
   "source": [
    "parameter='Mjob'\n",
    "fill_parameter(fill_no_data)"
   ]
  },
  {
   "cell_type": "code",
   "execution_count": 128,
   "metadata": {},
   "outputs": [
    {
     "data": {
      "text/plain": [
       "<matplotlib.axes._subplots.AxesSubplot at 0x28284ca32c8>"
      ]
     },
     "execution_count": 128,
     "metadata": {},
     "output_type": "execute_result"
    },
    {
     "data": {
      "image/png": "[encoded data removed]",
      "text/plain": [
       "<Figure size 432x288 with 1 Axes>"
      ]
     },
     "metadata": {
      "needs_background": "light"
     },
     "output_type": "display_data"
    }
   ],
   "source": [
    "boxplot('Mjob')"
   ]
  },
  {
   "cell_type": "markdown",
   "metadata": {},
   "source": [
    "Более высокий балл имеют студенты, чьи матери работают в системе здравоохранения. Создадим новый параметр \"Mhealth\", который показывает работает ли мать студента в системе здравоохранения."
   ]
  },
  {
   "cell_type": "code",
   "execution_count": 129,
   "metadata": {},
   "outputs": [],
   "source": [
    "score['Mhealth']=score.apply(fill_Mhealth, axis=1)"
   ]
  },
  {
   "cell_type": "markdown",
   "metadata": {},
   "source": [
    "### 25. Параметр \"Fjob\". 28 пропуска заполним значением \"no data\"."
   ]
  },
  {
   "cell_type": "code",
   "execution_count": 130,
   "metadata": {},
   "outputs": [
    {
     "data": {
      "text/plain": [
       "other       143\n",
       "services     73\n",
       "no data      28\n",
       "teacher      20\n",
       "at_home      14\n",
       "health       11\n",
       "Name: Fjob, dtype: int64"
      ]
     },
     "execution_count": 130,
     "metadata": {},
     "output_type": "execute_result"
    }
   ],
   "source": [
    "parameter='Fjob'\n",
    "fill_parameter(fill_no_data)"
   ]
  },
  {
   "cell_type": "code",
   "execution_count": 131,
   "metadata": {},
   "outputs": [
    {
     "data": {
      "text/plain": [
       "<matplotlib.axes._subplots.AxesSubplot at 0x28284d93648>"
      ]
     },
     "execution_count": 131,
     "metadata": {},
     "output_type": "execute_result"
    },
    {
     "data": {
      "image/png": "[encoded data removed]",
      "text/plain": [
       "<Figure size 432x288 with 1 Axes>"
      ]
     },
     "metadata": {
      "needs_background": "light"
     },
     "output_type": "display_data"
    }
   ],
   "source": [
    "boxplot('Fjob')"
   ]
  },
  {
   "cell_type": "markdown",
   "metadata": {},
   "source": [
    "В этом случае также заметны лучшие результаты у группы тудентов, чьи отцы являются учителями. Также выделим этот признак в отдельный параметр \"Fteacher\"."
   ]
  },
  {
   "cell_type": "code",
   "execution_count": 132,
   "metadata": {},
   "outputs": [],
   "source": [
    "score['Fteacher']=score.apply(fill_Fteacher, axis=1)"
   ]
  },
  {
   "cell_type": "markdown",
   "metadata": {},
   "source": [
    "### 26. Параметр \"reason\". 12 пропусков также заполним значением \"no data\"."
   ]
  },
  {
   "cell_type": "code",
   "execution_count": 133,
   "metadata": {},
   "outputs": [
    {
     "data": {
      "text/plain": [
       "course        104\n",
       "home           74\n",
       "reputation     71\n",
       "other          28\n",
       "no data        12\n",
       "Name: reason, dtype: int64"
      ]
     },
     "execution_count": 133,
     "metadata": {},
     "output_type": "execute_result"
    }
   ],
   "source": [
    "parameter='reason'\n",
    "fill_parameter(fill_no_data)"
   ]
  },
  {
   "cell_type": "code",
   "execution_count": 134,
   "metadata": {},
   "outputs": [
    {
     "data": {
      "text/plain": [
       "<matplotlib.axes._subplots.AxesSubplot at 0x28284e63548>"
      ]
     },
     "execution_count": 134,
     "metadata": {},
     "output_type": "execute_result"
    },
    {
     "data": {
      "image/png": "[encoded data removed]",
      "text/plain": [
       "<Figure size 432x288 with 1 Axes>"
      ]
     },
     "metadata": {
      "needs_background": "light"
     },
     "output_type": "display_data"
    }
   ],
   "source": [
    "boxplot('reason')"
   ]
  },
  {
   "cell_type": "markdown",
   "metadata": {},
   "source": [
    "### 27. Параметр \"guardian\". 26 пропусков также заполним значением \"no data\"."
   ]
  },
  {
   "cell_type": "code",
   "execution_count": 135,
   "metadata": {},
   "outputs": [
    {
     "data": {
      "text/plain": [
       "mother     182\n",
       "father      63\n",
       "no data     26\n",
       "other       18\n",
       "Name: guardian, dtype: int64"
      ]
     },
     "execution_count": 135,
     "metadata": {},
     "output_type": "execute_result"
    }
   ],
   "source": [
    "parameter='guardian'\n",
    "fill_parameter(fill_no_data)"
   ]
  },
  {
   "cell_type": "code",
   "execution_count": 136,
   "metadata": {},
   "outputs": [
    {
     "data": {
      "text/plain": [
       "<matplotlib.axes._subplots.AxesSubplot at 0x28285ef6f48>"
      ]
     },
     "execution_count": 136,
     "metadata": {},
     "output_type": "execute_result"
    },
    {
     "data": {
      "image/png": "[encoded data removed]",
      "text/plain": [
       "<Figure size 432x288 with 1 Axes>"
      ]
     },
     "metadata": {
      "needs_background": "light"
     },
     "output_type": "display_data"
    }
   ],
   "source": [
    "boxplot('guardian')"
   ]
  },
  {
   "cell_type": "markdown",
   "metadata": {},
   "source": [
    "Наконец обработанные данные можно оценить на наличие статистически значимых различий и выделить параметры,  которые могут быть наиболее полезны при построениии модели ML."
   ]
  },
  {
   "cell_type": "code",
   "execution_count": 137,
   "metadata": {},
   "outputs": [
    {
     "data": {
      "text/html": [
       "<div>\n",
       "<style scoped>\n",
       "    .dataframe tbody tr th:only-of-type {\n",
       "        vertical-align: middle;\n",
       "    }\n",
       "\n",
       "    .dataframe tbody tr th {\n",
       "        vertical-align: top;\n",
       "    }\n",
       "\n",
       "    .dataframe thead th {\n",
       "        text-align: right;\n",
       "    }\n",
       "</style>\n",
       "<table border=\"1\" class=\"dataframe\">\n",
       "  <thead>\n",
       "    <tr style=\"text-align: right;\">\n",
       "      <th></th>\n",
       "      <th>age</th>\n",
       "      <th>Medu</th>\n",
       "      <th>traveltime</th>\n",
       "      <th>studytime</th>\n",
       "      <th>failures</th>\n",
       "      <th>schoolsup</th>\n",
       "      <th>famsup</th>\n",
       "      <th>paid</th>\n",
       "      <th>activities</th>\n",
       "      <th>nursery</th>\n",
       "      <th>higher</th>\n",
       "      <th>famrel</th>\n",
       "      <th>freetime</th>\n",
       "      <th>goout</th>\n",
       "      <th>score</th>\n",
       "      <th>Mhealth</th>\n",
       "      <th>Fteacher</th>\n",
       "    </tr>\n",
       "  </thead>\n",
       "  <tbody>\n",
       "    <tr>\n",
       "      <th>age</th>\n",
       "      <td>1.000000</td>\n",
       "      <td>-0.144090</td>\n",
       "      <td>0.166829</td>\n",
       "      <td>0.059974</td>\n",
       "      <td>0.268720</td>\n",
       "      <td>-0.271252</td>\n",
       "      <td>-0.119013</td>\n",
       "      <td>-0.037191</td>\n",
       "      <td>-0.136760</td>\n",
       "      <td>-0.126136</td>\n",
       "      <td>-0.145706</td>\n",
       "      <td>0.011495</td>\n",
       "      <td>-0.006369</td>\n",
       "      <td>0.149721</td>\n",
       "      <td>-0.154779</td>\n",
       "      <td>-0.096168</td>\n",
       "      <td>-0.042480</td>\n",
       "    </tr>\n",
       "    <tr>\n",
       "      <th>Medu</th>\n",
       "      <td>-0.144090</td>\n",
       "      <td>1.000000</td>\n",
       "      <td>-0.104003</td>\n",
       "      <td>0.096665</td>\n",
       "      <td>-0.203979</td>\n",
       "      <td>-0.022855</td>\n",
       "      <td>0.211203</td>\n",
       "      <td>0.210306</td>\n",
       "      <td>0.148094</td>\n",
       "      <td>0.236980</td>\n",
       "      <td>0.226734</td>\n",
       "      <td>0.127919</td>\n",
       "      <td>0.019846</td>\n",
       "      <td>0.089523</td>\n",
       "      <td>0.190695</td>\n",
       "      <td>0.214043</td>\n",
       "      <td>0.256310</td>\n",
       "    </tr>\n",
       "    <tr>\n",
       "      <th>traveltime</th>\n",
       "      <td>0.166829</td>\n",
       "      <td>-0.104003</td>\n",
       "      <td>1.000000</td>\n",
       "      <td>-0.124169</td>\n",
       "      <td>0.062718</td>\n",
       "      <td>-0.041610</td>\n",
       "      <td>-0.016736</td>\n",
       "      <td>-0.027318</td>\n",
       "      <td>-0.018144</td>\n",
       "      <td>-0.061169</td>\n",
       "      <td>-0.106459</td>\n",
       "      <td>-0.037166</td>\n",
       "      <td>-0.090236</td>\n",
       "      <td>-0.022394</td>\n",
       "      <td>-0.060108</td>\n",
       "      <td>-0.092232</td>\n",
       "      <td>-0.009412</td>\n",
       "    </tr>\n",
       "    <tr>\n",
       "      <th>studytime</th>\n",
       "      <td>0.059974</td>\n",
       "      <td>0.096665</td>\n",
       "      <td>-0.124169</td>\n",
       "      <td>1.000000</td>\n",
       "      <td>-0.104263</td>\n",
       "      <td>-0.015785</td>\n",
       "      <td>0.106303</td>\n",
       "      <td>0.164661</td>\n",
       "      <td>0.066669</td>\n",
       "      <td>0.033362</td>\n",
       "      <td>0.145921</td>\n",
       "      <td>0.083004</td>\n",
       "      <td>-0.086071</td>\n",
       "      <td>-0.003712</td>\n",
       "      <td>0.121882</td>\n",
       "      <td>-0.022819</td>\n",
       "      <td>-0.006893</td>\n",
       "    </tr>\n",
       "    <tr>\n",
       "      <th>failures</th>\n",
       "      <td>0.268720</td>\n",
       "      <td>-0.203979</td>\n",
       "      <td>0.062718</td>\n",
       "      <td>-0.104263</td>\n",
       "      <td>1.000000</td>\n",
       "      <td>0.076022</td>\n",
       "      <td>-0.052402</td>\n",
       "      <td>-0.129724</td>\n",
       "      <td>-0.089124</td>\n",
       "      <td>-0.133412</td>\n",
       "      <td>-0.237380</td>\n",
       "      <td>0.016059</td>\n",
       "      <td>0.161934</td>\n",
       "      <td>0.100416</td>\n",
       "      <td>-0.267330</td>\n",
       "      <td>-0.026919</td>\n",
       "      <td>-0.062317</td>\n",
       "    </tr>\n",
       "    <tr>\n",
       "      <th>schoolsup</th>\n",
       "      <td>-0.271252</td>\n",
       "      <td>-0.022855</td>\n",
       "      <td>-0.041610</td>\n",
       "      <td>-0.015785</td>\n",
       "      <td>0.076022</td>\n",
       "      <td>1.000000</td>\n",
       "      <td>0.073573</td>\n",
       "      <td>-0.040608</td>\n",
       "      <td>0.048547</td>\n",
       "      <td>0.024537</td>\n",
       "      <td>0.014085</td>\n",
       "      <td>-0.027912</td>\n",
       "      <td>0.016972</td>\n",
       "      <td>-0.003615</td>\n",
       "      <td>-0.231895</td>\n",
       "      <td>-0.108280</td>\n",
       "      <td>0.062285</td>\n",
       "    </tr>\n",
       "    <tr>\n",
       "      <th>famsup</th>\n",
       "      <td>-0.119013</td>\n",
       "      <td>0.211203</td>\n",
       "      <td>-0.016736</td>\n",
       "      <td>0.106303</td>\n",
       "      <td>-0.052402</td>\n",
       "      <td>0.073573</td>\n",
       "      <td>1.000000</td>\n",
       "      <td>0.340196</td>\n",
       "      <td>-0.023581</td>\n",
       "      <td>0.071576</td>\n",
       "      <td>0.062808</td>\n",
       "      <td>-0.008086</td>\n",
       "      <td>0.004983</td>\n",
       "      <td>-0.046743</td>\n",
       "      <td>-0.042498</td>\n",
       "      <td>0.152215</td>\n",
       "      <td>0.024454</td>\n",
       "    </tr>\n",
       "    <tr>\n",
       "      <th>paid</th>\n",
       "      <td>-0.037191</td>\n",
       "      <td>0.210306</td>\n",
       "      <td>-0.027318</td>\n",
       "      <td>0.164661</td>\n",
       "      <td>-0.129724</td>\n",
       "      <td>-0.040608</td>\n",
       "      <td>0.340196</td>\n",
       "      <td>1.000000</td>\n",
       "      <td>0.003595</td>\n",
       "      <td>0.114822</td>\n",
       "      <td>0.150802</td>\n",
       "      <td>-0.084352</td>\n",
       "      <td>-0.049978</td>\n",
       "      <td>0.082455</td>\n",
       "      <td>-0.044939</td>\n",
       "      <td>0.079280</td>\n",
       "      <td>-0.053591</td>\n",
       "    </tr>\n",
       "    <tr>\n",
       "      <th>activities</th>\n",
       "      <td>-0.136760</td>\n",
       "      <td>0.148094</td>\n",
       "      <td>-0.018144</td>\n",
       "      <td>0.066669</td>\n",
       "      <td>-0.089124</td>\n",
       "      <td>0.048547</td>\n",
       "      <td>-0.023581</td>\n",
       "      <td>0.003595</td>\n",
       "      <td>1.000000</td>\n",
       "      <td>0.036993</td>\n",
       "      <td>0.007211</td>\n",
       "      <td>0.057659</td>\n",
       "      <td>0.044104</td>\n",
       "      <td>-0.019821</td>\n",
       "      <td>0.054523</td>\n",
       "      <td>-0.037048</td>\n",
       "      <td>0.044188</td>\n",
       "    </tr>\n",
       "    <tr>\n",
       "      <th>nursery</th>\n",
       "      <td>-0.126136</td>\n",
       "      <td>0.236980</td>\n",
       "      <td>-0.061169</td>\n",
       "      <td>0.033362</td>\n",
       "      <td>-0.133412</td>\n",
       "      <td>0.024537</td>\n",
       "      <td>0.071576</td>\n",
       "      <td>0.114822</td>\n",
       "      <td>0.036993</td>\n",
       "      <td>1.000000</td>\n",
       "      <td>0.081408</td>\n",
       "      <td>0.059343</td>\n",
       "      <td>0.022519</td>\n",
       "      <td>0.078971</td>\n",
       "      <td>0.031878</td>\n",
       "      <td>0.058823</td>\n",
       "      <td>0.014088</td>\n",
       "    </tr>\n",
       "    <tr>\n",
       "      <th>higher</th>\n",
       "      <td>-0.145706</td>\n",
       "      <td>0.226734</td>\n",
       "      <td>-0.106459</td>\n",
       "      <td>0.145921</td>\n",
       "      <td>-0.237380</td>\n",
       "      <td>0.014085</td>\n",
       "      <td>0.062808</td>\n",
       "      <td>0.150802</td>\n",
       "      <td>0.007211</td>\n",
       "      <td>0.081408</td>\n",
       "      <td>1.000000</td>\n",
       "      <td>0.088205</td>\n",
       "      <td>-0.032535</td>\n",
       "      <td>0.052753</td>\n",
       "      <td>0.066331</td>\n",
       "      <td>0.054344</td>\n",
       "      <td>0.051622</td>\n",
       "    </tr>\n",
       "    <tr>\n",
       "      <th>famrel</th>\n",
       "      <td>0.011495</td>\n",
       "      <td>0.127919</td>\n",
       "      <td>-0.037166</td>\n",
       "      <td>0.083004</td>\n",
       "      <td>0.016059</td>\n",
       "      <td>-0.027912</td>\n",
       "      <td>-0.008086</td>\n",
       "      <td>-0.084352</td>\n",
       "      <td>0.057659</td>\n",
       "      <td>0.059343</td>\n",
       "      <td>0.088205</td>\n",
       "      <td>1.000000</td>\n",
       "      <td>0.124293</td>\n",
       "      <td>0.021150</td>\n",
       "      <td>0.103720</td>\n",
       "      <td>-0.005677</td>\n",
       "      <td>-0.022499</td>\n",
       "    </tr>\n",
       "    <tr>\n",
       "      <th>freetime</th>\n",
       "      <td>-0.006369</td>\n",
       "      <td>0.019846</td>\n",
       "      <td>-0.090236</td>\n",
       "      <td>-0.086071</td>\n",
       "      <td>0.161934</td>\n",
       "      <td>0.016972</td>\n",
       "      <td>0.004983</td>\n",
       "      <td>-0.049978</td>\n",
       "      <td>0.044104</td>\n",
       "      <td>0.022519</td>\n",
       "      <td>-0.032535</td>\n",
       "      <td>0.124293</td>\n",
       "      <td>1.000000</td>\n",
       "      <td>0.193447</td>\n",
       "      <td>-0.022787</td>\n",
       "      <td>0.034433</td>\n",
       "      <td>0.031293</td>\n",
       "    </tr>\n",
       "    <tr>\n",
       "      <th>goout</th>\n",
       "      <td>0.149721</td>\n",
       "      <td>0.089523</td>\n",
       "      <td>-0.022394</td>\n",
       "      <td>-0.003712</td>\n",
       "      <td>0.100416</td>\n",
       "      <td>-0.003615</td>\n",
       "      <td>-0.046743</td>\n",
       "      <td>0.082455</td>\n",
       "      <td>-0.019821</td>\n",
       "      <td>0.078971</td>\n",
       "      <td>0.052753</td>\n",
       "      <td>0.021150</td>\n",
       "      <td>0.193447</td>\n",
       "      <td>1.000000</td>\n",
       "      <td>-0.176966</td>\n",
       "      <td>0.036485</td>\n",
       "      <td>0.053489</td>\n",
       "    </tr>\n",
       "    <tr>\n",
       "      <th>score</th>\n",
       "      <td>-0.154779</td>\n",
       "      <td>0.190695</td>\n",
       "      <td>-0.060108</td>\n",
       "      <td>0.121882</td>\n",
       "      <td>-0.267330</td>\n",
       "      <td>-0.231895</td>\n",
       "      <td>-0.042498</td>\n",
       "      <td>-0.044939</td>\n",
       "      <td>0.054523</td>\n",
       "      <td>0.031878</td>\n",
       "      <td>0.066331</td>\n",
       "      <td>0.103720</td>\n",
       "      <td>-0.022787</td>\n",
       "      <td>-0.176966</td>\n",
       "      <td>1.000000</td>\n",
       "      <td>0.133099</td>\n",
       "      <td>0.177656</td>\n",
       "    </tr>\n",
       "    <tr>\n",
       "      <th>Mhealth</th>\n",
       "      <td>-0.096168</td>\n",
       "      <td>0.214043</td>\n",
       "      <td>-0.092232</td>\n",
       "      <td>-0.022819</td>\n",
       "      <td>-0.026919</td>\n",
       "      <td>-0.108280</td>\n",
       "      <td>0.152215</td>\n",
       "      <td>0.079280</td>\n",
       "      <td>-0.037048</td>\n",
       "      <td>0.058823</td>\n",
       "      <td>0.054344</td>\n",
       "      <td>-0.005677</td>\n",
       "      <td>0.034433</td>\n",
       "      <td>0.036485</td>\n",
       "      <td>0.133099</td>\n",
       "      <td>1.000000</td>\n",
       "      <td>-0.078270</td>\n",
       "    </tr>\n",
       "    <tr>\n",
       "      <th>Fteacher</th>\n",
       "      <td>-0.042480</td>\n",
       "      <td>0.256310</td>\n",
       "      <td>-0.009412</td>\n",
       "      <td>-0.006893</td>\n",
       "      <td>-0.062317</td>\n",
       "      <td>0.062285</td>\n",
       "      <td>0.024454</td>\n",
       "      <td>-0.053591</td>\n",
       "      <td>0.044188</td>\n",
       "      <td>0.014088</td>\n",
       "      <td>0.051622</td>\n",
       "      <td>-0.022499</td>\n",
       "      <td>0.031293</td>\n",
       "      <td>0.053489</td>\n",
       "      <td>0.177656</td>\n",
       "      <td>-0.078270</td>\n",
       "      <td>1.000000</td>\n",
       "    </tr>\n",
       "  </tbody>\n",
       "</table>\n",
       "</div>"
      ],
      "text/plain": [
       "                 age      Medu  traveltime  studytime  failures  schoolsup  \\\n",
       "age         1.000000 -0.144090    0.166829   0.059974  0.268720  -0.271252   \n",
       "Medu       -0.144090  1.000000   -0.104003   0.096665 -0.203979  -0.022855   \n",
       "traveltime  0.166829 -0.104003    1.000000  -0.124169  0.062718  -0.041610   \n",
       "studytime   0.059974  0.096665   -0.124169   1.000000 -0.104263  -0.015785   \n",
       "failures    0.268720 -0.203979    0.062718  -0.104263  1.000000   0.076022   \n",
       "schoolsup  -0.271252 -0.022855   -0.041610  -0.015785  0.076022   1.000000   \n",
       "famsup     -0.119013  0.211203   -0.016736   0.106303 -0.052402   0.073573   \n",
       "paid       -0.037191  0.210306   -0.027318   0.164661 -0.129724  -0.040608   \n",
       "activities -0.136760  0.148094   -0.018144   0.066669 -0.089124   0.048547   \n",
       "nursery    -0.126136  0.236980   -0.061169   0.033362 -0.133412   0.024537   \n",
       "higher     -0.145706  0.226734   -0.106459   0.145921 -0.237380   0.014085   \n",
       "famrel      0.011495  0.127919   -0.037166   0.083004  0.016059  -0.027912   \n",
       "freetime   -0.006369  0.019846   -0.090236  -0.086071  0.161934   0.016972   \n",
       "goout       0.149721  0.089523   -0.022394  -0.003712  0.100416  -0.003615   \n",
       "score      -0.154779  0.190695   -0.060108   0.121882 -0.267330  -0.231895   \n",
       "Mhealth    -0.096168  0.214043   -0.092232  -0.022819 -0.026919  -0.108280   \n",
       "Fteacher   -0.042480  0.256310   -0.009412  -0.006893 -0.062317   0.062285   \n",
       "\n",
       "              famsup      paid  activities   nursery    higher    famrel  \\\n",
       "age        -0.119013 -0.037191   -0.136760 -0.126136 -0.145706  0.011495   \n",
       "Medu        0.211203  0.210306    0.148094  0.236980  0.226734  0.127919   \n",
       "traveltime -0.016736 -0.027318   -0.018144 -0.061169 -0.106459 -0.037166   \n",
       "studytime   0.106303  0.164661    0.066669  0.033362  0.145921  0.083004   \n",
       "failures   -0.052402 -0.129724   -0.089124 -0.133412 -0.237380  0.016059   \n",
       "schoolsup   0.073573 -0.040608    0.048547  0.024537  0.014085 -0.027912   \n",
       "famsup      1.000000  0.340196   -0.023581  0.071576  0.062808 -0.008086   \n",
       "paid        0.340196  1.000000    0.003595  0.114822  0.150802 -0.084352   \n",
       "activities -0.023581  0.003595    1.000000  0.036993  0.007211  0.057659   \n",
       "nursery     0.071576  0.114822    0.036993  1.000000  0.081408  0.059343   \n",
       "higher      0.062808  0.150802    0.007211  0.081408  1.000000  0.088205   \n",
       "famrel     -0.008086 -0.084352    0.057659  0.059343  0.088205  1.000000   \n",
       "freetime    0.004983 -0.049978    0.044104  0.022519 -0.032535  0.124293   \n",
       "goout      -0.046743  0.082455   -0.019821  0.078971  0.052753  0.021150   \n",
       "score      -0.042498 -0.044939    0.054523  0.031878  0.066331  0.103720   \n",
       "Mhealth     0.152215  0.079280   -0.037048  0.058823  0.054344 -0.005677   \n",
       "Fteacher    0.024454 -0.053591    0.044188  0.014088  0.051622 -0.022499   \n",
       "\n",
       "            freetime     goout     score   Mhealth  Fteacher  \n",
       "age        -0.006369  0.149721 -0.154779 -0.096168 -0.042480  \n",
       "Medu        0.019846  0.089523  0.190695  0.214043  0.256310  \n",
       "traveltime -0.090236 -0.022394 -0.060108 -0.092232 -0.009412  \n",
       "studytime  -0.086071 -0.003712  0.121882 -0.022819 -0.006893  \n",
       "failures    0.161934  0.100416 -0.267330 -0.026919 -0.062317  \n",
       "schoolsup   0.016972 -0.003615 -0.231895 -0.108280  0.062285  \n",
       "famsup      0.004983 -0.046743 -0.042498  0.152215  0.024454  \n",
       "paid       -0.049978  0.082455 -0.044939  0.079280 -0.053591  \n",
       "activities  0.044104 -0.019821  0.054523 -0.037048  0.044188  \n",
       "nursery     0.022519  0.078971  0.031878  0.058823  0.014088  \n",
       "higher     -0.032535  0.052753  0.066331  0.054344  0.051622  \n",
       "famrel      0.124293  0.021150  0.103720 -0.005677 -0.022499  \n",
       "freetime    1.000000  0.193447 -0.022787  0.034433  0.031293  \n",
       "goout       0.193447  1.000000 -0.176966  0.036485  0.053489  \n",
       "score      -0.022787 -0.176966  1.000000  0.133099  0.177656  \n",
       "Mhealth     0.034433  0.036485  0.133099  1.000000 -0.078270  \n",
       "Fteacher    0.031293  0.053489  0.177656 -0.078270  1.000000  "
      ]
     },
     "execution_count": 137,
     "metadata": {},
     "output_type": "execute_result"
    }
   ],
   "source": [
    "score.corr()"
   ]
  },
  {
   "cell_type": "markdown",
   "metadata": {},
   "source": [
    "На основании полученных коэффициентов корреляции нельзя выделить какой-либо параметр с сильной корреляцией. Выберем параметры с коэффициентом более 0.1: \"age\", \"Medu\", \"studytime\", \"failures\", \"schoolsup\", \"goout\", \"Mhealth\", \"Fteacher\"."
   ]
  },
  {
   "cell_type": "code",
   "execution_count": 138,
   "metadata": {},
   "outputs": [
    {
     "name": "stdout",
     "output_type": "stream",
     "text": [
      "<class 'pandas.core.frame.DataFrame'>\n",
      "Int64Index: 289 entries, 0 to 394\n",
      "Data columns (total 30 columns):\n",
      " #   Column      Non-Null Count  Dtype  \n",
      "---  ------      --------------  -----  \n",
      " 0   school      289 non-null    object \n",
      " 1   sex         289 non-null    object \n",
      " 2   age         289 non-null    int64  \n",
      " 3   address     289 non-null    object \n",
      " 4   famsize     289 non-null    object \n",
      " 5   Pstatus     289 non-null    object \n",
      " 6   Medu        289 non-null    float64\n",
      " 7   Fedu        289 non-null    object \n",
      " 8   Mjob        289 non-null    object \n",
      " 9   Fjob        289 non-null    object \n",
      " 10  reason      289 non-null    object \n",
      " 11  guardian    289 non-null    object \n",
      " 12  traveltime  289 non-null    float64\n",
      " 13  studytime   289 non-null    float64\n",
      " 14  failures    289 non-null    float64\n",
      " 15  schoolsup   289 non-null    float64\n",
      " 16  famsup      289 non-null    float64\n",
      " 17  paid        289 non-null    float64\n",
      " 18  activities  289 non-null    float64\n",
      " 19  nursery     289 non-null    float64\n",
      " 20  higher      289 non-null    float64\n",
      " 21  internet    289 non-null    object \n",
      " 22  romantic    289 non-null    object \n",
      " 23  famrel      289 non-null    float64\n",
      " 24  freetime    289 non-null    float64\n",
      " 25  goout       289 non-null    float64\n",
      " 26  health      289 non-null    object \n",
      " 27  score       289 non-null    float64\n",
      " 28  Mhealth     289 non-null    int64  \n",
      " 29  Fteacher    289 non-null    int64  \n",
      "dtypes: float64(14), int64(3), object(13)\n",
      "memory usage: 80.0+ KB\n"
     ]
    }
   ],
   "source": [
    "score.info()"
   ]
  },
  {
   "cell_type": "code",
   "execution_count": 139,
   "metadata": {},
   "outputs": [
    {
     "name": "stdout",
     "output_type": "stream",
     "text": [
      "Найдены статистически значимые различия для параметра school\n",
      "Найдены статистически значимые различия для параметра address\n",
      "Найдены статистически значимые различия для параметра Fedu\n",
      "Найдены статистически значимые различия для параметра Mjob\n",
      "Найдены статистически значимые различия для параметра Fjob\n"
     ]
    }
   ],
   "source": [
    "for col in ['school', 'sex', 'address', 'famsize', 'Pstatus', 'Fedu', 'Mjob', 'Fjob', 'reason', \n",
    "            'guardian', 'internet', 'romantic', 'health']:\n",
    "    if col == 'score':\n",
    "        continue\n",
    "    get_stat_dif(col)"
   ]
  },
  {
   "cell_type": "markdown",
   "metadata": {},
   "source": [
    "### Вывод: параметры, которые следует использовать для последующих исследований: \"school\", \"address\", \"age\", \"Medu\", \"Fedu\", \"Mjob\", \"Fjob\", \"studytime\", \"failures\", \"schoolsup\", \"goout\", \"Mhealth\", \"Fteacher\"."
   ]
  },
  {
   "cell_type": "code",
   "execution_count": null,
   "metadata": {},
   "outputs": [],
   "source": []
  }
 ],
 "metadata": {
  "kernelspec": {
   "display_name": "Python 3",
   "language": "python",
   "name": "python3"
  },
  "language_info": {
   "codemirror_mode": {
    "name": "ipython",
    "version": 3
   },
   "file_extension": ".py",
   "mimetype": "text/x-python",
   "name": "python",
   "nbconvert_exporter": "python",
   "pygments_lexer": "ipython3",
   "version": "3.7.6"
  }
 },
 "nbformat": 4,
 "nbformat_minor": 4
}
