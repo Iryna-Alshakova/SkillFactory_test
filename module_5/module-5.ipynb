{
 "cells": [
  {
   "cell_type": "markdown",
   "metadata": {},
   "source": [
    "# Credit Scoring"
   ]
  },
  {
   "cell_type": "code",
   "execution_count": null,
   "metadata": {},
   "outputs": [],
   "source": [
    "from pandas import Series\n",
    "import pandas as pd\n",
    "import numpy as np\n",
    "from datetime import datetime\n",
    "import re\n",
    "\n",
    "\n",
    "import matplotlib.pyplot as plt\n",
    "import seaborn as sns\n",
    "\n",
    "from sklearn.feature_selection import f_classif, mutual_info_classif\n",
    "from sklearn.preprocessing import LabelEncoder, OneHotEncoder, StandardScaler\n",
    "\n",
    "from sklearn.model_selection import train_test_split\n",
    "from sklearn.linear_model import LogisticRegression\n",
    "\n",
    "\n",
    "from sklearn.metrics import confusion_matrix\n",
    "from sklearn.metrics import auc, roc_auc_score, roc_curve"
   ]
  },
  {
   "cell_type": "markdown",
   "metadata": {},
   "source": [
    "## DATA"
   ]
  },
  {
   "cell_type": "code",
   "execution_count": null,
   "metadata": {},
   "outputs": [],
   "source": [
    "DATA_DIR = '/kaggle/input/scoring-ring/'\n",
    "df_train = pd.read_csv(DATA_DIR+'/train.csv')\n",
    "df_test = pd.read_csv(DATA_DIR+'/test.csv')\n",
    "sample_submission = pd.read_csv(DATA_DIR+'/sample_submission.csv')"
   ]
  },
  {
   "cell_type": "code",
   "execution_count": null,
   "metadata": {},
   "outputs": [],
   "source": [
    "df_train.info()"
   ]
  },
  {
   "cell_type": "code",
   "execution_count": null,
   "metadata": {},
   "outputs": [],
   "source": [
    "df_test.info()"
   ]
  },
  {
   "cell_type": "code",
   "execution_count": null,
   "metadata": {},
   "outputs": [],
   "source": [
    "sample_submission.info()"
   ]
  },
  {
   "cell_type": "code",
   "execution_count": null,
   "metadata": {},
   "outputs": [],
   "source": [
    "# дря корректной обработки признаков объединяем трейн и тест в один датасет\n",
    "\n",
    "df_train['sample'] = 1 # помечаем трейн\n",
    "df_test['sample'] = 0 # помечаем тест\n",
    "df_test['default'] = 0 # в тесте нет значения default, его нужно предсказать, по этому пока заполняем нулями\n",
    "\n",
    "data = df_test.append(df_train, sort=False).reset_index(drop=True) # объединяем тест и трейн"
   ]
  },
  {
   "cell_type": "code",
   "execution_count": null,
   "metadata": {},
   "outputs": [],
   "source": [
    "data.info()"
   ]
  },
  {
   "cell_type": "markdown",
   "metadata": {},
   "source": [
    "## Cleaning and Prepping Data"
   ]
  },
  {
   "cell_type": "markdown",
   "metadata": {},
   "source": [
    "Среди признаков те, что уже рассматривались в предыдущих заданиях:\n",
    "* client_id - идентификатор клиента\n",
    "* education - уровень образования\n",
    "* sex - пол заёмщика\n",
    "* age - возраст заёмщика\n",
    "* car - флаг наличия автомобиля\n",
    "* car_type - флаг автомобиля-иномарки\n",
    "* decline_app_cnt - количество отказанных прошлых заявок\n",
    "* good_work - флаг наличия «хорошей» работы\n",
    "* bki_request_cnt - количество запросов в БКИ\n",
    "* home_address - категоризатор домашнего адреса\n",
    "* work_address - категоризатор рабочего адреса\n",
    "* income - доход заёмщика\n",
    "* foreign_passport - наличие загранпаспорта\n",
    "* default - наличие дефолта\n",
    "\n",
    "А также присутствуют новые признаки:\n",
    "* app_date - дата подачи заявки\n",
    "* score_bki - скоринговый балл по данным из БКИ\n",
    "* region_rating - рейтинг региона \n",
    "* sna - связь заемщика с клиентами банка  \n",
    "* first_time - давность наличия информации о заемщике\n"
   ]
  },
  {
   "cell_type": "markdown",
   "metadata": {},
   "source": [
    "## education"
   ]
  },
  {
   "cell_type": "markdown",
   "metadata": {},
   "source": [
    "Среди всех признаков только education имеет пропуски (478): "
   ]
  },
  {
   "cell_type": "code",
   "execution_count": null,
   "metadata": {},
   "outputs": [],
   "source": [
    "data['education'].isna().sum()"
   ]
  },
  {
   "cell_type": "code",
   "execution_count": null,
   "metadata": {},
   "outputs": [],
   "source": [
    "data['education'].value_counts()"
   ]
  },
  {
   "cell_type": "code",
   "execution_count": null,
   "metadata": {},
   "outputs": [],
   "source": [
    "data['education'].value_counts().plot.barh()"
   ]
  },
  {
   "cell_type": "markdown",
   "metadata": {},
   "source": [
    "Наличие пропусков в этом признаке может свидетельствовать о том, что во время заполнения анкеты это поле является необязательным и может быть пропущено. \n",
    "Пропуски заменим на новое значение 'N/A'. Также этот признак можно отнести к категориальным и применить к нему get_dummies."
   ]
  },
  {
   "cell_type": "code",
   "execution_count": null,
   "metadata": {},
   "outputs": [],
   "source": [
    "data['education'] = data['education'].apply(lambda x: 'N/A' if pd.isna(x) else x)"
   ]
  },
  {
   "cell_type": "code",
   "execution_count": null,
   "metadata": {},
   "outputs": [],
   "source": [
    "data[data['sample']==1].pivot_table(index=['education'], values='default', aggfunc='mean', fill_value=0).sort_values(['default']) #Чем больше mean, тем больше дефолтов"
   ]
  },
  {
   "cell_type": "markdown",
   "metadata": {},
   "source": [
    "Ализировав полученной таблицы: значение mean для признака N/A находится между значениями mean для GRD и UGR, и значительно отличается от значения mean для наиболее часто втречающегося признака SCH. Таким образом заполнение пропусков новым значением N/A более корректное, чем заполнение значением SCH\n",
    "\n"
   ]
  },
  {
   "cell_type": "markdown",
   "metadata": {},
   "source": [
    "## app_date"
   ]
  },
  {
   "cell_type": "code",
   "execution_count": null,
   "metadata": {},
   "outputs": [],
   "source": [
    "data['app_date']"
   ]
  },
  {
   "cell_type": "code",
   "execution_count": null,
   "metadata": {},
   "outputs": [],
   "source": [
    "data['app_date'].value_counts()"
   ]
  },
  {
   "cell_type": "code",
   "execution_count": null,
   "metadata": {},
   "outputs": [],
   "source": [
    "# Переведем значения данного признака во временной формат\n",
    "data['app_date'] = data['app_date'].apply(lambda x: datetime.strptime(x, '%d%b%Y'))"
   ]
  },
  {
   "cell_type": "code",
   "execution_count": null,
   "metadata": {},
   "outputs": [],
   "source": [
    "data['app_date'].value_counts()"
   ]
  },
  {
   "cell_type": "markdown",
   "metadata": {},
   "source": [
    "Все наблюдения датированы в промежутке c январь по апрель 2014 года"
   ]
  },
  {
   "cell_type": "code",
   "execution_count": null,
   "metadata": {},
   "outputs": [],
   "source": [
    "year = data['app_date'].apply(lambda x: x.year)\n",
    "year.value_counts()"
   ]
  },
  {
   "cell_type": "code",
   "execution_count": null,
   "metadata": {},
   "outputs": [],
   "source": [
    "month = data['app_date'].apply(lambda x: x.month).rename('month', inplace=True)\n",
    "\n",
    "month.value_counts()"
   ]
  },
  {
   "cell_type": "code",
   "execution_count": null,
   "metadata": {},
   "outputs": [],
   "source": [
    "weekday = data['app_date'].apply(lambda x: x.weekday()).rename('weekday', inplace=True)\n",
    "\n",
    "weekday.value_counts()"
   ]
  },
  {
   "cell_type": "code",
   "execution_count": null,
   "metadata": {},
   "outputs": [],
   "source": [
    "day = data['app_date'].apply(lambda x: x.day).rename('day', inplace=True)\n",
    "\n",
    "day.value_counts()"
   ]
  },
  {
   "cell_type": "code",
   "execution_count": null,
   "metadata": {},
   "outputs": [],
   "source": [
    "# Добавим дополнительные признаки месяц и день недели подачи заявки и :\n",
    "data_proc = pd.concat([data, month, weekday, day], axis=1)\n",
    "\n",
    "\n"
   ]
  },
  {
   "cell_type": "code",
   "execution_count": null,
   "metadata": {},
   "outputs": [],
   "source": [
    "data_proc[data_proc['sample']==1]['month']"
   ]
  },
  {
   "cell_type": "code",
   "execution_count": null,
   "metadata": {},
   "outputs": [],
   "source": [
    "data_proc[data_proc['sample']==1].pivot_table(index=['month'], values='default', aggfunc='mean', fill_value=0).sort_values(['default']) #Чем больше mean, тем больше дефолтов"
   ]
  },
  {
   "cell_type": "code",
   "execution_count": null,
   "metadata": {},
   "outputs": [],
   "source": [
    "plt.figure()\n",
    "sns.distplot(data_proc['month'][(data_proc['default'] == 0) & (data_proc['sample'] == 1)], hist=True, kde = True, rug=False, bins=4)\n",
    "sns.distplot(data_proc['month'][data_proc['default'] == 1], hist=True, kde = True, rug=False, bins=4)\n",
    "plt.title('month')\n",
    "#plt.xlim(0,100000)\n",
    "plt.show()"
   ]
  },
  {
   "cell_type": "code",
   "execution_count": null,
   "metadata": {},
   "outputs": [],
   "source": [
    "sns.boxplot(y='month', x='default', hue='default', data=data_proc[data_proc['sample']==1], palette=\"Set3\")"
   ]
  },
  {
   "cell_type": "code",
   "execution_count": null,
   "metadata": {},
   "outputs": [],
   "source": [
    "data_proc[data_proc['sample']==1].pivot_table(index=['weekday'], values='default', aggfunc='mean', fill_value=0).sort_values(['default']) #Чем больше mean, тем больше дефолтов"
   ]
  },
  {
   "cell_type": "code",
   "execution_count": null,
   "metadata": {},
   "outputs": [],
   "source": [
    "plt.figure()\n",
    "sns.distplot(data_proc['weekday'][data['default'] == 0], hist=True, kde = True, rug=False, bins=7)\n",
    "sns.distplot(data_proc['weekday'][data['default'] == 1], hist=True, kde = True, rug=False, bins=7)\n",
    "plt.title('weekday')\n",
    "#plt.xlim(0,100000)\n",
    "plt.show()"
   ]
  },
  {
   "cell_type": "code",
   "execution_count": null,
   "metadata": {},
   "outputs": [],
   "source": [
    "sns.boxplot(y='weekday', x='default', hue='default', data=data_proc[data_proc['sample']==1], palette=\"Set3\")"
   ]
  },
  {
   "cell_type": "code",
   "execution_count": null,
   "metadata": {},
   "outputs": [],
   "source": [
    "data_proc[data_proc['sample']==1].pivot_table(index=['day'], values='default', aggfunc='mean', fill_value=0).sort_values(['default']) #Чем больше mean, тем больше дефолтов"
   ]
  },
  {
   "cell_type": "code",
   "execution_count": null,
   "metadata": {},
   "outputs": [],
   "source": [
    "plt.figure()\n",
    "sns.distplot(data_proc['day'][data['default'] == 0], hist=True, kde = True, rug=False, bins=30)\n",
    "sns.distplot(data_proc['day'][data['default'] == 1], hist=True, kde = True, rug=False, bins=30)\n",
    "plt.title('day')\n",
    "#plt.xlim(0,100000)\n",
    "plt.show()"
   ]
  },
  {
   "cell_type": "code",
   "execution_count": null,
   "metadata": {},
   "outputs": [],
   "source": [
    "sns.boxplot(y='day', x='default', hue='default', data=data_proc[data_proc['sample']==1], palette=\"Set3\")"
   ]
  },
  {
   "cell_type": "markdown",
   "metadata": {},
   "source": [
    "Вывод: количество дефолтов скорее не зависит или слабо зависит от дня месяца или недели. При рассмотрении по месяцам, кажется, что в первый месяц дефолтов было больше, потом их количество снижалось. Этот признак можно будет использовать для построения модели."
   ]
  },
  {
   "cell_type": "markdown",
   "metadata": {},
   "source": [
    "## sex"
   ]
  },
  {
   "cell_type": "code",
   "execution_count": null,
   "metadata": {},
   "outputs": [],
   "source": [
    "data['sex'].value_counts()"
   ]
  },
  {
   "cell_type": "code",
   "execution_count": null,
   "metadata": {},
   "outputs": [],
   "source": [
    "# Преобразуем значения в числа с помощью LabelEncoder\n",
    "label_encoder = LabelEncoder()\n",
    "data_proc['sex'] = label_encoder.fit_transform(data['sex'])\n",
    "print('sex', dict(enumerate(label_encoder.classes_)))"
   ]
  },
  {
   "cell_type": "code",
   "execution_count": null,
   "metadata": {},
   "outputs": [],
   "source": [
    "data_proc[data_proc['sample']==1].pivot_table(index=['sex'], values='default', aggfunc='mean', fill_value=0).sort_values(['default']) #Чем больше mean, тем больше дефолтов"
   ]
  },
  {
   "cell_type": "code",
   "execution_count": null,
   "metadata": {},
   "outputs": [],
   "source": [
    "plt.figure()\n",
    "sns.distplot(data_proc['sex'][data['default'] == 0], hist=True, kde = True, rug=False, bins=2)\n",
    "sns.distplot(data_proc['sex'][data['default'] == 1], hist=True, kde = True, rug=False, bins=2)\n",
    "plt.title('sex')\n",
    "#plt.xlim(0,100000)\n",
    "plt.show()"
   ]
  },
  {
   "cell_type": "markdown",
   "metadata": {},
   "source": [
    "## age"
   ]
  },
  {
   "cell_type": "code",
   "execution_count": null,
   "metadata": {},
   "outputs": [],
   "source": [
    "plt.figure()\n",
    "sns.distplot(data_proc['age'], hist=True, kde = False, rug=False)\n",
    "plt.title('age')\n",
    "plt.show()"
   ]
  },
  {
   "cell_type": "code",
   "execution_count": null,
   "metadata": {},
   "outputs": [],
   "source": [
    "sns.boxplot(y='age', x='default', hue='default', data=data_proc[data_proc['sample']==1], palette=\"Set3\")"
   ]
  },
  {
   "cell_type": "code",
   "execution_count": null,
   "metadata": {},
   "outputs": [],
   "source": [
    "plt.figure()\n",
    "sns.distplot(data_proc['age'][(data_proc['default'] == 0)  & (data_proc['sample']==1)], hist=True, kde = True, rug=False, bins=35)\n",
    "sns.distplot(data_proc['age'][data_proc['default'] == 1], hist=True, kde = True, rug=False, bins=35)\n",
    "plt.title('age')\n",
    "#plt.xlim(0,100000)\n",
    "plt.show()"
   ]
  },
  {
   "cell_type": "markdown",
   "metadata": {},
   "source": [
    "Видно, что дефолты происходят немного чаще у людей более молодого возраста. Добавим новый призна 'age_40', который равен 1, если возраст > 40, и 0, если возраст < 40."
   ]
  },
  {
   "cell_type": "code",
   "execution_count": null,
   "metadata": {},
   "outputs": [],
   "source": [
    "data_proc['age']"
   ]
  },
  {
   "cell_type": "code",
   "execution_count": null,
   "metadata": {},
   "outputs": [],
   "source": [
    "data_proc['age_40'] = data_proc['age'].apply(lambda x: 1 if 40<=x else 0)"
   ]
  },
  {
   "cell_type": "code",
   "execution_count": null,
   "metadata": {},
   "outputs": [],
   "source": [
    "plt.figure()\n",
    "sns.distplot(data_proc['age_40'][data['default'] == 0  & (data_proc['sample']==1)], hist=True, kde = True, rug=False, bins=35)\n",
    "sns.distplot(data_proc['age_40'][data['default'] == 1], hist=True, kde = True, rug=False, bins=35)\n",
    "plt.title('age_40')\n",
    "#plt.xlim(0,100000)\n",
    "plt.show()"
   ]
  },
  {
   "cell_type": "code",
   "execution_count": null,
   "metadata": {},
   "outputs": [],
   "source": [
    "data_proc[data_proc['sample']==1].pivot_table(index=['age_40'], values='default', aggfunc='mean', fill_value=0).sort_values(['default']) #Чем больше mean, тем больше дефолтов"
   ]
  },
  {
   "cell_type": "markdown",
   "metadata": {},
   "source": [
    "## car"
   ]
  },
  {
   "cell_type": "code",
   "execution_count": null,
   "metadata": {},
   "outputs": [],
   "source": [
    "data['car'].value_counts()"
   ]
  },
  {
   "cell_type": "code",
   "execution_count": null,
   "metadata": {},
   "outputs": [],
   "source": [
    "# Чтобы выразить значения бинарного признака в форме чисел, используем LabelEncoder\n",
    "label_encoder = LabelEncoder()\n",
    "data_proc['car'] = label_encoder.fit_transform(data_proc['car'])\n",
    "print('car', dict(enumerate(label_encoder.classes_)))"
   ]
  },
  {
   "cell_type": "code",
   "execution_count": null,
   "metadata": {},
   "outputs": [],
   "source": [
    "plt.figure()\n",
    "sns.distplot(data_proc['car'][(data_proc['default'] == 0) & (data_proc['sample']==1)], hist=True, kde = True, rug=False, bins=2)\n",
    "sns.distplot(data_proc['car'][data_proc['default'] == 1], hist=True, kde = True, rug=False, bins=2)\n",
    "plt.title('car')\n",
    "#plt.xlim(0,100000)\n",
    "plt.show()"
   ]
  },
  {
   "cell_type": "code",
   "execution_count": null,
   "metadata": {},
   "outputs": [],
   "source": [
    "data_proc[data_proc['sample']==1].pivot_table(index=['car'], values='default', aggfunc='mean', fill_value=0).sort_values(['default']) #Чем больше mean, тем больше дефолтов"
   ]
  },
  {
   "cell_type": "markdown",
   "metadata": {},
   "source": [
    "Случаев дефолтов меньше у людей с машиной"
   ]
  },
  {
   "cell_type": "markdown",
   "metadata": {},
   "source": [
    "## car_type"
   ]
  },
  {
   "cell_type": "code",
   "execution_count": null,
   "metadata": {},
   "outputs": [],
   "source": [
    "data['car_type'].value_counts()"
   ]
  },
  {
   "cell_type": "code",
   "execution_count": null,
   "metadata": {},
   "outputs": [],
   "source": [
    "data_proc['car_type'] = label_encoder.fit_transform(data_proc['car_type'])\n",
    "print('car_type', dict(enumerate(label_encoder.classes_)))"
   ]
  },
  {
   "cell_type": "code",
   "execution_count": null,
   "metadata": {},
   "outputs": [],
   "source": [
    "plt.figure()\n",
    "sns.distplot(data_proc['car_type'][(data_proc['default'] == 0)  & (data_proc['sample']==1)], hist=True, kde = True, rug=False, bins=2)\n",
    "sns.distplot(data_proc['car_type'][data_proc['default'] == 1], hist=True, kde = True, rug=False, bins=2)\n",
    "plt.title('car_type')\n",
    "#plt.xlim(0,100000)\n",
    "plt.show()"
   ]
  },
  {
   "cell_type": "code",
   "execution_count": null,
   "metadata": {},
   "outputs": [],
   "source": [
    "data_proc[data_proc['sample']==1].pivot_table(index=['car_type'], values='default', aggfunc='mean', fill_value=0).sort_values(['default']) #Чем больше mean, тем больше дефолтов"
   ]
  },
  {
   "cell_type": "code",
   "execution_count": null,
   "metadata": {},
   "outputs": [],
   "source": [
    "#Добавим признак 'car_type_all', который объединяет данные по машине: 0 - машины нет, 1 - машина не иномарка, 2 - машина - иномарка\n",
    "data_proc['car_all'] = data_proc['car'] + data_proc['car_type']"
   ]
  },
  {
   "cell_type": "code",
   "execution_count": null,
   "metadata": {},
   "outputs": [],
   "source": [
    "data_proc[data_proc['sample']==1].pivot_table(index=['car_all'], values='default', aggfunc='mean', fill_value=0).sort_values(['default']) #Чем больше mean, тем больше дефолтов"
   ]
  },
  {
   "cell_type": "markdown",
   "metadata": {},
   "source": [
    "Видно, что количество дефолтов у клиентов без машины и с отечественным автомобилем очень близки."
   ]
  },
  {
   "cell_type": "markdown",
   "metadata": {},
   "source": [
    "## decline_app_cnt"
   ]
  },
  {
   "cell_type": "code",
   "execution_count": null,
   "metadata": {},
   "outputs": [],
   "source": [
    "data['decline_app_cnt'].value_counts()"
   ]
  },
  {
   "cell_type": "code",
   "execution_count": null,
   "metadata": {},
   "outputs": [],
   "source": [
    "plt.figure()\n",
    "sns.distplot(data_proc['decline_app_cnt'][(data_proc['default'] == 0)  & (data_proc['sample']==1)], hist=True, kde = True, rug=False, bins=2)\n",
    "sns.distplot(data_proc['decline_app_cnt'][data_proc['default'] == 1], hist=True, kde = True, rug=False, bins=2)\n",
    "plt.title('decline_app_cnt')\n",
    "#plt.xlim(0,100000)\n",
    "plt.show()"
   ]
  },
  {
   "cell_type": "code",
   "execution_count": null,
   "metadata": {},
   "outputs": [],
   "source": [
    "ax= sns.boxplot(y='decline_app_cnt', x='default', hue='default', data=data_proc[data_proc['sample']==1], palette=\"Set3\")\n",
    "ax.set_ylim(0,5)"
   ]
  },
  {
   "cell_type": "code",
   "execution_count": null,
   "metadata": {},
   "outputs": [],
   "source": [
    "data_proc[data_proc['sample']==1].pivot_table(index=['decline_app_cnt'], values='default', aggfunc='mean', fill_value=0).sort_values(['decline_app_cnt']) #Чем больше mean, тем больше дефолтов"
   ]
  },
  {
   "cell_type": "markdown",
   "metadata": {},
   "source": [
    "В целом видна тенденция на увеличение количества дефолтов с увеличением числа отклонений, после 2 отклонений, значений слишком мало, чтобы оценить тенденцию, поэтому заменим все значения больше 2 на 2. что будет означать все случаи с числом отклонений более 2 раз. *Тестировались различные значения для замены, но в случае \"2\" количество выбросов было минимальным"
   ]
  },
  {
   "cell_type": "code",
   "execution_count": null,
   "metadata": {},
   "outputs": [],
   "source": [
    "data_proc['decline_app_cnt'] = data_proc['decline_app_cnt'].apply(lambda x: 2 if x>2 else x)"
   ]
  },
  {
   "cell_type": "code",
   "execution_count": null,
   "metadata": {},
   "outputs": [],
   "source": [
    "data_proc[data_proc['sample']==1].pivot_table(index=['decline_app_cnt'], values='default', aggfunc='mean', fill_value=0).sort_values(['decline_app_cnt']) #Чем больше mean, тем больше дефолтов"
   ]
  },
  {
   "cell_type": "code",
   "execution_count": null,
   "metadata": {},
   "outputs": [],
   "source": [
    "data_proc[data_proc['sample'] == 1]['decline_app_cnt'].value_counts()"
   ]
  },
  {
   "cell_type": "code",
   "execution_count": null,
   "metadata": {},
   "outputs": [],
   "source": [
    "sns.boxplot(x='default', y= 'decline_app_cnt', data=data_proc[data_proc['sample'] == 1])"
   ]
  },
  {
   "cell_type": "markdown",
   "metadata": {},
   "source": [
    "## good_work"
   ]
  },
  {
   "cell_type": "code",
   "execution_count": null,
   "metadata": {},
   "outputs": [],
   "source": [
    "data['good_work'].value_counts()"
   ]
  },
  {
   "cell_type": "code",
   "execution_count": null,
   "metadata": {},
   "outputs": [],
   "source": [
    "data_proc[data_proc['sample']==1].pivot_table(index=['good_work'], values='default', aggfunc='mean', fill_value=0).sort_values(['default']) #Чем больше mean, тем больше дефолтов"
   ]
  },
  {
   "cell_type": "markdown",
   "metadata": {},
   "source": [
    "## score_bki"
   ]
  },
  {
   "cell_type": "code",
   "execution_count": null,
   "metadata": {},
   "outputs": [],
   "source": [
    "data['score_bki'].value_counts()"
   ]
  },
  {
   "cell_type": "code",
   "execution_count": null,
   "metadata": {},
   "outputs": [],
   "source": [
    "sns.boxplot(x='default', y= 'score_bki', data=data)\n",
    "#ax.set(ylim=(0, 5))"
   ]
  },
  {
   "cell_type": "code",
   "execution_count": null,
   "metadata": {},
   "outputs": [],
   "source": [
    "data['score_bki'].max()"
   ]
  },
  {
   "cell_type": "code",
   "execution_count": null,
   "metadata": {},
   "outputs": [],
   "source": [
    "data['score_bki'].min()"
   ]
  },
  {
   "cell_type": "code",
   "execution_count": null,
   "metadata": {},
   "outputs": [],
   "source": [
    "plt.figure()\n",
    "sns.distplot(data['score_bki'][(data['default'] == 0) & (data['sample'] == 1)], hist=True, kde = True, rug=False)\n",
    "sns.distplot(data['score_bki'][data['default'] == 1], hist=True, kde = True, rug=False)\n",
    "plt.title('score_bki')\n",
    "plt.show()"
   ]
  },
  {
   "cell_type": "markdown",
   "metadata": {},
   "source": [
    "Значения признака лежат в промежутке от -3.7 до 0.2. Такие значения скорингового балла не соответствуют ни одной из скоринговых систем. В то же время признак распределен нормально, без явных выбросов. "
   ]
  },
  {
   "cell_type": "markdown",
   "metadata": {},
   "source": [
    "## bki_request_cnt"
   ]
  },
  {
   "cell_type": "code",
   "execution_count": null,
   "metadata": {},
   "outputs": [],
   "source": [
    "data['bki_request_cnt'].value_counts()"
   ]
  },
  {
   "cell_type": "code",
   "execution_count": null,
   "metadata": {},
   "outputs": [],
   "source": [
    "data_proc[data_proc['sample']==1].pivot_table(index=['bki_request_cnt'], values='default', aggfunc='mean', fill_value=0).sort_values(['bki_request_cnt']) #Чем больше mean, тем больше дефолтовA"
   ]
  },
  {
   "cell_type": "markdown",
   "metadata": {},
   "source": [
    "Здесь также можно выделить тенденцию на увеличение дефолтов с увеличением количества запросов. Чтобы выделить тенденцию в явном виде, произведем замену значений: 7 - если запросов от 7 до 9, и 8 - если запросов 10 и больше"
   ]
  },
  {
   "cell_type": "code",
   "execution_count": null,
   "metadata": {},
   "outputs": [],
   "source": [
    "data_proc['bki_request_cnt'] = data['bki_request_cnt'].apply(lambda x: 7 if x in [7, 8, 9] else x).apply(lambda x: 8 if x >= 10 else x)"
   ]
  },
  {
   "cell_type": "code",
   "execution_count": null,
   "metadata": {},
   "outputs": [],
   "source": [
    "data_proc[data_proc['sample']==1].pivot_table(index=['bki_request_cnt'], values='default', aggfunc='mean', fill_value=0).sort_values(['bki_request_cnt']) #Чем больше mean, тем больше дефолтов"
   ]
  },
  {
   "cell_type": "code",
   "execution_count": null,
   "metadata": {},
   "outputs": [],
   "source": [
    "data_proc['bki_request_cnt'].value_counts()"
   ]
  },
  {
   "cell_type": "code",
   "execution_count": null,
   "metadata": {},
   "outputs": [],
   "source": [
    "sns.boxplot(x='default', y= 'bki_request_cnt', data=data_proc[data_proc['sample']==1])"
   ]
  },
  {
   "cell_type": "markdown",
   "metadata": {},
   "source": [
    "## region_rating"
   ]
  },
  {
   "cell_type": "code",
   "execution_count": null,
   "metadata": {},
   "outputs": [],
   "source": [
    "data['region_rating'].value_counts()"
   ]
  },
  {
   "cell_type": "code",
   "execution_count": null,
   "metadata": {},
   "outputs": [],
   "source": [
    "data_proc[data_proc['sample']==1].pivot_table(index=['region_rating'], values='default', aggfunc='mean', fill_value=0).sort_values(['region_rating']) #Чем больше mean, тем больше дефолтов"
   ]
  },
  {
   "cell_type": "markdown",
   "metadata": {},
   "source": [
    "Здесь также видна тенденция на сокращение количества дефолтов с увеличением рейтинга региона"
   ]
  },
  {
   "cell_type": "code",
   "execution_count": null,
   "metadata": {},
   "outputs": [],
   "source": [
    "sns.boxplot(x='default', y= 'region_rating', data=data_proc[data_proc['sample']==1])"
   ]
  },
  {
   "cell_type": "markdown",
   "metadata": {},
   "source": [
    "## home_address"
   ]
  },
  {
   "cell_type": "code",
   "execution_count": null,
   "metadata": {},
   "outputs": [],
   "source": [
    "data['home_address'].value_counts()"
   ]
  },
  {
   "cell_type": "code",
   "execution_count": null,
   "metadata": {},
   "outputs": [],
   "source": [
    "data_proc[data_proc['sample']==1].pivot_table(index=['home_address'], values='default', aggfunc='mean', fill_value=0).sort_values(['home_address']) #Чем больше mean, тем больше дефолтов"
   ]
  },
  {
   "cell_type": "code",
   "execution_count": null,
   "metadata": {},
   "outputs": [],
   "source": [
    "plt.figure()\n",
    "sns.distplot(data['home_address'][(data['default'] == 0) & (data['sample'] == 1)], hist=True, kde = True, rug=False)\n",
    "sns.distplot(data['home_address'][data['default'] == 1], hist=True, kde = True, rug=False)\n",
    "plt.title('home_address')\n",
    "plt.show()"
   ]
  },
  {
   "cell_type": "markdown",
   "metadata": {},
   "source": [
    "## work_address"
   ]
  },
  {
   "cell_type": "code",
   "execution_count": null,
   "metadata": {},
   "outputs": [],
   "source": [
    "data['work_address'].value_counts()"
   ]
  },
  {
   "cell_type": "code",
   "execution_count": null,
   "metadata": {},
   "outputs": [],
   "source": [
    "data[data['sample']==1].pivot_table(index=['work_address'], values='default', aggfunc='mean', fill_value=0).sort_values(['work_address']) #Чем больше mean, тем больше дефолтов"
   ]
  },
  {
   "cell_type": "code",
   "execution_count": null,
   "metadata": {},
   "outputs": [],
   "source": [
    "plt.figure()\n",
    "sns.distplot(data['work_address'][(data['default'] == 0) & (data['sample'] == 1)], hist=True, kde = True, rug=False)\n",
    "sns.distplot(data['work_address'][data['default'] == 1], hist=True, kde = True, rug=False)\n",
    "plt.title('work_address')\n",
    "plt.show()"
   ]
  },
  {
   "cell_type": "markdown",
   "metadata": {},
   "source": [
    "## income"
   ]
  },
  {
   "cell_type": "code",
   "execution_count": null,
   "metadata": {},
   "outputs": [],
   "source": [
    "data['income'].value_counts()"
   ]
  },
  {
   "cell_type": "code",
   "execution_count": null,
   "metadata": {},
   "outputs": [],
   "source": [
    "plt.figure()\n",
    "sns.distplot(data['income'][(data['default'] == 0) & (data['sample'] == 1)], hist=True, kde = True, rug=False)\n",
    "sns.distplot(data['income'][data['default'] == 1], hist=True, kde = True, rug=False)\n",
    "plt.title('income')\n",
    "plt.xlim(0,100000)\n",
    "plt.show()"
   ]
  },
  {
   "cell_type": "code",
   "execution_count": null,
   "metadata": {},
   "outputs": [],
   "source": [
    "data['income'].min()"
   ]
  },
  {
   "cell_type": "code",
   "execution_count": null,
   "metadata": {},
   "outputs": [],
   "source": [
    "data['income'].max()"
   ]
  },
  {
   "cell_type": "code",
   "execution_count": null,
   "metadata": {},
   "outputs": [],
   "source": [
    "sns.boxplot(x='default', y= 'income', data=data[data['sample'] == 1])\n",
    "#ax.set(ylim=(0, 5))"
   ]
  },
  {
   "cell_type": "markdown",
   "metadata": {},
   "source": [
    "Здесь много выбросов. Тем не менее заметно, что чем больше зарплата, тем меньше дефотов. Создадим новый признак, который показывает порядок зарплаты:"
   ]
  },
  {
   "cell_type": "code",
   "execution_count": null,
   "metadata": {},
   "outputs": [],
   "source": [
    "data_proc['income_rank'] = data['income'].apply(lambda x: round(np.log10(x)))"
   ]
  },
  {
   "cell_type": "code",
   "execution_count": null,
   "metadata": {},
   "outputs": [],
   "source": [
    "data_proc['income_rank'].value_counts()"
   ]
  },
  {
   "cell_type": "code",
   "execution_count": null,
   "metadata": {},
   "outputs": [],
   "source": [
    "data_proc[data['sample']==1].pivot_table(index=['income_rank'], values='default', aggfunc='mean', fill_value=0).sort_values(['income_rank']) #Чем больше mean, тем больше дефолтов"
   ]
  },
  {
   "cell_type": "markdown",
   "metadata": {},
   "source": [
    "Получилось, что при доходе уровня \"3\" - дефолтов не наблюдалось, но это может быть вызвано в том числе и из-за небольшого количества случаев. Объединим их с уровнем дохода \"4\". Для уровней дохода \"5\" и \"6\" разница маленькая, объединим и их тоже."
   ]
  },
  {
   "cell_type": "code",
   "execution_count": null,
   "metadata": {},
   "outputs": [],
   "source": [
    "data_proc['income_rank'] = data['income'].apply(lambda x: 0 if round(np.log10(x))<=4 else 1)"
   ]
  },
  {
   "cell_type": "code",
   "execution_count": null,
   "metadata": {},
   "outputs": [],
   "source": [
    "data_proc[data['sample']==1].pivot_table(index=['income_rank'], values='default', aggfunc='mean', fill_value=0).sort_values(['income_rank']) #Чем больше mean, тем больше дефолтов"
   ]
  },
  {
   "cell_type": "markdown",
   "metadata": {},
   "source": [
    "## sna"
   ]
  },
  {
   "cell_type": "code",
   "execution_count": null,
   "metadata": {},
   "outputs": [],
   "source": [
    "data['sna'].value_counts()"
   ]
  },
  {
   "cell_type": "code",
   "execution_count": null,
   "metadata": {},
   "outputs": [],
   "source": [
    "data_proc[data['sample']==1].pivot_table(index=['sna'], values='default', aggfunc='mean', fill_value=0).sort_values(['sna']) #Чем больше mean, тем больше дефолтов"
   ]
  },
  {
   "cell_type": "markdown",
   "metadata": {},
   "source": [
    "## first_time"
   ]
  },
  {
   "cell_type": "code",
   "execution_count": null,
   "metadata": {},
   "outputs": [],
   "source": [
    "data['first_time'].value_counts()"
   ]
  },
  {
   "cell_type": "code",
   "execution_count": null,
   "metadata": {},
   "outputs": [],
   "source": [
    "data_proc[data['sample']==1].pivot_table(index=['first_time'], values='default', aggfunc='mean', fill_value=0).sort_values(['first_time']) #Чем больше mean, тем больше дефолтов"
   ]
  },
  {
   "cell_type": "markdown",
   "metadata": {},
   "source": [
    "## foreign_passport"
   ]
  },
  {
   "cell_type": "code",
   "execution_count": null,
   "metadata": {},
   "outputs": [],
   "source": [
    "data['foreign_passport'].value_counts()"
   ]
  },
  {
   "cell_type": "code",
   "execution_count": null,
   "metadata": {},
   "outputs": [],
   "source": [
    "data_proc['foreign_passport'] = label_encoder.fit_transform(data_proc['foreign_passport'])\n",
    "print('foreign_passport', dict(enumerate(label_encoder.classes_)))"
   ]
  },
  {
   "cell_type": "code",
   "execution_count": null,
   "metadata": {},
   "outputs": [],
   "source": [
    "data_proc[data['sample']==1].pivot_table(index=['foreign_passport'], values='default', aggfunc='mean', fill_value=0).sort_values(['foreign_passport']) #Чем больше mean, тем больше дефолтов"
   ]
  },
  {
   "cell_type": "markdown",
   "metadata": {},
   "source": [
    "## default "
   ]
  },
  {
   "cell_type": "markdown",
   "metadata": {},
   "source": [
    "Проверим, достаточно ли образцов с каждым значением default. В этом случае используем df_train, так как только в этой таблице есть оригинальные значения."
   ]
  },
  {
   "cell_type": "code",
   "execution_count": null,
   "metadata": {},
   "outputs": [],
   "source": [
    "df_train['default'].value_counts()"
   ]
  },
  {
   "cell_type": "code",
   "execution_count": null,
   "metadata": {},
   "outputs": [],
   "source": [
    "plt.figure()\n",
    "sns.distplot(df_train['default'], hist=True, kde = False, rug=False, bins=2)\n",
    "plt.title('default')\n",
    "plt.show()"
   ]
  },
  {
   "cell_type": "markdown",
   "metadata": {},
   "source": [
    "Количество случаев с положительным исходом составляет ~1/7 от всех случаев. Таким образом делаем вывод, что случаев обоих исходов достаточное количество."
   ]
  },
  {
   "cell_type": "markdown",
   "metadata": {},
   "source": [
    "# Data Preprocessing"
   ]
  },
  {
   "cell_type": "code",
   "execution_count": null,
   "metadata": {},
   "outputs": [],
   "source": [
    "DATA_DIR = '/kaggle/input/scoring-ring/'\n",
    "df_train = pd.read_csv(DATA_DIR+'/train.csv')\n",
    "df_test = pd.read_csv(DATA_DIR+'/test.csv')\n",
    "sample_submission = pd.read_csv(DATA_DIR+'/sample_submission.csv')\n",
    "df_train['sample'] = 1 # помечаем трейн\n",
    "df_test['sample'] = 0 # помечаем тест\n",
    "df_test['default'] = 0 # в тесте нет значения default, его нужно предсказать, по этому пока заполняем нулями\n",
    "\n",
    "data = df_test.append(df_train, sort=False).reset_index(drop=True) # объединяем тест и трейн\n",
    "\n",
    "data.info()"
   ]
  },
  {
   "cell_type": "code",
   "execution_count": null,
   "metadata": {},
   "outputs": [],
   "source": [
    "del_col = ['app_date'] "
   ]
  },
  {
   "cell_type": "code",
   "execution_count": null,
   "metadata": {},
   "outputs": [],
   "source": [
    "def preproc_data(df_input):\n",
    "    \n",
    "    df_output = df_input.copy()\n",
    "    \n",
    "    '''Заполнение пропусков в признаке education'''\n",
    "    df_output['education'] = df_output['education'].apply(lambda x: 'N/A' if pd.isna(x) else x)\n",
    "    \n",
    "    '''Преобразование значений признака app_date во временной формат'''\n",
    "    df_output['app_date'] = df_output['app_date'].apply(lambda x: datetime.strptime(x, '%d%b%Y'))\n",
    "    \n",
    "    '''Новый признак month - месяц подачи заявки'''\n",
    "    df_output['month'] = df_output['app_date'].apply(lambda x: x.month).rename('month', inplace=True)\n",
    "    \n",
    "    '''Новый признак age_40 - бинарный признак'''\n",
    "    df_output['age_40'] = df_output['age'].apply(lambda x: 1 if 40<=x else 0)\n",
    "    \n",
    "    '''Преобразоваие значений признака decline_app_cnt - категориальный признак'''\n",
    "    df_output['decline_app_cnt'] = df_output['decline_app_cnt'].apply(lambda x: 2 if x>2 else x)\n",
    "    \n",
    "    '''Преобразоваие значений признака bki_request_cnt - категориальный признак'''\n",
    "    df_output['bki_request_cnt'] = df_output['bki_request_cnt'].apply(lambda x: 7 if x in [7, 8, 9] else x).apply(lambda x: 8 if x >= 10 else x)\n",
    "    \n",
    "    '''Новый признак income_rank - бинарный признак'''\n",
    "    df_output['income_rank'] = df_output['income'].apply(lambda x: 0 if round(np.log10(x))<=4 else 1)\n",
    "    \n",
    "    '''Список числовых признаков'''\n",
    "    num_cols = ['age', 'score_bki', 'income']\n",
    "    \n",
    "    '''Список категориальных признаков'''\n",
    "    cat_cols = ['education', 'decline_app_cnt', 'bki_request_cnt', 'region_rating', 'home_address', 'work_address', 'sna', 'first_time', 'month']\n",
    "    \n",
    "    '''Список бинарных признаков'''\n",
    "    bin_cols = ['sex', 'car', 'car_type', 'good_work', 'income_rank', 'foreign_passport']\n",
    "    \n",
    "    '''Стандартизация числовых признаков'''\n",
    "    for col in num_cols:\n",
    "        df_output[col] = StandardScaler().fit_transform(df_output[[col]].values)\n",
    "  \n",
    "    '''Генерация dummy-переменных для категориальных признаков'''\n",
    "    for col in cat_cols:\n",
    "        df_output = pd.get_dummies(df_output, columns=[col])\n",
    "    \n",
    "    '''Приведение бинарных признаков к числовому формату'''\n",
    "    for col in bin_cols:\n",
    "        df_output[col] = LabelEncoder().fit_transform(df_output[col])\n",
    "    \n",
    "    return df_output"
   ]
  },
  {
   "cell_type": "code",
   "execution_count": null,
   "metadata": {},
   "outputs": [],
   "source": [
    "df_preproc = preproc_data(data)"
   ]
  },
  {
   "cell_type": "code",
   "execution_count": null,
   "metadata": {},
   "outputs": [],
   "source": [
    "df_preproc.head(10)"
   ]
  },
  {
   "cell_type": "code",
   "execution_count": null,
   "metadata": {},
   "outputs": [],
   "source": [
    "df_preproc.info()"
   ]
  },
  {
   "cell_type": "code",
   "execution_count": null,
   "metadata": {},
   "outputs": [],
   "source": [
    "df_preproc.drop(['app_date'], axis = 1, inplace=True)"
   ]
  },
  {
   "cell_type": "code",
   "execution_count": null,
   "metadata": {},
   "outputs": [],
   "source": [
    "# Теперь выделим тестовую часть\n",
    "train_data = df_preproc.query('sample == 1').drop(['client_id','sample'], axis=1)\n",
    "test_data = df_preproc.query('sample == 0').drop(['client_id','sample'], axis=1)\n",
    "\n",
    "y = train_data['default'].values            # наш таргет\n",
    "X = train_data.drop(['default'], axis=1)"
   ]
  },
  {
   "cell_type": "code",
   "execution_count": null,
   "metadata": {},
   "outputs": [],
   "source": [
    "X_train, X_test, y_train, y_test = train_test_split(X, y, test_size=0.20, random_state=42)"
   ]
  },
  {
   "cell_type": "code",
   "execution_count": null,
   "metadata": {},
   "outputs": [],
   "source": [
    "model = LogisticRegression()\n",
    "model.fit(X_train, y_train)"
   ]
  },
  {
   "cell_type": "code",
   "execution_count": null,
   "metadata": {},
   "outputs": [],
   "source": [
    "probs = model.predict_proba(X_test)\n",
    "probs = probs[:,1]\n",
    "\n",
    "\n",
    "fpr, tpr, threshold = roc_curve(y_test, probs)\n",
    "roc_auc = roc_auc_score(y_test, probs)\n",
    "\n",
    "plt.figure()\n",
    "plt.plot([0, 1], label='Baseline', linestyle='--')\n",
    "plt.plot(fpr, tpr, label = 'Regression')\n",
    "plt.title('Logistic Regression ROC AUC = %0.3f' % roc_auc)\n",
    "plt.ylabel('True Positive Rate')\n",
    "plt.xlabel('False Positive Rate')\n",
    "plt.legend(loc = 'lower right')\n",
    "plt.show()"
   ]
  },
  {
   "cell_type": "code",
   "execution_count": null,
   "metadata": {},
   "outputs": [],
   "source": [
    "from sklearn.model_selection import GridSearchCV\n",
    "\n",
    "# Добавим типы регуляризации  penalty = ['l1', 'l2']\n",
    "penalty = ['l1','l2']\n",
    "\n",
    "# Зададим ограничения для параметра регуляризации\n",
    "C = np.logspace(0, 4, 10)\n",
    "\n",
    "# Создадим гиперпараметры\n",
    "hyperparameters = dict(C=C, penalty=['l2'])\n",
    "\n",
    "# Создаем сетку поиска с использованием 5-кратной перекрестной проверки\n",
    "clf = GridSearchCV(model, hyperparameters, cv=20, verbose=0)\n",
    "best_model = clf.fit(X_train, y_train)\n",
    "\n",
    "# View best hyperparameters\n",
    "print('Лучшее Penalty:', best_model.best_estimator_.get_params()['penalty'])\n",
    "print('Лучшее C:', best_model.best_estimator_.get_params()['C'])\n",
    "\n",
    "probs = best_model.predict_proba(X_test)\n",
    "probs = probs[:,1]\n",
    "print('roc_auc:', roc_auc_score(y_test, probs))"
   ]
  },
  {
   "cell_type": "code",
   "execution_count": null,
   "metadata": {},
   "outputs": [],
   "source": [
    "probs = best_model.predict_proba(X_test)\n",
    "probs = probs[:,1]\n",
    "\n",
    "\n",
    "fpr, tpr, threshold = roc_curve(y_test, probs)\n",
    "roc_auc = roc_auc_score(y_test, probs)\n",
    "\n",
    "plt.figure()\n",
    "plt.plot([0, 1], label='Baseline', linestyle='--')\n",
    "plt.plot(fpr, tpr, label = 'Regression')\n",
    "plt.title('Logistic Regression ROC AUC = %0.3f' % roc_auc)\n",
    "plt.ylabel('True Positive Rate')\n",
    "plt.xlabel('False Positive Rate')\n",
    "plt.legend(loc = 'lower right')\n",
    "plt.show()"
   ]
  },
  {
   "cell_type": "code",
   "execution_count": null,
   "metadata": {},
   "outputs": [],
   "source": [
    "# Используем класс LogisticRegressionCV.\n",
    "from sklearn.linear_model import LogisticRegressionCV\n",
    "\n",
    "# Сначала для значения penalty = 'l1'\n",
    "for solver in ['saga', 'liblinear']:\n",
    "    clf = LogisticRegressionCV(cv=5, random_state=0, verbose=0, penalty='l1', solver=solver).fit(X_train, y_train)\n",
    "    probs = clf.predict_proba(X_test)\n",
    "    probs = probs[:,1]\n",
    "    print (\"penalty = 'l1', solver = '\", solver, \"'roc_auc = \", roc_auc_score(y_test, probs))"
   ]
  },
  {
   "cell_type": "code",
   "execution_count": null,
   "metadata": {},
   "outputs": [],
   "source": [
    "# Теперь для значения penalty = 'l2'\n",
    "for solver in ['newton-cg', 'lbfgs', 'sag']:\n",
    "    clf = LogisticRegressionCV(cv=5, random_state=0, verbose=0, penalty='l2', solver=solver).fit(X_train, y_train)\n",
    "    best_model = clf.fit(X_train, y_train)\n",
    "    probs = clf.predict_proba(X_test)\n",
    "    probs = probs[:,1]\n",
    "    print (\"penalty = 'l2', solver = '\", solver, \"'roc_auc = \", roc_auc_score(y_test, probs))\n"
   ]
  },
  {
   "cell_type": "code",
   "execution_count": null,
   "metadata": {},
   "outputs": [],
   "source": [
    "clf = LogisticRegressionCV(cv=5, random_state=0, verbose=0, penalty='elasticnet', solver='saga', l1_ratios=[0.5]).fit(X_train, y_train)\n",
    "probs = clf.predict_proba(X_test)\n",
    "probs = probs[:,1]\n",
    "print (\"penalty = 'elasticnet', solver = 'saga', 'roc_auc = \", roc_auc_score(y_test, probs))"
   ]
  },
  {
   "cell_type": "code",
   "execution_count": null,
   "metadata": {},
   "outputs": [],
   "source": [
    "best_model = LogisticRegressionCV(cv=5, random_state=0).fit(X_train, y_train)\n",
    "\n",
    "probs = best_model.predict_proba(X_test)\n",
    "probs = probs[:,1]\n",
    "\n",
    "\n",
    "fpr, tpr, threshold = roc_curve(y_test, probs)\n",
    "roc_auc = roc_auc_score(y_test, probs)\n",
    "\n",
    "plt.figure()\n",
    "plt.plot([0, 1], label='Baseline', linestyle='--')\n",
    "plt.plot(fpr, tpr, label = 'Regression')\n",
    "plt.title('Logistic Regression ROC AUC = %0.3f' % roc_auc)\n",
    "plt.ylabel('True Positive Rate')\n",
    "plt.xlabel('False Positive Rate')\n",
    "plt.legend(loc = 'lower right')\n",
    "plt.show()"
   ]
  },
  {
   "cell_type": "code",
   "execution_count": null,
   "metadata": {},
   "outputs": [],
   "source": [
    "best_model.get_params()"
   ]
  },
  {
   "cell_type": "markdown",
   "metadata": {},
   "source": [
    "# Submission"
   ]
  },
  {
   "cell_type": "code",
   "execution_count": null,
   "metadata": {},
   "outputs": [],
   "source": [
    "test_data = df_preproc.query('sample == 0').drop(['sample','default'], axis=1)"
   ]
  },
  {
   "cell_type": "code",
   "execution_count": null,
   "metadata": {},
   "outputs": [],
   "source": [
    "test_data.info()"
   ]
  },
  {
   "cell_type": "code",
   "execution_count": null,
   "metadata": {},
   "outputs": [],
   "source": [
    "best_model = GridSearchCV(model, hyperparameters, cv=20, verbose=0).fit(X_train, y_train)\n",
    "y_pred = best_model.predict_proba(test_data.drop(['client_id'], axis=1))\n",
    "test_data['default'] = y_pred[:, 1]\n",
    "sample_submission = test_data[['client_id','default']]\n",
    "sample_submission"
   ]
  },
  {
   "cell_type": "code",
   "execution_count": null,
   "metadata": {},
   "outputs": [],
   "source": [
    "sample_submission.to_csv('sample_submission.csv', index = False)"
   ]
  },
  {
   "cell_type": "code",
   "execution_count": null,
   "metadata": {},
   "outputs": [],
   "source": []
  }
 ],
 "metadata": {
  "kernelspec": {
   "display_name": "Python 3",
   "language": "python",
   "name": "python3"
  },
  "language_info": {
   "codemirror_mode": {
    "name": "ipython",
    "version": 3
   },
   "file_extension": ".py",
   "mimetype": "text/x-python",
   "name": "python",
   "nbconvert_exporter": "python",
   "pygments_lexer": "ipython3",
   "version": "3.7.6"
  }
 },
 "nbformat": 4,
 "nbformat_minor": 4
}
