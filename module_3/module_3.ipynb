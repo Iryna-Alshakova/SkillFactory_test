{
 "cells": [
  {
   "cell_type": "markdown",
   "metadata": {},
   "source": [
    "![](https://www.pata.org/wp-content/uploads/2014/09/TripAdvisor_Logo-300x119.png)\n",
    "# Predict TripAdvisor Rating\n",
    "## В этом соревновании нам предстоит предсказать рейтинг ресторана в TripAdvisor\n",
    "**По ходу задачи:**\n",
    "* Прокачаем работу с pandas\n",
    "* Научимся работать с Kaggle Notebooks\n",
    "* Поймем как делать предобработку различных данных\n",
    "* Научимся работать с пропущенными данными (Nan)\n",
    "* Познакомимся с различными видами кодирования признаков\n",
    "* Немного попробуем [Feature Engineering](https://ru.wikipedia.org/wiki/Конструирование_признаков) (генерировать новые признаки)\n",
    "* И совсем немного затронем ML\n",
    "* И многое другое...   \n",
    "\n",
    "\n",
    "\n",
    "### И самое важное, все это вы сможете сделать самостоятельно!\n",
    "\n",
    "*Этот Ноутбук являетсся Примером/Шаблоном к этому соревнованию (Baseline) и не служит готовым решением!*   \n",
    "Вы можете использовать его как основу для построения своего решения.\n",
    "\n",
    "> что такое baseline решение, зачем оно нужно и почему предоставлять baseline к соревнованию стало важным стандартом на kaggle и других площадках.   \n",
    "**baseline** создается больше как шаблон, где можно посмотреть как происходит обращение с входящими данными и что нужно получить на выходе. При этом МЛ начинка может быть достаточно простой, просто для примера. Это помогает быстрее приступить к самому МЛ, а не тратить ценное время на чисто инженерные задачи. \n",
    "Также baseline являеться хорошей опорной точкой по метрике. Если твое решение хуже baseline - ты явно делаешь что-то не то и стоит попробовать другой путь) \n",
    "\n",
    "В контексте нашего соревнования baseline идет с небольшими примерами того, что можно делать с данными, и с инструкцией, что делать дальше, чтобы улучшить результат.  Вообще готовым решением это сложно назвать, так как используются всего 2 самых простых признака (а остальные исключаются)."
   ]
  },
  {
   "cell_type": "markdown",
   "metadata": {},
   "source": [
    "# import"
   ]
  },
  {
   "cell_type": "code",
   "execution_count": 1,
   "metadata": {
    "_cell_guid": "b1076dfc-b9ad-4769-8c92-a6c4dae69d19",
    "_uuid": "8f2839f25d086af736a60e9eeb907d3b93b6e0e5"
   },
   "outputs": [],
   "source": [
    "# This Python 3 environment comes with many helpful analytics libraries installed\n",
    "# It is defined by the kaggle/python docker image: https://github.com/kaggle/docker-python\n",
    "# For example, here's several helpful packages to load in \n",
    "\n",
    "import numpy as np # linear algebra\n",
    "import pandas as pd # data processing, CSV file I/O (e.g. pd.read_csv)\n",
    "\n",
    "import matplotlib.pyplot as plt\n",
    "import seaborn as sns \n",
    "%matplotlib inline\n",
    "\n",
    "# Загружаем специальный удобный инструмент для разделения датасета:\n",
    "from sklearn.model_selection import train_test_split\n",
    "\n",
    "# Input data files are available in the \"../input/\" directory.\n",
    "# For example, running this (by clicking run or pressing Shift+Enter) will list all files under the input directory\n",
    "\n",
    "import os\n",
    "for dirname, _, filenames in os.walk('/kaggle/input'):\n",
    "    for filename in filenames:\n",
    "        print(os.path.join(dirname, filename))\n",
    "\n",
    "# Any results you write to the current directory are saved as output."
   ]
  },
  {
   "cell_type": "code",
   "execution_count": 2,
   "metadata": {},
   "outputs": [],
   "source": [
    "from datetime import datetime\n",
    "import re"
   ]
  },
  {
   "cell_type": "code",
   "execution_count": 3,
   "metadata": {},
   "outputs": [],
   "source": [
    "# всегда фиксируйте RANDOM_SEED, чтобы ваши эксперименты были воспроизводимы!\n",
    "RANDOM_SEED = 42"
   ]
  },
  {
   "cell_type": "code",
   "execution_count": 4,
   "metadata": {},
   "outputs": [],
   "source": [
    "# зафиксируем версию пакетов, чтобы эксперименты были воспроизводимы:\n",
    "!pip freeze > requirements.txt"
   ]
  },
  {
   "cell_type": "markdown",
   "metadata": {},
   "source": [
    "# DATA"
   ]
  },
  {
   "cell_type": "code",
   "execution_count": 5,
   "metadata": {
    "_cell_guid": "79c7e3d0-c299-4dcb-8224-4455121ee9b0",
    "_uuid": "d629ff2d2480ee46fbb7e2d37f6b5fab8052498a"
   },
   "outputs": [],
   "source": [
    "df_train = pd.read_csv('main_task.csv')\n",
    "df_test = pd.read_csv('kaggle_task.csv')\n",
    "sample_submission = pd.read_csv('sample_submission.csv')"
   ]
  },
  {
   "cell_type": "code",
   "execution_count": 6,
   "metadata": {},
   "outputs": [
    {
     "name": "stdout",
     "output_type": "stream",
     "text": [
      "<class 'pandas.core.frame.DataFrame'>\n",
      "RangeIndex: 40000 entries, 0 to 39999\n",
      "Data columns (total 10 columns):\n",
      " #   Column             Non-Null Count  Dtype  \n",
      "---  ------             --------------  -----  \n",
      " 0   Restaurant_id      40000 non-null  object \n",
      " 1   City               40000 non-null  object \n",
      " 2   Cuisine Style      30717 non-null  object \n",
      " 3   Ranking            40000 non-null  float64\n",
      " 4   Rating             40000 non-null  float64\n",
      " 5   Price Range        26114 non-null  object \n",
      " 6   Number of Reviews  37457 non-null  float64\n",
      " 7   Reviews            40000 non-null  object \n",
      " 8   URL_TA             40000 non-null  object \n",
      " 9   ID_TA              40000 non-null  object \n",
      "dtypes: float64(3), object(7)\n",
      "memory usage: 3.1+ MB\n"
     ]
    }
   ],
   "source": [
    "df_train.info()"
   ]
  },
  {
   "cell_type": "code",
   "execution_count": 7,
   "metadata": {},
   "outputs": [
    {
     "data": {
      "text/html": [
       "<div>\n",
       "<style scoped>\n",
       "    .dataframe tbody tr th:only-of-type {\n",
       "        vertical-align: middle;\n",
       "    }\n",
       "\n",
       "    .dataframe tbody tr th {\n",
       "        vertical-align: top;\n",
       "    }\n",
       "\n",
       "    .dataframe thead th {\n",
       "        text-align: right;\n",
       "    }\n",
       "</style>\n",
       "<table border=\"1\" class=\"dataframe\">\n",
       "  <thead>\n",
       "    <tr style=\"text-align: right;\">\n",
       "      <th></th>\n",
       "      <th>Restaurant_id</th>\n",
       "      <th>City</th>\n",
       "      <th>Cuisine Style</th>\n",
       "      <th>Ranking</th>\n",
       "      <th>Rating</th>\n",
       "      <th>Price Range</th>\n",
       "      <th>Number of Reviews</th>\n",
       "      <th>Reviews</th>\n",
       "      <th>URL_TA</th>\n",
       "      <th>ID_TA</th>\n",
       "    </tr>\n",
       "  </thead>\n",
       "  <tbody>\n",
       "    <tr>\n",
       "      <th>0</th>\n",
       "      <td>id_5569</td>\n",
       "      <td>Paris</td>\n",
       "      <td>['European', 'French', 'International']</td>\n",
       "      <td>5570.0</td>\n",
       "      <td>3.5</td>\n",
       "      <td>$$ - $$$</td>\n",
       "      <td>194.0</td>\n",
       "      <td>[['Good food at your doorstep', 'A good hotel ...</td>\n",
       "      <td>/Restaurant_Review-g187147-d1912643-Reviews-R_...</td>\n",
       "      <td>d1912643</td>\n",
       "    </tr>\n",
       "    <tr>\n",
       "      <th>1</th>\n",
       "      <td>id_1535</td>\n",
       "      <td>Stockholm</td>\n",
       "      <td>NaN</td>\n",
       "      <td>1537.0</td>\n",
       "      <td>4.0</td>\n",
       "      <td>NaN</td>\n",
       "      <td>10.0</td>\n",
       "      <td>[['Unique cuisine', 'Delicious Nepalese food']...</td>\n",
       "      <td>/Restaurant_Review-g189852-d7992032-Reviews-Bu...</td>\n",
       "      <td>d7992032</td>\n",
       "    </tr>\n",
       "    <tr>\n",
       "      <th>2</th>\n",
       "      <td>id_352</td>\n",
       "      <td>London</td>\n",
       "      <td>['Japanese', 'Sushi', 'Asian', 'Grill', 'Veget...</td>\n",
       "      <td>353.0</td>\n",
       "      <td>4.5</td>\n",
       "      <td>$$$$</td>\n",
       "      <td>688.0</td>\n",
       "      <td>[['Catch up with friends', 'Not exceptional'],...</td>\n",
       "      <td>/Restaurant_Review-g186338-d8632781-Reviews-RO...</td>\n",
       "      <td>d8632781</td>\n",
       "    </tr>\n",
       "    <tr>\n",
       "      <th>3</th>\n",
       "      <td>id_3456</td>\n",
       "      <td>Berlin</td>\n",
       "      <td>NaN</td>\n",
       "      <td>3458.0</td>\n",
       "      <td>5.0</td>\n",
       "      <td>NaN</td>\n",
       "      <td>3.0</td>\n",
       "      <td>[[], []]</td>\n",
       "      <td>/Restaurant_Review-g187323-d1358776-Reviews-Es...</td>\n",
       "      <td>d1358776</td>\n",
       "    </tr>\n",
       "    <tr>\n",
       "      <th>4</th>\n",
       "      <td>id_615</td>\n",
       "      <td>Munich</td>\n",
       "      <td>['German', 'Central European', 'Vegetarian Fri...</td>\n",
       "      <td>621.0</td>\n",
       "      <td>4.0</td>\n",
       "      <td>$$ - $$$</td>\n",
       "      <td>84.0</td>\n",
       "      <td>[['Best place to try a Bavarian food', 'Nice b...</td>\n",
       "      <td>/Restaurant_Review-g187309-d6864963-Reviews-Au...</td>\n",
       "      <td>d6864963</td>\n",
       "    </tr>\n",
       "  </tbody>\n",
       "</table>\n",
       "</div>"
      ],
      "text/plain": [
       "  Restaurant_id       City                                      Cuisine Style  \\\n",
       "0       id_5569      Paris            ['European', 'French', 'International']   \n",
       "1       id_1535  Stockholm                                                NaN   \n",
       "2        id_352     London  ['Japanese', 'Sushi', 'Asian', 'Grill', 'Veget...   \n",
       "3       id_3456     Berlin                                                NaN   \n",
       "4        id_615     Munich  ['German', 'Central European', 'Vegetarian Fri...   \n",
       "\n",
       "   Ranking  Rating Price Range  Number of Reviews  \\\n",
       "0   5570.0     3.5    $$ - $$$              194.0   \n",
       "1   1537.0     4.0         NaN               10.0   \n",
       "2    353.0     4.5        $$$$              688.0   \n",
       "3   3458.0     5.0         NaN                3.0   \n",
       "4    621.0     4.0    $$ - $$$               84.0   \n",
       "\n",
       "                                             Reviews  \\\n",
       "0  [['Good food at your doorstep', 'A good hotel ...   \n",
       "1  [['Unique cuisine', 'Delicious Nepalese food']...   \n",
       "2  [['Catch up with friends', 'Not exceptional'],...   \n",
       "3                                           [[], []]   \n",
       "4  [['Best place to try a Bavarian food', 'Nice b...   \n",
       "\n",
       "                                              URL_TA     ID_TA  \n",
       "0  /Restaurant_Review-g187147-d1912643-Reviews-R_...  d1912643  \n",
       "1  /Restaurant_Review-g189852-d7992032-Reviews-Bu...  d7992032  \n",
       "2  /Restaurant_Review-g186338-d8632781-Reviews-RO...  d8632781  \n",
       "3  /Restaurant_Review-g187323-d1358776-Reviews-Es...  d1358776  \n",
       "4  /Restaurant_Review-g187309-d6864963-Reviews-Au...  d6864963  "
      ]
     },
     "execution_count": 7,
     "metadata": {},
     "output_type": "execute_result"
    }
   ],
   "source": [
    "df_train.head(5)"
   ]
  },
  {
   "cell_type": "code",
   "execution_count": 8,
   "metadata": {},
   "outputs": [
    {
     "name": "stdout",
     "output_type": "stream",
     "text": [
      "<class 'pandas.core.frame.DataFrame'>\n",
      "RangeIndex: 10000 entries, 0 to 9999\n",
      "Data columns (total 9 columns):\n",
      " #   Column             Non-Null Count  Dtype  \n",
      "---  ------             --------------  -----  \n",
      " 0   Restaurant_id      10000 non-null  object \n",
      " 1   City               10000 non-null  object \n",
      " 2   Cuisine Style      7693 non-null   object \n",
      " 3   Ranking            10000 non-null  float64\n",
      " 4   Price Range        6525 non-null   object \n",
      " 5   Number of Reviews  9343 non-null   float64\n",
      " 6   Reviews            9998 non-null   object \n",
      " 7   URL_TA             10000 non-null  object \n",
      " 8   ID_TA              10000 non-null  object \n",
      "dtypes: float64(2), object(7)\n",
      "memory usage: 703.2+ KB\n"
     ]
    }
   ],
   "source": [
    "df_test.info()"
   ]
  },
  {
   "cell_type": "code",
   "execution_count": 9,
   "metadata": {},
   "outputs": [
    {
     "data": {
      "text/html": [
       "<div>\n",
       "<style scoped>\n",
       "    .dataframe tbody tr th:only-of-type {\n",
       "        vertical-align: middle;\n",
       "    }\n",
       "\n",
       "    .dataframe tbody tr th {\n",
       "        vertical-align: top;\n",
       "    }\n",
       "\n",
       "    .dataframe thead th {\n",
       "        text-align: right;\n",
       "    }\n",
       "</style>\n",
       "<table border=\"1\" class=\"dataframe\">\n",
       "  <thead>\n",
       "    <tr style=\"text-align: right;\">\n",
       "      <th></th>\n",
       "      <th>Restaurant_id</th>\n",
       "      <th>City</th>\n",
       "      <th>Cuisine Style</th>\n",
       "      <th>Ranking</th>\n",
       "      <th>Price Range</th>\n",
       "      <th>Number of Reviews</th>\n",
       "      <th>Reviews</th>\n",
       "      <th>URL_TA</th>\n",
       "      <th>ID_TA</th>\n",
       "    </tr>\n",
       "  </thead>\n",
       "  <tbody>\n",
       "    <tr>\n",
       "      <th>0</th>\n",
       "      <td>id_0</td>\n",
       "      <td>Paris</td>\n",
       "      <td>['Bar', 'Pub']</td>\n",
       "      <td>12963.0</td>\n",
       "      <td>$$ - $$$</td>\n",
       "      <td>4.0</td>\n",
       "      <td>[[], []]</td>\n",
       "      <td>/Restaurant_Review-g187147-d10746918-Reviews-L...</td>\n",
       "      <td>d10746918</td>\n",
       "    </tr>\n",
       "    <tr>\n",
       "      <th>1</th>\n",
       "      <td>id_1</td>\n",
       "      <td>Helsinki</td>\n",
       "      <td>['European', 'Scandinavian', 'Gluten Free Opti...</td>\n",
       "      <td>106.0</td>\n",
       "      <td>$$ - $$$</td>\n",
       "      <td>97.0</td>\n",
       "      <td>[['Very good reviews!', 'Fine dining in Hakani...</td>\n",
       "      <td>/Restaurant_Review-g189934-d6674944-Reviews-Ra...</td>\n",
       "      <td>d6674944</td>\n",
       "    </tr>\n",
       "    <tr>\n",
       "      <th>2</th>\n",
       "      <td>id_2</td>\n",
       "      <td>Edinburgh</td>\n",
       "      <td>['Vegetarian Friendly']</td>\n",
       "      <td>810.0</td>\n",
       "      <td>$$ - $$$</td>\n",
       "      <td>28.0</td>\n",
       "      <td>[['Better than the Links', 'Ivy Black'], ['12/...</td>\n",
       "      <td>/Restaurant_Review-g186525-d13129638-Reviews-B...</td>\n",
       "      <td>d13129638</td>\n",
       "    </tr>\n",
       "    <tr>\n",
       "      <th>3</th>\n",
       "      <td>id_3</td>\n",
       "      <td>London</td>\n",
       "      <td>['Italian', 'Mediterranean', 'European', 'Vege...</td>\n",
       "      <td>1669.0</td>\n",
       "      <td>$$$$</td>\n",
       "      <td>202.0</td>\n",
       "      <td>[['Most exquisite', 'Delicious and authentic']...</td>\n",
       "      <td>/Restaurant_Review-g186338-d680417-Reviews-Qui...</td>\n",
       "      <td>d680417</td>\n",
       "    </tr>\n",
       "    <tr>\n",
       "      <th>4</th>\n",
       "      <td>id_4</td>\n",
       "      <td>Bratislava</td>\n",
       "      <td>['Italian', 'Mediterranean', 'European', 'Seaf...</td>\n",
       "      <td>37.0</td>\n",
       "      <td>$$$$</td>\n",
       "      <td>162.0</td>\n",
       "      <td>[['Always the best in bratislava', 'Very good ...</td>\n",
       "      <td>/Restaurant_Review-g274924-d1112354-Reviews-Ma...</td>\n",
       "      <td>d1112354</td>\n",
       "    </tr>\n",
       "  </tbody>\n",
       "</table>\n",
       "</div>"
      ],
      "text/plain": [
       "  Restaurant_id        City  \\\n",
       "0          id_0       Paris   \n",
       "1          id_1    Helsinki   \n",
       "2          id_2   Edinburgh   \n",
       "3          id_3      London   \n",
       "4          id_4  Bratislava   \n",
       "\n",
       "                                       Cuisine Style  Ranking Price Range  \\\n",
       "0                                     ['Bar', 'Pub']  12963.0    $$ - $$$   \n",
       "1  ['European', 'Scandinavian', 'Gluten Free Opti...    106.0    $$ - $$$   \n",
       "2                            ['Vegetarian Friendly']    810.0    $$ - $$$   \n",
       "3  ['Italian', 'Mediterranean', 'European', 'Vege...   1669.0        $$$$   \n",
       "4  ['Italian', 'Mediterranean', 'European', 'Seaf...     37.0        $$$$   \n",
       "\n",
       "   Number of Reviews                                            Reviews  \\\n",
       "0                4.0                                           [[], []]   \n",
       "1               97.0  [['Very good reviews!', 'Fine dining in Hakani...   \n",
       "2               28.0  [['Better than the Links', 'Ivy Black'], ['12/...   \n",
       "3              202.0  [['Most exquisite', 'Delicious and authentic']...   \n",
       "4              162.0  [['Always the best in bratislava', 'Very good ...   \n",
       "\n",
       "                                              URL_TA      ID_TA  \n",
       "0  /Restaurant_Review-g187147-d10746918-Reviews-L...  d10746918  \n",
       "1  /Restaurant_Review-g189934-d6674944-Reviews-Ra...   d6674944  \n",
       "2  /Restaurant_Review-g186525-d13129638-Reviews-B...  d13129638  \n",
       "3  /Restaurant_Review-g186338-d680417-Reviews-Qui...    d680417  \n",
       "4  /Restaurant_Review-g274924-d1112354-Reviews-Ma...   d1112354  "
      ]
     },
     "execution_count": 9,
     "metadata": {},
     "output_type": "execute_result"
    }
   ],
   "source": [
    "df_test.head(5)"
   ]
  },
  {
   "cell_type": "code",
   "execution_count": 10,
   "metadata": {},
   "outputs": [
    {
     "data": {
      "text/html": [
       "<div>\n",
       "<style scoped>\n",
       "    .dataframe tbody tr th:only-of-type {\n",
       "        vertical-align: middle;\n",
       "    }\n",
       "\n",
       "    .dataframe tbody tr th {\n",
       "        vertical-align: top;\n",
       "    }\n",
       "\n",
       "    .dataframe thead th {\n",
       "        text-align: right;\n",
       "    }\n",
       "</style>\n",
       "<table border=\"1\" class=\"dataframe\">\n",
       "  <thead>\n",
       "    <tr style=\"text-align: right;\">\n",
       "      <th></th>\n",
       "      <th>Restaurant_id</th>\n",
       "      <th>Rating</th>\n",
       "    </tr>\n",
       "  </thead>\n",
       "  <tbody>\n",
       "    <tr>\n",
       "      <th>0</th>\n",
       "      <td>id_0</td>\n",
       "      <td>2.0</td>\n",
       "    </tr>\n",
       "    <tr>\n",
       "      <th>1</th>\n",
       "      <td>id_1</td>\n",
       "      <td>2.5</td>\n",
       "    </tr>\n",
       "    <tr>\n",
       "      <th>2</th>\n",
       "      <td>id_2</td>\n",
       "      <td>4.0</td>\n",
       "    </tr>\n",
       "    <tr>\n",
       "      <th>3</th>\n",
       "      <td>id_3</td>\n",
       "      <td>1.0</td>\n",
       "    </tr>\n",
       "    <tr>\n",
       "      <th>4</th>\n",
       "      <td>id_4</td>\n",
       "      <td>4.0</td>\n",
       "    </tr>\n",
       "  </tbody>\n",
       "</table>\n",
       "</div>"
      ],
      "text/plain": [
       "  Restaurant_id  Rating\n",
       "0          id_0     2.0\n",
       "1          id_1     2.5\n",
       "2          id_2     4.0\n",
       "3          id_3     1.0\n",
       "4          id_4     4.0"
      ]
     },
     "execution_count": 10,
     "metadata": {},
     "output_type": "execute_result"
    }
   ],
   "source": [
    "sample_submission.head(5)"
   ]
  },
  {
   "cell_type": "code",
   "execution_count": 11,
   "metadata": {},
   "outputs": [
    {
     "name": "stdout",
     "output_type": "stream",
     "text": [
      "<class 'pandas.core.frame.DataFrame'>\n",
      "RangeIndex: 10000 entries, 0 to 9999\n",
      "Data columns (total 2 columns):\n",
      " #   Column         Non-Null Count  Dtype  \n",
      "---  ------         --------------  -----  \n",
      " 0   Restaurant_id  10000 non-null  object \n",
      " 1   Rating         10000 non-null  float64\n",
      "dtypes: float64(1), object(1)\n",
      "memory usage: 156.4+ KB\n"
     ]
    }
   ],
   "source": [
    "sample_submission.info()"
   ]
  },
  {
   "cell_type": "code",
   "execution_count": 12,
   "metadata": {},
   "outputs": [],
   "source": [
    "# ВАЖНО! дря корректной обработки признаков объединяем трейн и тест в один датасет\n",
    "df_train['sample'] = 1 # помечаем где у нас трейн\n",
    "df_test['sample'] = 0 # помечаем где у нас тест\n",
    "df_test['Rating'] = 0 # в тесте у нас нет значения Rating, мы его должны предсказать, по этому пока просто заполняем нулями\n",
    "\n",
    "data = df_test.append(df_train, sort=False).reset_index(drop=True) # объединяем"
   ]
  },
  {
   "cell_type": "code",
   "execution_count": 13,
   "metadata": {},
   "outputs": [
    {
     "name": "stdout",
     "output_type": "stream",
     "text": [
      "<class 'pandas.core.frame.DataFrame'>\n",
      "RangeIndex: 50000 entries, 0 to 49999\n",
      "Data columns (total 11 columns):\n",
      " #   Column             Non-Null Count  Dtype  \n",
      "---  ------             --------------  -----  \n",
      " 0   Restaurant_id      50000 non-null  object \n",
      " 1   City               50000 non-null  object \n",
      " 2   Cuisine Style      38410 non-null  object \n",
      " 3   Ranking            50000 non-null  float64\n",
      " 4   Price Range        32639 non-null  object \n",
      " 5   Number of Reviews  46800 non-null  float64\n",
      " 6   Reviews            49998 non-null  object \n",
      " 7   URL_TA             50000 non-null  object \n",
      " 8   ID_TA              50000 non-null  object \n",
      " 9   sample             50000 non-null  int64  \n",
      " 10  Rating             50000 non-null  float64\n",
      "dtypes: float64(3), int64(1), object(7)\n",
      "memory usage: 4.2+ MB\n"
     ]
    }
   ],
   "source": [
    "data.info()"
   ]
  },
  {
   "cell_type": "markdown",
   "metadata": {},
   "source": [
    "Подробнее по признакам:\n",
    "* City: Город \n",
    "* Cuisine Style: Кухня\n",
    "* Ranking: Ранг ресторана относительно других ресторанов в этом городе\n",
    "* Price Range: Цены в ресторане в 3 категориях\n",
    "* Number of Reviews: Количество отзывов\n",
    "* Reviews: 2 последних отзыва и даты этих отзывов\n",
    "* URL_TA: страница ресторана на 'www.tripadvisor.com' \n",
    "* ID_TA: ID ресторана в TripAdvisor\n",
    "* Rating: Рейтинг ресторана"
   ]
  },
  {
   "cell_type": "code",
   "execution_count": 14,
   "metadata": {},
   "outputs": [
    {
     "data": {
      "text/html": [
       "<div>\n",
       "<style scoped>\n",
       "    .dataframe tbody tr th:only-of-type {\n",
       "        vertical-align: middle;\n",
       "    }\n",
       "\n",
       "    .dataframe tbody tr th {\n",
       "        vertical-align: top;\n",
       "    }\n",
       "\n",
       "    .dataframe thead th {\n",
       "        text-align: right;\n",
       "    }\n",
       "</style>\n",
       "<table border=\"1\" class=\"dataframe\">\n",
       "  <thead>\n",
       "    <tr style=\"text-align: right;\">\n",
       "      <th></th>\n",
       "      <th>Restaurant_id</th>\n",
       "      <th>City</th>\n",
       "      <th>Cuisine Style</th>\n",
       "      <th>Ranking</th>\n",
       "      <th>Price Range</th>\n",
       "      <th>Number of Reviews</th>\n",
       "      <th>Reviews</th>\n",
       "      <th>URL_TA</th>\n",
       "      <th>ID_TA</th>\n",
       "      <th>sample</th>\n",
       "      <th>Rating</th>\n",
       "    </tr>\n",
       "  </thead>\n",
       "  <tbody>\n",
       "    <tr>\n",
       "      <th>38982</th>\n",
       "      <td>id_777</td>\n",
       "      <td>Krakow</td>\n",
       "      <td>NaN</td>\n",
       "      <td>778.0</td>\n",
       "      <td>NaN</td>\n",
       "      <td>2.0</td>\n",
       "      <td>[['Coffee with a soul)', 'Tasty coffee, cozy p...</td>\n",
       "      <td>/Restaurant_Review-g274772-d10245518-Reviews-D...</td>\n",
       "      <td>d10245518</td>\n",
       "      <td>1</td>\n",
       "      <td>5.0</td>\n",
       "    </tr>\n",
       "    <tr>\n",
       "      <th>10704</th>\n",
       "      <td>id_14</td>\n",
       "      <td>Helsinki</td>\n",
       "      <td>['Cafe', 'European', 'Soups', 'Scandinavian', ...</td>\n",
       "      <td>15.0</td>\n",
       "      <td>$$ - $$$</td>\n",
       "      <td>1488.0</td>\n",
       "      <td>[['Pretty restaurant and cafeteria', 'Good foo...</td>\n",
       "      <td>/Restaurant_Review-g189934-d850178-Reviews-Kap...</td>\n",
       "      <td>d850178</td>\n",
       "      <td>1</td>\n",
       "      <td>4.0</td>\n",
       "    </tr>\n",
       "    <tr>\n",
       "      <th>5243</th>\n",
       "      <td>id_5243</td>\n",
       "      <td>Edinburgh</td>\n",
       "      <td>['Bar', 'Pub']</td>\n",
       "      <td>1310.0</td>\n",
       "      <td>$$ - $$$</td>\n",
       "      <td>9.0</td>\n",
       "      <td>[['Good Tiki Themed Bar', 'Christmas day out']...</td>\n",
       "      <td>/Restaurant_Review-g186525-d12455636-Reviews-T...</td>\n",
       "      <td>d12455636</td>\n",
       "      <td>0</td>\n",
       "      <td>0.0</td>\n",
       "    </tr>\n",
       "    <tr>\n",
       "      <th>18185</th>\n",
       "      <td>id_3</td>\n",
       "      <td>Madrid</td>\n",
       "      <td>['International', 'Mediterranean', 'European',...</td>\n",
       "      <td>4.0</td>\n",
       "      <td>$$ - $$$</td>\n",
       "      <td>302.0</td>\n",
       "      <td>[['Small place with big flavours', 'The best d...</td>\n",
       "      <td>/Restaurant_Review-g187514-d11896546-Reviews-A...</td>\n",
       "      <td>d11896546</td>\n",
       "      <td>1</td>\n",
       "      <td>5.0</td>\n",
       "    </tr>\n",
       "    <tr>\n",
       "      <th>7527</th>\n",
       "      <td>id_7527</td>\n",
       "      <td>Paris</td>\n",
       "      <td>['French']</td>\n",
       "      <td>5938.0</td>\n",
       "      <td>$$ - $$$</td>\n",
       "      <td>124.0</td>\n",
       "      <td>[['Nice place for brunch', 'so so'], ['02/27/2...</td>\n",
       "      <td>/Restaurant_Review-g187147-d3393209-Reviews-Au...</td>\n",
       "      <td>d3393209</td>\n",
       "      <td>0</td>\n",
       "      <td>0.0</td>\n",
       "    </tr>\n",
       "  </tbody>\n",
       "</table>\n",
       "</div>"
      ],
      "text/plain": [
       "      Restaurant_id       City  \\\n",
       "38982        id_777     Krakow   \n",
       "10704         id_14   Helsinki   \n",
       "5243        id_5243  Edinburgh   \n",
       "18185          id_3     Madrid   \n",
       "7527        id_7527      Paris   \n",
       "\n",
       "                                           Cuisine Style  Ranking Price Range  \\\n",
       "38982                                                NaN    778.0         NaN   \n",
       "10704  ['Cafe', 'European', 'Soups', 'Scandinavian', ...     15.0    $$ - $$$   \n",
       "5243                                      ['Bar', 'Pub']   1310.0    $$ - $$$   \n",
       "18185  ['International', 'Mediterranean', 'European',...      4.0    $$ - $$$   \n",
       "7527                                          ['French']   5938.0    $$ - $$$   \n",
       "\n",
       "       Number of Reviews                                            Reviews  \\\n",
       "38982                2.0  [['Coffee with a soul)', 'Tasty coffee, cozy p...   \n",
       "10704             1488.0  [['Pretty restaurant and cafeteria', 'Good foo...   \n",
       "5243                 9.0  [['Good Tiki Themed Bar', 'Christmas day out']...   \n",
       "18185              302.0  [['Small place with big flavours', 'The best d...   \n",
       "7527               124.0  [['Nice place for brunch', 'so so'], ['02/27/2...   \n",
       "\n",
       "                                                  URL_TA      ID_TA  sample  \\\n",
       "38982  /Restaurant_Review-g274772-d10245518-Reviews-D...  d10245518       1   \n",
       "10704  /Restaurant_Review-g189934-d850178-Reviews-Kap...    d850178       1   \n",
       "5243   /Restaurant_Review-g186525-d12455636-Reviews-T...  d12455636       0   \n",
       "18185  /Restaurant_Review-g187514-d11896546-Reviews-A...  d11896546       1   \n",
       "7527   /Restaurant_Review-g187147-d3393209-Reviews-Au...   d3393209       0   \n",
       "\n",
       "       Rating  \n",
       "38982     5.0  \n",
       "10704     4.0  \n",
       "5243      0.0  \n",
       "18185     5.0  \n",
       "7527      0.0  "
      ]
     },
     "execution_count": 14,
     "metadata": {},
     "output_type": "execute_result"
    }
   ],
   "source": [
    "data.sample(5)"
   ]
  },
  {
   "cell_type": "markdown",
   "metadata": {},
   "source": [
    "Как видим, большинство признаков у нас требует очистки и предварительной обработки."
   ]
  },
  {
   "cell_type": "markdown",
   "metadata": {},
   "source": [
    "# Cleaning and Prepping Data\n",
    "Обычно данные содержат в себе кучу мусора, который необходимо почистить, для того чтобы привести их в приемлемый формат. Чистка данных — это необходимый этап решения почти любой реальной задачи.   \n",
    "![](https://analyticsindiamag.com/wp-content/uploads/2018/01/data-cleaning.png)"
   ]
  },
  {
   "cell_type": "markdown",
   "metadata": {},
   "source": [
    " # Restaurant_id"
   ]
  },
  {
   "cell_type": "markdown",
   "metadata": {},
   "source": [
    "Посмотрим на параметр \"Restaurant_id\". Данные представляют собой строковые значения, пропусков нет. Проверим, все ли значения уникальны."
   ]
  },
  {
   "cell_type": "code",
   "execution_count": 15,
   "metadata": {},
   "outputs": [
    {
     "data": {
      "text/plain": [
       "13094"
      ]
     },
     "execution_count": 15,
     "metadata": {},
     "output_type": "execute_result"
    }
   ],
   "source": [
    "data['Restaurant_id'].nunique(dropna=False)"
   ]
  },
  {
   "cell_type": "code",
   "execution_count": 16,
   "metadata": {},
   "outputs": [
    {
     "data": {
      "text/plain": [
       "id_227      19\n",
       "id_436      19\n",
       "id_871      19\n",
       "id_633      19\n",
       "id_430      18\n",
       "            ..\n",
       "id_13350     1\n",
       "id_13723     1\n",
       "id_8848      1\n",
       "id_6577      1\n",
       "id_9313      1\n",
       "Name: Restaurant_id, Length: 13094, dtype: int64"
      ]
     },
     "execution_count": 16,
     "metadata": {},
     "output_type": "execute_result"
    }
   ],
   "source": [
    "data['Restaurant_id'].value_counts()"
   ]
  },
  {
   "cell_type": "code",
   "execution_count": 17,
   "metadata": {},
   "outputs": [
    {
     "data": {
      "text/plain": [
       "Restaurant_id\n",
       "id_0       4.625000\n",
       "id_1       4.150000\n",
       "id_10      4.166667\n",
       "id_100     4.000000\n",
       "id_1000    3.833333\n",
       "             ...   \n",
       "id_9995    2.500000\n",
       "id_9996    0.000000\n",
       "id_9997    0.000000\n",
       "id_9998    0.000000\n",
       "id_9999    0.000000\n",
       "Name: Rating, Length: 13094, dtype: float64"
      ]
     },
     "execution_count": 17,
     "metadata": {},
     "output_type": "execute_result"
    }
   ],
   "source": [
    "data.groupby('Restaurant_id')['Rating'].agg('mean')"
   ]
  },
  {
   "cell_type": "markdown",
   "metadata": {},
   "source": [
    "Создадим новый признак, в который передадим Restaurant_id в числовом формате. Одновременно создадим список, в который будем сохранять признаки, которые не понадобятся на этапе ML.\n"
   ]
  },
  {
   "cell_type": "code",
   "execution_count": 18,
   "metadata": {},
   "outputs": [],
   "source": [
    "drop_list = list()"
   ]
  },
  {
   "cell_type": "code",
   "execution_count": 19,
   "metadata": {},
   "outputs": [],
   "source": [
    "data['Restaurant_id_num'] = data['Restaurant_id'].apply(lambda x: int(x[3::]))\n",
    "drop_list.append('Restaurant_id')"
   ]
  },
  {
   "cell_type": "code",
   "execution_count": 20,
   "metadata": {},
   "outputs": [
    {
     "data": {
      "text/html": [
       "<div>\n",
       "<style scoped>\n",
       "    .dataframe tbody tr th:only-of-type {\n",
       "        vertical-align: middle;\n",
       "    }\n",
       "\n",
       "    .dataframe tbody tr th {\n",
       "        vertical-align: top;\n",
       "    }\n",
       "\n",
       "    .dataframe thead th {\n",
       "        text-align: right;\n",
       "    }\n",
       "</style>\n",
       "<table border=\"1\" class=\"dataframe\">\n",
       "  <thead>\n",
       "    <tr style=\"text-align: right;\">\n",
       "      <th></th>\n",
       "      <th>Restaurant_id_num</th>\n",
       "      <th>Rating</th>\n",
       "    </tr>\n",
       "  </thead>\n",
       "  <tbody>\n",
       "    <tr>\n",
       "      <th>Restaurant_id_num</th>\n",
       "      <td>1.000000</td>\n",
       "      <td>-0.257137</td>\n",
       "    </tr>\n",
       "    <tr>\n",
       "      <th>Rating</th>\n",
       "      <td>-0.257137</td>\n",
       "      <td>1.000000</td>\n",
       "    </tr>\n",
       "  </tbody>\n",
       "</table>\n",
       "</div>"
      ],
      "text/plain": [
       "                   Restaurant_id_num    Rating\n",
       "Restaurant_id_num           1.000000 -0.257137\n",
       "Rating                     -0.257137  1.000000"
      ]
     },
     "execution_count": 20,
     "metadata": {},
     "output_type": "execute_result"
    }
   ],
   "source": [
    "data[['Restaurant_id_num', 'Rating']].corr()"
   ]
  },
  {
   "cell_type": "markdown",
   "metadata": {},
   "source": [
    "Как видно из корреляционного анализа, есть заметная обратная зависимость рейтинга от id ресторана."
   ]
  },
  {
   "cell_type": "markdown",
   "metadata": {},
   "source": [
    "# City"
   ]
  },
  {
   "cell_type": "code",
   "execution_count": 21,
   "metadata": {},
   "outputs": [
    {
     "data": {
      "text/plain": [
       "31"
      ]
     },
     "execution_count": 21,
     "metadata": {},
     "output_type": "execute_result"
    }
   ],
   "source": [
    "data['City'].nunique(dropna=False)"
   ]
  },
  {
   "cell_type": "markdown",
   "metadata": {},
   "source": [
    "В этом столбце также нет пропусков, и всего 31 уникальное значение. Эти данные можно будет использовать для создание дополнительных признаков. Для начала создадим dummy-переменные. Чтобы не потерять оригинальный столбец, который планируется использовать для генерации других признаков, dummy-переменные создаем на основании дублираованного столбца."
   ]
  },
  {
   "cell_type": "code",
   "execution_count": 22,
   "metadata": {},
   "outputs": [],
   "source": [
    "data['City_code'] = data['City']\n",
    "data = pd.get_dummies(data, columns=[ 'City_code',], dummy_na=True)"
   ]
  },
  {
   "cell_type": "markdown",
   "metadata": {},
   "source": [
    "Среди городов есть столицы. Создадим столбец, указывающий на этот признак."
   ]
  },
  {
   "cell_type": "code",
   "execution_count": 23,
   "metadata": {},
   "outputs": [],
   "source": [
    "capitals = ['Athens', 'Berlin', 'Bratislava', 'Brussels', 'Budapest', 'Copenhagen', 'Dublin', 'Helsinki',\n",
    "            'Lisbon', 'Ljubljana', 'London', 'Luxembourg', 'Madrid', 'Oslo', 'Paris', 'Rome', 'Stockholm',\n",
    "            'Vienna', 'Warsaw','Zurich']    \n",
    "data['is_capital'] = data['City'].apply(lambda x: 1 if x in capitals else 0)"
   ]
  },
  {
   "cell_type": "code",
   "execution_count": 24,
   "metadata": {},
   "outputs": [
    {
     "data": {
      "text/plain": [
       "1    34735\n",
       "0    15265\n",
       "Name: is_capital, dtype: int64"
      ]
     },
     "execution_count": 24,
     "metadata": {},
     "output_type": "execute_result"
    }
   ],
   "source": [
    "data['is_capital'].value_counts()"
   ]
  },
  {
   "cell_type": "markdown",
   "metadata": {},
   "source": [
    "Также встречаются города из одной страны. Создадим новый признак \"Country\" и сгенерируем на его основе dummy-переменные. Этот признак создадим только для тех стран, которые представлены несколькими странами, так как в противном случае этот признак будет дублирующим для определенных городов."
   ]
  },
  {
   "cell_type": "code",
   "execution_count": 25,
   "metadata": {},
   "outputs": [],
   "source": [
    "def country(row):\n",
    "    if row['City'] in ['Berlin', 'Hamburg', 'Munich']:\n",
    "        return 'Germany'\n",
    "    elif row['City'] in ['Geneva', 'Zurich']:\n",
    "        return 'Switzerland' \n",
    "    elif row['City'] in ['Krakow', 'Prague', 'Warsaw']:\n",
    "        return 'Poland'\n",
    "    elif row['City'] in ['Lisbon', 'Oporto']:\n",
    "        return 'Portugal'\n",
    "    elif row['City'] in ['Lyon', 'Paris']:\n",
    "        return 'France'\n",
    "    elif row['City'] in ['Milan', 'Rome']:\n",
    "        return 'Italy'\n",
    "    else:\n",
    "        return None\n",
    "    \n",
    "data['Country'] = data.apply(country, axis=1)\n",
    "data = pd.get_dummies(data, columns=['Country'], dummy_na=True)\n",
    "data.drop(['Country_nan'], axis=1, inplace=True)"
   ]
  },
  {
   "cell_type": "markdown",
   "metadata": {},
   "source": [
    "Также можно добавить признак с населением грода. Для этого загрузим дополнительные данные."
   ]
  },
  {
   "cell_type": "code",
   "execution_count": 28,
   "metadata": {},
   "outputs": [],
   "source": [
    "city_pop = pd.read_excel('PopulatinandArea.csv')"
   ]
  },
  {
   "cell_type": "code",
   "execution_count": 29,
   "metadata": {},
   "outputs": [
    {
     "data": {
      "text/html": [
       "<div>\n",
       "<style scoped>\n",
       "    .dataframe tbody tr th:only-of-type {\n",
       "        vertical-align: middle;\n",
       "    }\n",
       "\n",
       "    .dataframe tbody tr th {\n",
       "        vertical-align: top;\n",
       "    }\n",
       "\n",
       "    .dataframe thead th {\n",
       "        text-align: right;\n",
       "    }\n",
       "</style>\n",
       "<table border=\"1\" class=\"dataframe\">\n",
       "  <thead>\n",
       "    <tr style=\"text-align: right;\">\n",
       "      <th></th>\n",
       "      <th>CityNo</th>\n",
       "      <th>City</th>\n",
       "      <th>Country</th>\n",
       "      <th>Population</th>\n",
       "      <th>Area in km2</th>\n",
       "    </tr>\n",
       "  </thead>\n",
       "  <tbody>\n",
       "    <tr>\n",
       "      <th>0</th>\n",
       "      <td>1</td>\n",
       "      <td>Amsterdam</td>\n",
       "      <td>Netherland</td>\n",
       "      <td>851573</td>\n",
       "      <td>219.32</td>\n",
       "    </tr>\n",
       "    <tr>\n",
       "      <th>1</th>\n",
       "      <td>2</td>\n",
       "      <td>Athens</td>\n",
       "      <td>Greece</td>\n",
       "      <td>664046</td>\n",
       "      <td>2929.00</td>\n",
       "    </tr>\n",
       "    <tr>\n",
       "      <th>2</th>\n",
       "      <td>4</td>\n",
       "      <td>Barcelona</td>\n",
       "      <td>Spain</td>\n",
       "      <td>1620809</td>\n",
       "      <td>101.40</td>\n",
       "    </tr>\n",
       "    <tr>\n",
       "      <th>3</th>\n",
       "      <td>4</td>\n",
       "      <td>Berlin</td>\n",
       "      <td>Germany</td>\n",
       "      <td>3711930</td>\n",
       "      <td>891.70</td>\n",
       "    </tr>\n",
       "    <tr>\n",
       "      <th>4</th>\n",
       "      <td>5</td>\n",
       "      <td>Bratislava</td>\n",
       "      <td>Slovakia</td>\n",
       "      <td>424428</td>\n",
       "      <td>367.60</td>\n",
       "    </tr>\n",
       "  </tbody>\n",
       "</table>\n",
       "</div>"
      ],
      "text/plain": [
       "   CityNo        City     Country  Population  Area in km2 \n",
       "0       1   Amsterdam  Netherland      851573        219.32\n",
       "1       2      Athens      Greece      664046       2929.00\n",
       "2       4   Barcelona       Spain     1620809        101.40\n",
       "3       4      Berlin     Germany     3711930        891.70\n",
       "4       5  Bratislava    Slovakia      424428        367.60"
      ]
     },
     "execution_count": 29,
     "metadata": {},
     "output_type": "execute_result"
    }
   ],
   "source": [
    "city_pop.head()"
   ]
  },
  {
   "cell_type": "code",
   "execution_count": 30,
   "metadata": {},
   "outputs": [
    {
     "name": "stdout",
     "output_type": "stream",
     "text": [
      "<class 'pandas.core.frame.DataFrame'>\n",
      "RangeIndex: 31 entries, 0 to 30\n",
      "Data columns (total 5 columns):\n",
      " #   Column        Non-Null Count  Dtype  \n",
      "---  ------        --------------  -----  \n",
      " 0   CityNo        31 non-null     int64  \n",
      " 1   City          31 non-null     object \n",
      " 2   Country       31 non-null     object \n",
      " 3   Population    31 non-null     int64  \n",
      " 4   Area in km2   31 non-null     float64\n",
      "dtypes: float64(1), int64(2), object(2)\n",
      "memory usage: 1.3+ KB\n"
     ]
    }
   ],
   "source": [
    "city_pop.info()"
   ]
  },
  {
   "cell_type": "code",
   "execution_count": 31,
   "metadata": {},
   "outputs": [],
   "source": [
    "def population(row):\n",
    "    return int(city_pop[city_pop['City'] == row['City']]['Population'])\n",
    "\n",
    "data['Population'] = data.apply(population, axis=1)"
   ]
  },
  {
   "cell_type": "code",
   "execution_count": 32,
   "metadata": {},
   "outputs": [
    {
     "data": {
      "text/plain": [
       "0"
      ]
     },
     "execution_count": 32,
     "metadata": {},
     "output_type": "execute_result"
    }
   ],
   "source": [
    "# Хотя при создании этого столбца не возникло ошибок, убедимся на всякий случай, что население для каждого города было успешно найдено.\n",
    "data['Population'].isna().sum()"
   ]
  },
  {
   "cell_type": "code",
   "execution_count": 33,
   "metadata": {},
   "outputs": [
    {
     "data": {
      "text/html": [
       "<div>\n",
       "<style scoped>\n",
       "    .dataframe tbody tr th:only-of-type {\n",
       "        vertical-align: middle;\n",
       "    }\n",
       "\n",
       "    .dataframe tbody tr th {\n",
       "        vertical-align: top;\n",
       "    }\n",
       "\n",
       "    .dataframe thead th {\n",
       "        text-align: right;\n",
       "    }\n",
       "</style>\n",
       "<table border=\"1\" class=\"dataframe\">\n",
       "  <thead>\n",
       "    <tr style=\"text-align: right;\">\n",
       "      <th></th>\n",
       "      <th>Rating</th>\n",
       "      <th>Population</th>\n",
       "    </tr>\n",
       "  </thead>\n",
       "  <tbody>\n",
       "    <tr>\n",
       "      <th>Rating</th>\n",
       "      <td>1.00000</td>\n",
       "      <td>-0.00514</td>\n",
       "    </tr>\n",
       "    <tr>\n",
       "      <th>Population</th>\n",
       "      <td>-0.00514</td>\n",
       "      <td>1.00000</td>\n",
       "    </tr>\n",
       "  </tbody>\n",
       "</table>\n",
       "</div>"
      ],
      "text/plain": [
       "             Rating  Population\n",
       "Rating      1.00000    -0.00514\n",
       "Population -0.00514     1.00000"
      ]
     },
     "execution_count": 33,
     "metadata": {},
     "output_type": "execute_result"
    }
   ],
   "source": [
    "data[['Rating', 'Population']].corr()"
   ]
  },
  {
   "cell_type": "markdown",
   "metadata": {},
   "source": [
    "Так же в датасете есть данные о площоди города. Добавим признак 'Population_density'."
   ]
  },
  {
   "cell_type": "code",
   "execution_count": 34,
   "metadata": {},
   "outputs": [
    {
     "data": {
      "text/plain": [
       "['CityNo', 'City', 'Country', 'Population', 'Area in km2 ']"
      ]
     },
     "execution_count": 34,
     "metadata": {},
     "output_type": "execute_result"
    }
   ],
   "source": [
    "city_pop.columns.to_list()"
   ]
  },
  {
   "cell_type": "code",
   "execution_count": 35,
   "metadata": {},
   "outputs": [],
   "source": [
    "def pop_density(row):\n",
    "    pop = row['Population']\n",
    "    area = city_pop[city_pop['City'] == row['City']]['Area in km2 '].values[0]\n",
    "    return pop/area\n",
    "\n",
    "data['Population_density'] = data.apply(pop_density, axis=1)"
   ]
  },
  {
   "cell_type": "code",
   "execution_count": 36,
   "metadata": {},
   "outputs": [
    {
     "data": {
      "text/plain": [
       "0        20934.421252\n",
       "1         3423.821138\n",
       "2         1825.776515\n",
       "3        14538.714992\n",
       "4         1154.591948\n",
       "             ...     \n",
       "49995     7537.819102\n",
       "49996    20934.421252\n",
       "49997     5064.138298\n",
       "49998     3413.181818\n",
       "49999     7537.819102\n",
       "Name: Population_density, Length: 50000, dtype: float64"
      ]
     },
     "execution_count": 36,
     "metadata": {},
     "output_type": "execute_result"
    }
   ],
   "source": [
    "data['Population_density']"
   ]
  },
  {
   "cell_type": "code",
   "execution_count": 37,
   "metadata": {},
   "outputs": [
    {
     "data": {
      "text/html": [
       "<div>\n",
       "<style scoped>\n",
       "    .dataframe tbody tr th:only-of-type {\n",
       "        vertical-align: middle;\n",
       "    }\n",
       "\n",
       "    .dataframe tbody tr th {\n",
       "        vertical-align: top;\n",
       "    }\n",
       "\n",
       "    .dataframe thead th {\n",
       "        text-align: right;\n",
       "    }\n",
       "</style>\n",
       "<table border=\"1\" class=\"dataframe\">\n",
       "  <thead>\n",
       "    <tr style=\"text-align: right;\">\n",
       "      <th></th>\n",
       "      <th>Rating</th>\n",
       "      <th>Population</th>\n",
       "      <th>Population_density</th>\n",
       "    </tr>\n",
       "  </thead>\n",
       "  <tbody>\n",
       "    <tr>\n",
       "      <th>Rating</th>\n",
       "      <td>1.00000</td>\n",
       "      <td>-0.005140</td>\n",
       "      <td>-0.018270</td>\n",
       "    </tr>\n",
       "    <tr>\n",
       "      <th>Population</th>\n",
       "      <td>-0.00514</td>\n",
       "      <td>1.000000</td>\n",
       "      <td>0.376039</td>\n",
       "    </tr>\n",
       "    <tr>\n",
       "      <th>Population_density</th>\n",
       "      <td>-0.01827</td>\n",
       "      <td>0.376039</td>\n",
       "      <td>1.000000</td>\n",
       "    </tr>\n",
       "  </tbody>\n",
       "</table>\n",
       "</div>"
      ],
      "text/plain": [
       "                     Rating  Population  Population_density\n",
       "Rating              1.00000   -0.005140           -0.018270\n",
       "Population         -0.00514    1.000000            0.376039\n",
       "Population_density -0.01827    0.376039            1.000000"
      ]
     },
     "execution_count": 37,
     "metadata": {},
     "output_type": "execute_result"
    }
   ],
   "source": [
    "data[['Rating', 'Population', 'Population_density']].corr()"
   ]
  },
  {
   "cell_type": "markdown",
   "metadata": {},
   "source": [
    "Также, используя таблицу city_pop, удобно создать столбец с странами для каждого города."
   ]
  },
  {
   "cell_type": "code",
   "execution_count": 38,
   "metadata": {},
   "outputs": [],
   "source": [
    "def country(row):\n",
    "    return city_pop[city_pop['City'] == row['City']]['Country'].values[0]\n",
    "\n",
    "data['Country'] = data.apply(country, axis=1)\n"
   ]
  },
  {
   "cell_type": "code",
   "execution_count": 39,
   "metadata": {},
   "outputs": [],
   "source": [
    "drop_list.append('Country')"
   ]
  },
  {
   "cell_type": "markdown",
   "metadata": {},
   "source": [
    "Используя другой датасет, сгенерируем новые признаки 'Happiness' и 'GDP_perCapita', исходя из стран. В результате предварительного анализа, выяснилось, что 'Beer_perCapita', 'Spirit_perCapita', 'Wine_perCapita' дублируют 'GDP_perCapita', поэтому их не испоьзовали."
   ]
  },
  {
   "cell_type": "code",
   "execution_count": 40,
   "metadata": {},
   "outputs": [
    {
     "data": {
      "text/html": [
       "<div>\n",
       "<style scoped>\n",
       "    .dataframe tbody tr th:only-of-type {\n",
       "        vertical-align: middle;\n",
       "    }\n",
       "\n",
       "    .dataframe tbody tr th {\n",
       "        vertical-align: top;\n",
       "    }\n",
       "\n",
       "    .dataframe thead th {\n",
       "        text-align: right;\n",
       "    }\n",
       "</style>\n",
       "<table border=\"1\" class=\"dataframe\">\n",
       "  <thead>\n",
       "    <tr style=\"text-align: right;\">\n",
       "      <th></th>\n",
       "      <th>Country</th>\n",
       "      <th>Region</th>\n",
       "      <th>Hemisphere</th>\n",
       "      <th>HappinessScore</th>\n",
       "      <th>HDI</th>\n",
       "      <th>GDP_PerCapita</th>\n",
       "      <th>Beer_PerCapita</th>\n",
       "      <th>Spirit_PerCapita</th>\n",
       "      <th>Wine_PerCapita</th>\n",
       "    </tr>\n",
       "  </thead>\n",
       "  <tbody>\n",
       "    <tr>\n",
       "      <th>0</th>\n",
       "      <td>Denmark</td>\n",
       "      <td>Western Europe</td>\n",
       "      <td>north</td>\n",
       "      <td>7.526</td>\n",
       "      <td>928</td>\n",
       "      <td>53.579</td>\n",
       "      <td>224</td>\n",
       "      <td>81</td>\n",
       "      <td>278</td>\n",
       "    </tr>\n",
       "    <tr>\n",
       "      <th>1</th>\n",
       "      <td>Switzerland</td>\n",
       "      <td>Western Europe</td>\n",
       "      <td>north</td>\n",
       "      <td>7.509</td>\n",
       "      <td>943</td>\n",
       "      <td>79.866</td>\n",
       "      <td>185</td>\n",
       "      <td>100</td>\n",
       "      <td>280</td>\n",
       "    </tr>\n",
       "    <tr>\n",
       "      <th>2</th>\n",
       "      <td>Iceland</td>\n",
       "      <td>Western Europe</td>\n",
       "      <td>north</td>\n",
       "      <td>7.501</td>\n",
       "      <td>933</td>\n",
       "      <td>60.530</td>\n",
       "      <td>233</td>\n",
       "      <td>61</td>\n",
       "      <td>78</td>\n",
       "    </tr>\n",
       "    <tr>\n",
       "      <th>3</th>\n",
       "      <td>Norway</td>\n",
       "      <td>Western Europe</td>\n",
       "      <td>north</td>\n",
       "      <td>7.498</td>\n",
       "      <td>951</td>\n",
       "      <td>70.890</td>\n",
       "      <td>169</td>\n",
       "      <td>71</td>\n",
       "      <td>129</td>\n",
       "    </tr>\n",
       "    <tr>\n",
       "      <th>4</th>\n",
       "      <td>Finland</td>\n",
       "      <td>Western Europe</td>\n",
       "      <td>north</td>\n",
       "      <td>7.413</td>\n",
       "      <td>918</td>\n",
       "      <td>43.433</td>\n",
       "      <td>263</td>\n",
       "      <td>133</td>\n",
       "      <td>97</td>\n",
       "    </tr>\n",
       "  </tbody>\n",
       "</table>\n",
       "</div>"
      ],
      "text/plain": [
       "       Country          Region Hemisphere  HappinessScore  HDI  GDP_PerCapita  \\\n",
       "0      Denmark  Western Europe      north           7.526  928         53.579   \n",
       "1  Switzerland  Western Europe      north           7.509  943         79.866   \n",
       "2      Iceland  Western Europe      north           7.501  933         60.530   \n",
       "3       Norway  Western Europe      north           7.498  951         70.890   \n",
       "4      Finland  Western Europe      north           7.413  918         43.433   \n",
       "\n",
       "   Beer_PerCapita  Spirit_PerCapita  Wine_PerCapita  \n",
       "0             224                81             278  \n",
       "1             185               100             280  \n",
       "2             233                61              78  \n",
       "3             169                71             129  \n",
       "4             263               133              97  "
      ]
     },
     "execution_count": 40,
     "metadata": {},
     "output_type": "execute_result"
    }
   ],
   "source": [
    "Happiness_alcohol = pd.read_csv('HappinessAlcoholConsumption.csv')\n",
    "Happiness_alcohol.head()"
   ]
  },
  {
   "cell_type": "code",
   "execution_count": 41,
   "metadata": {},
   "outputs": [
    {
     "name": "stdout",
     "output_type": "stream",
     "text": [
      "<class 'pandas.core.frame.DataFrame'>\n",
      "RangeIndex: 122 entries, 0 to 121\n",
      "Data columns (total 9 columns):\n",
      " #   Column            Non-Null Count  Dtype  \n",
      "---  ------            --------------  -----  \n",
      " 0   Country           122 non-null    object \n",
      " 1   Region            122 non-null    object \n",
      " 2   Hemisphere        122 non-null    object \n",
      " 3   HappinessScore    122 non-null    float64\n",
      " 4   HDI               122 non-null    int64  \n",
      " 5   GDP_PerCapita     122 non-null    float64\n",
      " 6   Beer_PerCapita    122 non-null    int64  \n",
      " 7   Spirit_PerCapita  122 non-null    int64  \n",
      " 8   Wine_PerCapita    122 non-null    int64  \n",
      "dtypes: float64(2), int64(4), object(3)\n",
      "memory usage: 8.7+ KB\n"
     ]
    }
   ],
   "source": [
    "Happiness_alcohol.info()"
   ]
  },
  {
   "cell_type": "code",
   "execution_count": 42,
   "metadata": {},
   "outputs": [
    {
     "data": {
      "text/plain": [
       "['Denmark',\n",
       " 'Switzerland',\n",
       " 'Iceland',\n",
       " 'Norway',\n",
       " 'Finland',\n",
       " 'Canada',\n",
       " 'Netherlands',\n",
       " 'New Zealand',\n",
       " 'Australia',\n",
       " 'Sweden',\n",
       " 'Israel',\n",
       " 'Austria',\n",
       " 'United States',\n",
       " 'Costa Rica',\n",
       " 'Germany',\n",
       " 'Brazil',\n",
       " 'Belgium',\n",
       " 'Ireland',\n",
       " 'Luxembourg',\n",
       " 'Mexico',\n",
       " 'Singapore',\n",
       " 'United Kingdom',\n",
       " 'Chile',\n",
       " 'Panama',\n",
       " 'Argentina',\n",
       " 'Czech Republic',\n",
       " 'United Arab Emirates',\n",
       " 'Uruguay',\n",
       " 'Malta',\n",
       " 'Colombia',\n",
       " 'France',\n",
       " 'Thailand',\n",
       " 'Qatar',\n",
       " 'Spain',\n",
       " 'Guatemala',\n",
       " 'Suriname',\n",
       " 'Bahrain',\n",
       " 'Trinidad and Tobago',\n",
       " 'Venezuela',\n",
       " 'Slovakia',\n",
       " 'El Salvador',\n",
       " 'Nicaragua',\n",
       " 'Uzbekistan',\n",
       " 'Italy',\n",
       " 'Ecuador',\n",
       " 'Belize',\n",
       " 'Japan',\n",
       " 'Kazakhstan',\n",
       " 'Moldova',\n",
       " 'Russian Federation',\n",
       " 'Poland',\n",
       " 'South Korea',\n",
       " 'Bolivia',\n",
       " 'Lithuania',\n",
       " 'Belarus',\n",
       " 'Slovenia',\n",
       " 'Peru',\n",
       " 'Turkmenistan',\n",
       " 'Mauritius',\n",
       " 'Latvia',\n",
       " 'Cyprus',\n",
       " 'Paraguay',\n",
       " 'Romania',\n",
       " 'Estonia',\n",
       " 'Jamaica',\n",
       " 'Croatia',\n",
       " 'Turkey',\n",
       " 'Jordan',\n",
       " 'Azerbaijan',\n",
       " 'Philippines',\n",
       " 'China',\n",
       " 'Kyrgyzstan',\n",
       " 'Serbia',\n",
       " 'Bosnia and Herzegovina',\n",
       " 'Montenegro',\n",
       " 'Dominican Republic',\n",
       " 'Morocco',\n",
       " 'Hungary',\n",
       " 'Lebanon',\n",
       " 'Portugal',\n",
       " 'Macedonia',\n",
       " 'Vietnam',\n",
       " 'Tunisia',\n",
       " 'Greece',\n",
       " 'Mongolia',\n",
       " 'Nigeria',\n",
       " 'Honduras',\n",
       " 'Zambia',\n",
       " 'Albania',\n",
       " 'Sierra Leone',\n",
       " 'Namibia',\n",
       " 'Cameroon',\n",
       " 'South Africa',\n",
       " 'Egypt',\n",
       " 'Armenia',\n",
       " 'Kenya',\n",
       " 'Ukraine',\n",
       " 'Ghana',\n",
       " 'Dem. Rep. Congo',\n",
       " 'Georgia',\n",
       " 'Rep. Congo',\n",
       " 'Senegal',\n",
       " 'Bulgaria',\n",
       " 'Zimbabwe',\n",
       " 'Malawi',\n",
       " 'Gabon',\n",
       " 'Mali',\n",
       " 'Haiti',\n",
       " 'Botswana',\n",
       " 'Comoros',\n",
       " \"Cote d'Ivoire\",\n",
       " 'Cambodia',\n",
       " 'Angola',\n",
       " 'Niger',\n",
       " 'Chad',\n",
       " 'Burkina Faso',\n",
       " 'Madagascar',\n",
       " 'Tanzania',\n",
       " 'Liberia',\n",
       " 'Benin',\n",
       " 'Togo',\n",
       " 'Syria']"
      ]
     },
     "execution_count": 42,
     "metadata": {},
     "output_type": "execute_result"
    }
   ],
   "source": [
    "Happiness_alcohol['Country'].to_list()"
   ]
  },
  {
   "cell_type": "code",
   "execution_count": 43,
   "metadata": {},
   "outputs": [],
   "source": [
    "# В датасете не совпадали названия нескольких стран, а именно для Чехии и Нидерландов, также не было данных для Англии и Шотландии по отдельности. \n",
    "# Это пришлось учесть при написании функции.\n",
    "def happiness(row):\n",
    "    if row['Country'] in ['England', 'Scotland']:\n",
    "        return Happiness_alcohol[Happiness_alcohol['Country'] == 'United Kingdom']['HappinessScore'].values[0]\n",
    "    if row['Country'] == 'Netherland':\n",
    "        return Happiness_alcohol[Happiness_alcohol['Country'] == 'Netherlands']['HappinessScore'].values[0]\n",
    "    if row['Country'] == 'Czech':\n",
    "        return Happiness_alcohol[Happiness_alcohol['Country'] == 'Czech Republic']['HappinessScore'].values[0]\n",
    "    return Happiness_alcohol[Happiness_alcohol['Country'] == row['Country']]['HappinessScore'].values[0]\n",
    "\n",
    "data['Happiness'] = data.apply(happiness, axis=1)"
   ]
  },
  {
   "cell_type": "code",
   "execution_count": 44,
   "metadata": {},
   "outputs": [],
   "source": [
    "def GDP(row):\n",
    "    if row['Country'] in ['England', 'Scotland']:\n",
    "        return Happiness_alcohol[Happiness_alcohol['Country'] == 'United Kingdom']['GDP_PerCapita'].values[0]\n",
    "    if row['Country'] == 'Netherland':\n",
    "        return Happiness_alcohol[Happiness_alcohol['Country'] == 'Netherlands']['GDP_PerCapita'].values[0]\n",
    "    if row['Country'] == 'Czech':\n",
    "        return Happiness_alcohol[Happiness_alcohol['Country'] == 'Czech Republic']['GDP_PerCapita'].values[0]\n",
    "    return Happiness_alcohol[Happiness_alcohol['Country'] == row['Country']]['GDP_PerCapita'].values[0]\n",
    "\n",
    "data['GDP_PerCapita'] = data.apply(GDP, axis=1)"
   ]
  },
  {
   "cell_type": "code",
   "execution_count": 45,
   "metadata": {},
   "outputs": [],
   "source": [
    "import math"
   ]
  },
  {
   "cell_type": "code",
   "execution_count": 46,
   "metadata": {},
   "outputs": [],
   "source": [
    "drop_list.append('City')\n",
    "drop_list.append('City_code_nan')"
   ]
  },
  {
   "cell_type": "markdown",
   "metadata": {},
   "source": [
    "# Cuisine Style"
   ]
  },
  {
   "cell_type": "code",
   "execution_count": 47,
   "metadata": {},
   "outputs": [
    {
     "data": {
      "text/plain": [
       "11590"
      ]
     },
     "execution_count": 47,
     "metadata": {},
     "output_type": "execute_result"
    }
   ],
   "source": [
    "data['Cuisine Style'].isna().sum()"
   ]
  },
  {
   "cell_type": "markdown",
   "metadata": {},
   "source": [
    "Обработаем данные из столбца \"Cuisine Style\".\n",
    "Данные представляют собой строковые значения, которые выглядят как список из нескольких видов кухни, а также содержат пустые значения.\n",
    "Обработаем признак с помощью метода One-Hot encoding, а также создадим список всех видов кухни, который будем использовать для кодировки. "
   ]
  },
  {
   "cell_type": "markdown",
   "metadata": {},
   "source": [
    "Кроме того, создадим еще признак о количестве видов кухни."
   ]
  },
  {
   "cell_type": "code",
   "execution_count": 48,
   "metadata": {},
   "outputs": [],
   "source": [
    "Cuisine_list = set()\n",
    "\n",
    "for styles in data['Cuisine Style']:\n",
    "    if pd.isna(styles):\n",
    "        continue    \n",
    "    else:\n",
    "        styles = styles[1:-1].split(', ')\n",
    "        for style in styles:\n",
    "            Cuisine_list.add(style[1:-1])\n",
    "\n",
    "# Здесь невозможно использовать функцию get_dummies, так как необходимо выделять виды кухни из строкового значения            \n",
    "def find_item(cell):\n",
    "    if item in str(cell):\n",
    "        return 1\n",
    "    else:\n",
    "        return 0\n",
    "\n",
    "for style in Cuisine_list:\n",
    "    item = style\n",
    "    name = 'Cuisine_{}'.format(item)\n",
    "    data[name] = data['Cuisine Style'].apply(find_item)\n",
    "    \n",
    "\n",
    "# Tак как здесь не использовалать функция get_dummies, необходимо дополнительно прописать функцию, для создания dummy-переменной в случае значения None\n",
    "def fill_cuisine_nan(row):\n",
    "    if pd.isna(row['Cuisine Style']):\n",
    "        return 1\n",
    "    else:\n",
    "        return 0\n",
    "    \n",
    "data['Cuisine_nan'] = data.apply(fill_cuisine_nan, axis=1)"
   ]
  },
  {
   "cell_type": "code",
   "execution_count": 49,
   "metadata": {},
   "outputs": [
    {
     "data": {
      "text/plain": [
       "{'Afghani',\n",
       " 'African',\n",
       " 'Albanian',\n",
       " 'American',\n",
       " 'Arabic',\n",
       " 'Argentinean',\n",
       " 'Armenian',\n",
       " 'Asian',\n",
       " 'Australian',\n",
       " 'Austrian',\n",
       " 'Azerbaijani',\n",
       " 'Balti',\n",
       " 'Bangladeshi',\n",
       " 'Bar',\n",
       " 'Barbecue',\n",
       " 'Belgian',\n",
       " 'Brazilian',\n",
       " 'Brew Pub',\n",
       " 'British',\n",
       " 'Burmese',\n",
       " 'Cafe',\n",
       " 'Cajun & Creole',\n",
       " 'Cambodian',\n",
       " 'Canadian',\n",
       " 'Caribbean',\n",
       " 'Caucasian',\n",
       " 'Central American',\n",
       " 'Central Asian',\n",
       " 'Central European',\n",
       " 'Chilean',\n",
       " 'Chinese',\n",
       " 'Colombian',\n",
       " 'Contemporary',\n",
       " 'Croatian',\n",
       " 'Cuban',\n",
       " 'Czech',\n",
       " 'Danish',\n",
       " 'Delicatessen',\n",
       " 'Diner',\n",
       " 'Dutch',\n",
       " 'Eastern European',\n",
       " 'Ecuadorean',\n",
       " 'Egyptian',\n",
       " 'Ethiopian',\n",
       " 'European',\n",
       " 'Fast Food',\n",
       " 'Filipino',\n",
       " 'French',\n",
       " 'Fujian',\n",
       " 'Fusion',\n",
       " 'Gastropub',\n",
       " 'Georgian',\n",
       " 'German',\n",
       " 'Gluten Free Options',\n",
       " 'Greek',\n",
       " 'Grill',\n",
       " 'Halal',\n",
       " 'Hawaiian',\n",
       " 'Healthy',\n",
       " 'Hungarian',\n",
       " 'Indian',\n",
       " 'Indonesian',\n",
       " 'International',\n",
       " 'Irish',\n",
       " 'Israeli',\n",
       " 'Italian',\n",
       " 'Jamaican',\n",
       " 'Japanese',\n",
       " 'Korean',\n",
       " 'Kosher',\n",
       " 'Latin',\n",
       " 'Latvian',\n",
       " 'Lebanese',\n",
       " 'Malaysian',\n",
       " 'Mediterranean',\n",
       " 'Mexican',\n",
       " 'Middle Eastern',\n",
       " 'Minority Chinese',\n",
       " 'Mongolian',\n",
       " 'Moroccan',\n",
       " 'Native American',\n",
       " 'Nepali',\n",
       " 'New Zealand',\n",
       " 'Norwegian',\n",
       " 'Pakistani',\n",
       " 'Persian',\n",
       " 'Peruvian',\n",
       " 'Pizza',\n",
       " 'Polish',\n",
       " 'Polynesian',\n",
       " 'Portuguese',\n",
       " 'Pub',\n",
       " 'Romanian',\n",
       " 'Russian',\n",
       " 'Salvadoran',\n",
       " 'Scandinavian',\n",
       " 'Scottish',\n",
       " 'Seafood',\n",
       " 'Singaporean',\n",
       " 'Slovenian',\n",
       " 'Soups',\n",
       " 'South American',\n",
       " 'Southwestern',\n",
       " 'Spanish',\n",
       " 'Sri Lankan',\n",
       " 'Steakhouse',\n",
       " 'Street Food',\n",
       " 'Sushi',\n",
       " 'Swedish',\n",
       " 'Swiss',\n",
       " 'Taiwanese',\n",
       " 'Thai',\n",
       " 'Tibetan',\n",
       " 'Tunisian',\n",
       " 'Turkish',\n",
       " 'Ukrainian',\n",
       " 'Uzbek',\n",
       " 'Vegan Options',\n",
       " 'Vegetarian Friendly',\n",
       " 'Venezuelan',\n",
       " 'Vietnamese',\n",
       " 'Welsh',\n",
       " 'Wine Bar',\n",
       " 'Xinjiang',\n",
       " 'Yunnan'}"
      ]
     },
     "execution_count": 49,
     "metadata": {},
     "output_type": "execute_result"
    }
   ],
   "source": [
    "Cuisine_list"
   ]
  },
  {
   "cell_type": "code",
   "execution_count": 50,
   "metadata": {},
   "outputs": [],
   "source": [
    "def variety(row):\n",
    "    if pd.isna(row['Cuisine Style']):\n",
    "        return 0    \n",
    "    return len(row['Cuisine Style'].split(', '))\n",
    "        \n",
    "data['Cuisine_variety'] = data.apply(variety, axis=1)"
   ]
  },
  {
   "cell_type": "markdown",
   "metadata": {},
   "source": [
    "Сгенерируем признак, в который запишем инфомацию, подается ли в ресторане национальная кухня."
   ]
  },
  {
   "cell_type": "code",
   "execution_count": 51,
   "metadata": {},
   "outputs": [],
   "source": [
    "National_cuisine = {'France': 'French', 'England': 'British', 'Spain': 'Spanish', 'Italy': 'Italian', 'Germany': 'German', 'Portugal': 'Portuguese',\n",
    "                    'Czech': 'Czech', 'Poland': 'Polish', 'Austria': 'Austrian', 'Netherland': 'Dutch', 'Belgium': 'Belgian', 'Switzerland': 'Swiss', \n",
    "                    'Sweden': 'Swedish', 'Hungary': 'Hungarian', 'Ireland': 'Irish', 'Denmark': 'Danish', 'Greece': 'Greek', 'Scotland': 'Scottish',\n",
    "                    'Norway': 'Norwegian', 'Finland': 'Finnish', 'Slovakia': 'Slovak', 'Luxembourg': 'Luximbourgish', 'Slovenia': 'Slovenian'}\n"
   ]
  },
  {
   "cell_type": "code",
   "execution_count": 52,
   "metadata": {},
   "outputs": [],
   "source": [
    "National_cuisine = {'France': 'French', 'England': 'British', 'Spain': 'Spanish', 'Italy': 'Italian', 'Germany': 'German', 'Portugal': 'Portuguese',\n",
    "                    'Czech': 'Czech', 'Poland': 'Polish', 'Austria': 'Austrian', 'Netherland': 'Dutch', 'Belgium': 'Belgian', 'Switzerland': 'Swiss', \n",
    "                    'Sweden': 'Swedish', 'Hungary': 'Hungarian', 'Ireland': 'Irish', 'Denmark': 'Danish', 'Greece': 'Greek', 'Scotland': 'Scottish',\n",
    "                    'Norway': 'Norwegian', 'Finland': 'Finnish', 'Slovakia': 'Slovak', 'Luxembourg': 'Luximbourgish', 'Slovenia': 'Slovenian'}\n",
    "\n",
    "def national_cuisine(row):\n",
    "    if pd.isna(row[\"Cuisine Style\"]):\n",
    "        return 0\n",
    "    for value, key in National_cuisine.items():\n",
    "        if value == row['Country']:\n",
    "            if key in row['Cuisine Style']:\n",
    "                return 1\n",
    "    return 0\n",
    "data['National_cuisine'] = data.apply(national_cuisine, axis=1)"
   ]
  },
  {
   "cell_type": "code",
   "execution_count": 53,
   "metadata": {},
   "outputs": [
    {
     "data": {
      "text/plain": [
       "0    33563\n",
       "1    16437\n",
       "Name: National_cuisine, dtype: int64"
      ]
     },
     "execution_count": 53,
     "metadata": {},
     "output_type": "execute_result"
    }
   ],
   "source": [
    "data['National_cuisine'].value_counts()"
   ]
  },
  {
   "cell_type": "code",
   "execution_count": 54,
   "metadata": {},
   "outputs": [
    {
     "data": {
      "text/html": [
       "<div>\n",
       "<style scoped>\n",
       "    .dataframe tbody tr th:only-of-type {\n",
       "        vertical-align: middle;\n",
       "    }\n",
       "\n",
       "    .dataframe tbody tr th {\n",
       "        vertical-align: top;\n",
       "    }\n",
       "\n",
       "    .dataframe thead th {\n",
       "        text-align: right;\n",
       "    }\n",
       "</style>\n",
       "<table border=\"1\" class=\"dataframe\">\n",
       "  <thead>\n",
       "    <tr style=\"text-align: right;\">\n",
       "      <th></th>\n",
       "      <th>Rating</th>\n",
       "      <th>National_cuisine</th>\n",
       "    </tr>\n",
       "  </thead>\n",
       "  <tbody>\n",
       "    <tr>\n",
       "      <th>Rating</th>\n",
       "      <td>1.000000</td>\n",
       "      <td>0.012573</td>\n",
       "    </tr>\n",
       "    <tr>\n",
       "      <th>National_cuisine</th>\n",
       "      <td>0.012573</td>\n",
       "      <td>1.000000</td>\n",
       "    </tr>\n",
       "  </tbody>\n",
       "</table>\n",
       "</div>"
      ],
      "text/plain": [
       "                    Rating  National_cuisine\n",
       "Rating            1.000000          0.012573\n",
       "National_cuisine  0.012573          1.000000"
      ]
     },
     "execution_count": 54,
     "metadata": {},
     "output_type": "execute_result"
    }
   ],
   "source": [
    "data[['Rating', 'National_cuisine']].corr()"
   ]
  },
  {
   "cell_type": "code",
   "execution_count": 55,
   "metadata": {},
   "outputs": [],
   "source": [
    "drop_list.append('Cuisine Style')"
   ]
  },
  {
   "cell_type": "markdown",
   "metadata": {},
   "source": [
    "# Ranking"
   ]
  },
  {
   "cell_type": "markdown",
   "metadata": {},
   "source": [
    "В этом столбце нет пропусков. Посмотрим как изменяется Ranking по городам, а также проверим, есть ли связь между Ranking и id ресторана."
   ]
  },
  {
   "cell_type": "code",
   "execution_count": 56,
   "metadata": {},
   "outputs": [
    {
     "data": {
      "image/png": "[encoded data removed]",
      "text/plain": [
       "<Figure size 432x288 with 1 Axes>"
      ]
     },
     "metadata": {
      "needs_background": "light"
     },
     "output_type": "display_data"
    }
   ],
   "source": [
    "# Построим график для десяти городов с найбольшим количеством ресторанов\n",
    "for x in (data['City'].value_counts())[0:10].index:\n",
    "    data['Ranking'][data['City'] == x].hist(bins=100)\n",
    "plt.show()"
   ]
  },
  {
   "cell_type": "markdown",
   "metadata": {},
   "source": [
    "Из-за того, что количество ресторанов в городах разное, масимальное значение Ranking для рестоанов будет разным в разных городах. Необходимо отнормировать этот признак, относитльно города."
   ]
  },
  {
   "cell_type": "code",
   "execution_count": 57,
   "metadata": {},
   "outputs": [],
   "source": [
    "ranking_mean = data.groupby('City')['Ranking'].agg('mean')\n",
    "rest_num = data['City'].value_counts()"
   ]
  },
  {
   "cell_type": "code",
   "execution_count": 58,
   "metadata": {},
   "outputs": [],
   "source": [
    "def norm(row):\n",
    "    return (row['Ranking']-ranking_mean[row['City']])/rest_num[row['City']]\n",
    "\n",
    "data['Ranking_norm'] = data.apply(norm, axis=1)"
   ]
  },
  {
   "cell_type": "code",
   "execution_count": 59,
   "metadata": {},
   "outputs": [
    {
     "data": {
      "image/png": "[encoded data removed]",
      "text/plain": [
       "<Figure size 432x288 with 1 Axes>"
      ]
     },
     "metadata": {
      "needs_background": "light"
     },
     "output_type": "display_data"
    }
   ],
   "source": [
    "# Построим на график после нормирования\n",
    "for x in (data['City'].value_counts())[0:10].index:\n",
    "    data['Ranking_norm'][data['City'] == x].hist(bins=100)\n",
    "plt.show()"
   ]
  },
  {
   "cell_type": "code",
   "execution_count": 60,
   "metadata": {},
   "outputs": [
    {
     "data": {
      "image/png": "[encoded data removed]",
      "text/plain": [
       "<Figure size 432x288 with 1 Axes>"
      ]
     },
     "metadata": {
      "needs_background": "light"
     },
     "output_type": "display_data"
    }
   ],
   "source": [
    "for x in (data['City'].value_counts())[0:10].index:\n",
    "    data['Restaurant_id_num'][data['City'] == x].hist(bins=100)\n",
    "plt.show()"
   ]
  },
  {
   "cell_type": "markdown",
   "metadata": {},
   "source": [
    "Распределение 'Restaurant_id' тожу чувствительно к количеству ресторанов в городе. Нормируем и это значение."
   ]
  },
  {
   "cell_type": "code",
   "execution_count": 61,
   "metadata": {},
   "outputs": [],
   "source": [
    "id_mean = data.groupby('City')['Restaurant_id_num'].agg('mean')\n",
    "\n",
    "def id_norm(row):\n",
    "    return (row['Restaurant_id_num']-id_mean[row['City']])/rest_num[row['City']]\n",
    "\n",
    "data['Restaurant_id_norm'] = data.apply(id_norm, axis=1)"
   ]
  },
  {
   "cell_type": "code",
   "execution_count": 62,
   "metadata": {},
   "outputs": [
    {
     "data": {
      "image/png": "[encoded data removed]",
      "text/plain": [
       "<Figure size 432x288 with 1 Axes>"
      ]
     },
     "metadata": {
      "needs_background": "light"
     },
     "output_type": "display_data"
    }
   ],
   "source": [
    "for x in (data['City'].value_counts())[0:10].index:\n",
    "    data['Restaurant_id_norm'][data['City'] == x].hist(bins=100)\n",
    "plt.show()"
   ]
  },
  {
   "cell_type": "code",
   "execution_count": 63,
   "metadata": {},
   "outputs": [
    {
     "data": {
      "text/html": [
       "<div>\n",
       "<style scoped>\n",
       "    .dataframe tbody tr th:only-of-type {\n",
       "        vertical-align: middle;\n",
       "    }\n",
       "\n",
       "    .dataframe tbody tr th {\n",
       "        vertical-align: top;\n",
       "    }\n",
       "\n",
       "    .dataframe thead th {\n",
       "        text-align: right;\n",
       "    }\n",
       "</style>\n",
       "<table border=\"1\" class=\"dataframe\">\n",
       "  <thead>\n",
       "    <tr style=\"text-align: right;\">\n",
       "      <th></th>\n",
       "      <th>Ranking</th>\n",
       "      <th>Ranking_norm</th>\n",
       "      <th>Restaurant_id_num</th>\n",
       "      <th>Restaurant_id_norm</th>\n",
       "      <th>Rating</th>\n",
       "    </tr>\n",
       "  </thead>\n",
       "  <tbody>\n",
       "    <tr>\n",
       "      <th>Ranking</th>\n",
       "      <td>1.000000</td>\n",
       "      <td>0.568802</td>\n",
       "      <td>0.825090</td>\n",
       "      <td>0.161177</td>\n",
       "      <td>-0.109897</td>\n",
       "    </tr>\n",
       "    <tr>\n",
       "      <th>Ranking_norm</th>\n",
       "      <td>0.568802</td>\n",
       "      <td>1.000000</td>\n",
       "      <td>0.467784</td>\n",
       "      <td>0.280428</td>\n",
       "      <td>-0.169041</td>\n",
       "    </tr>\n",
       "    <tr>\n",
       "      <th>Restaurant_id_num</th>\n",
       "      <td>0.825090</td>\n",
       "      <td>0.467784</td>\n",
       "      <td>1.000000</td>\n",
       "      <td>0.508776</td>\n",
       "      <td>-0.257137</td>\n",
       "    </tr>\n",
       "    <tr>\n",
       "      <th>Restaurant_id_norm</th>\n",
       "      <td>0.161177</td>\n",
       "      <td>0.280428</td>\n",
       "      <td>0.508776</td>\n",
       "      <td>1.000000</td>\n",
       "      <td>-0.450270</td>\n",
       "    </tr>\n",
       "    <tr>\n",
       "      <th>Rating</th>\n",
       "      <td>-0.109897</td>\n",
       "      <td>-0.169041</td>\n",
       "      <td>-0.257137</td>\n",
       "      <td>-0.450270</td>\n",
       "      <td>1.000000</td>\n",
       "    </tr>\n",
       "  </tbody>\n",
       "</table>\n",
       "</div>"
      ],
      "text/plain": [
       "                     Ranking  Ranking_norm  Restaurant_id_num  \\\n",
       "Ranking             1.000000      0.568802           0.825090   \n",
       "Ranking_norm        0.568802      1.000000           0.467784   \n",
       "Restaurant_id_num   0.825090      0.467784           1.000000   \n",
       "Restaurant_id_norm  0.161177      0.280428           0.508776   \n",
       "Rating             -0.109897     -0.169041          -0.257137   \n",
       "\n",
       "                    Restaurant_id_norm    Rating  \n",
       "Ranking                       0.161177 -0.109897  \n",
       "Ranking_norm                  0.280428 -0.169041  \n",
       "Restaurant_id_num             0.508776 -0.257137  \n",
       "Restaurant_id_norm            1.000000 -0.450270  \n",
       "Rating                       -0.450270  1.000000  "
      ]
     },
     "execution_count": 63,
     "metadata": {},
     "output_type": "execute_result"
    }
   ],
   "source": [
    "data[['Ranking', 'Ranking_norm', 'Restaurant_id_num', 'Restaurant_id_norm', 'Rating']].corr()"
   ]
  },
  {
   "cell_type": "markdown",
   "metadata": {},
   "source": [
    "Так, с помощью нормирования удалось усилить корреляцию значений Ranking и Restaurant_id с рейтингом."
   ]
  },
  {
   "cell_type": "code",
   "execution_count": 64,
   "metadata": {},
   "outputs": [],
   "source": [
    "drop_list.append('Ranking')\n",
    "drop_list.append('Restaurant_id_num')"
   ]
  },
  {
   "cell_type": "markdown",
   "metadata": {},
   "source": [
    "# Price Range"
   ]
  },
  {
   "cell_type": "code",
   "execution_count": 65,
   "metadata": {},
   "outputs": [
    {
     "data": {
      "text/plain": [
       "$$ - $$$    23041\n",
       "$            7816\n",
       "$$$$         1782\n",
       "Name: Price Range, dtype: int64"
      ]
     },
     "execution_count": 65,
     "metadata": {},
     "output_type": "execute_result"
    }
   ],
   "source": [
    "data['Price Range'].value_counts()"
   ]
  },
  {
   "cell_type": "code",
   "execution_count": 66,
   "metadata": {},
   "outputs": [
    {
     "data": {
      "text/plain": [
       "17361"
      ]
     },
     "execution_count": 66,
     "metadata": {},
     "output_type": "execute_result"
    }
   ],
   "source": [
    "data['Price Range'].isna().sum()"
   ]
  },
  {
   "cell_type": "markdown",
   "metadata": {},
   "source": [
    "В данном столбце много пропусков (~35%). Трансформируем значения в числа для упрощения работы."
   ]
  },
  {
   "cell_type": "code",
   "execution_count": 67,
   "metadata": {},
   "outputs": [],
   "source": [
    "# 3:$$$$\n",
    "# 2:$$ - $$$\n",
    "# 1: $\n",
    "# 0: NaN\n",
    "def fill_price_r(row):\n",
    "    if row['Price Range'] == '$$$$':\n",
    "        return 3\n",
    "    if row['Price Range'] == '$$ - $$$':\n",
    "        return 2\n",
    "    if row['Price Range'] == '$':\n",
    "        return 1\n",
    "    return None\n",
    "    \n",
    "data['Price Range'] = data.apply(fill_price_r, axis=1)"
   ]
  },
  {
   "cell_type": "code",
   "execution_count": 68,
   "metadata": {},
   "outputs": [
    {
     "data": {
      "text/plain": [
       "2.0"
      ]
     },
     "execution_count": 68,
     "metadata": {},
     "output_type": "execute_result"
    }
   ],
   "source": [
    "data['Price Range'].median()"
   ]
  },
  {
   "cell_type": "markdown",
   "metadata": {},
   "source": [
    "Заполним пропуски медианным значением. Но перед этим сохраним информацию о пропусках в отдельном столбце."
   ]
  },
  {
   "cell_type": "code",
   "execution_count": 69,
   "metadata": {},
   "outputs": [],
   "source": [
    "data['no_price_data'] = data['Price Range'].apply(lambda x: 1 if pd.isna(x) else 0)"
   ]
  },
  {
   "cell_type": "code",
   "execution_count": 70,
   "metadata": {},
   "outputs": [
    {
     "data": {
      "text/plain": [
       "0    32639\n",
       "1    17361\n",
       "Name: no_price_data, dtype: int64"
      ]
     },
     "execution_count": 70,
     "metadata": {},
     "output_type": "execute_result"
    }
   ],
   "source": [
    "data['no_price_data'].value_counts()"
   ]
  },
  {
   "cell_type": "code",
   "execution_count": 71,
   "metadata": {},
   "outputs": [],
   "source": [
    "data['Price Range'].fillna(data['Price Range'].median(), inplace=True)"
   ]
  },
  {
   "cell_type": "code",
   "execution_count": 72,
   "metadata": {},
   "outputs": [
    {
     "data": {
      "text/plain": [
       "<matplotlib.axes._subplots.AxesSubplot at 0x202ce45e208>"
      ]
     },
     "execution_count": 72,
     "metadata": {},
     "output_type": "execute_result"
    },
    {
     "data": {
      "image/png": "[encoded data removed]",
      "text/plain": [
       "<Figure size 432x288 with 1 Axes>"
      ]
     },
     "metadata": {
      "needs_background": "light"
     },
     "output_type": "display_data"
    }
   ],
   "source": [
    "data['Price Range'].hist(bins=3)"
   ]
  },
  {
   "cell_type": "markdown",
   "metadata": {},
   "source": [
    "# Number of Reviews"
   ]
  },
  {
   "cell_type": "code",
   "execution_count": 73,
   "metadata": {},
   "outputs": [
    {
     "data": {
      "text/plain": [
       "3200"
      ]
     },
     "execution_count": 73,
     "metadata": {},
     "output_type": "execute_result"
    }
   ],
   "source": [
    "data['Number of Reviews'].isna().sum()"
   ]
  },
  {
   "cell_type": "markdown",
   "metadata": {},
   "source": [
    "Здесь также присутствуют пропуски. Прежде, чем их заменить, также сохраним информацию о них в отдельном столбце."
   ]
  },
  {
   "cell_type": "code",
   "execution_count": 74,
   "metadata": {},
   "outputs": [],
   "source": [
    "data['no_data_Number_of_Reviews'] = pd.isna(data['Number of Reviews']).astype('uint8')"
   ]
  },
  {
   "cell_type": "code",
   "execution_count": 75,
   "metadata": {},
   "outputs": [
    {
     "data": {
      "text/plain": [
       "0    46800\n",
       "1     3200\n",
       "Name: no_data_Number_of_Reviews, dtype: int64"
      ]
     },
     "execution_count": 75,
     "metadata": {},
     "output_type": "execute_result"
    }
   ],
   "source": [
    "data['no_data_Number_of_Reviews'].value_counts()"
   ]
  },
  {
   "cell_type": "markdown",
   "metadata": {},
   "source": [
    "Посмотрим, как распределен признак."
   ]
  },
  {
   "cell_type": "code",
   "execution_count": 76,
   "metadata": {},
   "outputs": [
    {
     "data": {
      "text/plain": [
       "<matplotlib.axes._subplots.AxesSubplot at 0x202ce88e288>"
      ]
     },
     "execution_count": 76,
     "metadata": {},
     "output_type": "execute_result"
    },
    {
     "data": {
      "image/png": "[encoded data removed]",
      "text/plain": [
       "<Figure size 432x288 with 1 Axes>"
      ]
     },
     "metadata": {
      "needs_background": "light"
     },
     "output_type": "display_data"
    }
   ],
   "source": [
    "data['Number of Reviews'].hist(bins=100)"
   ]
  },
  {
   "cell_type": "markdown",
   "metadata": {},
   "source": [
    "Видно, что в большинстве случаев количество отзывов не превышает 100. Посмотрим на гистограмму в этом диапазоне."
   ]
  },
  {
   "cell_type": "code",
   "execution_count": 77,
   "metadata": {},
   "outputs": [
    {
     "data": {
      "text/plain": [
       "<matplotlib.axes._subplots.AxesSubplot at 0x202cecbdac8>"
      ]
     },
     "execution_count": 77,
     "metadata": {},
     "output_type": "execute_result"
    },
    {
     "data": {
      "image/png": "[encoded data removed]",
      "text/plain": [
       "<Figure size 432x288 with 1 Axes>"
      ]
     },
     "metadata": {
      "needs_background": "light"
     },
     "output_type": "display_data"
    }
   ],
   "source": [
    "data[data['Number of Reviews']<100]['Number of Reviews'].hist()"
   ]
  },
  {
   "cell_type": "code",
   "execution_count": 78,
   "metadata": {},
   "outputs": [],
   "source": [
    "def fill_num_rev(row):\n",
    "    if pd.isna(row['Number of Reviews']):\n",
    "        return data[data['City'] == row['City']]['Number of Reviews'].median()\n",
    "    return row['Number of Reviews']\n",
    "    \n",
    "data['Number of Reviews_filled'] = data.apply(fill_num_rev, axis=1)"
   ]
  },
  {
   "cell_type": "code",
   "execution_count": 79,
   "metadata": {},
   "outputs": [
    {
     "data": {
      "text/html": [
       "<div>\n",
       "<style scoped>\n",
       "    .dataframe tbody tr th:only-of-type {\n",
       "        vertical-align: middle;\n",
       "    }\n",
       "\n",
       "    .dataframe tbody tr th {\n",
       "        vertical-align: top;\n",
       "    }\n",
       "\n",
       "    .dataframe thead th {\n",
       "        text-align: right;\n",
       "    }\n",
       "</style>\n",
       "<table border=\"1\" class=\"dataframe\">\n",
       "  <thead>\n",
       "    <tr style=\"text-align: right;\">\n",
       "      <th></th>\n",
       "      <th>Number of Reviews</th>\n",
       "      <th>Number of Reviews_filled</th>\n",
       "      <th>Population</th>\n",
       "      <th>Ranking_norm</th>\n",
       "      <th>Population_density</th>\n",
       "    </tr>\n",
       "  </thead>\n",
       "  <tbody>\n",
       "    <tr>\n",
       "      <th>Number of Reviews</th>\n",
       "      <td>1.000000</td>\n",
       "      <td>1.000000</td>\n",
       "      <td>2.197249e-02</td>\n",
       "      <td>-3.995422e-01</td>\n",
       "      <td>-5.291924e-03</td>\n",
       "    </tr>\n",
       "    <tr>\n",
       "      <th>Number of Reviews_filled</th>\n",
       "      <td>1.000000</td>\n",
       "      <td>1.000000</td>\n",
       "      <td>2.222946e-02</td>\n",
       "      <td>-4.008490e-01</td>\n",
       "      <td>-2.042913e-03</td>\n",
       "    </tr>\n",
       "    <tr>\n",
       "      <th>Population</th>\n",
       "      <td>0.021972</td>\n",
       "      <td>0.022229</td>\n",
       "      <td>1.000000e+00</td>\n",
       "      <td>-1.071592e-17</td>\n",
       "      <td>3.760393e-01</td>\n",
       "    </tr>\n",
       "    <tr>\n",
       "      <th>Ranking_norm</th>\n",
       "      <td>-0.399542</td>\n",
       "      <td>-0.400849</td>\n",
       "      <td>-1.071592e-17</td>\n",
       "      <td>1.000000e+00</td>\n",
       "      <td>-2.571876e-18</td>\n",
       "    </tr>\n",
       "    <tr>\n",
       "      <th>Population_density</th>\n",
       "      <td>-0.005292</td>\n",
       "      <td>-0.002043</td>\n",
       "      <td>3.760393e-01</td>\n",
       "      <td>-2.571876e-18</td>\n",
       "      <td>1.000000e+00</td>\n",
       "    </tr>\n",
       "  </tbody>\n",
       "</table>\n",
       "</div>"
      ],
      "text/plain": [
       "                          Number of Reviews  Number of Reviews_filled  \\\n",
       "Number of Reviews                  1.000000                  1.000000   \n",
       "Number of Reviews_filled           1.000000                  1.000000   \n",
       "Population                         0.021972                  0.022229   \n",
       "Ranking_norm                      -0.399542                 -0.400849   \n",
       "Population_density                -0.005292                 -0.002043   \n",
       "\n",
       "                            Population  Ranking_norm  Population_density  \n",
       "Number of Reviews         2.197249e-02 -3.995422e-01       -5.291924e-03  \n",
       "Number of Reviews_filled  2.222946e-02 -4.008490e-01       -2.042913e-03  \n",
       "Population                1.000000e+00 -1.071592e-17        3.760393e-01  \n",
       "Ranking_norm             -1.071592e-17  1.000000e+00       -2.571876e-18  \n",
       "Population_density        3.760393e-01 -2.571876e-18        1.000000e+00  "
      ]
     },
     "execution_count": 79,
     "metadata": {},
     "output_type": "execute_result"
    }
   ],
   "source": [
    "data[['Number of Reviews', 'Number of Reviews_filled', 'Population', 'Ranking_norm', 'Population_density']].corr()"
   ]
  },
  {
   "cell_type": "code",
   "execution_count": 80,
   "metadata": {},
   "outputs": [
    {
     "data": {
      "text/html": [
       "<div>\n",
       "<style scoped>\n",
       "    .dataframe tbody tr th:only-of-type {\n",
       "        vertical-align: middle;\n",
       "    }\n",
       "\n",
       "    .dataframe tbody tr th {\n",
       "        vertical-align: top;\n",
       "    }\n",
       "\n",
       "    .dataframe thead th {\n",
       "        text-align: right;\n",
       "    }\n",
       "</style>\n",
       "<table border=\"1\" class=\"dataframe\">\n",
       "  <thead>\n",
       "    <tr style=\"text-align: right;\">\n",
       "      <th></th>\n",
       "      <th>Number of Reviews</th>\n",
       "      <th>Number of Reviews_filled</th>\n",
       "      <th>Rating</th>\n",
       "    </tr>\n",
       "  </thead>\n",
       "  <tbody>\n",
       "    <tr>\n",
       "      <th>Number of Reviews</th>\n",
       "      <td>1.000000</td>\n",
       "      <td>1.000000</td>\n",
       "      <td>0.011472</td>\n",
       "    </tr>\n",
       "    <tr>\n",
       "      <th>Number of Reviews_filled</th>\n",
       "      <td>1.000000</td>\n",
       "      <td>1.000000</td>\n",
       "      <td>0.011235</td>\n",
       "    </tr>\n",
       "    <tr>\n",
       "      <th>Rating</th>\n",
       "      <td>0.011472</td>\n",
       "      <td>0.011235</td>\n",
       "      <td>1.000000</td>\n",
       "    </tr>\n",
       "  </tbody>\n",
       "</table>\n",
       "</div>"
      ],
      "text/plain": [
       "                          Number of Reviews  Number of Reviews_filled  \\\n",
       "Number of Reviews                  1.000000                  1.000000   \n",
       "Number of Reviews_filled           1.000000                  1.000000   \n",
       "Rating                             0.011472                  0.011235   \n",
       "\n",
       "                            Rating  \n",
       "Number of Reviews         0.011472  \n",
       "Number of Reviews_filled  0.011235  \n",
       "Rating                    1.000000  "
      ]
     },
     "execution_count": 80,
     "metadata": {},
     "output_type": "execute_result"
    }
   ],
   "source": [
    "data[['Number of Reviews', 'Number of Reviews_filled', 'Rating']].corr()"
   ]
  },
  {
   "cell_type": "code",
   "execution_count": 81,
   "metadata": {},
   "outputs": [
    {
     "data": {
      "text/html": [
       "<div>\n",
       "<style scoped>\n",
       "    .dataframe tbody tr th:only-of-type {\n",
       "        vertical-align: middle;\n",
       "    }\n",
       "\n",
       "    .dataframe tbody tr th {\n",
       "        vertical-align: top;\n",
       "    }\n",
       "\n",
       "    .dataframe thead th {\n",
       "        text-align: right;\n",
       "    }\n",
       "</style>\n",
       "<table border=\"1\" class=\"dataframe\">\n",
       "  <thead>\n",
       "    <tr style=\"text-align: right;\">\n",
       "      <th></th>\n",
       "      <th>mean</th>\n",
       "      <th>median</th>\n",
       "    </tr>\n",
       "    <tr>\n",
       "      <th>City</th>\n",
       "      <th></th>\n",
       "      <th></th>\n",
       "    </tr>\n",
       "  </thead>\n",
       "  <tbody>\n",
       "    <tr>\n",
       "      <th>Amsterdam</th>\n",
       "      <td>148.744436</td>\n",
       "      <td>46.0</td>\n",
       "    </tr>\n",
       "    <tr>\n",
       "      <th>Athens</th>\n",
       "      <td>93.987517</td>\n",
       "      <td>22.0</td>\n",
       "    </tr>\n",
       "    <tr>\n",
       "      <th>Barcelona</th>\n",
       "      <td>135.683096</td>\n",
       "      <td>35.0</td>\n",
       "    </tr>\n",
       "    <tr>\n",
       "      <th>Berlin</th>\n",
       "      <td>63.772188</td>\n",
       "      <td>17.0</td>\n",
       "    </tr>\n",
       "    <tr>\n",
       "      <th>Bratislava</th>\n",
       "      <td>51.616099</td>\n",
       "      <td>10.0</td>\n",
       "    </tr>\n",
       "    <tr>\n",
       "      <th>Brussels</th>\n",
       "      <td>92.647154</td>\n",
       "      <td>28.0</td>\n",
       "    </tr>\n",
       "    <tr>\n",
       "      <th>Budapest</th>\n",
       "      <td>158.680214</td>\n",
       "      <td>24.0</td>\n",
       "    </tr>\n",
       "    <tr>\n",
       "      <th>Copenhagen</th>\n",
       "      <td>95.058065</td>\n",
       "      <td>33.0</td>\n",
       "    </tr>\n",
       "    <tr>\n",
       "      <th>Dublin</th>\n",
       "      <td>154.276382</td>\n",
       "      <td>44.0</td>\n",
       "    </tr>\n",
       "    <tr>\n",
       "      <th>Edinburgh</th>\n",
       "      <td>237.711326</td>\n",
       "      <td>69.5</td>\n",
       "    </tr>\n",
       "    <tr>\n",
       "      <th>Geneva</th>\n",
       "      <td>62.173358</td>\n",
       "      <td>30.5</td>\n",
       "    </tr>\n",
       "    <tr>\n",
       "      <th>Hamburg</th>\n",
       "      <td>45.318182</td>\n",
       "      <td>16.0</td>\n",
       "    </tr>\n",
       "    <tr>\n",
       "      <th>Helsinki</th>\n",
       "      <td>66.020134</td>\n",
       "      <td>21.0</td>\n",
       "    </tr>\n",
       "    <tr>\n",
       "      <th>Krakow</th>\n",
       "      <td>130.569498</td>\n",
       "      <td>28.0</td>\n",
       "    </tr>\n",
       "    <tr>\n",
       "      <th>Lisbon</th>\n",
       "      <td>127.830078</td>\n",
       "      <td>31.0</td>\n",
       "    </tr>\n",
       "    <tr>\n",
       "      <th>Ljubljana</th>\n",
       "      <td>88.256039</td>\n",
       "      <td>20.0</td>\n",
       "    </tr>\n",
       "    <tr>\n",
       "      <th>London</th>\n",
       "      <td>137.968381</td>\n",
       "      <td>38.0</td>\n",
       "    </tr>\n",
       "    <tr>\n",
       "      <th>Luxembourg</th>\n",
       "      <td>83.268000</td>\n",
       "      <td>35.0</td>\n",
       "    </tr>\n",
       "    <tr>\n",
       "      <th>Lyon</th>\n",
       "      <td>87.073216</td>\n",
       "      <td>31.0</td>\n",
       "    </tr>\n",
       "    <tr>\n",
       "      <th>Madrid</th>\n",
       "      <td>99.911888</td>\n",
       "      <td>27.0</td>\n",
       "    </tr>\n",
       "    <tr>\n",
       "      <th>Milan</th>\n",
       "      <td>168.298869</td>\n",
       "      <td>47.0</td>\n",
       "    </tr>\n",
       "    <tr>\n",
       "      <th>Munich</th>\n",
       "      <td>77.649387</td>\n",
       "      <td>29.0</td>\n",
       "    </tr>\n",
       "    <tr>\n",
       "      <th>Oporto</th>\n",
       "      <td>134.148581</td>\n",
       "      <td>36.0</td>\n",
       "    </tr>\n",
       "    <tr>\n",
       "      <th>Oslo</th>\n",
       "      <td>100.004292</td>\n",
       "      <td>29.0</td>\n",
       "    </tr>\n",
       "    <tr>\n",
       "      <th>Paris</th>\n",
       "      <td>117.040915</td>\n",
       "      <td>44.0</td>\n",
       "    </tr>\n",
       "    <tr>\n",
       "      <th>Prague</th>\n",
       "      <td>124.377722</td>\n",
       "      <td>19.0</td>\n",
       "    </tr>\n",
       "    <tr>\n",
       "      <th>Rome</th>\n",
       "      <td>289.787107</td>\n",
       "      <td>119.0</td>\n",
       "    </tr>\n",
       "    <tr>\n",
       "      <th>Stockholm</th>\n",
       "      <td>75.197479</td>\n",
       "      <td>20.5</td>\n",
       "    </tr>\n",
       "    <tr>\n",
       "      <th>Vienna</th>\n",
       "      <td>80.535094</td>\n",
       "      <td>21.0</td>\n",
       "    </tr>\n",
       "    <tr>\n",
       "      <th>Warsaw</th>\n",
       "      <td>67.112183</td>\n",
       "      <td>17.0</td>\n",
       "    </tr>\n",
       "    <tr>\n",
       "      <th>Zurich</th>\n",
       "      <td>72.510078</td>\n",
       "      <td>30.0</td>\n",
       "    </tr>\n",
       "  </tbody>\n",
       "</table>\n",
       "</div>"
      ],
      "text/plain": [
       "                  mean  median\n",
       "City                          \n",
       "Amsterdam   148.744436    46.0\n",
       "Athens       93.987517    22.0\n",
       "Barcelona   135.683096    35.0\n",
       "Berlin       63.772188    17.0\n",
       "Bratislava   51.616099    10.0\n",
       "Brussels     92.647154    28.0\n",
       "Budapest    158.680214    24.0\n",
       "Copenhagen   95.058065    33.0\n",
       "Dublin      154.276382    44.0\n",
       "Edinburgh   237.711326    69.5\n",
       "Geneva       62.173358    30.5\n",
       "Hamburg      45.318182    16.0\n",
       "Helsinki     66.020134    21.0\n",
       "Krakow      130.569498    28.0\n",
       "Lisbon      127.830078    31.0\n",
       "Ljubljana    88.256039    20.0\n",
       "London      137.968381    38.0\n",
       "Luxembourg   83.268000    35.0\n",
       "Lyon         87.073216    31.0\n",
       "Madrid       99.911888    27.0\n",
       "Milan       168.298869    47.0\n",
       "Munich       77.649387    29.0\n",
       "Oporto      134.148581    36.0\n",
       "Oslo        100.004292    29.0\n",
       "Paris       117.040915    44.0\n",
       "Prague      124.377722    19.0\n",
       "Rome        289.787107   119.0\n",
       "Stockholm    75.197479    20.5\n",
       "Vienna       80.535094    21.0\n",
       "Warsaw       67.112183    17.0\n",
       "Zurich       72.510078    30.0"
      ]
     },
     "execution_count": 81,
     "metadata": {},
     "output_type": "execute_result"
    }
   ],
   "source": [
    "data.groupby('City')['Number of Reviews'].agg(['mean', 'median'])"
   ]
  },
  {
   "cell_type": "code",
   "execution_count": 82,
   "metadata": {},
   "outputs": [
    {
     "data": {
      "text/plain": [
       "<matplotlib.axes._subplots.AxesSubplot at 0x202d1ab1f08>"
      ]
     },
     "execution_count": 82,
     "metadata": {},
     "output_type": "execute_result"
    },
    {
     "data": {
      "image/png": "[encoded data removed]",
      "text/plain": [
       "<Figure size 432x288 with 1 Axes>"
      ]
     },
     "metadata": {
      "needs_background": "light"
     },
     "output_type": "display_data"
    }
   ],
   "source": [
    "data[data['Number of Reviews']<100]['Number of Reviews'].hist()"
   ]
  },
  {
   "cell_type": "markdown",
   "metadata": {},
   "source": [
    "Заполнить пропуски каким-то конкретным значением на мой взгляд не будет корректным. Сгенерируем новый признак, который характеризовал бы середину диапазона, в который попадает то или иное значение количества отзывов. Для этого каждое значение разделим на 50 и округлим до целого."
   ]
  },
  {
   "cell_type": "code",
   "execution_count": 83,
   "metadata": {},
   "outputs": [],
   "source": [
    "data['Number of Reviews_50'] = data['Number of Reviews'].apply(lambda x: None if pd.isna(x) else round(x/50, 0))"
   ]
  },
  {
   "cell_type": "code",
   "execution_count": 84,
   "metadata": {},
   "outputs": [
    {
     "data": {
      "text/plain": [
       "<matplotlib.axes._subplots.AxesSubplot at 0x202cadd4948>"
      ]
     },
     "execution_count": 84,
     "metadata": {},
     "output_type": "execute_result"
    },
    {
     "data": {
      "image/png": "[encoded data removed]",
      "text/plain": [
       "<Figure size 432x288 with 1 Axes>"
      ]
     },
     "metadata": {
      "needs_background": "light"
     },
     "output_type": "display_data"
    }
   ],
   "source": [
    "data['Number of Reviews_50'].hist(bins=100)"
   ]
  },
  {
   "cell_type": "markdown",
   "metadata": {},
   "source": [
    "Проверим, сможем ли мы заполнять пропуски медианным значением в зависимости от города."
   ]
  },
  {
   "cell_type": "code",
   "execution_count": 85,
   "metadata": {},
   "outputs": [
    {
     "data": {
      "text/html": [
       "<div>\n",
       "<style scoped>\n",
       "    .dataframe tbody tr th:only-of-type {\n",
       "        vertical-align: middle;\n",
       "    }\n",
       "\n",
       "    .dataframe tbody tr th {\n",
       "        vertical-align: top;\n",
       "    }\n",
       "\n",
       "    .dataframe thead th {\n",
       "        text-align: right;\n",
       "    }\n",
       "</style>\n",
       "<table border=\"1\" class=\"dataframe\">\n",
       "  <thead>\n",
       "    <tr style=\"text-align: right;\">\n",
       "      <th></th>\n",
       "      <th>mean</th>\n",
       "      <th>median</th>\n",
       "    </tr>\n",
       "    <tr>\n",
       "      <th>City</th>\n",
       "      <th></th>\n",
       "      <th></th>\n",
       "    </tr>\n",
       "  </thead>\n",
       "  <tbody>\n",
       "    <tr>\n",
       "      <th>Amsterdam</th>\n",
       "      <td>2.934766</td>\n",
       "      <td>1.0</td>\n",
       "    </tr>\n",
       "    <tr>\n",
       "      <th>Athens</th>\n",
       "      <td>1.815534</td>\n",
       "      <td>0.0</td>\n",
       "    </tr>\n",
       "    <tr>\n",
       "      <th>Barcelona</th>\n",
       "      <td>2.658136</td>\n",
       "      <td>1.0</td>\n",
       "    </tr>\n",
       "    <tr>\n",
       "      <th>Berlin</th>\n",
       "      <td>1.191411</td>\n",
       "      <td>0.0</td>\n",
       "    </tr>\n",
       "    <tr>\n",
       "      <th>Bratislava</th>\n",
       "      <td>0.938080</td>\n",
       "      <td>0.0</td>\n",
       "    </tr>\n",
       "    <tr>\n",
       "      <th>Brussels</th>\n",
       "      <td>1.783740</td>\n",
       "      <td>1.0</td>\n",
       "    </tr>\n",
       "    <tr>\n",
       "      <th>Budapest</th>\n",
       "      <td>3.099465</td>\n",
       "      <td>0.0</td>\n",
       "    </tr>\n",
       "    <tr>\n",
       "      <th>Copenhagen</th>\n",
       "      <td>1.842581</td>\n",
       "      <td>1.0</td>\n",
       "    </tr>\n",
       "    <tr>\n",
       "      <th>Dublin</th>\n",
       "      <td>3.040201</td>\n",
       "      <td>1.0</td>\n",
       "    </tr>\n",
       "    <tr>\n",
       "      <th>Edinburgh</th>\n",
       "      <td>4.701657</td>\n",
       "      <td>1.0</td>\n",
       "    </tr>\n",
       "    <tr>\n",
       "      <th>Geneva</th>\n",
       "      <td>1.191606</td>\n",
       "      <td>1.0</td>\n",
       "    </tr>\n",
       "    <tr>\n",
       "      <th>Hamburg</th>\n",
       "      <td>0.832096</td>\n",
       "      <td>0.0</td>\n",
       "    </tr>\n",
       "    <tr>\n",
       "      <th>Helsinki</th>\n",
       "      <td>1.257271</td>\n",
       "      <td>0.0</td>\n",
       "    </tr>\n",
       "    <tr>\n",
       "      <th>Krakow</th>\n",
       "      <td>2.548263</td>\n",
       "      <td>1.0</td>\n",
       "    </tr>\n",
       "    <tr>\n",
       "      <th>Lisbon</th>\n",
       "      <td>2.511068</td>\n",
       "      <td>1.0</td>\n",
       "    </tr>\n",
       "    <tr>\n",
       "      <th>Ljubljana</th>\n",
       "      <td>1.671498</td>\n",
       "      <td>0.0</td>\n",
       "    </tr>\n",
       "    <tr>\n",
       "      <th>London</th>\n",
       "      <td>2.703753</td>\n",
       "      <td>1.0</td>\n",
       "    </tr>\n",
       "    <tr>\n",
       "      <th>Luxembourg</th>\n",
       "      <td>1.632000</td>\n",
       "      <td>1.0</td>\n",
       "    </tr>\n",
       "    <tr>\n",
       "      <th>Lyon</th>\n",
       "      <td>1.678406</td>\n",
       "      <td>1.0</td>\n",
       "    </tr>\n",
       "    <tr>\n",
       "      <th>Madrid</th>\n",
       "      <td>1.937063</td>\n",
       "      <td>1.0</td>\n",
       "    </tr>\n",
       "    <tr>\n",
       "      <th>Milan</th>\n",
       "      <td>3.324229</td>\n",
       "      <td>1.0</td>\n",
       "    </tr>\n",
       "    <tr>\n",
       "      <th>Munich</th>\n",
       "      <td>1.493874</td>\n",
       "      <td>1.0</td>\n",
       "    </tr>\n",
       "    <tr>\n",
       "      <th>Oporto</th>\n",
       "      <td>2.642738</td>\n",
       "      <td>1.0</td>\n",
       "    </tr>\n",
       "    <tr>\n",
       "      <th>Oslo</th>\n",
       "      <td>1.937768</td>\n",
       "      <td>1.0</td>\n",
       "    </tr>\n",
       "    <tr>\n",
       "      <th>Paris</th>\n",
       "      <td>2.291903</td>\n",
       "      <td>1.0</td>\n",
       "    </tr>\n",
       "    <tr>\n",
       "      <th>Prague</th>\n",
       "      <td>2.413192</td>\n",
       "      <td>0.0</td>\n",
       "    </tr>\n",
       "    <tr>\n",
       "      <th>Rome</th>\n",
       "      <td>5.767211</td>\n",
       "      <td>2.0</td>\n",
       "    </tr>\n",
       "    <tr>\n",
       "      <th>Stockholm</th>\n",
       "      <td>1.426471</td>\n",
       "      <td>0.0</td>\n",
       "    </tr>\n",
       "    <tr>\n",
       "      <th>Vienna</th>\n",
       "      <td>1.542642</td>\n",
       "      <td>0.0</td>\n",
       "    </tr>\n",
       "    <tr>\n",
       "      <th>Warsaw</th>\n",
       "      <td>1.271411</td>\n",
       "      <td>0.0</td>\n",
       "    </tr>\n",
       "    <tr>\n",
       "      <th>Zurich</th>\n",
       "      <td>1.382946</td>\n",
       "      <td>1.0</td>\n",
       "    </tr>\n",
       "  </tbody>\n",
       "</table>\n",
       "</div>"
      ],
      "text/plain": [
       "                mean  median\n",
       "City                        \n",
       "Amsterdam   2.934766     1.0\n",
       "Athens      1.815534     0.0\n",
       "Barcelona   2.658136     1.0\n",
       "Berlin      1.191411     0.0\n",
       "Bratislava  0.938080     0.0\n",
       "Brussels    1.783740     1.0\n",
       "Budapest    3.099465     0.0\n",
       "Copenhagen  1.842581     1.0\n",
       "Dublin      3.040201     1.0\n",
       "Edinburgh   4.701657     1.0\n",
       "Geneva      1.191606     1.0\n",
       "Hamburg     0.832096     0.0\n",
       "Helsinki    1.257271     0.0\n",
       "Krakow      2.548263     1.0\n",
       "Lisbon      2.511068     1.0\n",
       "Ljubljana   1.671498     0.0\n",
       "London      2.703753     1.0\n",
       "Luxembourg  1.632000     1.0\n",
       "Lyon        1.678406     1.0\n",
       "Madrid      1.937063     1.0\n",
       "Milan       3.324229     1.0\n",
       "Munich      1.493874     1.0\n",
       "Oporto      2.642738     1.0\n",
       "Oslo        1.937768     1.0\n",
       "Paris       2.291903     1.0\n",
       "Prague      2.413192     0.0\n",
       "Rome        5.767211     2.0\n",
       "Stockholm   1.426471     0.0\n",
       "Vienna      1.542642     0.0\n",
       "Warsaw      1.271411     0.0\n",
       "Zurich      1.382946     1.0"
      ]
     },
     "execution_count": 85,
     "metadata": {},
     "output_type": "execute_result"
    }
   ],
   "source": [
    "data.groupby('City')['Number of Reviews_50'].agg(['mean', 'median'])"
   ]
  },
  {
   "cell_type": "code",
   "execution_count": 86,
   "metadata": {},
   "outputs": [],
   "source": [
    "def fill_num_rev(row):\n",
    "    if pd.isna(row['Number of Reviews_50']):\n",
    "        return data[data['City'] == row['City']]['Number of Reviews_50'].min()\n",
    "    return row['Number of Reviews_50']\n",
    "\n",
    "data['Number of Reviews_50_min'] = data.apply(fill_num_rev, axis=1)"
   ]
  },
  {
   "cell_type": "code",
   "execution_count": 87,
   "metadata": {},
   "outputs": [
    {
     "data": {
      "text/plain": [
       "0.0      24230\n",
       "1.0      10253\n",
       "2.0       4511\n",
       "3.0       2608\n",
       "4.0       1722\n",
       "         ...  \n",
       "126.0        1\n",
       "65.0         1\n",
       "94.0         1\n",
       "179.0        1\n",
       "120.0        1\n",
       "Name: Number of Reviews_50_min, Length: 102, dtype: int64"
      ]
     },
     "execution_count": 87,
     "metadata": {},
     "output_type": "execute_result"
    }
   ],
   "source": [
    "data['Number of Reviews_50_min'].value_counts()"
   ]
  },
  {
   "cell_type": "code",
   "execution_count": 88,
   "metadata": {},
   "outputs": [
    {
     "data": {
      "text/plain": [
       "<matplotlib.axes._subplots.AxesSubplot at 0x202d2c70fc8>"
      ]
     },
     "execution_count": 88,
     "metadata": {},
     "output_type": "execute_result"
    },
    {
     "data": {
      "image/png": "[encoded data removed]",
      "text/plain": [
       "<Figure size 432x288 with 1 Axes>"
      ]
     },
     "metadata": {
      "needs_background": "light"
     },
     "output_type": "display_data"
    }
   ],
   "source": [
    "data[data['Number of Reviews_50_min'] < 5]['Number of Reviews_50_min'].hist(bins=4)"
   ]
  },
  {
   "cell_type": "markdown",
   "metadata": {},
   "source": [
    "Проверим, не потеряли ли мы коррелецию в результате проведенных манипуляций."
   ]
  },
  {
   "cell_type": "code",
   "execution_count": 89,
   "metadata": {},
   "outputs": [
    {
     "data": {
      "text/html": [
       "<div>\n",
       "<style scoped>\n",
       "    .dataframe tbody tr th:only-of-type {\n",
       "        vertical-align: middle;\n",
       "    }\n",
       "\n",
       "    .dataframe tbody tr th {\n",
       "        vertical-align: top;\n",
       "    }\n",
       "\n",
       "    .dataframe thead th {\n",
       "        text-align: right;\n",
       "    }\n",
       "</style>\n",
       "<table border=\"1\" class=\"dataframe\">\n",
       "  <thead>\n",
       "    <tr style=\"text-align: right;\">\n",
       "      <th></th>\n",
       "      <th>Number of Reviews</th>\n",
       "      <th>Number of Reviews_50</th>\n",
       "      <th>Number of Reviews_50_min</th>\n",
       "      <th>Rating</th>\n",
       "    </tr>\n",
       "  </thead>\n",
       "  <tbody>\n",
       "    <tr>\n",
       "      <th>Number of Reviews</th>\n",
       "      <td>1.000000</td>\n",
       "      <td>0.999015</td>\n",
       "      <td>0.999015</td>\n",
       "      <td>0.011472</td>\n",
       "    </tr>\n",
       "    <tr>\n",
       "      <th>Number of Reviews_50</th>\n",
       "      <td>0.999015</td>\n",
       "      <td>1.000000</td>\n",
       "      <td>1.000000</td>\n",
       "      <td>0.010985</td>\n",
       "    </tr>\n",
       "    <tr>\n",
       "      <th>Number of Reviews_50_min</th>\n",
       "      <td>0.999015</td>\n",
       "      <td>1.000000</td>\n",
       "      <td>1.000000</td>\n",
       "      <td>0.010543</td>\n",
       "    </tr>\n",
       "    <tr>\n",
       "      <th>Rating</th>\n",
       "      <td>0.011472</td>\n",
       "      <td>0.010985</td>\n",
       "      <td>0.010543</td>\n",
       "      <td>1.000000</td>\n",
       "    </tr>\n",
       "  </tbody>\n",
       "</table>\n",
       "</div>"
      ],
      "text/plain": [
       "                          Number of Reviews  Number of Reviews_50  \\\n",
       "Number of Reviews                  1.000000              0.999015   \n",
       "Number of Reviews_50               0.999015              1.000000   \n",
       "Number of Reviews_50_min           0.999015              1.000000   \n",
       "Rating                             0.011472              0.010985   \n",
       "\n",
       "                          Number of Reviews_50_min    Rating  \n",
       "Number of Reviews                         0.999015  0.011472  \n",
       "Number of Reviews_50                      1.000000  0.010985  \n",
       "Number of Reviews_50_min                  1.000000  0.010543  \n",
       "Rating                                    0.010543  1.000000  "
      ]
     },
     "execution_count": 89,
     "metadata": {},
     "output_type": "execute_result"
    }
   ],
   "source": [
    "data[['Number of Reviews', 'Number of Reviews_50','Number of Reviews_50_min', 'Rating']].corr()"
   ]
  },
  {
   "cell_type": "code",
   "execution_count": 90,
   "metadata": {},
   "outputs": [],
   "source": [
    "drop_list.append('Number of Reviews')\n",
    "drop_list.append('Number of Reviews_50')"
   ]
  },
  {
   "cell_type": "markdown",
   "metadata": {},
   "source": [
    "# Reviews"
   ]
  },
  {
   "cell_type": "code",
   "execution_count": 91,
   "metadata": {},
   "outputs": [
    {
     "data": {
      "text/plain": [
       "2"
      ]
     },
     "execution_count": 91,
     "metadata": {},
     "output_type": "execute_result"
    }
   ],
   "source": [
    "data['Reviews'].isna().sum()"
   ]
  },
  {
   "cell_type": "markdown",
   "metadata": {},
   "source": [
    "На первый взглд здесь всего лишь 2 пропуска, но если просмотреть значения, то можно заметить довольно много значений вида '[[],[]]', что также можно рассматривать как пустые значения. В среднем структура значений представляеи собой список из двух вложенных списков: текст отзыва и дата отзыва. Проверим, сколько отзывов модет быть вложено."
   ]
  },
  {
   "cell_type": "code",
   "execution_count": 92,
   "metadata": {},
   "outputs": [
    {
     "data": {
      "text/plain": [
       "2    34787\n",
       "0     8112\n",
       "1     7101\n",
       "Name: Reviews_num, dtype: int64"
      ]
     },
     "execution_count": 92,
     "metadata": {},
     "output_type": "execute_result"
    }
   ],
   "source": [
    "data['Reviews_num'] = data['Reviews'].apply(lambda x: 0 if str(x) == '[[], []]' else len(str(x).split('], [')[0].split(\"', '\")))\n",
    "data['Reviews_num'].fillna(0, inplace=True)\n",
    "data['Reviews_num'].value_counts()"
   ]
  },
  {
   "cell_type": "markdown",
   "metadata": {},
   "source": [
    "Далее извлечем даты в отдельные столбцы, а также посчитаем время между двумя отзывами и как давно был сделан последний отзыв."
   ]
  },
  {
   "cell_type": "code",
   "execution_count": 93,
   "metadata": {},
   "outputs": [],
   "source": [
    "def find_date(string):\n",
    "    pattern = re.compile('\\d\\d\\/\\d\\d\\/\\d\\d\\d\\d')\n",
    "    return pattern.findall(string)\n",
    "\n",
    "\n",
    "def date_1(row):\n",
    "    if pd.isna(row['Reviews']):\n",
    "        return None\n",
    "    date_list = find_date(row['Reviews'])\n",
    "    if len(date_list) == 0:\n",
    "        return None\n",
    "    else:\n",
    "        date_1 = datetime.strptime(date_list[0], '%m/%d/%Y')\n",
    "        if len(date_list) > 1:\n",
    "            date_2 = datetime.strptime(date_list[1], '%m/%d/%Y')\n",
    "            if date_1 > date_2:\n",
    "                return date_1\n",
    "            else:\n",
    "                return date_2\n",
    "        return date_1\n",
    "\n",
    "\n",
    "def date_2(row):\n",
    "    if pd.isna(row['Reviews']):\n",
    "        return None\n",
    "    date_list = find_date(row['Reviews'])\n",
    "    if len(date_list) in [0, 1]:\n",
    "        return None\n",
    "    else:\n",
    "        date_1 = datetime.strptime(date_list[0], '%m/%d/%Y')\n",
    "        date_2 = datetime.strptime(date_list[1], '%m/%d/%Y')\n",
    "        if date_1 > date_2:\n",
    "            return date_2\n",
    "        else:\n",
    "            return date_1\n",
    "\n",
    "\n",
    "data['last_date_1'] = data.apply(date_1, axis=1)\n",
    "data['last_date_2'] = data.apply(date_2, axis=1)"
   ]
  },
  {
   "cell_type": "code",
   "execution_count": 94,
   "metadata": {},
   "outputs": [],
   "source": [
    "# Новые столбец с количеством дней между отзывами\n",
    "def days_btw(row):\n",
    "    if pd.isna(row['last_date_2']):\n",
    "        return None\n",
    "    return (row['last_date_1']-row['last_date_2']).days\n",
    "\n",
    "\n",
    "data['days_btw_rev'] = data.apply(days_btw, axis=1)"
   ]
  },
  {
   "cell_type": "code",
   "execution_count": 95,
   "metadata": {},
   "outputs": [
    {
     "data": {
      "text/plain": [
       "13794"
      ]
     },
     "execution_count": 95,
     "metadata": {},
     "output_type": "execute_result"
    }
   ],
   "source": [
    "data['days_btw_rev'].isna().sum()"
   ]
  },
  {
   "cell_type": "markdown",
   "metadata": {},
   "source": [
    "Тут получилось довольно много пропусков. Посмотрим на распределение признака."
   ]
  },
  {
   "cell_type": "code",
   "execution_count": 96,
   "metadata": {},
   "outputs": [
    {
     "data": {
      "text/plain": [
       "<matplotlib.axes._subplots.AxesSubplot at 0x202d1ab7b88>"
      ]
     },
     "execution_count": 96,
     "metadata": {},
     "output_type": "execute_result"
    },
    {
     "data": {
      "image/png": "[encoded data removed]",
      "text/plain": [
       "<Figure size 432x288 with 1 Axes>"
      ]
     },
     "metadata": {
      "needs_background": "light"
     },
     "output_type": "display_data"
    }
   ],
   "source": [
    "data['days_btw_rev'].hist(bins=100)"
   ]
  },
  {
   "cell_type": "markdown",
   "metadata": {},
   "source": [
    "Здесь можно наблюдать аналогичную ситуацию, как в случае с количеством отзывов ('Number of Reviews'). Для заполнения пропусков поступим также."
   ]
  },
  {
   "cell_type": "code",
   "execution_count": 97,
   "metadata": {},
   "outputs": [
    {
     "data": {
      "text/plain": [
       "<matplotlib.axes._subplots.AxesSubplot at 0x202d2c96f08>"
      ]
     },
     "execution_count": 97,
     "metadata": {},
     "output_type": "execute_result"
    },
    {
     "data": {
      "image/png": "[encoded data removed]",
      "text/plain": [
       "<Figure size 432x288 with 1 Axes>"
      ]
     },
     "metadata": {
      "needs_background": "light"
     },
     "output_type": "display_data"
    }
   ],
   "source": [
    "data[data['days_btw_rev']<400]['days_btw_rev'].hist(bins=5)"
   ]
  },
  {
   "cell_type": "code",
   "execution_count": 98,
   "metadata": {},
   "outputs": [],
   "source": [
    "def fill_days_btw(row):\n",
    "    if pd.isna(row['days_btw_rev']):\n",
    "        return data[data['City'] == row['City']]['days_btw_rev'].median()\n",
    "    return row['days_btw_rev']\n",
    "data['days_btw_rev_filled'] = data.apply(fill_days_btw, axis=1)"
   ]
  },
  {
   "cell_type": "code",
   "execution_count": 99,
   "metadata": {},
   "outputs": [
    {
     "data": {
      "text/plain": [
       "0"
      ]
     },
     "execution_count": 99,
     "metadata": {},
     "output_type": "execute_result"
    }
   ],
   "source": [
    "data['days_btw_rev_filled'].isna().sum()"
   ]
  },
  {
   "cell_type": "code",
   "execution_count": 100,
   "metadata": {},
   "outputs": [],
   "source": [
    "# Новый признак, характеризующий диапазон, в который попадает значение 'days_btw_rev'\n",
    "data['days_btw_rev_100'] = data['days_btw_rev'].apply(lambda x: None if x is None else round(x/100, 0))"
   ]
  },
  {
   "cell_type": "code",
   "execution_count": 101,
   "metadata": {},
   "outputs": [
    {
     "data": {
      "text/html": [
       "<div>\n",
       "<style scoped>\n",
       "    .dataframe tbody tr th:only-of-type {\n",
       "        vertical-align: middle;\n",
       "    }\n",
       "\n",
       "    .dataframe tbody tr th {\n",
       "        vertical-align: top;\n",
       "    }\n",
       "\n",
       "    .dataframe thead th {\n",
       "        text-align: right;\n",
       "    }\n",
       "</style>\n",
       "<table border=\"1\" class=\"dataframe\">\n",
       "  <thead>\n",
       "    <tr style=\"text-align: right;\">\n",
       "      <th></th>\n",
       "      <th>mean</th>\n",
       "      <th>median</th>\n",
       "    </tr>\n",
       "    <tr>\n",
       "      <th>City</th>\n",
       "      <th></th>\n",
       "      <th></th>\n",
       "    </tr>\n",
       "  </thead>\n",
       "  <tbody>\n",
       "    <tr>\n",
       "      <th>Amsterdam</th>\n",
       "      <td>0.801646</td>\n",
       "      <td>0.0</td>\n",
       "    </tr>\n",
       "    <tr>\n",
       "      <th>Athens</th>\n",
       "      <td>1.268781</td>\n",
       "      <td>0.0</td>\n",
       "    </tr>\n",
       "    <tr>\n",
       "      <th>Barcelona</th>\n",
       "      <td>1.404557</td>\n",
       "      <td>1.0</td>\n",
       "    </tr>\n",
       "    <tr>\n",
       "      <th>Berlin</th>\n",
       "      <td>1.833889</td>\n",
       "      <td>1.0</td>\n",
       "    </tr>\n",
       "    <tr>\n",
       "      <th>Bratislava</th>\n",
       "      <td>1.742537</td>\n",
       "      <td>1.0</td>\n",
       "    </tr>\n",
       "    <tr>\n",
       "      <th>Brussels</th>\n",
       "      <td>1.620476</td>\n",
       "      <td>1.0</td>\n",
       "    </tr>\n",
       "    <tr>\n",
       "      <th>Budapest</th>\n",
       "      <td>1.150898</td>\n",
       "      <td>0.0</td>\n",
       "    </tr>\n",
       "    <tr>\n",
       "      <th>Copenhagen</th>\n",
       "      <td>1.082849</td>\n",
       "      <td>1.0</td>\n",
       "    </tr>\n",
       "    <tr>\n",
       "      <th>Dublin</th>\n",
       "      <td>0.850822</td>\n",
       "      <td>0.0</td>\n",
       "    </tr>\n",
       "    <tr>\n",
       "      <th>Edinburgh</th>\n",
       "      <td>0.628294</td>\n",
       "      <td>0.0</td>\n",
       "    </tr>\n",
       "    <tr>\n",
       "      <th>Geneva</th>\n",
       "      <td>1.644342</td>\n",
       "      <td>1.0</td>\n",
       "    </tr>\n",
       "    <tr>\n",
       "      <th>Hamburg</th>\n",
       "      <td>2.309309</td>\n",
       "      <td>1.0</td>\n",
       "    </tr>\n",
       "    <tr>\n",
       "      <th>Helsinki</th>\n",
       "      <td>1.504785</td>\n",
       "      <td>1.0</td>\n",
       "    </tr>\n",
       "    <tr>\n",
       "      <th>Krakow</th>\n",
       "      <td>1.062500</td>\n",
       "      <td>0.0</td>\n",
       "    </tr>\n",
       "    <tr>\n",
       "      <th>Lisbon</th>\n",
       "      <td>1.278934</td>\n",
       "      <td>1.0</td>\n",
       "    </tr>\n",
       "    <tr>\n",
       "      <th>Ljubljana</th>\n",
       "      <td>1.270000</td>\n",
       "      <td>1.0</td>\n",
       "    </tr>\n",
       "    <tr>\n",
       "      <th>London</th>\n",
       "      <td>0.943647</td>\n",
       "      <td>0.0</td>\n",
       "    </tr>\n",
       "    <tr>\n",
       "      <th>Luxembourg</th>\n",
       "      <td>1.466981</td>\n",
       "      <td>1.0</td>\n",
       "    </tr>\n",
       "    <tr>\n",
       "      <th>Lyon</th>\n",
       "      <td>2.146667</td>\n",
       "      <td>1.0</td>\n",
       "    </tr>\n",
       "    <tr>\n",
       "      <th>Madrid</th>\n",
       "      <td>1.671650</td>\n",
       "      <td>1.0</td>\n",
       "    </tr>\n",
       "    <tr>\n",
       "      <th>Milan</th>\n",
       "      <td>1.859342</td>\n",
       "      <td>1.0</td>\n",
       "    </tr>\n",
       "    <tr>\n",
       "      <th>Munich</th>\n",
       "      <td>1.579587</td>\n",
       "      <td>1.0</td>\n",
       "    </tr>\n",
       "    <tr>\n",
       "      <th>Oporto</th>\n",
       "      <td>1.051339</td>\n",
       "      <td>1.0</td>\n",
       "    </tr>\n",
       "    <tr>\n",
       "      <th>Oslo</th>\n",
       "      <td>1.239709</td>\n",
       "      <td>1.0</td>\n",
       "    </tr>\n",
       "    <tr>\n",
       "      <th>Paris</th>\n",
       "      <td>1.694744</td>\n",
       "      <td>1.0</td>\n",
       "    </tr>\n",
       "    <tr>\n",
       "      <th>Prague</th>\n",
       "      <td>1.388083</td>\n",
       "      <td>1.0</td>\n",
       "    </tr>\n",
       "    <tr>\n",
       "      <th>Rome</th>\n",
       "      <td>1.368843</td>\n",
       "      <td>1.0</td>\n",
       "    </tr>\n",
       "    <tr>\n",
       "      <th>Stockholm</th>\n",
       "      <td>1.475880</td>\n",
       "      <td>1.0</td>\n",
       "    </tr>\n",
       "    <tr>\n",
       "      <th>Vienna</th>\n",
       "      <td>1.572573</td>\n",
       "      <td>1.0</td>\n",
       "    </tr>\n",
       "    <tr>\n",
       "      <th>Warsaw</th>\n",
       "      <td>1.518092</td>\n",
       "      <td>1.0</td>\n",
       "    </tr>\n",
       "    <tr>\n",
       "      <th>Zurich</th>\n",
       "      <td>1.470480</td>\n",
       "      <td>1.0</td>\n",
       "    </tr>\n",
       "  </tbody>\n",
       "</table>\n",
       "</div>"
      ],
      "text/plain": [
       "                mean  median\n",
       "City                        \n",
       "Amsterdam   0.801646     0.0\n",
       "Athens      1.268781     0.0\n",
       "Barcelona   1.404557     1.0\n",
       "Berlin      1.833889     1.0\n",
       "Bratislava  1.742537     1.0\n",
       "Brussels    1.620476     1.0\n",
       "Budapest    1.150898     0.0\n",
       "Copenhagen  1.082849     1.0\n",
       "Dublin      0.850822     0.0\n",
       "Edinburgh   0.628294     0.0\n",
       "Geneva      1.644342     1.0\n",
       "Hamburg     2.309309     1.0\n",
       "Helsinki    1.504785     1.0\n",
       "Krakow      1.062500     0.0\n",
       "Lisbon      1.278934     1.0\n",
       "Ljubljana   1.270000     1.0\n",
       "London      0.943647     0.0\n",
       "Luxembourg  1.466981     1.0\n",
       "Lyon        2.146667     1.0\n",
       "Madrid      1.671650     1.0\n",
       "Milan       1.859342     1.0\n",
       "Munich      1.579587     1.0\n",
       "Oporto      1.051339     1.0\n",
       "Oslo        1.239709     1.0\n",
       "Paris       1.694744     1.0\n",
       "Prague      1.388083     1.0\n",
       "Rome        1.368843     1.0\n",
       "Stockholm   1.475880     1.0\n",
       "Vienna      1.572573     1.0\n",
       "Warsaw      1.518092     1.0\n",
       "Zurich      1.470480     1.0"
      ]
     },
     "execution_count": 101,
     "metadata": {},
     "output_type": "execute_result"
    }
   ],
   "source": [
    "# Проверяем, есть ли зависимость от города\n",
    "data.groupby('City')['days_btw_rev_100'].agg(['mean', 'median'])"
   ]
  },
  {
   "cell_type": "code",
   "execution_count": 102,
   "metadata": {},
   "outputs": [],
   "source": [
    "# Функция для заполнения пропусков\n",
    "def fill_days_btw(row):\n",
    "    if pd.isna(row['days_btw_rev_100']):\n",
    "        return data[data['City'] == row['City']]['days_btw_rev_100'].median()\n",
    "    return row['days_btw_rev_100']\n",
    "\n",
    "data['days_btw_rev_100'] = data.apply(fill_days_btw, axis=1)"
   ]
  },
  {
   "cell_type": "code",
   "execution_count": 103,
   "metadata": {},
   "outputs": [
    {
     "data": {
      "text/html": [
       "<div>\n",
       "<style scoped>\n",
       "    .dataframe tbody tr th:only-of-type {\n",
       "        vertical-align: middle;\n",
       "    }\n",
       "\n",
       "    .dataframe tbody tr th {\n",
       "        vertical-align: top;\n",
       "    }\n",
       "\n",
       "    .dataframe thead th {\n",
       "        text-align: right;\n",
       "    }\n",
       "</style>\n",
       "<table border=\"1\" class=\"dataframe\">\n",
       "  <thead>\n",
       "    <tr style=\"text-align: right;\">\n",
       "      <th></th>\n",
       "      <th>Rating</th>\n",
       "      <th>days_btw_rev_filled</th>\n",
       "      <th>days_btw_rev_100</th>\n",
       "    </tr>\n",
       "  </thead>\n",
       "  <tbody>\n",
       "    <tr>\n",
       "      <th>Rating</th>\n",
       "      <td>1.000000</td>\n",
       "      <td>-0.029552</td>\n",
       "      <td>-0.029814</td>\n",
       "    </tr>\n",
       "    <tr>\n",
       "      <th>days_btw_rev_filled</th>\n",
       "      <td>-0.029552</td>\n",
       "      <td>1.000000</td>\n",
       "      <td>0.990918</td>\n",
       "    </tr>\n",
       "    <tr>\n",
       "      <th>days_btw_rev_100</th>\n",
       "      <td>-0.029814</td>\n",
       "      <td>0.990918</td>\n",
       "      <td>1.000000</td>\n",
       "    </tr>\n",
       "  </tbody>\n",
       "</table>\n",
       "</div>"
      ],
      "text/plain": [
       "                       Rating  days_btw_rev_filled  days_btw_rev_100\n",
       "Rating               1.000000            -0.029552         -0.029814\n",
       "days_btw_rev_filled -0.029552             1.000000          0.990918\n",
       "days_btw_rev_100    -0.029814             0.990918          1.000000"
      ]
     },
     "execution_count": 103,
     "metadata": {},
     "output_type": "execute_result"
    }
   ],
   "source": [
    "data[['Rating', 'days_btw_rev_filled', 'days_btw_rev_100']].corr()"
   ]
  },
  {
   "cell_type": "code",
   "execution_count": 104,
   "metadata": {},
   "outputs": [
    {
     "data": {
      "text/plain": [
       "<matplotlib.axes._subplots.AxesSubplot at 0x202cd82aa48>"
      ]
     },
     "execution_count": 104,
     "metadata": {},
     "output_type": "execute_result"
    },
    {
     "data": {
      "image/png": "[encoded data removed]",
      "text/plain": [
       "<Figure size 432x288 with 1 Axes>"
      ]
     },
     "metadata": {
      "needs_background": "light"
     },
     "output_type": "display_data"
    }
   ],
   "source": [
    "data[data['days_btw_rev_100'] < 5]['days_btw_rev_100'].hist(bins=5)"
   ]
  },
  {
   "cell_type": "code",
   "execution_count": 105,
   "metadata": {},
   "outputs": [],
   "source": [
    "# Новый признак, характеризующий, как давно был оставлен последний отзыв. В качестве референса возьмем максимальное значение из всех\n",
    "def days_since(row):\n",
    "    if pd.isna(row['last_date_1']):\n",
    "        return None\n",
    "    else:\n",
    "        return (data['last_date_1'].max()-row['last_date_1']).days\n",
    "\n",
    "\n",
    "data['days_since_last_rev'] = data.apply(days_since, axis=1)"
   ]
  },
  {
   "cell_type": "code",
   "execution_count": 106,
   "metadata": {},
   "outputs": [
    {
     "data": {
      "text/plain": [
       "8114"
      ]
     },
     "execution_count": 106,
     "metadata": {},
     "output_type": "execute_result"
    }
   ],
   "source": [
    "# Пропуски\n",
    "data['days_since_last_rev'].isna().sum()"
   ]
  },
  {
   "cell_type": "code",
   "execution_count": 107,
   "metadata": {},
   "outputs": [
    {
     "data": {
      "text/plain": [
       "<matplotlib.axes._subplots.AxesSubplot at 0x202d239ef88>"
      ]
     },
     "execution_count": 107,
     "metadata": {},
     "output_type": "execute_result"
    },
    {
     "data": {
      "image/png": "[encoded data removed]",
      "text/plain": [
       "<Figure size 432x288 with 1 Axes>"
      ]
     },
     "metadata": {
      "needs_background": "light"
     },
     "output_type": "display_data"
    }
   ],
   "source": [
    "# Посмотрим на распределение признака\n",
    "data['days_since_last_rev'].hist(bins=100)"
   ]
  },
  {
   "cell_type": "code",
   "execution_count": 108,
   "metadata": {},
   "outputs": [
    {
     "data": {
      "text/plain": [
       "<matplotlib.axes._subplots.AxesSubplot at 0x202cecd2c08>"
      ]
     },
     "execution_count": 108,
     "metadata": {},
     "output_type": "execute_result"
    },
    {
     "data": {
      "image/png": "[encoded data removed]",
      "text/plain": [
       "<Figure size 432x288 with 1 Axes>"
      ]
     },
     "metadata": {
      "needs_background": "light"
     },
     "output_type": "display_data"
    }
   ],
   "source": [
    "data[data['days_since_last_rev']<500]['days_since_last_rev'].hist(bins=100)"
   ]
  },
  {
   "cell_type": "code",
   "execution_count": 109,
   "metadata": {},
   "outputs": [],
   "source": [
    "def fill_days_since(row):\n",
    "    if pd.isna(row['days_since_last_rev']):\n",
    "        return data[data['City'] == row['City']]['days_since_last_rev'].median()\n",
    "    return row['days_since_last_rev']\n",
    "data['days_since_last_rev_filled'] = data.apply(fill_days_since, axis=1)"
   ]
  },
  {
   "cell_type": "code",
   "execution_count": 110,
   "metadata": {},
   "outputs": [],
   "source": [
    "# Новый признак, характеризующий диапазон, в который попадает значение 'days_since_last_rev'\n",
    "data['days_since_last_rev_100'] = data['days_since_last_rev'].apply(lambda x: None if x is None else round(x/100, 0))"
   ]
  },
  {
   "cell_type": "code",
   "execution_count": 111,
   "metadata": {},
   "outputs": [
    {
     "data": {
      "text/plain": [
       "<matplotlib.axes._subplots.AxesSubplot at 0x202cf0c4048>"
      ]
     },
     "execution_count": 111,
     "metadata": {},
     "output_type": "execute_result"
    },
    {
     "data": {
      "image/png": "[encoded data removed]",
      "text/plain": [
       "<Figure size 432x288 with 1 Axes>"
      ]
     },
     "metadata": {
      "needs_background": "light"
     },
     "output_type": "display_data"
    }
   ],
   "source": [
    "# По гистограмме видно, что вид распределения сохраняется после преобразования\n",
    "data[data['days_since_last_rev_100']<5]['days_since_last_rev_100'].hist(bins=5)"
   ]
  },
  {
   "cell_type": "code",
   "execution_count": 112,
   "metadata": {},
   "outputs": [],
   "source": [
    "# Функция для заполнения пропусков\n",
    "def fill_days_since(row):\n",
    "    if pd.isna(row['days_since_last_rev_100']):\n",
    "        return data[data['City'] == row['City']]['days_since_last_rev_100'].median()\n",
    "    return row['days_since_last_rev_100']\n",
    "\n",
    "data['days_since_last_rev_100'] = data.apply(fill_days_since, axis=1)"
   ]
  },
  {
   "cell_type": "code",
   "execution_count": 113,
   "metadata": {},
   "outputs": [
    {
     "data": {
      "text/plain": [
       "<matplotlib.axes._subplots.AxesSubplot at 0x202d4185848>"
      ]
     },
     "execution_count": 113,
     "metadata": {},
     "output_type": "execute_result"
    },
    {
     "data": {
      "image/png": "[encoded data removed]",
      "text/plain": [
       "<Figure size 432x288 with 1 Axes>"
      ]
     },
     "metadata": {
      "needs_background": "light"
     },
     "output_type": "display_data"
    }
   ],
   "source": [
    "data[data['days_since_last_rev_100']<5]['days_since_last_rev_100'].hist(bins=5)"
   ]
  },
  {
   "cell_type": "code",
   "execution_count": 114,
   "metadata": {},
   "outputs": [
    {
     "data": {
      "text/html": [
       "<div>\n",
       "<style scoped>\n",
       "    .dataframe tbody tr th:only-of-type {\n",
       "        vertical-align: middle;\n",
       "    }\n",
       "\n",
       "    .dataframe tbody tr th {\n",
       "        vertical-align: top;\n",
       "    }\n",
       "\n",
       "    .dataframe thead th {\n",
       "        text-align: right;\n",
       "    }\n",
       "</style>\n",
       "<table border=\"1\" class=\"dataframe\">\n",
       "  <thead>\n",
       "    <tr style=\"text-align: right;\">\n",
       "      <th></th>\n",
       "      <th>Rating</th>\n",
       "      <th>days_since_last_rev_filled</th>\n",
       "      <th>days_since_last_rev_100</th>\n",
       "    </tr>\n",
       "  </thead>\n",
       "  <tbody>\n",
       "    <tr>\n",
       "      <th>Rating</th>\n",
       "      <td>1.000000</td>\n",
       "      <td>-0.028872</td>\n",
       "      <td>-0.028173</td>\n",
       "    </tr>\n",
       "    <tr>\n",
       "      <th>days_since_last_rev_filled</th>\n",
       "      <td>-0.028872</td>\n",
       "      <td>1.000000</td>\n",
       "      <td>0.995997</td>\n",
       "    </tr>\n",
       "    <tr>\n",
       "      <th>days_since_last_rev_100</th>\n",
       "      <td>-0.028173</td>\n",
       "      <td>0.995997</td>\n",
       "      <td>1.000000</td>\n",
       "    </tr>\n",
       "  </tbody>\n",
       "</table>\n",
       "</div>"
      ],
      "text/plain": [
       "                              Rating  days_since_last_rev_filled  \\\n",
       "Rating                      1.000000                   -0.028872   \n",
       "days_since_last_rev_filled -0.028872                    1.000000   \n",
       "days_since_last_rev_100    -0.028173                    0.995997   \n",
       "\n",
       "                            days_since_last_rev_100  \n",
       "Rating                                    -0.028173  \n",
       "days_since_last_rev_filled                 0.995997  \n",
       "days_since_last_rev_100                    1.000000  "
      ]
     },
     "execution_count": 114,
     "metadata": {},
     "output_type": "execute_result"
    }
   ],
   "source": [
    "data[['Rating', 'days_since_last_rev_filled', 'days_since_last_rev_100']].corr()"
   ]
  },
  {
   "cell_type": "markdown",
   "metadata": {},
   "source": [
    "Попробуем определить положительный или негативный характер отзыва по ключевым словам"
   ]
  },
  {
   "cell_type": "code",
   "execution_count": 115,
   "metadata": {},
   "outputs": [],
   "source": [
    "positive_list = ['good', 'lovely', 'great', 'perfect', 'awesome', 'best', 'excellent', 'pleasent',\n",
    "                'outstanding', 'exceptional', 'fantastic', 'wonderful', 'fabulous', 'worth'\n",
    "                'enjoyable', 'nice', 'cosy', 'tasty', 'delicious', 'friendly', 'decent', 'gem',\n",
    "                'happy']\n",
    "\n",
    "\n",
    "negative_list = ['bad', 'terrible', 'awful', 'poor', 'unacceptable', 'worst', 'gross',\n",
    "                 'regret', 'unpleasent', 'unsatisfactory', 'disgusting', 'unfriendly',\n",
    "                'rude', 'overpriced', 'slow', 'dissapoint', 'inadequate', 'weak', 'worse'\n",
    "                'unhappy', 'unfortunate']\n"
   ]
  },
  {
   "cell_type": "code",
   "execution_count": 116,
   "metadata": {},
   "outputs": [],
   "source": [
    "def positive_rev(row):\n",
    "    a = str(row['Reviews']).lower().split('], [')[0].split(\"', '\")\n",
    "    for word in positive_list:\n",
    "        if len(a) == 2:\n",
    "            if ((word in a[0]) and not ('not' in a[0])) and (\n",
    "                (word in a[1]) and not ('not' in a[1])):\n",
    "                return 5\n",
    "            elif ((word in a[0]) and not ('not' in a[0])) or (\n",
    "                (word in a[1]) and not ('not' in a[1])):\n",
    "                return 4\n",
    "        elif len(a) == 1:\n",
    "            if ((word in a[0]) and not ('not' in a[0])):\n",
    "                return 4\n",
    "    for word in negative_list:\n",
    "        if len(a) == 2:\n",
    "            if ((word in a[0]) and not ('not' in a[0])) and (\n",
    "                (word in a[1]) and not ('not' in a[1])):\n",
    "                return 1\n",
    "            elif ((word in a[0]) and not ('not' in a[0])) or (\n",
    "                (word in a[1]) and not ('not' in a[1])):\n",
    "                return 2\n",
    "        elif len(a) == 1:\n",
    "            if ((word in a[0]) and not ('not' in a[0])):\n",
    "                return 2\n",
    "    return 3\n",
    "\n",
    "data['Positive_rev'] = data.apply(positive_rev, axis=1)"
   ]
  },
  {
   "cell_type": "code",
   "execution_count": 117,
   "metadata": {},
   "outputs": [
    {
     "data": {
      "text/plain": [
       "4    28397\n",
       "3    18393\n",
       "5     2106\n",
       "2     1081\n",
       "1       23\n",
       "Name: Positive_rev, dtype: int64"
      ]
     },
     "execution_count": 117,
     "metadata": {},
     "output_type": "execute_result"
    }
   ],
   "source": [
    "data['Positive_rev'].value_counts()"
   ]
  },
  {
   "cell_type": "code",
   "execution_count": 118,
   "metadata": {},
   "outputs": [
    {
     "data": {
      "text/html": [
       "<div>\n",
       "<style scoped>\n",
       "    .dataframe tbody tr th:only-of-type {\n",
       "        vertical-align: middle;\n",
       "    }\n",
       "\n",
       "    .dataframe tbody tr th {\n",
       "        vertical-align: top;\n",
       "    }\n",
       "\n",
       "    .dataframe thead th {\n",
       "        text-align: right;\n",
       "    }\n",
       "</style>\n",
       "<table border=\"1\" class=\"dataframe\">\n",
       "  <thead>\n",
       "    <tr style=\"text-align: right;\">\n",
       "      <th></th>\n",
       "      <th>Rating</th>\n",
       "      <th>Positive_rev</th>\n",
       "    </tr>\n",
       "  </thead>\n",
       "  <tbody>\n",
       "    <tr>\n",
       "      <th>Rating</th>\n",
       "      <td>1.000000</td>\n",
       "      <td>0.060604</td>\n",
       "    </tr>\n",
       "    <tr>\n",
       "      <th>Positive_rev</th>\n",
       "      <td>0.060604</td>\n",
       "      <td>1.000000</td>\n",
       "    </tr>\n",
       "  </tbody>\n",
       "</table>\n",
       "</div>"
      ],
      "text/plain": [
       "                Rating  Positive_rev\n",
       "Rating        1.000000      0.060604\n",
       "Positive_rev  0.060604      1.000000"
      ]
     },
     "execution_count": 118,
     "metadata": {},
     "output_type": "execute_result"
    }
   ],
   "source": [
    "data[['Rating', 'Positive_rev']].corr()"
   ]
  },
  {
   "cell_type": "code",
   "execution_count": 119,
   "metadata": {},
   "outputs": [],
   "source": [
    "drop_list.append('Reviews')\n",
    "drop_list.append('last_date_1')\n",
    "drop_list.append('last_date_2')\n",
    "drop_list.append('days_btw_rev')\n",
    "drop_list.append('days_since_last_rev')"
   ]
  },
  {
   "cell_type": "markdown",
   "metadata": {},
   "source": [
    "# ID_TA"
   ]
  },
  {
   "cell_type": "code",
   "execution_count": 120,
   "metadata": {},
   "outputs": [
    {
     "data": {
      "text/plain": [
       "0"
      ]
     },
     "execution_count": 120,
     "metadata": {},
     "output_type": "execute_result"
    }
   ],
   "source": [
    "data['ID_TA'].isna().sum()"
   ]
  },
  {
   "cell_type": "code",
   "execution_count": 121,
   "metadata": {},
   "outputs": [
    {
     "data": {
      "text/plain": [
       "0        d10746918\n",
       "1         d6674944\n",
       "2        d13129638\n",
       "3          d680417\n",
       "4         d1112354\n",
       "           ...    \n",
       "49995     d2104414\n",
       "49996     d1800036\n",
       "49997      d947615\n",
       "49998     d1100838\n",
       "49999     d1109020\n",
       "Name: ID_TA, Length: 50000, dtype: object"
      ]
     },
     "execution_count": 121,
     "metadata": {},
     "output_type": "execute_result"
    }
   ],
   "source": [
    "data['ID_TA']"
   ]
  },
  {
   "cell_type": "markdown",
   "metadata": {},
   "source": [
    "В данном столбце пропусков нет. Можно заметить,что каждое значение выглядит как числовой код с буквой 'd' в начале. Создадим новый признак, куда передадим эти данные в числовом формате."
   ]
  },
  {
   "cell_type": "code",
   "execution_count": 122,
   "metadata": {},
   "outputs": [],
   "source": [
    "data['ID_TA_num'] = data['ID_TA'].apply(lambda x: int(x[1::]))"
   ]
  },
  {
   "cell_type": "code",
   "execution_count": 123,
   "metadata": {},
   "outputs": [
    {
     "data": {
      "text/html": [
       "<div>\n",
       "<style scoped>\n",
       "    .dataframe tbody tr th:only-of-type {\n",
       "        vertical-align: middle;\n",
       "    }\n",
       "\n",
       "    .dataframe tbody tr th {\n",
       "        vertical-align: top;\n",
       "    }\n",
       "\n",
       "    .dataframe thead th {\n",
       "        text-align: right;\n",
       "    }\n",
       "</style>\n",
       "<table border=\"1\" class=\"dataframe\">\n",
       "  <thead>\n",
       "    <tr style=\"text-align: right;\">\n",
       "      <th></th>\n",
       "      <th>ID_TA_num</th>\n",
       "      <th>Rating</th>\n",
       "    </tr>\n",
       "  </thead>\n",
       "  <tbody>\n",
       "    <tr>\n",
       "      <th>ID_TA_num</th>\n",
       "      <td>1.000000</td>\n",
       "      <td>0.049589</td>\n",
       "    </tr>\n",
       "    <tr>\n",
       "      <th>Rating</th>\n",
       "      <td>0.049589</td>\n",
       "      <td>1.000000</td>\n",
       "    </tr>\n",
       "  </tbody>\n",
       "</table>\n",
       "</div>"
      ],
      "text/plain": [
       "           ID_TA_num    Rating\n",
       "ID_TA_num   1.000000  0.049589\n",
       "Rating      0.049589  1.000000"
      ]
     },
     "execution_count": 123,
     "metadata": {},
     "output_type": "execute_result"
    }
   ],
   "source": [
    "data[['ID_TA_num', 'Rating']].corr()"
   ]
  },
  {
   "cell_type": "raw",
   "metadata": {},
   "source": [
    "drop_list.append('ID_TA')"
   ]
  },
  {
   "cell_type": "markdown",
   "metadata": {},
   "source": [
    "# URL_TA"
   ]
  },
  {
   "cell_type": "code",
   "execution_count": 124,
   "metadata": {},
   "outputs": [
    {
     "data": {
      "text/plain": [
       "0"
      ]
     },
     "execution_count": 124,
     "metadata": {},
     "output_type": "execute_result"
    }
   ],
   "source": [
    "data['URL_TA'].isna().sum()"
   ]
  },
  {
   "cell_type": "code",
   "execution_count": 125,
   "metadata": {},
   "outputs": [
    {
     "data": {
      "text/plain": [
       "'/Restaurant_Review-g187147-d10746918-Reviews-Le_Perchoir-Paris_Ile_de_France.html'"
      ]
     },
     "execution_count": 125,
     "metadata": {},
     "output_type": "execute_result"
    }
   ],
   "source": [
    "data.loc[0,'URL_TA']"
   ]
  },
  {
   "cell_type": "markdown",
   "metadata": {},
   "source": [
    "Значения в этом случае имеют несколько числовых последовательностей, начинающихся с 'g' и 'd'. Вторая последовательность дублирует значения в ID_TA. Поэтому выделим в отдельный признак только первую последовательность."
   ]
  },
  {
   "cell_type": "code",
   "execution_count": 126,
   "metadata": {},
   "outputs": [],
   "source": [
    "data['URL_TA_num'] = data['URL_TA'].apply(lambda x: int(x.split('-')[1][1::]))"
   ]
  },
  {
   "cell_type": "code",
   "execution_count": 127,
   "metadata": {},
   "outputs": [
    {
     "data": {
      "text/html": [
       "<div>\n",
       "<style scoped>\n",
       "    .dataframe tbody tr th:only-of-type {\n",
       "        vertical-align: middle;\n",
       "    }\n",
       "\n",
       "    .dataframe tbody tr th {\n",
       "        vertical-align: top;\n",
       "    }\n",
       "\n",
       "    .dataframe thead th {\n",
       "        text-align: right;\n",
       "    }\n",
       "</style>\n",
       "<table border=\"1\" class=\"dataframe\">\n",
       "  <thead>\n",
       "    <tr style=\"text-align: right;\">\n",
       "      <th></th>\n",
       "      <th>URL_TA_num</th>\n",
       "      <th>Rating</th>\n",
       "    </tr>\n",
       "  </thead>\n",
       "  <tbody>\n",
       "    <tr>\n",
       "      <th>URL_TA_num</th>\n",
       "      <td>1.000000</td>\n",
       "      <td>0.003463</td>\n",
       "    </tr>\n",
       "    <tr>\n",
       "      <th>Rating</th>\n",
       "      <td>0.003463</td>\n",
       "      <td>1.000000</td>\n",
       "    </tr>\n",
       "  </tbody>\n",
       "</table>\n",
       "</div>"
      ],
      "text/plain": [
       "            URL_TA_num    Rating\n",
       "URL_TA_num    1.000000  0.003463\n",
       "Rating        0.003463  1.000000"
      ]
     },
     "execution_count": 127,
     "metadata": {},
     "output_type": "execute_result"
    }
   ],
   "source": [
    "data[['URL_TA_num', 'Rating']].corr()"
   ]
  },
  {
   "cell_type": "code",
   "execution_count": 128,
   "metadata": {},
   "outputs": [],
   "source": [
    "drop_list.append('URL_TA')"
   ]
  },
  {
   "cell_type": "markdown",
   "metadata": {},
   "source": [
    "# Посмотрим распределение целевой переменной 'Rating'"
   ]
  },
  {
   "cell_type": "code",
   "execution_count": 129,
   "metadata": {},
   "outputs": [
    {
     "data": {
      "text/plain": [
       "<matplotlib.axes._subplots.AxesSubplot at 0x202cf09d5c8>"
      ]
     },
     "execution_count": 129,
     "metadata": {},
     "output_type": "execute_result"
    },
    {
     "data": {
      "image/png": "[encoded data removed]",
      "text/plain": [
       "<Figure size 432x288 with 1 Axes>"
      ]
     },
     "metadata": {
      "needs_background": "light"
     },
     "output_type": "display_data"
    }
   ],
   "source": [
    "data['Rating'].value_counts().plot(kind='barh')"
   ]
  },
  {
   "cell_type": "code",
   "execution_count": 130,
   "metadata": {},
   "outputs": [
    {
     "data": {
      "text/plain": [
       "<matplotlib.axes._subplots.AxesSubplot at 0x202cea44648>"
      ]
     },
     "execution_count": 130,
     "metadata": {},
     "output_type": "execute_result"
    },
    {
     "data": {
      "image/png": "[encoded data removed]",
      "text/plain": [
       "<Figure size 432x288 with 1 Axes>"
      ]
     },
     "metadata": {
      "needs_background": "light"
     },
     "output_type": "display_data"
    }
   ],
   "source": [
    "sns.boxplot(x='Rating', data=data)"
   ]
  },
  {
   "cell_type": "code",
   "execution_count": 131,
   "metadata": {},
   "outputs": [],
   "source": [
    "drop_list.append('Rating')"
   ]
  },
  {
   "cell_type": "code",
   "execution_count": 132,
   "metadata": {},
   "outputs": [
    {
     "data": {
      "text/plain": [
       "['Restaurant_id',\n",
       " 'Country',\n",
       " 'City',\n",
       " 'City_code_nan',\n",
       " 'Cuisine Style',\n",
       " 'Ranking',\n",
       " 'Restaurant_id_num',\n",
       " 'Number of Reviews',\n",
       " 'Number of Reviews_50',\n",
       " 'Reviews',\n",
       " 'last_date_1',\n",
       " 'last_date_2',\n",
       " 'days_btw_rev',\n",
       " 'days_since_last_rev',\n",
       " 'URL_TA',\n",
       " 'Rating']"
      ]
     },
     "execution_count": 132,
     "metadata": {},
     "output_type": "execute_result"
    }
   ],
   "source": [
    "drop_list"
   ]
  },
  {
   "cell_type": "markdown",
   "metadata": {},
   "source": [
    "### И один из моих любимых - [корреляция признаков](https://ru.wikipedia.org/wiki/Корреляция)\n",
    "На этом графике уже сейчас вы сможете заметить, как признаки связаны между собой и с целевой переменной."
   ]
  },
  {
   "cell_type": "code",
   "execution_count": 133,
   "metadata": {},
   "outputs": [
    {
     "data": {
      "text/html": [
       "<div>\n",
       "<style scoped>\n",
       "    .dataframe tbody tr th:only-of-type {\n",
       "        vertical-align: middle;\n",
       "    }\n",
       "\n",
       "    .dataframe tbody tr th {\n",
       "        vertical-align: top;\n",
       "    }\n",
       "\n",
       "    .dataframe thead th {\n",
       "        text-align: right;\n",
       "    }\n",
       "</style>\n",
       "<table border=\"1\" class=\"dataframe\">\n",
       "  <thead>\n",
       "    <tr style=\"text-align: right;\">\n",
       "      <th></th>\n",
       "      <th>Ranking</th>\n",
       "      <th>Restaurant_id_num</th>\n",
       "    </tr>\n",
       "  </thead>\n",
       "  <tbody>\n",
       "    <tr>\n",
       "      <th>Ranking</th>\n",
       "      <td>1.00000</td>\n",
       "      <td>0.82509</td>\n",
       "    </tr>\n",
       "    <tr>\n",
       "      <th>Restaurant_id_num</th>\n",
       "      <td>0.82509</td>\n",
       "      <td>1.00000</td>\n",
       "    </tr>\n",
       "  </tbody>\n",
       "</table>\n",
       "</div>"
      ],
      "text/plain": [
       "                   Ranking  Restaurant_id_num\n",
       "Ranking            1.00000            0.82509\n",
       "Restaurant_id_num  0.82509            1.00000"
      ]
     },
     "execution_count": 133,
     "metadata": {},
     "output_type": "execute_result"
    }
   ],
   "source": [
    "data[['Ranking', 'Restaurant_id_num']].corr()"
   ]
  },
  {
   "cell_type": "code",
   "execution_count": 134,
   "metadata": {},
   "outputs": [
    {
     "data": {
      "text/html": [
       "<div>\n",
       "<style scoped>\n",
       "    .dataframe tbody tr th:only-of-type {\n",
       "        vertical-align: middle;\n",
       "    }\n",
       "\n",
       "    .dataframe tbody tr th {\n",
       "        vertical-align: top;\n",
       "    }\n",
       "\n",
       "    .dataframe thead th {\n",
       "        text-align: right;\n",
       "    }\n",
       "</style>\n",
       "<table border=\"1\" class=\"dataframe\">\n",
       "  <thead>\n",
       "    <tr style=\"text-align: right;\">\n",
       "      <th></th>\n",
       "      <th>min</th>\n",
       "      <th>max</th>\n",
       "      <th>mean</th>\n",
       "      <th>median</th>\n",
       "    </tr>\n",
       "    <tr>\n",
       "      <th>City</th>\n",
       "      <th></th>\n",
       "      <th></th>\n",
       "      <th></th>\n",
       "      <th></th>\n",
       "    </tr>\n",
       "  </thead>\n",
       "  <tbody>\n",
       "    <tr>\n",
       "      <th>Amsterdam</th>\n",
       "      <td>0.0</td>\n",
       "      <td>5.0</td>\n",
       "      <td>3.270044</td>\n",
       "      <td>4.0</td>\n",
       "    </tr>\n",
       "    <tr>\n",
       "      <th>Athens</th>\n",
       "      <td>0.0</td>\n",
       "      <td>5.0</td>\n",
       "      <td>3.423325</td>\n",
       "      <td>4.0</td>\n",
       "    </tr>\n",
       "    <tr>\n",
       "      <th>Barcelona</th>\n",
       "      <td>0.0</td>\n",
       "      <td>5.0</td>\n",
       "      <td>3.189985</td>\n",
       "      <td>4.0</td>\n",
       "    </tr>\n",
       "    <tr>\n",
       "      <th>Berlin</th>\n",
       "      <td>0.0</td>\n",
       "      <td>5.0</td>\n",
       "      <td>3.285952</td>\n",
       "      <td>4.0</td>\n",
       "    </tr>\n",
       "    <tr>\n",
       "      <th>Bratislava</th>\n",
       "      <td>0.0</td>\n",
       "      <td>5.0</td>\n",
       "      <td>3.144737</td>\n",
       "      <td>4.0</td>\n",
       "    </tr>\n",
       "    <tr>\n",
       "      <th>Brussels</th>\n",
       "      <td>0.0</td>\n",
       "      <td>5.0</td>\n",
       "      <td>3.153349</td>\n",
       "      <td>4.0</td>\n",
       "    </tr>\n",
       "    <tr>\n",
       "      <th>Budapest</th>\n",
       "      <td>0.0</td>\n",
       "      <td>5.0</td>\n",
       "      <td>3.268854</td>\n",
       "      <td>4.0</td>\n",
       "    </tr>\n",
       "    <tr>\n",
       "      <th>Copenhagen</th>\n",
       "      <td>0.0</td>\n",
       "      <td>5.0</td>\n",
       "      <td>3.206960</td>\n",
       "      <td>4.0</td>\n",
       "    </tr>\n",
       "    <tr>\n",
       "      <th>Dublin</th>\n",
       "      <td>0.0</td>\n",
       "      <td>5.0</td>\n",
       "      <td>3.269737</td>\n",
       "      <td>4.0</td>\n",
       "    </tr>\n",
       "    <tr>\n",
       "      <th>Edinburgh</th>\n",
       "      <td>0.0</td>\n",
       "      <td>5.0</td>\n",
       "      <td>3.270470</td>\n",
       "      <td>4.0</td>\n",
       "    </tr>\n",
       "    <tr>\n",
       "      <th>Geneva</th>\n",
       "      <td>0.0</td>\n",
       "      <td>5.0</td>\n",
       "      <td>3.230508</td>\n",
       "      <td>4.0</td>\n",
       "    </tr>\n",
       "    <tr>\n",
       "      <th>Hamburg</th>\n",
       "      <td>0.0</td>\n",
       "      <td>5.0</td>\n",
       "      <td>3.217538</td>\n",
       "      <td>4.0</td>\n",
       "    </tr>\n",
       "    <tr>\n",
       "      <th>Helsinki</th>\n",
       "      <td>0.0</td>\n",
       "      <td>5.0</td>\n",
       "      <td>3.124211</td>\n",
       "      <td>4.0</td>\n",
       "    </tr>\n",
       "    <tr>\n",
       "      <th>Krakow</th>\n",
       "      <td>0.0</td>\n",
       "      <td>5.0</td>\n",
       "      <td>3.315884</td>\n",
       "      <td>4.0</td>\n",
       "    </tr>\n",
       "    <tr>\n",
       "      <th>Lisbon</th>\n",
       "      <td>0.0</td>\n",
       "      <td>5.0</td>\n",
       "      <td>3.193685</td>\n",
       "      <td>4.0</td>\n",
       "    </tr>\n",
       "    <tr>\n",
       "      <th>Ljubljana</th>\n",
       "      <td>0.0</td>\n",
       "      <td>5.0</td>\n",
       "      <td>3.389640</td>\n",
       "      <td>4.0</td>\n",
       "    </tr>\n",
       "    <tr>\n",
       "      <th>London</th>\n",
       "      <td>0.0</td>\n",
       "      <td>5.0</td>\n",
       "      <td>3.165508</td>\n",
       "      <td>4.0</td>\n",
       "    </tr>\n",
       "    <tr>\n",
       "      <th>Luxembourg</th>\n",
       "      <td>0.0</td>\n",
       "      <td>5.0</td>\n",
       "      <td>3.125475</td>\n",
       "      <td>4.0</td>\n",
       "    </tr>\n",
       "    <tr>\n",
       "      <th>Lyon</th>\n",
       "      <td>0.0</td>\n",
       "      <td>5.0</td>\n",
       "      <td>3.127886</td>\n",
       "      <td>4.0</td>\n",
       "    </tr>\n",
       "    <tr>\n",
       "      <th>Madrid</th>\n",
       "      <td>0.0</td>\n",
       "      <td>5.0</td>\n",
       "      <td>3.098085</td>\n",
       "      <td>3.5</td>\n",
       "    </tr>\n",
       "    <tr>\n",
       "      <th>Milan</th>\n",
       "      <td>0.0</td>\n",
       "      <td>5.0</td>\n",
       "      <td>3.028396</td>\n",
       "      <td>3.5</td>\n",
       "    </tr>\n",
       "    <tr>\n",
       "      <th>Munich</th>\n",
       "      <td>0.0</td>\n",
       "      <td>5.0</td>\n",
       "      <td>3.156332</td>\n",
       "      <td>4.0</td>\n",
       "    </tr>\n",
       "    <tr>\n",
       "      <th>Oporto</th>\n",
       "      <td>0.0</td>\n",
       "      <td>5.0</td>\n",
       "      <td>3.338785</td>\n",
       "      <td>4.0</td>\n",
       "    </tr>\n",
       "    <tr>\n",
       "      <th>Oslo</th>\n",
       "      <td>0.0</td>\n",
       "      <td>5.0</td>\n",
       "      <td>3.071721</td>\n",
       "      <td>4.0</td>\n",
       "    </tr>\n",
       "    <tr>\n",
       "      <th>Paris</th>\n",
       "      <td>0.0</td>\n",
       "      <td>5.0</td>\n",
       "      <td>3.160773</td>\n",
       "      <td>4.0</td>\n",
       "    </tr>\n",
       "    <tr>\n",
       "      <th>Prague</th>\n",
       "      <td>0.0</td>\n",
       "      <td>5.0</td>\n",
       "      <td>3.204295</td>\n",
       "      <td>4.0</td>\n",
       "    </tr>\n",
       "    <tr>\n",
       "      <th>Rome</th>\n",
       "      <td>0.0</td>\n",
       "      <td>5.0</td>\n",
       "      <td>3.395326</td>\n",
       "      <td>4.0</td>\n",
       "    </tr>\n",
       "    <tr>\n",
       "      <th>Stockholm</th>\n",
       "      <td>0.0</td>\n",
       "      <td>5.0</td>\n",
       "      <td>3.072120</td>\n",
       "      <td>4.0</td>\n",
       "    </tr>\n",
       "    <tr>\n",
       "      <th>Vienna</th>\n",
       "      <td>0.0</td>\n",
       "      <td>5.0</td>\n",
       "      <td>3.295218</td>\n",
       "      <td>4.0</td>\n",
       "    </tr>\n",
       "    <tr>\n",
       "      <th>Warsaw</th>\n",
       "      <td>0.0</td>\n",
       "      <td>5.0</td>\n",
       "      <td>3.214054</td>\n",
       "      <td>4.0</td>\n",
       "    </tr>\n",
       "    <tr>\n",
       "      <th>Zurich</th>\n",
       "      <td>0.0</td>\n",
       "      <td>5.0</td>\n",
       "      <td>3.172993</td>\n",
       "      <td>4.0</td>\n",
       "    </tr>\n",
       "  </tbody>\n",
       "</table>\n",
       "</div>"
      ],
      "text/plain": [
       "            min  max      mean  median\n",
       "City                                  \n",
       "Amsterdam   0.0  5.0  3.270044     4.0\n",
       "Athens      0.0  5.0  3.423325     4.0\n",
       "Barcelona   0.0  5.0  3.189985     4.0\n",
       "Berlin      0.0  5.0  3.285952     4.0\n",
       "Bratislava  0.0  5.0  3.144737     4.0\n",
       "Brussels    0.0  5.0  3.153349     4.0\n",
       "Budapest    0.0  5.0  3.268854     4.0\n",
       "Copenhagen  0.0  5.0  3.206960     4.0\n",
       "Dublin      0.0  5.0  3.269737     4.0\n",
       "Edinburgh   0.0  5.0  3.270470     4.0\n",
       "Geneva      0.0  5.0  3.230508     4.0\n",
       "Hamburg     0.0  5.0  3.217538     4.0\n",
       "Helsinki    0.0  5.0  3.124211     4.0\n",
       "Krakow      0.0  5.0  3.315884     4.0\n",
       "Lisbon      0.0  5.0  3.193685     4.0\n",
       "Ljubljana   0.0  5.0  3.389640     4.0\n",
       "London      0.0  5.0  3.165508     4.0\n",
       "Luxembourg  0.0  5.0  3.125475     4.0\n",
       "Lyon        0.0  5.0  3.127886     4.0\n",
       "Madrid      0.0  5.0  3.098085     3.5\n",
       "Milan       0.0  5.0  3.028396     3.5\n",
       "Munich      0.0  5.0  3.156332     4.0\n",
       "Oporto      0.0  5.0  3.338785     4.0\n",
       "Oslo        0.0  5.0  3.071721     4.0\n",
       "Paris       0.0  5.0  3.160773     4.0\n",
       "Prague      0.0  5.0  3.204295     4.0\n",
       "Rome        0.0  5.0  3.395326     4.0\n",
       "Stockholm   0.0  5.0  3.072120     4.0\n",
       "Vienna      0.0  5.0  3.295218     4.0\n",
       "Warsaw      0.0  5.0  3.214054     4.0\n",
       "Zurich      0.0  5.0  3.172993     4.0"
      ]
     },
     "execution_count": 134,
     "metadata": {},
     "output_type": "execute_result"
    }
   ],
   "source": [
    "data.groupby('City')['Rating'].agg(['min', 'max', 'mean', 'median'])"
   ]
  },
  {
   "cell_type": "code",
   "execution_count": 135,
   "metadata": {},
   "outputs": [
    {
     "data": {
      "text/plain": [
       "0"
      ]
     },
     "execution_count": 135,
     "metadata": {},
     "output_type": "execute_result"
    }
   ],
   "source": [
    "data['Rating'].isna().sum()"
   ]
  },
  {
   "cell_type": "code",
   "execution_count": 136,
   "metadata": {},
   "outputs": [
    {
     "data": {
      "text/plain": [
       "3.285951940850277"
      ]
     },
     "execution_count": 136,
     "metadata": {},
     "output_type": "execute_result"
    }
   ],
   "source": [
    "city_rating_mean = data.groupby('City')['Rating'].agg('mean')\n",
    "city_rating_mean['Berlin']"
   ]
  },
  {
   "cell_type": "code",
   "execution_count": 137,
   "metadata": {},
   "outputs": [
    {
     "data": {
      "text/plain": [
       "2705"
      ]
     },
     "execution_count": 137,
     "metadata": {},
     "output_type": "execute_result"
    }
   ],
   "source": [
    "data['City'].value_counts()['Berlin']"
   ]
  },
  {
   "cell_type": "code",
   "execution_count": 138,
   "metadata": {},
   "outputs": [],
   "source": [
    "\n",
    "def city_rating_mean_norm(row):\n",
    "    return (row['Rating']-city_rating_mean[row['City']])/data['City'].value_counts()[row['City']]\n",
    "    \n",
    "data['city_rating_mean_norm'] = data.apply(city_rating_mean_norm, axis=1)\n"
   ]
  },
  {
   "cell_type": "code",
   "execution_count": 139,
   "metadata": {},
   "outputs": [
    {
     "data": {
      "text/html": [
       "<div>\n",
       "<style scoped>\n",
       "    .dataframe tbody tr th:only-of-type {\n",
       "        vertical-align: middle;\n",
       "    }\n",
       "\n",
       "    .dataframe tbody tr th {\n",
       "        vertical-align: top;\n",
       "    }\n",
       "\n",
       "    .dataframe thead th {\n",
       "        text-align: right;\n",
       "    }\n",
       "</style>\n",
       "<table border=\"1\" class=\"dataframe\">\n",
       "  <thead>\n",
       "    <tr style=\"text-align: right;\">\n",
       "      <th></th>\n",
       "      <th>Rating</th>\n",
       "      <th>city_rating_mean_norm</th>\n",
       "    </tr>\n",
       "  </thead>\n",
       "  <tbody>\n",
       "    <tr>\n",
       "      <th>Rating</th>\n",
       "      <td>1.000000</td>\n",
       "      <td>0.719317</td>\n",
       "    </tr>\n",
       "    <tr>\n",
       "      <th>city_rating_mean_norm</th>\n",
       "      <td>0.719317</td>\n",
       "      <td>1.000000</td>\n",
       "    </tr>\n",
       "  </tbody>\n",
       "</table>\n",
       "</div>"
      ],
      "text/plain": [
       "                         Rating  city_rating_mean_norm\n",
       "Rating                 1.000000               0.719317\n",
       "city_rating_mean_norm  0.719317               1.000000"
      ]
     },
     "execution_count": 139,
     "metadata": {},
     "output_type": "execute_result"
    }
   ],
   "source": [
    "data[['Rating', 'city_rating_mean_norm']].corr()"
   ]
  },
  {
   "cell_type": "code",
   "execution_count": 140,
   "metadata": {},
   "outputs": [
    {
     "data": {
      "text/plain": [
       "0       -0.000517\n",
       "1       -0.006577\n",
       "2       -0.004390\n",
       "3       -0.000440\n",
       "4       -0.008276\n",
       "           ...   \n",
       "49995    0.000546\n",
       "49996    0.000056\n",
       "49997    0.001382\n",
       "49998    0.000850\n",
       "49999   -0.000011\n",
       "Name: city_rating_mean_norm, Length: 50000, dtype: float64"
      ]
     },
     "execution_count": 140,
     "metadata": {},
     "output_type": "execute_result"
    }
   ],
   "source": [
    "data['city_rating_mean_norm']"
   ]
  },
  {
   "cell_type": "code",
   "execution_count": 141,
   "metadata": {},
   "outputs": [],
   "source": [
    "city_rating_mean = data.groupby('City')['Rating'].agg('mean')\n",
    "def city_rev_num_mean_norm(row):\n",
    "    return (row['Number of Reviews_filled']-city_rating_mean[row['City']])/data['City'].value_counts()[row['City']]\n",
    "    \n",
    "data['city_rev_num_mean_norm'] = data.apply(city_rev_num_mean_norm, axis=1)"
   ]
  },
  {
   "cell_type": "code",
   "execution_count": 142,
   "metadata": {},
   "outputs": [
    {
     "data": {
      "text/html": [
       "<div>\n",
       "<style scoped>\n",
       "    .dataframe tbody tr th:only-of-type {\n",
       "        vertical-align: middle;\n",
       "    }\n",
       "\n",
       "    .dataframe tbody tr th {\n",
       "        vertical-align: top;\n",
       "    }\n",
       "\n",
       "    .dataframe thead th {\n",
       "        text-align: right;\n",
       "    }\n",
       "</style>\n",
       "<table border=\"1\" class=\"dataframe\">\n",
       "  <thead>\n",
       "    <tr style=\"text-align: right;\">\n",
       "      <th></th>\n",
       "      <th>Rating</th>\n",
       "      <th>city_rev_num_mean_norm</th>\n",
       "      <th>Number of Reviews_filled</th>\n",
       "    </tr>\n",
       "  </thead>\n",
       "  <tbody>\n",
       "    <tr>\n",
       "      <th>Rating</th>\n",
       "      <td>1.000000</td>\n",
       "      <td>0.007845</td>\n",
       "      <td>0.011235</td>\n",
       "    </tr>\n",
       "    <tr>\n",
       "      <th>city_rev_num_mean_norm</th>\n",
       "      <td>0.007845</td>\n",
       "      <td>1.000000</td>\n",
       "      <td>0.716167</td>\n",
       "    </tr>\n",
       "    <tr>\n",
       "      <th>Number of Reviews_filled</th>\n",
       "      <td>0.011235</td>\n",
       "      <td>0.716167</td>\n",
       "      <td>1.000000</td>\n",
       "    </tr>\n",
       "  </tbody>\n",
       "</table>\n",
       "</div>"
      ],
      "text/plain": [
       "                            Rating  city_rev_num_mean_norm  \\\n",
       "Rating                    1.000000                0.007845   \n",
       "city_rev_num_mean_norm    0.007845                1.000000   \n",
       "Number of Reviews_filled  0.011235                0.716167   \n",
       "\n",
       "                          Number of Reviews_filled  \n",
       "Rating                                    0.011235  \n",
       "city_rev_num_mean_norm                    0.716167  \n",
       "Number of Reviews_filled                  1.000000  "
      ]
     },
     "execution_count": 142,
     "metadata": {},
     "output_type": "execute_result"
    }
   ],
   "source": [
    "data[['Rating', 'city_rev_num_mean_norm', 'Number of Reviews_filled']].corr()"
   ]
  },
  {
   "cell_type": "markdown",
   "metadata": {},
   "source": [
    "# Data Preprocessing\n",
    "Теперь, для удобства и воспроизводимости кода, завернем всю обработку в одну большую функцию."
   ]
  },
  {
   "cell_type": "code",
   "execution_count": 143,
   "metadata": {},
   "outputs": [
    {
     "name": "stdout",
     "output_type": "stream",
     "text": [
      "<class 'pandas.core.frame.DataFrame'>\n",
      "RangeIndex: 50000 entries, 0 to 49999\n",
      "Data columns (total 11 columns):\n",
      " #   Column             Non-Null Count  Dtype  \n",
      "---  ------             --------------  -----  \n",
      " 0   Restaurant_id      50000 non-null  object \n",
      " 1   City               50000 non-null  object \n",
      " 2   Cuisine Style      38410 non-null  object \n",
      " 3   Ranking            50000 non-null  float64\n",
      " 4   Price Range        32639 non-null  object \n",
      " 5   Number of Reviews  46800 non-null  float64\n",
      " 6   Reviews            49998 non-null  object \n",
      " 7   URL_TA             50000 non-null  object \n",
      " 8   ID_TA              50000 non-null  object \n",
      " 9   sample             50000 non-null  int64  \n",
      " 10  Rating             50000 non-null  float64\n",
      "dtypes: float64(3), int64(1), object(7)\n",
      "memory usage: 4.2+ MB\n"
     ]
    }
   ],
   "source": [
    "# на всякий случай, заново подгружаем данные\n",
    "df_train = pd.read_csv('main_task.csv')\n",
    "df_test = pd.read_csv('kaggle_task.csv')\n",
    "df_train['sample'] = 1 # помечаем где у нас трейн\n",
    "df_test['sample'] = 0 # помечаем где у нас тест\n",
    "df_test['Rating'] = 0 # в тесте у нас нет значения Rating, мы его должны предсказать, по этому пока просто заполняем нулями\n",
    "\n",
    "data = df_test.append(df_train, sort=False).reset_index(drop=True) # объединяем\n",
    "data.info()"
   ]
  },
  {
   "cell_type": "markdown",
   "metadata": {},
   "source": [
    "Перебором была определена комбинация тех признаков, которая показывала наилучший результат. Следовательно генерация только этих признаков была включена в следующую функцию."
   ]
  },
  {
   "cell_type": "code",
   "execution_count": 147,
   "metadata": {},
   "outputs": [],
   "source": [
    "def preproc_data(df_input):\n",
    "    '''includes several functions to pre-process the predictor data.'''\n",
    "    \n",
    "    \n",
    "    df_output = df_input.copy()\n",
    "    \n",
    "    df_output['Number of Reviews_filled_0'] = df_output['Number of Reviews'].fillna(0)\n",
    "    \n",
    "    df_output['Restaurant_id_num'] = df_output['Restaurant_id'].apply(lambda x: int(x[3::]))\n",
    "    print('Restaurant_id')\n",
    "    df_output['City_code'] = df_output['City']\n",
    "    df_output = pd.get_dummies(df_output, columns=[ 'City_code',], dummy_na=True)\n",
    "    \n",
    "    capitals = ['Athens', 'Berlin', 'Bratislava', 'Brussels', 'Budapest', 'Copenhagen', 'Dublin', 'Helsinki',\n",
    "            'Lisbon', 'Ljubljana', 'London', 'Luxembourg', 'Madrid', 'Oslo', 'Paris', 'Rome', 'Stockholm',\n",
    "            'Vienna', 'Warsaw','Zurich']    \n",
    "    df_output['is_capital'] =  df_output['City'].apply(lambda x: 1 if x in capitals else 0)\n",
    "    \n",
    "    def country(row):\n",
    "        if row['City'] in ['Berlin', 'Hamburg', 'Munich']:\n",
    "            return 'Germany'\n",
    "        elif row['City'] in ['Geneva', 'Zurich']:\n",
    "            return 'Switzerland' \n",
    "        elif row['City'] in ['Krakow', 'Prague', 'Warsaw']:\n",
    "            return 'Poland'\n",
    "        elif row['City'] in ['Lisbon', 'Oporto']:\n",
    "            return 'Portugal'\n",
    "        elif row['City'] in ['Lyon', 'Paris']:\n",
    "            return 'France'\n",
    "        elif row['City'] in ['Milan', 'Rome']:\n",
    "            return 'Italy'\n",
    "        else:\n",
    "            return None\n",
    "\n",
    "    df_output['Country'] = df_output.apply(country, axis=1)\n",
    "    df_output = pd.get_dummies(df_output, columns=['Country'], dummy_na=True)\n",
    "    df_output.drop(['Country_nan'], axis=1, inplace=True)\n",
    "    \n",
    "    def country(row):\n",
    "        return city_pop[city_pop['City'] == row['City']]['Country'].values[0]\n",
    "\n",
    "    df_output['Country'] = df_output.apply(country, axis=1)\n",
    "    \n",
    "    Happiness_alcohol = pd.read_csv('HappinessAlcoholConsumption.csv')\n",
    "\n",
    "    def happiness(row):\n",
    "        if row['Country'] in ['England', 'Scotland']:\n",
    "            return Happiness_alcohol[Happiness_alcohol['Country'] == 'United Kingdom']['HappinessScore'].values[0]\n",
    "        if row['Country'] == 'Netherland':\n",
    "            return Happiness_alcohol[Happiness_alcohol['Country'] == 'Netherlands']['HappinessScore'].values[0]\n",
    "        if row['Country'] == 'Czech':\n",
    "            return Happiness_alcohol[Happiness_alcohol['Country'] == 'Czech Republic']['HappinessScore'].values[0]\n",
    "        return Happiness_alcohol[Happiness_alcohol['Country'] == row['Country']]['HappinessScore'].values[0]\n",
    "\n",
    "    df_output['Happiness'] = df_output.apply(happiness, axis=1)\n",
    "    \n",
    "    def GDP(row):\n",
    "        if row['Country'] in ['England', 'Scotland']:\n",
    "            return Happiness_alcohol[Happiness_alcohol['Country'] == 'United Kingdom']['GDP_PerCapita'].values[0]\n",
    "        if row['Country'] == 'Netherland':\n",
    "            return Happiness_alcohol[Happiness_alcohol['Country'] == 'Netherlands']['GDP_PerCapita'].values[0]\n",
    "        if row['Country'] == 'Czech':\n",
    "            return Happiness_alcohol[Happiness_alcohol['Country'] == 'Czech Republic']['GDP_PerCapita'].values[0]\n",
    "        return Happiness_alcohol[Happiness_alcohol['Country'] == row['Country']]['GDP_PerCapita'].values[0]\n",
    "\n",
    "    df_output['GDP_PerCapita'] = df_output.apply(GDP, axis=1)\n",
    "    \n",
    "    \n",
    "    Cuisine_list = set()\n",
    "\n",
    "    for styles in df_output['Cuisine Style']:\n",
    "        if pd.isna(styles):\n",
    "            continue    \n",
    "        else:\n",
    "            styles = styles[1:-1].split(', ')\n",
    "            for style in styles:\n",
    "                Cuisine_list.add(style[1:-1])\n",
    "\n",
    "    def find_item(cell):\n",
    "        if item in str(cell):\n",
    "            return 1\n",
    "        else:\n",
    "            return 0\n",
    "\n",
    "    for style in Cuisine_list:\n",
    "        item = style\n",
    "        name = 'Cuisine_{}'.format(item)\n",
    "        df_output[name] =df_output['Cuisine Style'].apply(find_item)\n",
    "\n",
    "    def fill_cuisine_nan(row):\n",
    "        if pd.isna(row['Cuisine Style']):\n",
    "            return 1\n",
    "        else:\n",
    "            return 0\n",
    "    \n",
    "    df_output['Cuisine_nan'] = df_output.apply(fill_cuisine_nan, axis=1)\n",
    "    \n",
    "    def variety(row):\n",
    "        if pd.isna(row['Cuisine Style']):\n",
    "            return 0    \n",
    "        return len(row['Cuisine Style'].split(', '))\n",
    "\n",
    "    df_output['Cuisine_variety'] = df_output.apply(variety, axis=1)\n",
    "    \n",
    "    National_cuisine = {'France': 'French', 'England': 'British', 'Spain': 'Spanish', 'Italy': 'Italian', 'Germany': 'German', 'Portugal': 'Portuguese',\n",
    "                    'Czech': 'Czech', 'Poland': 'Polish', 'Austria': 'Austrian', 'Netherland': 'Dutch', 'Belgium': 'Belgian', 'Switzerland': 'Swiss', \n",
    "                    'Sweden': 'Swedish', 'Hungary': 'Hungarian', 'Ireland': 'Irish', 'Denmark': 'Danish', 'Greece': 'Greek', 'Scotland': 'Scottish',\n",
    "                    'Norway': 'Norwegian', 'Finland': 'Finnish', 'Slovakia': 'Slovak', 'Luxembourg': 'Luximbourgish', 'Slovenia': 'Slovenian'}\n",
    "\n",
    "    def national_cuisine(row):\n",
    "        if pd.isna(row[\"Cuisine Style\"]):\n",
    "            return 0\n",
    "        for value, key in National_cuisine.items():\n",
    "            if value == row['Country']:\n",
    "                if key in row['Cuisine Style']:\n",
    "                    return 1\n",
    "        return 0\n",
    "    \n",
    "    df_output['National_cuisine'] = df_output.apply(national_cuisine, axis=1)\n",
    "    \n",
    "    ranking_mean = df_output.groupby('City')['Ranking'].agg('mean')\n",
    "    rest_num = df_output['City'].value_counts()\n",
    "    \n",
    "    def norm(row):\n",
    "        return (row['Ranking']-ranking_mean[row['City']])/rest_num[row['City']]\n",
    "\n",
    "    df_output['Ranking_norm'] = df_output.apply(norm, axis=1)\n",
    "    \n",
    "    df_output['no_price_data'] =  df_output['Price Range'].apply(lambda x: 1 if x is None else 0)\n",
    "    \n",
    "    def fill_price_r(row):\n",
    "        if row['Price Range'] == '$$$$':\n",
    "            return 3\n",
    "        if row['Price Range'] == '$$ - $$$':\n",
    "            return 2\n",
    "        if row['Price Range'] == '$':\n",
    "            return 1\n",
    "        return 2\n",
    "    \n",
    "    df_output['Price Range'] = df_output.apply(fill_price_r, axis=1)\n",
    "    \n",
    "    df_output['no_data_Number_of_Reviews'] = pd.isna(df_output['Number of Reviews']).astype('uint8')\n",
    "    \n",
    "    city_rating_mean = df_output.groupby('City')['Rating'].agg('mean')\n",
    "    \n",
    "    def fill_num_rev(row):\n",
    "        if pd.isna(row['Number of Reviews']):\n",
    "            return df_output[df_output['City'] == row['City']]['Number of Reviews'].median()\n",
    "        return row['Number of Reviews']\n",
    "\n",
    "    df_output['Number of Reviews_filled'] = df_output.apply(fill_num_rev, axis=1)  \n",
    "    \n",
    "    df_output['Reviews_num'] = df_output['Reviews'].apply(lambda x: 0 if str(x) == '[[], []]' else len(str(x).split('], [')[0].split(\"', '\")))\n",
    "    df_output['Reviews_num'].fillna(0, inplace=True)\n",
    "    \n",
    "    def find_date(string):\n",
    "        pattern = re.compile('\\d\\d\\/\\d\\d\\/\\d\\d\\d\\d')\n",
    "        return pattern.findall(string)\n",
    "\n",
    "\n",
    "    def date_1(row):\n",
    "        if pd.isna(row['Reviews']):\n",
    "            return None\n",
    "        date_list = find_date(row['Reviews'])\n",
    "        if len(date_list) == 0:\n",
    "            return None\n",
    "        else:\n",
    "            date_1 = datetime.strptime(date_list[0], '%m/%d/%Y')\n",
    "            if len(date_list) > 1:\n",
    "                date_2 = datetime.strptime(date_list[1], '%m/%d/%Y')\n",
    "                if date_1 > date_2:\n",
    "                    return date_1\n",
    "                else:\n",
    "                    return date_2\n",
    "            return date_1\n",
    "\n",
    "\n",
    "    def date_2(row):\n",
    "        if pd.isna(row['Reviews']):\n",
    "            return None\n",
    "        date_list = find_date(row['Reviews'])\n",
    "        if len(date_list) in [0, 1]:\n",
    "            return None\n",
    "        else:\n",
    "            date_1 = datetime.strptime(date_list[0], '%m/%d/%Y')\n",
    "            date_2 = datetime.strptime(date_list[1], '%m/%d/%Y')\n",
    "            if date_1 > date_2:\n",
    "                return date_2\n",
    "            else:\n",
    "                return date_1\n",
    "\n",
    "\n",
    "    df_output['last_date_1'] = df_output.apply(date_1, axis=1)\n",
    "    df_output['last_date_2'] = df_output.apply(date_2, axis=1)\n",
    "    \n",
    "    def days_btw(row):\n",
    "        if pd.isna(row['last_date_2']):\n",
    "            return None\n",
    "        else:\n",
    "            return (row['last_date_1']-row['last_date_2']).days\n",
    "\n",
    "\n",
    "    df_output['days_btw_rev'] = df_output.apply(days_btw, axis=1)\n",
    "    \n",
    "    def fill_days_btw(row):\n",
    "        if pd.isna(row['days_btw_rev']):\n",
    "            return df_output[df_output['City'] == row['City']]['days_btw_rev'].median()\n",
    "        return row['days_btw_rev']\n",
    "    df_output['days_btw_rev_filled'] = df_output.apply(fill_days_btw, axis=1)\n",
    "\n",
    "    \n",
    "    def days_since(row):\n",
    "        if pd.isna(row['last_date_1']):\n",
    "            return None\n",
    "        else:\n",
    "            return (df_output['last_date_1'].max()-row['last_date_1']).days\n",
    "\n",
    "\n",
    "    df_output['days_since_last_rev'] = df_output.apply(days_since, axis=1)\n",
    "    \n",
    "    def fill_days_since(row):\n",
    "        if pd.isna(row['days_since_last_rev']):\n",
    "            return df_output[df_output['City'] == row['City']]['days_since_last_rev'].median()\n",
    "        return row['days_since_last_rev']\n",
    "    df_output['days_since_last_rev_filled'] = df_output.apply(fill_days_since, axis=1)\n",
    "\n",
    "    \n",
    "    positive_list = ['good', 'lovely', 'great', 'perfect', 'awesome', 'best', 'excellent', 'pleasent',\n",
    "                'outstanding', 'exceptional', 'fantastic', 'wonderful', 'fabulous', 'worth'\n",
    "                'enjoyable', 'nice', 'cosy', 'tasty', 'delicious', 'friendly', 'decent', 'gem',\n",
    "                'happy']\n",
    "\n",
    "\n",
    "    negative_list = ['bad', 'terrible', 'awful', 'poor', 'unacceptable', 'worst', 'gross',\n",
    "                 'regret', 'unpleasent', 'unsatisfactory', 'disgusting', 'unfriendly',\n",
    "                'rude', 'overpriced', 'slow', 'dissapoint', 'inadequate', 'weak', 'worse'\n",
    "                'unhappy', 'unfortunate']\n",
    "    \n",
    "    def positive_rev(row):\n",
    "        a = str(row['Reviews']).lower().split('], [')[0].split(\"', '\")\n",
    "        for word in positive_list:\n",
    "            if len(a) == 2:\n",
    "                if ((word in a[0]) and not ('not' in a[0])) and (\n",
    "                    (word in a[1]) and not ('not' in a[1])):\n",
    "                    return 5\n",
    "                elif ((word in a[0]) and not ('not' in a[0])) or (\n",
    "                    (word in a[1]) and not ('not' in a[1])):\n",
    "                    return 4\n",
    "            elif len(a) == 1:\n",
    "                if ((word in a[0]) and not ('not' in a[0])):\n",
    "                    return 4\n",
    "        for word in negative_list:\n",
    "            if len(a) == 2:\n",
    "                if ((word in a[0]) and not ('not' in a[0])) and (\n",
    "                    (word in a[1]) and not ('not' in a[1])):\n",
    "                    return 1\n",
    "                elif ((word in a[0]) and not ('not' in a[0])) or (\n",
    "                    (word in a[1]) and not ('not' in a[1])):\n",
    "                    return 2\n",
    "            elif len(a) == 1:\n",
    "                if ((word in a[0]) and not ('not' in a[0])):\n",
    "                    return 2\n",
    "        return 3\n",
    "\n",
    "    df_output['Positive_rev'] =  df_output.apply(positive_rev, axis=1)\n",
    "        \n",
    "    df_output['ID_TA_num'] = df_output['ID_TA'].apply(lambda x: int(x[1::]))\n",
    "    \n",
    "    df_output['URL_TA_num'] = df_output['URL_TA'].apply(lambda x: int(x.split('-')[1][1::]))\n",
    "\n",
    "    return df_output"
   ]
  },
  {
   "cell_type": "markdown",
   "metadata": {},
   "source": [
    "#### Запускаем и проверяем что получилось"
   ]
  },
  {
   "cell_type": "code",
   "execution_count": 148,
   "metadata": {},
   "outputs": [
    {
     "name": "stdout",
     "output_type": "stream",
     "text": [
      "Restaurant_id\n"
     ]
    },
    {
     "data": {
      "text/html": [
       "<div>\n",
       "<style scoped>\n",
       "    .dataframe tbody tr th:only-of-type {\n",
       "        vertical-align: middle;\n",
       "    }\n",
       "\n",
       "    .dataframe tbody tr th {\n",
       "        vertical-align: top;\n",
       "    }\n",
       "\n",
       "    .dataframe thead th {\n",
       "        text-align: right;\n",
       "    }\n",
       "</style>\n",
       "<table border=\"1\" class=\"dataframe\">\n",
       "  <thead>\n",
       "    <tr style=\"text-align: right;\">\n",
       "      <th></th>\n",
       "      <th>Restaurant_id</th>\n",
       "      <th>City</th>\n",
       "      <th>Cuisine Style</th>\n",
       "      <th>Ranking</th>\n",
       "      <th>Price Range</th>\n",
       "      <th>Number of Reviews</th>\n",
       "      <th>Reviews</th>\n",
       "      <th>URL_TA</th>\n",
       "      <th>ID_TA</th>\n",
       "      <th>sample</th>\n",
       "      <th>...</th>\n",
       "      <th>Reviews_num</th>\n",
       "      <th>last_date_1</th>\n",
       "      <th>last_date_2</th>\n",
       "      <th>days_btw_rev</th>\n",
       "      <th>days_btw_rev_filled</th>\n",
       "      <th>days_since_last_rev</th>\n",
       "      <th>days_since_last_rev_filled</th>\n",
       "      <th>Positive_rev</th>\n",
       "      <th>ID_TA_num</th>\n",
       "      <th>URL_TA_num</th>\n",
       "    </tr>\n",
       "  </thead>\n",
       "  <tbody>\n",
       "    <tr>\n",
       "      <th>48593</th>\n",
       "      <td>id_12118</td>\n",
       "      <td>London</td>\n",
       "      <td>['Cafe', 'European', 'Vegetarian Friendly']</td>\n",
       "      <td>12128.0</td>\n",
       "      <td>2</td>\n",
       "      <td>21.0</td>\n",
       "      <td>[['Dingy lighting', 'Good food but not cheap']...</td>\n",
       "      <td>/Restaurant_Review-g186338-d10757689-Reviews-R...</td>\n",
       "      <td>d10757689</td>\n",
       "      <td>1</td>\n",
       "      <td>...</td>\n",
       "      <td>2</td>\n",
       "      <td>2017-07-20</td>\n",
       "      <td>2017-06-14</td>\n",
       "      <td>36.0</td>\n",
       "      <td>36.0</td>\n",
       "      <td>221.0</td>\n",
       "      <td>221.0</td>\n",
       "      <td>3</td>\n",
       "      <td>10757689</td>\n",
       "      <td>186338</td>\n",
       "    </tr>\n",
       "    <tr>\n",
       "      <th>12206</th>\n",
       "      <td>id_4029</td>\n",
       "      <td>Prague</td>\n",
       "      <td>['American']</td>\n",
       "      <td>4043.0</td>\n",
       "      <td>1</td>\n",
       "      <td>4.0</td>\n",
       "      <td>[['Lunch', 'Waiting forever for a tasteless bu...</td>\n",
       "      <td>/Restaurant_Review-g274707-d11775614-Reviews-R...</td>\n",
       "      <td>d11775614</td>\n",
       "      <td>1</td>\n",
       "      <td>...</td>\n",
       "      <td>2</td>\n",
       "      <td>2017-10-29</td>\n",
       "      <td>2017-08-30</td>\n",
       "      <td>60.0</td>\n",
       "      <td>60.0</td>\n",
       "      <td>120.0</td>\n",
       "      <td>120.0</td>\n",
       "      <td>3</td>\n",
       "      <td>11775614</td>\n",
       "      <td>274707</td>\n",
       "    </tr>\n",
       "    <tr>\n",
       "      <th>38102</th>\n",
       "      <td>id_1201</td>\n",
       "      <td>Amsterdam</td>\n",
       "      <td>['Steakhouse', 'European', 'Argentinean']</td>\n",
       "      <td>1204.0</td>\n",
       "      <td>2</td>\n",
       "      <td>161.0</td>\n",
       "      <td>[['Good food ans good servixe but dirty and s....</td>\n",
       "      <td>/Restaurant_Review-g188590-d4088318-Reviews-Ar...</td>\n",
       "      <td>d4088318</td>\n",
       "      <td>1</td>\n",
       "      <td>...</td>\n",
       "      <td>2</td>\n",
       "      <td>2017-12-30</td>\n",
       "      <td>2017-10-11</td>\n",
       "      <td>80.0</td>\n",
       "      <td>80.0</td>\n",
       "      <td>58.0</td>\n",
       "      <td>58.0</td>\n",
       "      <td>4</td>\n",
       "      <td>4088318</td>\n",
       "      <td>188590</td>\n",
       "    </tr>\n",
       "    <tr>\n",
       "      <th>39478</th>\n",
       "      <td>id_746</td>\n",
       "      <td>Warsaw</td>\n",
       "      <td>['European', 'Pub', 'Czech', 'Brew Pub', 'Cont...</td>\n",
       "      <td>747.0</td>\n",
       "      <td>2</td>\n",
       "      <td>23.0</td>\n",
       "      <td>[['Nice selection of Czech beer and very tast....</td>\n",
       "      <td>/Restaurant_Review-g274856-d7314426-Reviews-Vy...</td>\n",
       "      <td>d7314426</td>\n",
       "      <td>1</td>\n",
       "      <td>...</td>\n",
       "      <td>2</td>\n",
       "      <td>2017-03-19</td>\n",
       "      <td>2016-04-19</td>\n",
       "      <td>334.0</td>\n",
       "      <td>334.0</td>\n",
       "      <td>344.0</td>\n",
       "      <td>344.0</td>\n",
       "      <td>4</td>\n",
       "      <td>7314426</td>\n",
       "      <td>274856</td>\n",
       "    </tr>\n",
       "    <tr>\n",
       "      <th>40159</th>\n",
       "      <td>id_10218</td>\n",
       "      <td>Paris</td>\n",
       "      <td>NaN</td>\n",
       "      <td>10220.0</td>\n",
       "      <td>2</td>\n",
       "      <td>3.0</td>\n",
       "      <td>[['Their famous hot-dog was...disappointing......</td>\n",
       "      <td>/Restaurant_Review-g187147-d11742535-Reviews-M...</td>\n",
       "      <td>d11742535</td>\n",
       "      <td>1</td>\n",
       "      <td>...</td>\n",
       "      <td>1</td>\n",
       "      <td>2016-10-24</td>\n",
       "      <td>NaT</td>\n",
       "      <td>NaN</td>\n",
       "      <td>86.0</td>\n",
       "      <td>490.0</td>\n",
       "      <td>490.0</td>\n",
       "      <td>3</td>\n",
       "      <td>11742535</td>\n",
       "      <td>187147</td>\n",
       "    </tr>\n",
       "    <tr>\n",
       "      <th>33984</th>\n",
       "      <td>id_726</td>\n",
       "      <td>Brussels</td>\n",
       "      <td>['Belgian', 'European', 'Gastropub']</td>\n",
       "      <td>727.0</td>\n",
       "      <td>2</td>\n",
       "      <td>42.0</td>\n",
       "      <td>[['Good quality / brussels brasserie', 'Real B...</td>\n",
       "      <td>/Restaurant_Review-g188644-d3255976-Reviews-L_...</td>\n",
       "      <td>d3255976</td>\n",
       "      <td>1</td>\n",
       "      <td>...</td>\n",
       "      <td>2</td>\n",
       "      <td>2017-10-05</td>\n",
       "      <td>2016-12-19</td>\n",
       "      <td>290.0</td>\n",
       "      <td>290.0</td>\n",
       "      <td>144.0</td>\n",
       "      <td>144.0</td>\n",
       "      <td>4</td>\n",
       "      <td>3255976</td>\n",
       "      <td>188644</td>\n",
       "    </tr>\n",
       "    <tr>\n",
       "      <th>26089</th>\n",
       "      <td>id_2846</td>\n",
       "      <td>Prague</td>\n",
       "      <td>NaN</td>\n",
       "      <td>2852.0</td>\n",
       "      <td>2</td>\n",
       "      <td>5.0</td>\n",
       "      <td>[['Better days'], ['08/04/2014']]</td>\n",
       "      <td>/Restaurant_Review-g274707-d5048708-Reviews-Na...</td>\n",
       "      <td>d5048708</td>\n",
       "      <td>1</td>\n",
       "      <td>...</td>\n",
       "      <td>1</td>\n",
       "      <td>2014-08-04</td>\n",
       "      <td>NaT</td>\n",
       "      <td>NaN</td>\n",
       "      <td>63.0</td>\n",
       "      <td>1302.0</td>\n",
       "      <td>1302.0</td>\n",
       "      <td>3</td>\n",
       "      <td>5048708</td>\n",
       "      <td>274707</td>\n",
       "    </tr>\n",
       "    <tr>\n",
       "      <th>29977</th>\n",
       "      <td>id_4875</td>\n",
       "      <td>Rome</td>\n",
       "      <td>NaN</td>\n",
       "      <td>4876.0</td>\n",
       "      <td>2</td>\n",
       "      <td>54.0</td>\n",
       "      <td>[[], []]</td>\n",
       "      <td>/Restaurant_Review-g187791-d8784868-Reviews-Do...</td>\n",
       "      <td>d8784868</td>\n",
       "      <td>1</td>\n",
       "      <td>...</td>\n",
       "      <td>0</td>\n",
       "      <td>NaT</td>\n",
       "      <td>NaT</td>\n",
       "      <td>NaN</td>\n",
       "      <td>62.5</td>\n",
       "      <td>NaN</td>\n",
       "      <td>155.0</td>\n",
       "      <td>3</td>\n",
       "      <td>8784868</td>\n",
       "      <td>187791</td>\n",
       "    </tr>\n",
       "    <tr>\n",
       "      <th>24271</th>\n",
       "      <td>id_10270</td>\n",
       "      <td>Paris</td>\n",
       "      <td>['French', 'Bar', 'European']</td>\n",
       "      <td>10272.0</td>\n",
       "      <td>2</td>\n",
       "      <td>75.0</td>\n",
       "      <td>[['Good address', 'a very poor service'], ['03...</td>\n",
       "      <td>/Restaurant_Review-g187147-d4405016-Reviews-Ba...</td>\n",
       "      <td>d4405016</td>\n",
       "      <td>1</td>\n",
       "      <td>...</td>\n",
       "      <td>2</td>\n",
       "      <td>2017-03-31</td>\n",
       "      <td>2017-03-10</td>\n",
       "      <td>21.0</td>\n",
       "      <td>21.0</td>\n",
       "      <td>332.0</td>\n",
       "      <td>332.0</td>\n",
       "      <td>4</td>\n",
       "      <td>4405016</td>\n",
       "      <td>187147</td>\n",
       "    </tr>\n",
       "    <tr>\n",
       "      <th>35011</th>\n",
       "      <td>id_4313</td>\n",
       "      <td>Paris</td>\n",
       "      <td>['French']</td>\n",
       "      <td>4314.0</td>\n",
       "      <td>1</td>\n",
       "      <td>38.0</td>\n",
       "      <td>[['Amazing Quiche', 'Best spot for the tourist...</td>\n",
       "      <td>/Restaurant_Review-g187147-d7182758-Reviews-Sc...</td>\n",
       "      <td>d7182758</td>\n",
       "      <td>1</td>\n",
       "      <td>...</td>\n",
       "      <td>2</td>\n",
       "      <td>2015-06-17</td>\n",
       "      <td>2014-11-30</td>\n",
       "      <td>199.0</td>\n",
       "      <td>199.0</td>\n",
       "      <td>985.0</td>\n",
       "      <td>985.0</td>\n",
       "      <td>4</td>\n",
       "      <td>7182758</td>\n",
       "      <td>187147</td>\n",
       "    </tr>\n",
       "  </tbody>\n",
       "</table>\n",
       "<p>10 rows × 197 columns</p>\n",
       "</div>"
      ],
      "text/plain": [
       "      Restaurant_id       City  \\\n",
       "48593      id_12118     London   \n",
       "12206       id_4029     Prague   \n",
       "38102       id_1201  Amsterdam   \n",
       "39478        id_746     Warsaw   \n",
       "40159      id_10218      Paris   \n",
       "33984        id_726   Brussels   \n",
       "26089       id_2846     Prague   \n",
       "29977       id_4875       Rome   \n",
       "24271      id_10270      Paris   \n",
       "35011       id_4313      Paris   \n",
       "\n",
       "                                           Cuisine Style  Ranking  \\\n",
       "48593        ['Cafe', 'European', 'Vegetarian Friendly']  12128.0   \n",
       "12206                                       ['American']   4043.0   \n",
       "38102          ['Steakhouse', 'European', 'Argentinean']   1204.0   \n",
       "39478  ['European', 'Pub', 'Czech', 'Brew Pub', 'Cont...    747.0   \n",
       "40159                                                NaN  10220.0   \n",
       "33984               ['Belgian', 'European', 'Gastropub']    727.0   \n",
       "26089                                                NaN   2852.0   \n",
       "29977                                                NaN   4876.0   \n",
       "24271                      ['French', 'Bar', 'European']  10272.0   \n",
       "35011                                         ['French']   4314.0   \n",
       "\n",
       "       Price Range  Number of Reviews  \\\n",
       "48593            2               21.0   \n",
       "12206            1                4.0   \n",
       "38102            2              161.0   \n",
       "39478            2               23.0   \n",
       "40159            2                3.0   \n",
       "33984            2               42.0   \n",
       "26089            2                5.0   \n",
       "29977            2               54.0   \n",
       "24271            2               75.0   \n",
       "35011            1               38.0   \n",
       "\n",
       "                                                 Reviews  \\\n",
       "48593  [['Dingy lighting', 'Good food but not cheap']...   \n",
       "12206  [['Lunch', 'Waiting forever for a tasteless bu...   \n",
       "38102  [['Good food ans good servixe but dirty and s....   \n",
       "39478  [['Nice selection of Czech beer and very tast....   \n",
       "40159  [['Their famous hot-dog was...disappointing......   \n",
       "33984  [['Good quality / brussels brasserie', 'Real B...   \n",
       "26089                  [['Better days'], ['08/04/2014']]   \n",
       "29977                                           [[], []]   \n",
       "24271  [['Good address', 'a very poor service'], ['03...   \n",
       "35011  [['Amazing Quiche', 'Best spot for the tourist...   \n",
       "\n",
       "                                                  URL_TA      ID_TA  sample  \\\n",
       "48593  /Restaurant_Review-g186338-d10757689-Reviews-R...  d10757689       1   \n",
       "12206  /Restaurant_Review-g274707-d11775614-Reviews-R...  d11775614       1   \n",
       "38102  /Restaurant_Review-g188590-d4088318-Reviews-Ar...   d4088318       1   \n",
       "39478  /Restaurant_Review-g274856-d7314426-Reviews-Vy...   d7314426       1   \n",
       "40159  /Restaurant_Review-g187147-d11742535-Reviews-M...  d11742535       1   \n",
       "33984  /Restaurant_Review-g188644-d3255976-Reviews-L_...   d3255976       1   \n",
       "26089  /Restaurant_Review-g274707-d5048708-Reviews-Na...   d5048708       1   \n",
       "29977  /Restaurant_Review-g187791-d8784868-Reviews-Do...   d8784868       1   \n",
       "24271  /Restaurant_Review-g187147-d4405016-Reviews-Ba...   d4405016       1   \n",
       "35011  /Restaurant_Review-g187147-d7182758-Reviews-Sc...   d7182758       1   \n",
       "\n",
       "       ...  Reviews_num  last_date_1  last_date_2  days_btw_rev  \\\n",
       "48593  ...            2   2017-07-20   2017-06-14          36.0   \n",
       "12206  ...            2   2017-10-29   2017-08-30          60.0   \n",
       "38102  ...            2   2017-12-30   2017-10-11          80.0   \n",
       "39478  ...            2   2017-03-19   2016-04-19         334.0   \n",
       "40159  ...            1   2016-10-24          NaT           NaN   \n",
       "33984  ...            2   2017-10-05   2016-12-19         290.0   \n",
       "26089  ...            1   2014-08-04          NaT           NaN   \n",
       "29977  ...            0          NaT          NaT           NaN   \n",
       "24271  ...            2   2017-03-31   2017-03-10          21.0   \n",
       "35011  ...            2   2015-06-17   2014-11-30         199.0   \n",
       "\n",
       "       days_btw_rev_filled  days_since_last_rev  days_since_last_rev_filled  \\\n",
       "48593                 36.0                221.0                       221.0   \n",
       "12206                 60.0                120.0                       120.0   \n",
       "38102                 80.0                 58.0                        58.0   \n",
       "39478                334.0                344.0                       344.0   \n",
       "40159                 86.0                490.0                       490.0   \n",
       "33984                290.0                144.0                       144.0   \n",
       "26089                 63.0               1302.0                      1302.0   \n",
       "29977                 62.5                  NaN                       155.0   \n",
       "24271                 21.0                332.0                       332.0   \n",
       "35011                199.0                985.0                       985.0   \n",
       "\n",
       "       Positive_rev  ID_TA_num  URL_TA_num  \n",
       "48593             3   10757689      186338  \n",
       "12206             3   11775614      274707  \n",
       "38102             4    4088318      188590  \n",
       "39478             4    7314426      274856  \n",
       "40159             3   11742535      187147  \n",
       "33984             4    3255976      188644  \n",
       "26089             3    5048708      274707  \n",
       "29977             3    8784868      187791  \n",
       "24271             4    4405016      187147  \n",
       "35011             4    7182758      187147  \n",
       "\n",
       "[10 rows x 197 columns]"
      ]
     },
     "execution_count": 148,
     "metadata": {},
     "output_type": "execute_result"
    }
   ],
   "source": [
    "df_preproc = preproc_data(data)\n",
    "df_preproc.sample(10)"
   ]
  },
  {
   "cell_type": "code",
   "execution_count": 158,
   "metadata": {},
   "outputs": [],
   "source": [
    "df_preproc.drop(['Restaurant_id',\n",
    " 'City',\n",
    " 'Cuisine Style',\n",
    " 'Number of Reviews',\n",
    " 'Reviews',\n",
    " 'URL_TA',\n",
    " 'ID_TA',\n",
    " 'Country',\n",
    " 'Number of Reviews_filled',\n",
    " 'Reviews_num',\n",
    " 'last_date_1',\n",
    " 'last_date_2',\n",
    " 'days_btw_rev',\n",
    " 'days_since_last_rev',\n",
    " 'Restaurant_id_num',  \n",
    " 'National_cuisine',\n",
    " 'no_data_Number_of_Reviews',], axis = 1, inplace=True)"
   ]
  },
  {
   "cell_type": "code",
   "execution_count": 159,
   "metadata": {},
   "outputs": [
    {
     "name": "stdout",
     "output_type": "stream",
     "text": [
      "<class 'pandas.core.frame.DataFrame'>\n",
      "RangeIndex: 50000 entries, 0 to 49999\n",
      "Columns: 180 entries, Ranking to URL_TA_num\n",
      "dtypes: float64(8), int64(134), uint8(38)\n",
      "memory usage: 56.0 MB\n"
     ]
    }
   ],
   "source": [
    "df_preproc.info()"
   ]
  },
  {
   "cell_type": "code",
   "execution_count": 160,
   "metadata": {},
   "outputs": [],
   "source": [
    "# Теперь выделим тестовую часть\n",
    "train_data = df_preproc.query('sample == 1').drop(['sample'], axis=1)\n",
    "test_data = df_preproc.query('sample == 0').drop(['sample'], axis=1)\n",
    "\n",
    "y = train_data.Rating.values            # наш таргет\n",
    "X = train_data.drop(['Rating'], axis=1)"
   ]
  },
  {
   "cell_type": "markdown",
   "metadata": {},
   "source": [
    "**Перед тем как отправлять наши данные на обучение, разделим данные на еще один тест и трейн, для валидации. \n",
    "Это поможет нам проверить, как хорошо наша модель работает, до отправки submissiona на kaggle.**"
   ]
  },
  {
   "cell_type": "code",
   "execution_count": 161,
   "metadata": {},
   "outputs": [],
   "source": [
    "# Воспользуемся специальной функцие train_test_split для разбивки тестовых данных\n",
    "# выделим 20% данных на валидацию (параметр test_size)\n",
    "X_train, X_test, y_train, y_test = train_test_split(X, y, test_size=0.2, random_state=RANDOM_SEED)"
   ]
  },
  {
   "cell_type": "code",
   "execution_count": 162,
   "metadata": {},
   "outputs": [
    {
     "data": {
      "text/plain": [
       "((10000, 179), (40000, 179), (40000, 178), (32000, 178), (8000, 178))"
      ]
     },
     "execution_count": 162,
     "metadata": {},
     "output_type": "execute_result"
    }
   ],
   "source": [
    "# проверяем\n",
    "test_data.shape, train_data.shape, X.shape, X_train.shape, X_test.shape"
   ]
  },
  {
   "cell_type": "markdown",
   "metadata": {},
   "source": [
    "# Model \n",
    "Сам ML"
   ]
  },
  {
   "cell_type": "code",
   "execution_count": 163,
   "metadata": {},
   "outputs": [],
   "source": [
    "# Импортируем необходимые библиотеки:\n",
    "from sklearn.ensemble import RandomForestRegressor # инструмент для создания и обучения модели\n",
    "from sklearn import metrics # инструменты для оценки точности модели"
   ]
  },
  {
   "cell_type": "code",
   "execution_count": 164,
   "metadata": {},
   "outputs": [],
   "source": [
    "# Создаём модель (НАСТРОЙКИ НЕ ТРОГАЕМ)\n",
    "model = RandomForestRegressor(n_estimators=100, verbose=1, n_jobs=-1, random_state=RANDOM_SEED)"
   ]
  },
  {
   "cell_type": "code",
   "execution_count": 165,
   "metadata": {},
   "outputs": [
    {
     "name": "stderr",
     "output_type": "stream",
     "text": [
      "[Parallel(n_jobs=-1)]: Using backend ThreadingBackend with 8 concurrent workers.\n",
      "[Parallel(n_jobs=-1)]: Done  34 tasks      | elapsed:    7.3s\n",
      "[Parallel(n_jobs=-1)]: Done 100 out of 100 | elapsed:   19.8s finished\n",
      "[Parallel(n_jobs=8)]: Using backend ThreadingBackend with 8 concurrent workers.\n",
      "[Parallel(n_jobs=8)]: Done  34 tasks      | elapsed:    0.0s\n",
      "[Parallel(n_jobs=8)]: Done 100 out of 100 | elapsed:    0.0s finished\n"
     ]
    }
   ],
   "source": [
    "# Обучаем модель на тестовом наборе данных\n",
    "model.fit(X_train, y_train)\n",
    "\n",
    "# Используем обученную модель для предсказания рейтинга ресторанов в тестовой выборке.\n",
    "# Предсказанные значения записываем в переменную y_pred\n",
    "y_pred = model.predict(X_test)"
   ]
  },
  {
   "cell_type": "code",
   "execution_count": 166,
   "metadata": {},
   "outputs": [
    {
     "name": "stdout",
     "output_type": "stream",
     "text": [
      "MAE: 0.19798125\n"
     ]
    }
   ],
   "source": [
    "# Сравниваем предсказанные значения (y_pred) с реальными (y_test), и смотрим насколько они в среднем отличаются\n",
    "# Метрика называется Mean Absolute Error (MAE) и показывает среднее отклонение предсказанных значений от фактических.\n",
    "print('MAE:', metrics.mean_absolute_error(y_test, y_pred))"
   ]
  },
  {
   "cell_type": "code",
   "execution_count": 167,
   "metadata": {},
   "outputs": [
    {
     "data": {
      "text/plain": [
       "<matplotlib.axes._subplots.AxesSubplot at 0x202d4487708>"
      ]
     },
     "execution_count": 167,
     "metadata": {},
     "output_type": "execute_result"
    },
    {
     "data": {
      "image/png": "[encoded data removed]",
      "text/plain": [
       "<Figure size 720x720 with 1 Axes>"
      ]
     },
     "metadata": {
      "needs_background": "light"
     },
     "output_type": "display_data"
    }
   ],
   "source": [
    "# в RandomForestRegressor есть возможность вывести самые важные признаки для модели\n",
    "plt.rcParams['figure.figsize'] = (10,10)\n",
    "feat_importances = pd.Series(model.feature_importances_, index=X.columns)\n",
    "feat_importances.nlargest(15).plot(kind='barh')"
   ]
  },
  {
   "cell_type": "code",
   "execution_count": 168,
   "metadata": {},
   "outputs": [
    {
     "data": {
      "text/plain": [
       "(15.5, -0.5)"
      ]
     },
     "execution_count": 168,
     "metadata": {},
     "output_type": "execute_result"
    },
    {
     "data": {
      "image/png": "[encoded data removed]",
      "text/plain": [
       "<Figure size 864x432 with 2 Axes>"
      ]
     },
     "metadata": {
      "needs_background": "light"
     },
     "output_type": "display_data"
    }
   ],
   "source": [
    "df_temp = df_preproc.loc[data['sample'] == 1, list(feat_importances.nlargest(15).index[0:15])]\n",
    "plt.rcParams['figure.figsize'] = (12,6)\n",
    "ax = sns.heatmap(df_temp.corr(), annot=True, fmt='.2g')\n",
    "i, k = ax.get_ylim()\n",
    "ax.set_ylim(i+0.5, k-0.5)"
   ]
  },
  {
   "cell_type": "markdown",
   "metadata": {},
   "source": [
    "# Submission\n",
    "Если все устраевает - готовим Submission на кагл"
   ]
  },
  {
   "cell_type": "code",
   "execution_count": 169,
   "metadata": {},
   "outputs": [
    {
     "data": {
      "text/html": [
       "<div>\n",
       "<style scoped>\n",
       "    .dataframe tbody tr th:only-of-type {\n",
       "        vertical-align: middle;\n",
       "    }\n",
       "\n",
       "    .dataframe tbody tr th {\n",
       "        vertical-align: top;\n",
       "    }\n",
       "\n",
       "    .dataframe thead th {\n",
       "        text-align: right;\n",
       "    }\n",
       "</style>\n",
       "<table border=\"1\" class=\"dataframe\">\n",
       "  <thead>\n",
       "    <tr style=\"text-align: right;\">\n",
       "      <th></th>\n",
       "      <th>Ranking</th>\n",
       "      <th>Price Range</th>\n",
       "      <th>Rating</th>\n",
       "      <th>Number of Reviews_filled_0</th>\n",
       "      <th>City_code_Amsterdam</th>\n",
       "      <th>City_code_Athens</th>\n",
       "      <th>City_code_Barcelona</th>\n",
       "      <th>City_code_Berlin</th>\n",
       "      <th>City_code_Bratislava</th>\n",
       "      <th>City_code_Brussels</th>\n",
       "      <th>...</th>\n",
       "      <th>Cuisine_Brew Pub</th>\n",
       "      <th>Cuisine_nan</th>\n",
       "      <th>Cuisine_variety</th>\n",
       "      <th>Ranking_norm</th>\n",
       "      <th>no_price_data</th>\n",
       "      <th>days_btw_rev_filled</th>\n",
       "      <th>days_since_last_rev_filled</th>\n",
       "      <th>Positive_rev</th>\n",
       "      <th>ID_TA_num</th>\n",
       "      <th>URL_TA_num</th>\n",
       "    </tr>\n",
       "  </thead>\n",
       "  <tbody>\n",
       "    <tr>\n",
       "      <th>7380</th>\n",
       "      <td>1361.0</td>\n",
       "      <td>3</td>\n",
       "      <td>0.0</td>\n",
       "      <td>107.0</td>\n",
       "      <td>0</td>\n",
       "      <td>0</td>\n",
       "      <td>1</td>\n",
       "      <td>0</td>\n",
       "      <td>0</td>\n",
       "      <td>0</td>\n",
       "      <td>...</td>\n",
       "      <td>0</td>\n",
       "      <td>0</td>\n",
       "      <td>3</td>\n",
       "      <td>-0.741803</td>\n",
       "      <td>0</td>\n",
       "      <td>41.0</td>\n",
       "      <td>181.0</td>\n",
       "      <td>4</td>\n",
       "      <td>1079743</td>\n",
       "      <td>187497</td>\n",
       "    </tr>\n",
       "    <tr>\n",
       "      <th>6175</th>\n",
       "      <td>6341.0</td>\n",
       "      <td>1</td>\n",
       "      <td>0.0</td>\n",
       "      <td>66.0</td>\n",
       "      <td>0</td>\n",
       "      <td>0</td>\n",
       "      <td>1</td>\n",
       "      <td>0</td>\n",
       "      <td>0</td>\n",
       "      <td>0</td>\n",
       "      <td>...</td>\n",
       "      <td>0</td>\n",
       "      <td>0</td>\n",
       "      <td>1</td>\n",
       "      <td>0.725060</td>\n",
       "      <td>0</td>\n",
       "      <td>43.0</td>\n",
       "      <td>115.0</td>\n",
       "      <td>3</td>\n",
       "      <td>8830076</td>\n",
       "      <td>187497</td>\n",
       "    </tr>\n",
       "    <tr>\n",
       "      <th>6289</th>\n",
       "      <td>1509.0</td>\n",
       "      <td>2</td>\n",
       "      <td>0.0</td>\n",
       "      <td>0.0</td>\n",
       "      <td>0</td>\n",
       "      <td>0</td>\n",
       "      <td>0</td>\n",
       "      <td>0</td>\n",
       "      <td>0</td>\n",
       "      <td>0</td>\n",
       "      <td>...</td>\n",
       "      <td>0</td>\n",
       "      <td>0</td>\n",
       "      <td>1</td>\n",
       "      <td>0.121137</td>\n",
       "      <td>0</td>\n",
       "      <td>88.0</td>\n",
       "      <td>176.0</td>\n",
       "      <td>3</td>\n",
       "      <td>10230176</td>\n",
       "      <td>187309</td>\n",
       "    </tr>\n",
       "    <tr>\n",
       "      <th>2853</th>\n",
       "      <td>1985.0</td>\n",
       "      <td>2</td>\n",
       "      <td>0.0</td>\n",
       "      <td>6.0</td>\n",
       "      <td>0</td>\n",
       "      <td>0</td>\n",
       "      <td>0</td>\n",
       "      <td>0</td>\n",
       "      <td>0</td>\n",
       "      <td>0</td>\n",
       "      <td>...</td>\n",
       "      <td>0</td>\n",
       "      <td>1</td>\n",
       "      <td>0</td>\n",
       "      <td>0.513988</td>\n",
       "      <td>0</td>\n",
       "      <td>122.0</td>\n",
       "      <td>219.5</td>\n",
       "      <td>3</td>\n",
       "      <td>1038927</td>\n",
       "      <td>187331</td>\n",
       "    </tr>\n",
       "    <tr>\n",
       "      <th>273</th>\n",
       "      <td>10809.0</td>\n",
       "      <td>2</td>\n",
       "      <td>0.0</td>\n",
       "      <td>0.0</td>\n",
       "      <td>0</td>\n",
       "      <td>0</td>\n",
       "      <td>0</td>\n",
       "      <td>0</td>\n",
       "      <td>0</td>\n",
       "      <td>0</td>\n",
       "      <td>...</td>\n",
       "      <td>0</td>\n",
       "      <td>1</td>\n",
       "      <td>0</td>\n",
       "      <td>0.633668</td>\n",
       "      <td>0</td>\n",
       "      <td>86.0</td>\n",
       "      <td>417.0</td>\n",
       "      <td>3</td>\n",
       "      <td>11992842</td>\n",
       "      <td>187147</td>\n",
       "    </tr>\n",
       "    <tr>\n",
       "      <th>5593</th>\n",
       "      <td>7644.0</td>\n",
       "      <td>2</td>\n",
       "      <td>0.0</td>\n",
       "      <td>42.0</td>\n",
       "      <td>0</td>\n",
       "      <td>0</td>\n",
       "      <td>0</td>\n",
       "      <td>0</td>\n",
       "      <td>0</td>\n",
       "      <td>0</td>\n",
       "      <td>...</td>\n",
       "      <td>0</td>\n",
       "      <td>1</td>\n",
       "      <td>0</td>\n",
       "      <td>0.853785</td>\n",
       "      <td>0</td>\n",
       "      <td>99.0</td>\n",
       "      <td>218.0</td>\n",
       "      <td>3</td>\n",
       "      <td>4178633</td>\n",
       "      <td>187514</td>\n",
       "    </tr>\n",
       "    <tr>\n",
       "      <th>7212</th>\n",
       "      <td>11523.0</td>\n",
       "      <td>2</td>\n",
       "      <td>0.0</td>\n",
       "      <td>41.0</td>\n",
       "      <td>0</td>\n",
       "      <td>0</td>\n",
       "      <td>0</td>\n",
       "      <td>0</td>\n",
       "      <td>0</td>\n",
       "      <td>0</td>\n",
       "      <td>...</td>\n",
       "      <td>0</td>\n",
       "      <td>0</td>\n",
       "      <td>5</td>\n",
       "      <td>0.750564</td>\n",
       "      <td>0</td>\n",
       "      <td>231.0</td>\n",
       "      <td>328.0</td>\n",
       "      <td>3</td>\n",
       "      <td>4053547</td>\n",
       "      <td>187147</td>\n",
       "    </tr>\n",
       "    <tr>\n",
       "      <th>7</th>\n",
       "      <td>2330.0</td>\n",
       "      <td>2</td>\n",
       "      <td>0.0</td>\n",
       "      <td>0.0</td>\n",
       "      <td>0</td>\n",
       "      <td>0</td>\n",
       "      <td>0</td>\n",
       "      <td>0</td>\n",
       "      <td>0</td>\n",
       "      <td>0</td>\n",
       "      <td>...</td>\n",
       "      <td>0</td>\n",
       "      <td>1</td>\n",
       "      <td>0</td>\n",
       "      <td>1.088088</td>\n",
       "      <td>0</td>\n",
       "      <td>48.0</td>\n",
       "      <td>134.5</td>\n",
       "      <td>3</td>\n",
       "      <td>8286886</td>\n",
       "      <td>274887</td>\n",
       "    </tr>\n",
       "    <tr>\n",
       "      <th>724</th>\n",
       "      <td>7969.0</td>\n",
       "      <td>2</td>\n",
       "      <td>0.0</td>\n",
       "      <td>287.0</td>\n",
       "      <td>0</td>\n",
       "      <td>0</td>\n",
       "      <td>0</td>\n",
       "      <td>0</td>\n",
       "      <td>0</td>\n",
       "      <td>0</td>\n",
       "      <td>...</td>\n",
       "      <td>0</td>\n",
       "      <td>0</td>\n",
       "      <td>2</td>\n",
       "      <td>0.168704</td>\n",
       "      <td>0</td>\n",
       "      <td>17.0</td>\n",
       "      <td>133.0</td>\n",
       "      <td>4</td>\n",
       "      <td>1504635</td>\n",
       "      <td>187147</td>\n",
       "    </tr>\n",
       "    <tr>\n",
       "      <th>1668</th>\n",
       "      <td>181.0</td>\n",
       "      <td>2</td>\n",
       "      <td>0.0</td>\n",
       "      <td>1402.0</td>\n",
       "      <td>0</td>\n",
       "      <td>0</td>\n",
       "      <td>0</td>\n",
       "      <td>0</td>\n",
       "      <td>0</td>\n",
       "      <td>0</td>\n",
       "      <td>...</td>\n",
       "      <td>0</td>\n",
       "      <td>0</td>\n",
       "      <td>6</td>\n",
       "      <td>-1.016711</td>\n",
       "      <td>0</td>\n",
       "      <td>10.0</td>\n",
       "      <td>71.0</td>\n",
       "      <td>4</td>\n",
       "      <td>1790459</td>\n",
       "      <td>274887</td>\n",
       "    </tr>\n",
       "  </tbody>\n",
       "</table>\n",
       "<p>10 rows × 179 columns</p>\n",
       "</div>"
      ],
      "text/plain": [
       "      Ranking  Price Range  Rating  Number of Reviews_filled_0  \\\n",
       "7380   1361.0            3     0.0                       107.0   \n",
       "6175   6341.0            1     0.0                        66.0   \n",
       "6289   1509.0            2     0.0                         0.0   \n",
       "2853   1985.0            2     0.0                         6.0   \n",
       "273   10809.0            2     0.0                         0.0   \n",
       "5593   7644.0            2     0.0                        42.0   \n",
       "7212  11523.0            2     0.0                        41.0   \n",
       "7      2330.0            2     0.0                         0.0   \n",
       "724    7969.0            2     0.0                       287.0   \n",
       "1668    181.0            2     0.0                      1402.0   \n",
       "\n",
       "      City_code_Amsterdam  City_code_Athens  City_code_Barcelona  \\\n",
       "7380                    0                 0                    1   \n",
       "6175                    0                 0                    1   \n",
       "6289                    0                 0                    0   \n",
       "2853                    0                 0                    0   \n",
       "273                     0                 0                    0   \n",
       "5593                    0                 0                    0   \n",
       "7212                    0                 0                    0   \n",
       "7                       0                 0                    0   \n",
       "724                     0                 0                    0   \n",
       "1668                    0                 0                    0   \n",
       "\n",
       "      City_code_Berlin  City_code_Bratislava  City_code_Brussels  ...  \\\n",
       "7380                 0                     0                   0  ...   \n",
       "6175                 0                     0                   0  ...   \n",
       "6289                 0                     0                   0  ...   \n",
       "2853                 0                     0                   0  ...   \n",
       "273                  0                     0                   0  ...   \n",
       "5593                 0                     0                   0  ...   \n",
       "7212                 0                     0                   0  ...   \n",
       "7                    0                     0                   0  ...   \n",
       "724                  0                     0                   0  ...   \n",
       "1668                 0                     0                   0  ...   \n",
       "\n",
       "      Cuisine_Brew Pub  Cuisine_nan  Cuisine_variety  Ranking_norm  \\\n",
       "7380                 0            0                3     -0.741803   \n",
       "6175                 0            0                1      0.725060   \n",
       "6289                 0            0                1      0.121137   \n",
       "2853                 0            1                0      0.513988   \n",
       "273                  0            1                0      0.633668   \n",
       "5593                 0            1                0      0.853785   \n",
       "7212                 0            0                5      0.750564   \n",
       "7                    0            1                0      1.088088   \n",
       "724                  0            0                2      0.168704   \n",
       "1668                 0            0                6     -1.016711   \n",
       "\n",
       "      no_price_data  days_btw_rev_filled  days_since_last_rev_filled  \\\n",
       "7380              0                 41.0                       181.0   \n",
       "6175              0                 43.0                       115.0   \n",
       "6289              0                 88.0                       176.0   \n",
       "2853              0                122.0                       219.5   \n",
       "273               0                 86.0                       417.0   \n",
       "5593              0                 99.0                       218.0   \n",
       "7212              0                231.0                       328.0   \n",
       "7                 0                 48.0                       134.5   \n",
       "724               0                 17.0                       133.0   \n",
       "1668              0                 10.0                        71.0   \n",
       "\n",
       "      Positive_rev  ID_TA_num  URL_TA_num  \n",
       "7380             4    1079743      187497  \n",
       "6175             3    8830076      187497  \n",
       "6289             3   10230176      187309  \n",
       "2853             3    1038927      187331  \n",
       "273              3   11992842      187147  \n",
       "5593             3    4178633      187514  \n",
       "7212             3    4053547      187147  \n",
       "7                3    8286886      274887  \n",
       "724              4    1504635      187147  \n",
       "1668             4    1790459      274887  \n",
       "\n",
       "[10 rows x 179 columns]"
      ]
     },
     "execution_count": 169,
     "metadata": {},
     "output_type": "execute_result"
    }
   ],
   "source": [
    "test_data.sample(10)"
   ]
  },
  {
   "cell_type": "code",
   "execution_count": 170,
   "metadata": {},
   "outputs": [],
   "source": [
    "test_data = test_data.drop(['Rating'], axis=1)"
   ]
  },
  {
   "cell_type": "code",
   "execution_count": 171,
   "metadata": {},
   "outputs": [
    {
     "data": {
      "text/html": [
       "<div>\n",
       "<style scoped>\n",
       "    .dataframe tbody tr th:only-of-type {\n",
       "        vertical-align: middle;\n",
       "    }\n",
       "\n",
       "    .dataframe tbody tr th {\n",
       "        vertical-align: top;\n",
       "    }\n",
       "\n",
       "    .dataframe thead th {\n",
       "        text-align: right;\n",
       "    }\n",
       "</style>\n",
       "<table border=\"1\" class=\"dataframe\">\n",
       "  <thead>\n",
       "    <tr style=\"text-align: right;\">\n",
       "      <th></th>\n",
       "      <th>Restaurant_id</th>\n",
       "      <th>Rating</th>\n",
       "    </tr>\n",
       "  </thead>\n",
       "  <tbody>\n",
       "    <tr>\n",
       "      <th>0</th>\n",
       "      <td>id_0</td>\n",
       "      <td>2.0</td>\n",
       "    </tr>\n",
       "    <tr>\n",
       "      <th>1</th>\n",
       "      <td>id_1</td>\n",
       "      <td>2.5</td>\n",
       "    </tr>\n",
       "    <tr>\n",
       "      <th>2</th>\n",
       "      <td>id_2</td>\n",
       "      <td>4.0</td>\n",
       "    </tr>\n",
       "    <tr>\n",
       "      <th>3</th>\n",
       "      <td>id_3</td>\n",
       "      <td>1.0</td>\n",
       "    </tr>\n",
       "    <tr>\n",
       "      <th>4</th>\n",
       "      <td>id_4</td>\n",
       "      <td>4.0</td>\n",
       "    </tr>\n",
       "    <tr>\n",
       "      <th>...</th>\n",
       "      <td>...</td>\n",
       "      <td>...</td>\n",
       "    </tr>\n",
       "    <tr>\n",
       "      <th>9995</th>\n",
       "      <td>id_9995</td>\n",
       "      <td>3.0</td>\n",
       "    </tr>\n",
       "    <tr>\n",
       "      <th>9996</th>\n",
       "      <td>id_9996</td>\n",
       "      <td>1.5</td>\n",
       "    </tr>\n",
       "    <tr>\n",
       "      <th>9997</th>\n",
       "      <td>id_9997</td>\n",
       "      <td>4.5</td>\n",
       "    </tr>\n",
       "    <tr>\n",
       "      <th>9998</th>\n",
       "      <td>id_9998</td>\n",
       "      <td>1.0</td>\n",
       "    </tr>\n",
       "    <tr>\n",
       "      <th>9999</th>\n",
       "      <td>id_9999</td>\n",
       "      <td>2.5</td>\n",
       "    </tr>\n",
       "  </tbody>\n",
       "</table>\n",
       "<p>10000 rows × 2 columns</p>\n",
       "</div>"
      ],
      "text/plain": [
       "     Restaurant_id  Rating\n",
       "0             id_0     2.0\n",
       "1             id_1     2.5\n",
       "2             id_2     4.0\n",
       "3             id_3     1.0\n",
       "4             id_4     4.0\n",
       "...            ...     ...\n",
       "9995       id_9995     3.0\n",
       "9996       id_9996     1.5\n",
       "9997       id_9997     4.5\n",
       "9998       id_9998     1.0\n",
       "9999       id_9999     2.5\n",
       "\n",
       "[10000 rows x 2 columns]"
      ]
     },
     "execution_count": 171,
     "metadata": {},
     "output_type": "execute_result"
    }
   ],
   "source": [
    "sample_submission"
   ]
  },
  {
   "cell_type": "code",
   "execution_count": 172,
   "metadata": {},
   "outputs": [
    {
     "name": "stderr",
     "output_type": "stream",
     "text": [
      "[Parallel(n_jobs=8)]: Using backend ThreadingBackend with 8 concurrent workers.\n",
      "[Parallel(n_jobs=8)]: Done  34 tasks      | elapsed:    0.0s\n",
      "[Parallel(n_jobs=8)]: Done 100 out of 100 | elapsed:    0.0s finished\n"
     ]
    }
   ],
   "source": [
    "predict_submission = model.predict(test_data)"
   ]
  },
  {
   "cell_type": "code",
   "execution_count": 173,
   "metadata": {},
   "outputs": [
    {
     "data": {
      "text/plain": [
       "array([3.02 , 4.16 , 4.135, ..., 3.025, 4.445, 4.23 ])"
      ]
     },
     "execution_count": 173,
     "metadata": {},
     "output_type": "execute_result"
    }
   ],
   "source": [
    "predict_submission"
   ]
  },
  {
   "cell_type": "code",
   "execution_count": 174,
   "metadata": {},
   "outputs": [
    {
     "data": {
      "text/html": [
       "<div>\n",
       "<style scoped>\n",
       "    .dataframe tbody tr th:only-of-type {\n",
       "        vertical-align: middle;\n",
       "    }\n",
       "\n",
       "    .dataframe tbody tr th {\n",
       "        vertical-align: top;\n",
       "    }\n",
       "\n",
       "    .dataframe thead th {\n",
       "        text-align: right;\n",
       "    }\n",
       "</style>\n",
       "<table border=\"1\" class=\"dataframe\">\n",
       "  <thead>\n",
       "    <tr style=\"text-align: right;\">\n",
       "      <th></th>\n",
       "      <th>Restaurant_id</th>\n",
       "      <th>Rating</th>\n",
       "    </tr>\n",
       "  </thead>\n",
       "  <tbody>\n",
       "    <tr>\n",
       "      <th>0</th>\n",
       "      <td>id_0</td>\n",
       "      <td>3.020</td>\n",
       "    </tr>\n",
       "    <tr>\n",
       "      <th>1</th>\n",
       "      <td>id_1</td>\n",
       "      <td>4.160</td>\n",
       "    </tr>\n",
       "    <tr>\n",
       "      <th>2</th>\n",
       "      <td>id_2</td>\n",
       "      <td>4.135</td>\n",
       "    </tr>\n",
       "    <tr>\n",
       "      <th>3</th>\n",
       "      <td>id_3</td>\n",
       "      <td>4.350</td>\n",
       "    </tr>\n",
       "    <tr>\n",
       "      <th>4</th>\n",
       "      <td>id_4</td>\n",
       "      <td>4.465</td>\n",
       "    </tr>\n",
       "    <tr>\n",
       "      <th>5</th>\n",
       "      <td>id_5</td>\n",
       "      <td>4.405</td>\n",
       "    </tr>\n",
       "    <tr>\n",
       "      <th>6</th>\n",
       "      <td>id_6</td>\n",
       "      <td>1.905</td>\n",
       "    </tr>\n",
       "    <tr>\n",
       "      <th>7</th>\n",
       "      <td>id_7</td>\n",
       "      <td>2.385</td>\n",
       "    </tr>\n",
       "    <tr>\n",
       "      <th>8</th>\n",
       "      <td>id_8</td>\n",
       "      <td>4.035</td>\n",
       "    </tr>\n",
       "    <tr>\n",
       "      <th>9</th>\n",
       "      <td>id_9</td>\n",
       "      <td>4.595</td>\n",
       "    </tr>\n",
       "  </tbody>\n",
       "</table>\n",
       "</div>"
      ],
      "text/plain": [
       "  Restaurant_id  Rating\n",
       "0          id_0   3.020\n",
       "1          id_1   4.160\n",
       "2          id_2   4.135\n",
       "3          id_3   4.350\n",
       "4          id_4   4.465\n",
       "5          id_5   4.405\n",
       "6          id_6   1.905\n",
       "7          id_7   2.385\n",
       "8          id_8   4.035\n",
       "9          id_9   4.595"
      ]
     },
     "execution_count": 174,
     "metadata": {},
     "output_type": "execute_result"
    }
   ],
   "source": [
    "sample_submission['Rating'] = predict_submission\n",
    "sample_submission.to_csv('submission.csv', index=False)\n",
    "sample_submission.head(10)"
   ]
  },
  {
   "cell_type": "code",
   "execution_count": null,
   "metadata": {},
   "outputs": [],
   "source": []
  },
  {
   "cell_type": "code",
   "execution_count": null,
   "metadata": {},
   "outputs": [],
   "source": []
  },
  {
   "cell_type": "code",
   "execution_count": null,
   "metadata": {},
   "outputs": [],
   "source": []
  }
 ],
 "metadata": {
  "kernelspec": {
   "display_name": "Python 3",
   "language": "python",
   "name": "python3"
  },
  "language_info": {
   "codemirror_mode": {
    "name": "ipython",
    "version": 3
   },
   "file_extension": ".py",
   "mimetype": "text/x-python",
   "name": "python",
   "nbconvert_exporter": "python",
   "pygments_lexer": "ipython3",
   "version": "3.7.6"
  }
 },
 "nbformat": 4,
 "nbformat_minor": 4
}
