{
 "cells": [
  {
   "cell_type": "code",
   "execution_count": 33,
   "metadata": {},
   "outputs": [
    {
     "name": "stdout",
     "output_type": "stream",
     "text": [
      "Загадано число от 1 до 100\n"
     ]
    }
   ],
   "source": [
    "import numpy as np\n",
    "number = np.random.randint(1,101)\n",
    "print (\"Загадано число от 1 до 100\")"
   ]
  },
  {
   "cell_type": "code",
   "execution_count": 34,
   "metadata": {},
   "outputs": [],
   "source": [
    "def score_game(game_core):\n",
    "    '''Запускаем игру 1000 раз, чтобы узнать, как быстро игра угадывает число'''\n",
    "    count_ls = []\n",
    "    np.random.seed(1)  # фиксируем RANDOM SEED, чтобы ваш эксперимент был воспроизводим!\n",
    "    random_array = np.random.randint(1,101, size=(1000))\n",
    "    for number in random_array:\n",
    "        count_ls.append(game_core(number))\n",
    "    score = int(np.mean(count_ls))\n",
    "    print(f\"Ваш алгоритм угадывает число в среднем за {score} попытки\")\n",
    "    return(score)"
   ]
  },
  {
   "cell_type": "code",
   "execution_count": 35,
   "metadata": {},
   "outputs": [],
   "source": [
    "def game_core_v3(number):\n",
    "    '''Угадываем число с помощью метода среднего арифметического \n",
    "       путем сужения на каждом шаге диапазона, из которого выбирается число'''\n",
    "    a = 101           #Верхняя граница диапазона \n",
    "    b = 0             #Нижняя граница диапазона\n",
    "    count = 1         #Счетчик попыток\n",
    "    '''Алгоритм эффективнее, если начинается с числа, \n",
    "       равного середине диапазона, вместо рандомного числа'''\n",
    "    predict = (a+b)//2 \n",
    "    while number != predict:\n",
    "        count += 1\n",
    "        if number > predict:\n",
    "            '''Если загаданное число больше, чем предложенное, \n",
    "               то нижняя граница диапазона повышается'''\n",
    "            b = predict                #Новая нижняя граница диапазона     \n",
    "            predict = (a+predict)//2   #Число для следующей попытки\n",
    "        elif number < predict:\n",
    "            '''Если загаданное число меньше, чем предложенное, \n",
    "               то верхняя граница диапазона понижается'''\n",
    "            a = predict                #Новая верхняя граница диапазона \n",
    "            predict = (predict+b)//2   #Число для следующей попытки\n",
    "    return (count)"
   ]
  },
  {
   "cell_type": "code",
   "execution_count": 36,
   "metadata": {},
   "outputs": [
    {
     "name": "stdout",
     "output_type": "stream",
     "text": [
      "Ваш алгоритм угадывает число в среднем за 4 попытки\n"
     ]
    },
    {
     "data": {
      "text/plain": [
       "4"
      ]
     },
     "execution_count": 36,
     "metadata": {},
     "output_type": "execute_result"
    }
   ],
   "source": [
    "# Проверяем\n",
    "score_game(game_core_v3)"
   ]
  }
 ],
 "metadata": {
  "kernelspec": {
   "display_name": "Python 3",
   "language": "python",
   "name": "python3"
  },
  "language_info": {
   "codemirror_mode": {
    "name": "ipython",
    "version": 3
   },
   "file_extension": ".py",
   "mimetype": "text/x-python",
   "name": "python",
   "nbconvert_exporter": "python",
   "pygments_lexer": "ipython3",
   "version": "3.7.6"
  }
 },
 "nbformat": 4,
 "nbformat_minor": 4
}
